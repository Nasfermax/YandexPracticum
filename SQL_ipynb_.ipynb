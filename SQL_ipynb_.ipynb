{
  "nbformat": 4,
  "nbformat_minor": 0,
  "metadata": {
    "colab": {
      "provenance": [],
      "collapsed_sections": []
    },
    "kernelspec": {
      "name": "python3",
      "display_name": "Python 3"
    },
    "language_info": {
      "name": "python"
    }
  },
  "cells": [
    {
      "cell_type": "markdown",
      "source": [
        "# **Несколько примеров работы с запросами SQL**"
      ],
      "metadata": {
        "id": "Ap53gbD63Gz2"
      }
    },
    {
      "cell_type": "markdown",
      "source": [
        "Составьте таблицу из полей:  \n",
        "name_of_fund — название фонда;  \n",
        "name_of_company — название компании;  \n",
        "amount — сумма инвестиций, которую привлекла компания в раунде.  \n",
        "В таблицу войдут данные о компаниях, в истории которых было больше шести важных этапов, а раунды финансирования проходили с 2012 по 2013 год включительно."
      ],
      "metadata": {
        "id": "QZLcig9j3fpZ"
      }
    },
    {
      "cell_type": "code",
      "source": [
        "SELECT f.name AS name_of_fund,\n",
        "       st.name AS name_of_company,\n",
        "       fr.raised_amount AS amount\n",
        "FROM investment AS i\n",
        "LEFT JOIN fund AS f ON f.id = i.fund_id\n",
        "LEFT JOIN company AS st ON st.id = i.company_id\n",
        "INNER JOIN \n",
        "           (SELECT *\n",
        "            FROM funding_round \n",
        "            WHERE funded_at BETWEEN '2012-01-01' AND '2013-12-31') AS fr\n",
        "ON fr.id = i.funding_round_id \n",
        "WHERE st.milestones > 6;"
      ],
      "metadata": {
        "id": "JQIP2s3L3wTy"
      },
      "execution_count": null,
      "outputs": []
    },
    {
      "cell_type": "markdown",
      "source": [
        "Выгрузите таблицу, в которой будут такие поля:  \n",
        "название компании-покупателя;  \n",
        "1.сумма сделки;  \n",
        "2.название компании, которую купили;  \n",
        "3.сумма инвестиций, вложенных в купленную компанию;  \n",
        "4.доля, которая отображает, во сколько раз сумма покупки превысила сумму вложенных в компанию инвестиций, округлённая до ближайшего целого числа.  \n",
        "\n",
        "Не учитывайте те сделки, в которых сумма покупки равна нулю. Если сумма инвестиций в компанию равна нулю, исключите такую компанию из таблицы.  \n",
        "Отсортируйте таблицу по сумме сделки от большей к меньшей, а затем по названию купленной компании в лексикографическом порядке. Ограничьте таблицу первыми десятью записями."
      ],
      "metadata": {
        "id": "vGtTBgnZ3xpq"
      }
    },
    {
      "cell_type": "code",
      "source": [
        "SELECT c.name AS ascuiring_company,\n",
        "       ac.price_amount,\n",
        "       c_1.name AS ascuired_company,\n",
        "       c_1.funding_total,\n",
        "       ROUND(ac.price_amount/c_1.funding_total) AS percent\n",
        "FROM acquisition AS ac\n",
        "LEFT JOIN company AS c ON ac.acquiring_company_id = c.id\n",
        "LEFT JOIN company AS c_1 ON ac.acquired_company_id = c_1.id\n",
        "WHERE ac.price_amount > 0 AND c_1.funding_total > 0\n",
        "ORDER BY ac.price_amount DESC, ascuired_company\n",
        "LIMIT 10;"
      ],
      "metadata": {
        "id": "tqwHgbFX4HwC"
      },
      "execution_count": null,
      "outputs": []
    },
    {
      "cell_type": "markdown",
      "source": [
        "Выгрузите таблицу, в которую войдут названия компаний из категории social, получившие финансирование с 2010 по 2013 год включительно. Проверьте, что сумма инвестиций не равна нулю. Выведите также номер месяца, в котором проходил раунд финансирования."
      ],
      "metadata": {
        "id": "OoL5N2JX4RmH"
      }
    },
    {
      "cell_type": "code",
      "source": [
        "SELECT c.name, \n",
        "       EXTRACT(MONTH FROM CAST(f.funded_at AS date)) AS month\n",
        "FROM company AS c\n",
        "LEFT JOIN funding_round AS f ON c.id = f.company_id\n",
        "WHERE f.funded_at BETWEEN '2010-01-01' AND '2013-12-31' \n",
        "      AND c.category_code = 'social'\n",
        "      AND f.raised_amount > 0;"
      ],
      "metadata": {
        "id": "QPSjVlGT4YbY"
      },
      "execution_count": null,
      "outputs": []
    },
    {
      "cell_type": "markdown",
      "source": [
        "Отберите данные по месяцам с 2010 по 2013 год, когда проходили инвестиционные раунды. Сгруппируйте данные по номеру месяца и получите таблицу, в которой будут поля:  \n",
        "1.номер месяца, в котором проходили раунды;  \n",
        "2.количество уникальных названий фондов из США, которые инвестировали в этом месяце;  \n",
        "3.количество компаний, купленных за этот месяц;  \n",
        "общая сумма сделок по покупкам в этом месяце."
      ],
      "metadata": {
        "id": "B6SNdSdE4ci8"
      }
    },
    {
      "cell_type": "code",
      "source": [
        "WITH \n",
        "data_month AS (SELECT EXTRACT(MONTH FROM CAST(fr.funded_at AS date)) AS month_1,\n",
        "               COUNT(DISTINCT f.name) AS amount_company_1\n",
        "               FROM funding_round AS fr\n",
        "               JOIN investment AS i ON fr.id = i.funding_round_id\n",
        "               JOIN fund AS f ON i.fund_id = f.id\n",
        "               WHERE EXTRACT(YEAR FROM CAST(fr.funded_at AS date)) BETWEEN '2010' AND '2013'\n",
        "                  AND f.country_code = 'USA'\n",
        "               GROUP BY month_1),\n",
        "               \n",
        "info_acquisition AS (SELECT EXTRACT(MONTH FROM CAST(a.acquired_at AS date)) AS month_1,\n",
        "                     COUNT(a.acquired_company_id) AS amount_buy_company_1,\n",
        "                     SUM(a.price_amount) AS sum_price_1\n",
        "                     FROM acquisition AS a \n",
        "                     WHERE EXTRACT(YEAR FROM CAST(a.acquired_at AS date)) BETWEEN '2010' AND '2013'\n",
        "                     GROUP BY month_1)\n",
        "\n",
        "SELECT data_month.month_1 AS month,\n",
        "       data_month.amount_company_1 AS amount_company,\n",
        "       info_acquisition.amount_buy_company_1 AS amount_buy_company,\n",
        "       info_acquisition.sum_price_1 AS sum_price\n",
        "FROM data_month LEFT JOIN info_acquisition ON data_month.month_1 = info_acquisition.month_1;"
      ],
      "metadata": {
        "id": "q-AWej9X4wbQ"
      },
      "execution_count": null,
      "outputs": []
    },
    {
      "cell_type": "markdown",
      "source": [
        "Составьте сводную таблицу и выведите среднюю сумму инвестиций для стран, в которых есть стартапы, зарегистрированные в 2011, 2012 и 2013 годах. Данные за каждый год должны быть в отдельном поле. Отсортируйте таблицу по среднему значению инвестиций за 2011 год от большего к меньшему."
      ],
      "metadata": {
        "id": "s48END8641fW"
      }
    },
    {
      "cell_type": "code",
      "source": [
        "WITH \n",
        "one AS (SELECT country_code AS country,\n",
        "            AVG(funding_total) AS year_2011\n",
        "        FROM company\n",
        "        WHERE EXTRACT(YEAR FROM CAST(founded_at AS date)) = 2011\n",
        "        GROUP BY country),\n",
        "\n",
        "two AS (SELECT country_code AS country,\n",
        "            AVG(funding_total) AS year_2012\n",
        "        FROM company\n",
        "        WHERE EXTRACT(YEAR FROM CAST(founded_at AS date)) = 2012\n",
        "        GROUP BY country),\n",
        "       \n",
        "three AS (SELECT country_code AS country,\n",
        "            AVG(funding_total) AS year_2013\n",
        "        FROM company\n",
        "        WHERE EXTRACT(YEAR FROM CAST(founded_at AS date)) = 2013\n",
        "        GROUP BY country)        \n",
        "\n",
        "SELECT one.country,\n",
        "       one.year_2011,\n",
        "       two.year_2012,\n",
        "       three.year_2013\n",
        "FROM one INNER JOIN two ON one.country = two.country\n",
        "INNER JOIN three ON two.country = three.country\n",
        "ORDER BY year_2011 DESC;"
      ],
      "metadata": {
        "id": "Q6RxL_FW46v5"
      },
      "execution_count": null,
      "outputs": []
    }
  ]
}