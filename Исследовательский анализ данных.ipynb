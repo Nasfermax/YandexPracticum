{
 "cells": [
  {
   "cell_type": "markdown",
   "metadata": {},
   "source": [
    "# Исследование объявлений о продаже квартир\n",
    "\n",
    "В вашем распоряжении данные сервиса Яндекс.Недвижимость — архив объявлений о продаже квартир в Санкт-Петербурге и соседних населённых пунктов за несколько лет. Нужно научиться определять рыночную стоимость объектов недвижимости. Ваша задача — установить параметры. Это позволит построить автоматизированную систему: она отследит аномалии и мошенническую деятельность. \n",
    "\n",
    "По каждой квартире на продажу доступны два вида данных. Первые вписаны пользователем, вторые — получены автоматически на основе картографических данных. Например, расстояние до центра, аэропорта, ближайшего парка и водоёма. \n",
    "\n",
    "Целью нашего исследования будет понять взаимосвязь различных параметров (количество комнат, площадь, расположения и т.д.) с ценой квартиры, в какой период обьявления о продаже выставляются чаще, а также определить где квартира будет самой дорогой. \n",
    "\n",
    "Для достижения вышеуказанных целей мы проведем сначала предобработку данных: заполним пропуски (где это будет возможно), избавимся от неявных дубликатов и аномалий. \n",
    "После того как данные будут готовы необходимо будет постороить несколько графиков для понимания степени влияния параметров на цену и найдем корреляцию. Далее выполним несколько заданий, которые позволят нам изучить как быстро продавались квартиры, влияние различных факторов на общую (полную) стоимость объекта, посчитаем среднюю цену одного квадратного метра в 10 населённых пунктах с наибольшим числом объявлений, вычислим среднюю цену каждого километра и опишем, как стоимость объектов зависит от расстояния до центра города. \n"
   ]
  },
  {
   "cell_type": "markdown",
   "metadata": {},
   "source": [
    "### Откройте файл с данными и изучите общую информацию. "
   ]
  },
  {
   "cell_type": "code",
   "execution_count": 2,
   "metadata": {},
   "outputs": [],
   "source": [
    "import pandas as pd\n",
    "import matplotlib.pyplot as plt\n",
    "import seaborn as sns"
   ]
  },
  {
   "cell_type": "code",
   "execution_count": 3,
   "metadata": {},
   "outputs": [],
   "source": [
    "data = pd.read_csv('/datasets/real_estate_data.csv')"
   ]
  },
  {
   "cell_type": "code",
   "execution_count": 4,
   "metadata": {},
   "outputs": [
    {
     "data": {
      "text/html": [
       "<div>\n",
       "<style scoped>\n",
       "    .dataframe tbody tr th:only-of-type {\n",
       "        vertical-align: middle;\n",
       "    }\n",
       "\n",
       "    .dataframe tbody tr th {\n",
       "        vertical-align: top;\n",
       "    }\n",
       "\n",
       "    .dataframe thead th {\n",
       "        text-align: right;\n",
       "    }\n",
       "</style>\n",
       "<table border=\"1\" class=\"dataframe\">\n",
       "  <thead>\n",
       "    <tr style=\"text-align: right;\">\n",
       "      <th></th>\n",
       "      <th>total_images\\tlast_price\\ttotal_area\\tfirst_day_exposition\\trooms\\tceiling_height\\tfloors_total\\tliving_area\\tfloor\\tis_apartment\\tstudio\\topen_plan\\tkitchen_area\\tbalcony\\tlocality_name\\tairports_nearest\\tcityCenters_nearest\\tparks_around3000\\tparks_nearest\\tponds_around3000\\tponds_nearest\\tdays_exposition</th>\n",
       "    </tr>\n",
       "  </thead>\n",
       "  <tbody>\n",
       "    <tr>\n",
       "      <th>0</th>\n",
       "      <td>20\\t13000000.0\\t108.0\\t2019-03-07T00:00:00\\t3\\...</td>\n",
       "    </tr>\n",
       "    <tr>\n",
       "      <th>1</th>\n",
       "      <td>7\\t3350000.0\\t40.4\\t2018-12-04T00:00:00\\t1\\t\\t...</td>\n",
       "    </tr>\n",
       "    <tr>\n",
       "      <th>2</th>\n",
       "      <td>10\\t5196000.0\\t56.0\\t2015-08-20T00:00:00\\t2\\t\\...</td>\n",
       "    </tr>\n",
       "    <tr>\n",
       "      <th>3</th>\n",
       "      <td>0\\t64900000.0\\t159.0\\t2015-07-24T00:00:00\\t3\\t...</td>\n",
       "    </tr>\n",
       "    <tr>\n",
       "      <th>4</th>\n",
       "      <td>2\\t10000000.0\\t100.0\\t2018-06-19T00:00:00\\t2\\t...</td>\n",
       "    </tr>\n",
       "    <tr>\n",
       "      <th>...</th>\n",
       "      <td>...</td>\n",
       "    </tr>\n",
       "    <tr>\n",
       "      <th>23694</th>\n",
       "      <td>9\\t9700000.0\\t133.81\\t2017-03-21T00:00:00\\t3\\t...</td>\n",
       "    </tr>\n",
       "    <tr>\n",
       "      <th>23695</th>\n",
       "      <td>14\\t3100000.0\\t59.0\\t2018-01-15T00:00:00\\t3\\t\\...</td>\n",
       "    </tr>\n",
       "    <tr>\n",
       "      <th>23696</th>\n",
       "      <td>18\\t2500000.0\\t56.7\\t2018-02-11T00:00:00\\t2\\t\\...</td>\n",
       "    </tr>\n",
       "    <tr>\n",
       "      <th>23697</th>\n",
       "      <td>13\\t11475000.0\\t76.75\\t2017-03-28T00:00:00\\t2\\...</td>\n",
       "    </tr>\n",
       "    <tr>\n",
       "      <th>23698</th>\n",
       "      <td>4\\t1350000.0\\t32.3\\t2017-07-21T00:00:00\\t1\\t2....</td>\n",
       "    </tr>\n",
       "  </tbody>\n",
       "</table>\n",
       "<p>23699 rows × 1 columns</p>\n",
       "</div>"
      ],
      "text/plain": [
       "      total_images\\tlast_price\\ttotal_area\\tfirst_day_exposition\\trooms\\tceiling_height\\tfloors_total\\tliving_area\\tfloor\\tis_apartment\\tstudio\\topen_plan\\tkitchen_area\\tbalcony\\tlocality_name\\tairports_nearest\\tcityCenters_nearest\\tparks_around3000\\tparks_nearest\\tponds_around3000\\tponds_nearest\\tdays_exposition\n",
       "0      20\\t13000000.0\\t108.0\\t2019-03-07T00:00:00\\t3\\...                                                                                                                                                                                                                                                                  \n",
       "1      7\\t3350000.0\\t40.4\\t2018-12-04T00:00:00\\t1\\t\\t...                                                                                                                                                                                                                                                                  \n",
       "2      10\\t5196000.0\\t56.0\\t2015-08-20T00:00:00\\t2\\t\\...                                                                                                                                                                                                                                                                  \n",
       "3      0\\t64900000.0\\t159.0\\t2015-07-24T00:00:00\\t3\\t...                                                                                                                                                                                                                                                                  \n",
       "4      2\\t10000000.0\\t100.0\\t2018-06-19T00:00:00\\t2\\t...                                                                                                                                                                                                                                                                  \n",
       "...                                                  ...                                                                                                                                                                                                                                                                  \n",
       "23694  9\\t9700000.0\\t133.81\\t2017-03-21T00:00:00\\t3\\t...                                                                                                                                                                                                                                                                  \n",
       "23695  14\\t3100000.0\\t59.0\\t2018-01-15T00:00:00\\t3\\t\\...                                                                                                                                                                                                                                                                  \n",
       "23696  18\\t2500000.0\\t56.7\\t2018-02-11T00:00:00\\t2\\t\\...                                                                                                                                                                                                                                                                  \n",
       "23697  13\\t11475000.0\\t76.75\\t2017-03-28T00:00:00\\t2\\...                                                                                                                                                                                                                                                                  \n",
       "23698  4\\t1350000.0\\t32.3\\t2017-07-21T00:00:00\\t1\\t2....                                                                                                                                                                                                                                                                  \n",
       "\n",
       "[23699 rows x 1 columns]"
      ]
     },
     "metadata": {},
     "output_type": "display_data"
    }
   ],
   "source": [
    "display(data)"
   ]
  },
  {
   "cell_type": "code",
   "execution_count": 5,
   "metadata": {},
   "outputs": [
    {
     "data": {
      "text/html": [
       "<div>\n",
       "<style scoped>\n",
       "    .dataframe tbody tr th:only-of-type {\n",
       "        vertical-align: middle;\n",
       "    }\n",
       "\n",
       "    .dataframe tbody tr th {\n",
       "        vertical-align: top;\n",
       "    }\n",
       "\n",
       "    .dataframe thead th {\n",
       "        text-align: right;\n",
       "    }\n",
       "</style>\n",
       "<table border=\"1\" class=\"dataframe\">\n",
       "  <thead>\n",
       "    <tr style=\"text-align: right;\">\n",
       "      <th></th>\n",
       "      <th>total_images\\tlast_price\\ttotal_area\\tfirst_day_exposition\\trooms\\tceiling_height\\tfloors_total\\tliving_area\\tfloor\\tis_apartment\\tstudio\\topen_plan\\tkitchen_area\\tbalcony\\tlocality_name\\tairports_nearest\\tcityCenters_nearest\\tparks_around3000\\tparks_nearest\\tponds_around3000\\tponds_nearest\\tdays_exposition</th>\n",
       "    </tr>\n",
       "  </thead>\n",
       "  <tbody>\n",
       "    <tr>\n",
       "      <th>0</th>\n",
       "      <td>20\\t13000000.0\\t108.0\\t2019-03-07T00:00:00\\t3\\...</td>\n",
       "    </tr>\n",
       "    <tr>\n",
       "      <th>1</th>\n",
       "      <td>7\\t3350000.0\\t40.4\\t2018-12-04T00:00:00\\t1\\t\\t...</td>\n",
       "    </tr>\n",
       "    <tr>\n",
       "      <th>2</th>\n",
       "      <td>10\\t5196000.0\\t56.0\\t2015-08-20T00:00:00\\t2\\t\\...</td>\n",
       "    </tr>\n",
       "    <tr>\n",
       "      <th>3</th>\n",
       "      <td>0\\t64900000.0\\t159.0\\t2015-07-24T00:00:00\\t3\\t...</td>\n",
       "    </tr>\n",
       "    <tr>\n",
       "      <th>4</th>\n",
       "      <td>2\\t10000000.0\\t100.0\\t2018-06-19T00:00:00\\t2\\t...</td>\n",
       "    </tr>\n",
       "    <tr>\n",
       "      <th>5</th>\n",
       "      <td>10\\t2890000.0\\t30.4\\t2018-09-10T00:00:00\\t1\\t\\...</td>\n",
       "    </tr>\n",
       "    <tr>\n",
       "      <th>6</th>\n",
       "      <td>6\\t3700000.0\\t37.3\\t2017-11-02T00:00:00\\t1\\t\\t...</td>\n",
       "    </tr>\n",
       "    <tr>\n",
       "      <th>7</th>\n",
       "      <td>5\\t7915000.0\\t71.6\\t2019-04-18T00:00:00\\t2\\t\\t...</td>\n",
       "    </tr>\n",
       "    <tr>\n",
       "      <th>8</th>\n",
       "      <td>20\\t2900000.0\\t33.16\\t2018-05-23T00:00:00\\t1\\t...</td>\n",
       "    </tr>\n",
       "    <tr>\n",
       "      <th>9</th>\n",
       "      <td>18\\t5400000.0\\t61.0\\t2017-02-26T00:00:00\\t3\\t2...</td>\n",
       "    </tr>\n",
       "  </tbody>\n",
       "</table>\n",
       "</div>"
      ],
      "text/plain": [
       "  total_images\\tlast_price\\ttotal_area\\tfirst_day_exposition\\trooms\\tceiling_height\\tfloors_total\\tliving_area\\tfloor\\tis_apartment\\tstudio\\topen_plan\\tkitchen_area\\tbalcony\\tlocality_name\\tairports_nearest\\tcityCenters_nearest\\tparks_around3000\\tparks_nearest\\tponds_around3000\\tponds_nearest\\tdays_exposition\n",
       "0  20\\t13000000.0\\t108.0\\t2019-03-07T00:00:00\\t3\\...                                                                                                                                                                                                                                                                  \n",
       "1  7\\t3350000.0\\t40.4\\t2018-12-04T00:00:00\\t1\\t\\t...                                                                                                                                                                                                                                                                  \n",
       "2  10\\t5196000.0\\t56.0\\t2015-08-20T00:00:00\\t2\\t\\...                                                                                                                                                                                                                                                                  \n",
       "3  0\\t64900000.0\\t159.0\\t2015-07-24T00:00:00\\t3\\t...                                                                                                                                                                                                                                                                  \n",
       "4  2\\t10000000.0\\t100.0\\t2018-06-19T00:00:00\\t2\\t...                                                                                                                                                                                                                                                                  \n",
       "5  10\\t2890000.0\\t30.4\\t2018-09-10T00:00:00\\t1\\t\\...                                                                                                                                                                                                                                                                  \n",
       "6  6\\t3700000.0\\t37.3\\t2017-11-02T00:00:00\\t1\\t\\t...                                                                                                                                                                                                                                                                  \n",
       "7  5\\t7915000.0\\t71.6\\t2019-04-18T00:00:00\\t2\\t\\t...                                                                                                                                                                                                                                                                  \n",
       "8  20\\t2900000.0\\t33.16\\t2018-05-23T00:00:00\\t1\\t...                                                                                                                                                                                                                                                                  \n",
       "9  18\\t5400000.0\\t61.0\\t2017-02-26T00:00:00\\t3\\t2...                                                                                                                                                                                                                                                                  "
      ]
     },
     "metadata": {},
     "output_type": "display_data"
    }
   ],
   "source": [
    "display(data.head(10))"
   ]
  },
  {
   "cell_type": "code",
   "execution_count": 6,
   "metadata": {},
   "outputs": [
    {
     "name": "stdout",
     "output_type": "stream",
     "text": [
      "<class 'pandas.core.frame.DataFrame'>\n",
      "RangeIndex: 23699 entries, 0 to 23698\n",
      "Data columns (total 1 columns):\n",
      " #   Column                                                                                                                                                                                                                                                                                           Non-Null Count  Dtype \n",
      "---  ------                                                                                                                                                                                                                                                                                           --------------  ----- \n",
      " 0   total_images\tlast_price\ttotal_area\tfirst_day_exposition\trooms\tceiling_height\tfloors_total\tliving_area\tfloor\tis_apartment\tstudio\topen_plan\tkitchen_area\tbalcony\tlocality_name\tairports_nearest\tcityCenters_nearest\tparks_around3000\tparks_nearest\tponds_around3000\tponds_nearest\tdays_exposition  23699 non-null  object\n",
      "dtypes: object(1)\n",
      "memory usage: 185.3+ KB\n"
     ]
    }
   ],
   "source": [
    "data.info()"
   ]
  },
  {
   "cell_type": "code",
   "execution_count": 7,
   "metadata": {},
   "outputs": [
    {
     "name": "stdout",
     "output_type": "stream",
     "text": [
      "total_images\\tlast_price\\ttotal_area\\tfirst_day_exposition\\trooms\\tceiling_height\\tfloors_total\\tliving_area\\tfloor\\tis_apartment\\tstudio\\topen_plan\\tkitchen_area\\tbalcony\\tlocality_name\\tairports_nearest\\tcityCenters_nearest\\tparks_around3000\\tparks_nearest\\tponds_around3000\\tponds_nearest\\tdays_exposition    object\n",
      "dtype: object\n"
     ]
    }
   ],
   "source": [
    "print(data.dtypes)"
   ]
  },
  {
   "cell_type": "markdown",
   "metadata": {},
   "source": [
    "###### Данные склеины в одну строку, тип данных только в формате \"object\", для первоначальной изучения общей информации требуется привести сначала разделение по столбцам и изменить тип данных."
   ]
  },
  {
   "cell_type": "code",
   "execution_count": 8,
   "metadata": {},
   "outputs": [],
   "source": [
    "data = pd.read_csv('/datasets/real_estate_data.csv', sep='\\t')"
   ]
  },
  {
   "cell_type": "code",
   "execution_count": 9,
   "metadata": {},
   "outputs": [
    {
     "data": {
      "text/html": [
       "<div>\n",
       "<style scoped>\n",
       "    .dataframe tbody tr th:only-of-type {\n",
       "        vertical-align: middle;\n",
       "    }\n",
       "\n",
       "    .dataframe tbody tr th {\n",
       "        vertical-align: top;\n",
       "    }\n",
       "\n",
       "    .dataframe thead th {\n",
       "        text-align: right;\n",
       "    }\n",
       "</style>\n",
       "<table border=\"1\" class=\"dataframe\">\n",
       "  <thead>\n",
       "    <tr style=\"text-align: right;\">\n",
       "      <th></th>\n",
       "      <th>total_images</th>\n",
       "      <th>last_price</th>\n",
       "      <th>total_area</th>\n",
       "      <th>first_day_exposition</th>\n",
       "      <th>rooms</th>\n",
       "      <th>ceiling_height</th>\n",
       "      <th>floors_total</th>\n",
       "      <th>living_area</th>\n",
       "      <th>floor</th>\n",
       "      <th>is_apartment</th>\n",
       "      <th>...</th>\n",
       "      <th>kitchen_area</th>\n",
       "      <th>balcony</th>\n",
       "      <th>locality_name</th>\n",
       "      <th>airports_nearest</th>\n",
       "      <th>cityCenters_nearest</th>\n",
       "      <th>parks_around3000</th>\n",
       "      <th>parks_nearest</th>\n",
       "      <th>ponds_around3000</th>\n",
       "      <th>ponds_nearest</th>\n",
       "      <th>days_exposition</th>\n",
       "    </tr>\n",
       "  </thead>\n",
       "  <tbody>\n",
       "    <tr>\n",
       "      <th>0</th>\n",
       "      <td>20</td>\n",
       "      <td>13000000.0</td>\n",
       "      <td>108.00</td>\n",
       "      <td>2019-03-07T00:00:00</td>\n",
       "      <td>3</td>\n",
       "      <td>2.70</td>\n",
       "      <td>16.0</td>\n",
       "      <td>51.00</td>\n",
       "      <td>8</td>\n",
       "      <td>NaN</td>\n",
       "      <td>...</td>\n",
       "      <td>25.00</td>\n",
       "      <td>NaN</td>\n",
       "      <td>Санкт-Петербург</td>\n",
       "      <td>18863.0</td>\n",
       "      <td>16028.0</td>\n",
       "      <td>1.0</td>\n",
       "      <td>482.0</td>\n",
       "      <td>2.0</td>\n",
       "      <td>755.0</td>\n",
       "      <td>NaN</td>\n",
       "    </tr>\n",
       "    <tr>\n",
       "      <th>1</th>\n",
       "      <td>7</td>\n",
       "      <td>3350000.0</td>\n",
       "      <td>40.40</td>\n",
       "      <td>2018-12-04T00:00:00</td>\n",
       "      <td>1</td>\n",
       "      <td>NaN</td>\n",
       "      <td>11.0</td>\n",
       "      <td>18.60</td>\n",
       "      <td>1</td>\n",
       "      <td>NaN</td>\n",
       "      <td>...</td>\n",
       "      <td>11.00</td>\n",
       "      <td>2.0</td>\n",
       "      <td>посёлок Шушары</td>\n",
       "      <td>12817.0</td>\n",
       "      <td>18603.0</td>\n",
       "      <td>0.0</td>\n",
       "      <td>NaN</td>\n",
       "      <td>0.0</td>\n",
       "      <td>NaN</td>\n",
       "      <td>81.0</td>\n",
       "    </tr>\n",
       "    <tr>\n",
       "      <th>2</th>\n",
       "      <td>10</td>\n",
       "      <td>5196000.0</td>\n",
       "      <td>56.00</td>\n",
       "      <td>2015-08-20T00:00:00</td>\n",
       "      <td>2</td>\n",
       "      <td>NaN</td>\n",
       "      <td>5.0</td>\n",
       "      <td>34.30</td>\n",
       "      <td>4</td>\n",
       "      <td>NaN</td>\n",
       "      <td>...</td>\n",
       "      <td>8.30</td>\n",
       "      <td>0.0</td>\n",
       "      <td>Санкт-Петербург</td>\n",
       "      <td>21741.0</td>\n",
       "      <td>13933.0</td>\n",
       "      <td>1.0</td>\n",
       "      <td>90.0</td>\n",
       "      <td>2.0</td>\n",
       "      <td>574.0</td>\n",
       "      <td>558.0</td>\n",
       "    </tr>\n",
       "    <tr>\n",
       "      <th>3</th>\n",
       "      <td>0</td>\n",
       "      <td>64900000.0</td>\n",
       "      <td>159.00</td>\n",
       "      <td>2015-07-24T00:00:00</td>\n",
       "      <td>3</td>\n",
       "      <td>NaN</td>\n",
       "      <td>14.0</td>\n",
       "      <td>NaN</td>\n",
       "      <td>9</td>\n",
       "      <td>NaN</td>\n",
       "      <td>...</td>\n",
       "      <td>NaN</td>\n",
       "      <td>0.0</td>\n",
       "      <td>Санкт-Петербург</td>\n",
       "      <td>28098.0</td>\n",
       "      <td>6800.0</td>\n",
       "      <td>2.0</td>\n",
       "      <td>84.0</td>\n",
       "      <td>3.0</td>\n",
       "      <td>234.0</td>\n",
       "      <td>424.0</td>\n",
       "    </tr>\n",
       "    <tr>\n",
       "      <th>4</th>\n",
       "      <td>2</td>\n",
       "      <td>10000000.0</td>\n",
       "      <td>100.00</td>\n",
       "      <td>2018-06-19T00:00:00</td>\n",
       "      <td>2</td>\n",
       "      <td>3.03</td>\n",
       "      <td>14.0</td>\n",
       "      <td>32.00</td>\n",
       "      <td>13</td>\n",
       "      <td>NaN</td>\n",
       "      <td>...</td>\n",
       "      <td>41.00</td>\n",
       "      <td>NaN</td>\n",
       "      <td>Санкт-Петербург</td>\n",
       "      <td>31856.0</td>\n",
       "      <td>8098.0</td>\n",
       "      <td>2.0</td>\n",
       "      <td>112.0</td>\n",
       "      <td>1.0</td>\n",
       "      <td>48.0</td>\n",
       "      <td>121.0</td>\n",
       "    </tr>\n",
       "    <tr>\n",
       "      <th>5</th>\n",
       "      <td>10</td>\n",
       "      <td>2890000.0</td>\n",
       "      <td>30.40</td>\n",
       "      <td>2018-09-10T00:00:00</td>\n",
       "      <td>1</td>\n",
       "      <td>NaN</td>\n",
       "      <td>12.0</td>\n",
       "      <td>14.40</td>\n",
       "      <td>5</td>\n",
       "      <td>NaN</td>\n",
       "      <td>...</td>\n",
       "      <td>9.10</td>\n",
       "      <td>NaN</td>\n",
       "      <td>городской посёлок Янино-1</td>\n",
       "      <td>NaN</td>\n",
       "      <td>NaN</td>\n",
       "      <td>NaN</td>\n",
       "      <td>NaN</td>\n",
       "      <td>NaN</td>\n",
       "      <td>NaN</td>\n",
       "      <td>55.0</td>\n",
       "    </tr>\n",
       "    <tr>\n",
       "      <th>6</th>\n",
       "      <td>6</td>\n",
       "      <td>3700000.0</td>\n",
       "      <td>37.30</td>\n",
       "      <td>2017-11-02T00:00:00</td>\n",
       "      <td>1</td>\n",
       "      <td>NaN</td>\n",
       "      <td>26.0</td>\n",
       "      <td>10.60</td>\n",
       "      <td>6</td>\n",
       "      <td>NaN</td>\n",
       "      <td>...</td>\n",
       "      <td>14.40</td>\n",
       "      <td>1.0</td>\n",
       "      <td>посёлок Парголово</td>\n",
       "      <td>52996.0</td>\n",
       "      <td>19143.0</td>\n",
       "      <td>0.0</td>\n",
       "      <td>NaN</td>\n",
       "      <td>0.0</td>\n",
       "      <td>NaN</td>\n",
       "      <td>155.0</td>\n",
       "    </tr>\n",
       "    <tr>\n",
       "      <th>7</th>\n",
       "      <td>5</td>\n",
       "      <td>7915000.0</td>\n",
       "      <td>71.60</td>\n",
       "      <td>2019-04-18T00:00:00</td>\n",
       "      <td>2</td>\n",
       "      <td>NaN</td>\n",
       "      <td>24.0</td>\n",
       "      <td>NaN</td>\n",
       "      <td>22</td>\n",
       "      <td>NaN</td>\n",
       "      <td>...</td>\n",
       "      <td>18.90</td>\n",
       "      <td>2.0</td>\n",
       "      <td>Санкт-Петербург</td>\n",
       "      <td>23982.0</td>\n",
       "      <td>11634.0</td>\n",
       "      <td>0.0</td>\n",
       "      <td>NaN</td>\n",
       "      <td>0.0</td>\n",
       "      <td>NaN</td>\n",
       "      <td>NaN</td>\n",
       "    </tr>\n",
       "    <tr>\n",
       "      <th>8</th>\n",
       "      <td>20</td>\n",
       "      <td>2900000.0</td>\n",
       "      <td>33.16</td>\n",
       "      <td>2018-05-23T00:00:00</td>\n",
       "      <td>1</td>\n",
       "      <td>NaN</td>\n",
       "      <td>27.0</td>\n",
       "      <td>15.43</td>\n",
       "      <td>26</td>\n",
       "      <td>NaN</td>\n",
       "      <td>...</td>\n",
       "      <td>8.81</td>\n",
       "      <td>NaN</td>\n",
       "      <td>посёлок Мурино</td>\n",
       "      <td>NaN</td>\n",
       "      <td>NaN</td>\n",
       "      <td>NaN</td>\n",
       "      <td>NaN</td>\n",
       "      <td>NaN</td>\n",
       "      <td>NaN</td>\n",
       "      <td>189.0</td>\n",
       "    </tr>\n",
       "    <tr>\n",
       "      <th>9</th>\n",
       "      <td>18</td>\n",
       "      <td>5400000.0</td>\n",
       "      <td>61.00</td>\n",
       "      <td>2017-02-26T00:00:00</td>\n",
       "      <td>3</td>\n",
       "      <td>2.50</td>\n",
       "      <td>9.0</td>\n",
       "      <td>43.60</td>\n",
       "      <td>7</td>\n",
       "      <td>NaN</td>\n",
       "      <td>...</td>\n",
       "      <td>6.50</td>\n",
       "      <td>2.0</td>\n",
       "      <td>Санкт-Петербург</td>\n",
       "      <td>50898.0</td>\n",
       "      <td>15008.0</td>\n",
       "      <td>0.0</td>\n",
       "      <td>NaN</td>\n",
       "      <td>0.0</td>\n",
       "      <td>NaN</td>\n",
       "      <td>289.0</td>\n",
       "    </tr>\n",
       "  </tbody>\n",
       "</table>\n",
       "<p>10 rows × 22 columns</p>\n",
       "</div>"
      ],
      "text/plain": [
       "   total_images  last_price  total_area first_day_exposition  rooms  \\\n",
       "0            20  13000000.0      108.00  2019-03-07T00:00:00      3   \n",
       "1             7   3350000.0       40.40  2018-12-04T00:00:00      1   \n",
       "2            10   5196000.0       56.00  2015-08-20T00:00:00      2   \n",
       "3             0  64900000.0      159.00  2015-07-24T00:00:00      3   \n",
       "4             2  10000000.0      100.00  2018-06-19T00:00:00      2   \n",
       "5            10   2890000.0       30.40  2018-09-10T00:00:00      1   \n",
       "6             6   3700000.0       37.30  2017-11-02T00:00:00      1   \n",
       "7             5   7915000.0       71.60  2019-04-18T00:00:00      2   \n",
       "8            20   2900000.0       33.16  2018-05-23T00:00:00      1   \n",
       "9            18   5400000.0       61.00  2017-02-26T00:00:00      3   \n",
       "\n",
       "   ceiling_height  floors_total  living_area  floor is_apartment  ...  \\\n",
       "0            2.70          16.0        51.00      8          NaN  ...   \n",
       "1             NaN          11.0        18.60      1          NaN  ...   \n",
       "2             NaN           5.0        34.30      4          NaN  ...   \n",
       "3             NaN          14.0          NaN      9          NaN  ...   \n",
       "4            3.03          14.0        32.00     13          NaN  ...   \n",
       "5             NaN          12.0        14.40      5          NaN  ...   \n",
       "6             NaN          26.0        10.60      6          NaN  ...   \n",
       "7             NaN          24.0          NaN     22          NaN  ...   \n",
       "8             NaN          27.0        15.43     26          NaN  ...   \n",
       "9            2.50           9.0        43.60      7          NaN  ...   \n",
       "\n",
       "   kitchen_area  balcony              locality_name  airports_nearest  \\\n",
       "0         25.00      NaN            Санкт-Петербург           18863.0   \n",
       "1         11.00      2.0             посёлок Шушары           12817.0   \n",
       "2          8.30      0.0            Санкт-Петербург           21741.0   \n",
       "3           NaN      0.0            Санкт-Петербург           28098.0   \n",
       "4         41.00      NaN            Санкт-Петербург           31856.0   \n",
       "5          9.10      NaN  городской посёлок Янино-1               NaN   \n",
       "6         14.40      1.0          посёлок Парголово           52996.0   \n",
       "7         18.90      2.0            Санкт-Петербург           23982.0   \n",
       "8          8.81      NaN             посёлок Мурино               NaN   \n",
       "9          6.50      2.0            Санкт-Петербург           50898.0   \n",
       "\n",
       "  cityCenters_nearest  parks_around3000  parks_nearest  ponds_around3000  \\\n",
       "0             16028.0               1.0          482.0               2.0   \n",
       "1             18603.0               0.0            NaN               0.0   \n",
       "2             13933.0               1.0           90.0               2.0   \n",
       "3              6800.0               2.0           84.0               3.0   \n",
       "4              8098.0               2.0          112.0               1.0   \n",
       "5                 NaN               NaN            NaN               NaN   \n",
       "6             19143.0               0.0            NaN               0.0   \n",
       "7             11634.0               0.0            NaN               0.0   \n",
       "8                 NaN               NaN            NaN               NaN   \n",
       "9             15008.0               0.0            NaN               0.0   \n",
       "\n",
       "   ponds_nearest  days_exposition  \n",
       "0          755.0              NaN  \n",
       "1            NaN             81.0  \n",
       "2          574.0            558.0  \n",
       "3          234.0            424.0  \n",
       "4           48.0            121.0  \n",
       "5            NaN             55.0  \n",
       "6            NaN            155.0  \n",
       "7            NaN              NaN  \n",
       "8            NaN            189.0  \n",
       "9            NaN            289.0  \n",
       "\n",
       "[10 rows x 22 columns]"
      ]
     },
     "metadata": {},
     "output_type": "display_data"
    }
   ],
   "source": [
    "display(data.head(10))"
   ]
  },
  {
   "cell_type": "code",
   "execution_count": 10,
   "metadata": {},
   "outputs": [
    {
     "data": {
      "text/plain": [
       "total_images              int64\n",
       "last_price              float64\n",
       "total_area              float64\n",
       "first_day_exposition     object\n",
       "rooms                     int64\n",
       "ceiling_height          float64\n",
       "floors_total            float64\n",
       "living_area             float64\n",
       "floor                     int64\n",
       "is_apartment             object\n",
       "studio                     bool\n",
       "open_plan                  bool\n",
       "kitchen_area            float64\n",
       "balcony                 float64\n",
       "locality_name            object\n",
       "airports_nearest        float64\n",
       "cityCenters_nearest     float64\n",
       "parks_around3000        float64\n",
       "parks_nearest           float64\n",
       "ponds_around3000        float64\n",
       "ponds_nearest           float64\n",
       "days_exposition         float64\n",
       "dtype: object"
      ]
     },
     "execution_count": 10,
     "metadata": {},
     "output_type": "execute_result"
    }
   ],
   "source": [
    "data.dtypes"
   ]
  },
  {
   "cell_type": "code",
   "execution_count": 11,
   "metadata": {},
   "outputs": [
    {
     "name": "stdout",
     "output_type": "stream",
     "text": [
      "<class 'pandas.core.frame.DataFrame'>\n",
      "RangeIndex: 23699 entries, 0 to 23698\n",
      "Data columns (total 22 columns):\n",
      " #   Column                Non-Null Count  Dtype  \n",
      "---  ------                --------------  -----  \n",
      " 0   total_images          23699 non-null  int64  \n",
      " 1   last_price            23699 non-null  float64\n",
      " 2   total_area            23699 non-null  float64\n",
      " 3   first_day_exposition  23699 non-null  object \n",
      " 4   rooms                 23699 non-null  int64  \n",
      " 5   ceiling_height        14504 non-null  float64\n",
      " 6   floors_total          23613 non-null  float64\n",
      " 7   living_area           21796 non-null  float64\n",
      " 8   floor                 23699 non-null  int64  \n",
      " 9   is_apartment          2775 non-null   object \n",
      " 10  studio                23699 non-null  bool   \n",
      " 11  open_plan             23699 non-null  bool   \n",
      " 12  kitchen_area          21421 non-null  float64\n",
      " 13  balcony               12180 non-null  float64\n",
      " 14  locality_name         23650 non-null  object \n",
      " 15  airports_nearest      18157 non-null  float64\n",
      " 16  cityCenters_nearest   18180 non-null  float64\n",
      " 17  parks_around3000      18181 non-null  float64\n",
      " 18  parks_nearest         8079 non-null   float64\n",
      " 19  ponds_around3000      18181 non-null  float64\n",
      " 20  ponds_nearest         9110 non-null   float64\n",
      " 21  days_exposition       20518 non-null  float64\n",
      "dtypes: bool(2), float64(14), int64(3), object(3)\n",
      "memory usage: 3.7+ MB\n"
     ]
    }
   ],
   "source": [
    "data.info()"
   ]
  },
  {
   "cell_type": "code",
   "execution_count": 12,
   "metadata": {},
   "outputs": [
    {
     "name": "stdout",
     "output_type": "stream",
     "text": [
      "total_images                0\n",
      "last_price                  0\n",
      "total_area                  0\n",
      "first_day_exposition        0\n",
      "rooms                       0\n",
      "ceiling_height           9195\n",
      "floors_total               86\n",
      "living_area              1903\n",
      "floor                       0\n",
      "is_apartment            20924\n",
      "studio                      0\n",
      "open_plan                   0\n",
      "kitchen_area             2278\n",
      "balcony                 11519\n",
      "locality_name              49\n",
      "airports_nearest         5542\n",
      "cityCenters_nearest      5519\n",
      "parks_around3000         5518\n",
      "parks_nearest           15620\n",
      "ponds_around3000         5518\n",
      "ponds_nearest           14589\n",
      "days_exposition          3181\n",
      "dtype: int64\n"
     ]
    }
   ],
   "source": [
    "print(data.isna().sum())"
   ]
  },
  {
   "cell_type": "code",
   "execution_count": 13,
   "metadata": {},
   "outputs": [
    {
     "data": {
      "text/plain": [
       "total_images            0.000000\n",
       "last_price              0.000000\n",
       "total_area              0.000000\n",
       "first_day_exposition    0.000000\n",
       "rooms                   0.000000\n",
       "ceiling_height          0.387991\n",
       "floors_total            0.003629\n",
       "living_area             0.080299\n",
       "floor                   0.000000\n",
       "is_apartment            0.882906\n",
       "studio                  0.000000\n",
       "open_plan               0.000000\n",
       "kitchen_area            0.096122\n",
       "balcony                 0.486054\n",
       "locality_name           0.002068\n",
       "airports_nearest        0.233850\n",
       "cityCenters_nearest     0.232879\n",
       "parks_around3000        0.232837\n",
       "parks_nearest           0.659100\n",
       "ponds_around3000        0.232837\n",
       "ponds_nearest           0.615596\n",
       "days_exposition         0.134225\n",
       "dtype: float64"
      ]
     },
     "execution_count": 13,
     "metadata": {},
     "output_type": "execute_result"
    }
   ],
   "source": [
    "data.isna().mean()"
   ]
  },
  {
   "cell_type": "code",
   "execution_count": 14,
   "metadata": {},
   "outputs": [
    {
     "data": {
      "text/plain": [
       "array([[<AxesSubplot:title={'center':'total_images'}>,\n",
       "        <AxesSubplot:title={'center':'last_price'}>,\n",
       "        <AxesSubplot:title={'center':'total_area'}>,\n",
       "        <AxesSubplot:title={'center':'rooms'}>],\n",
       "       [<AxesSubplot:title={'center':'ceiling_height'}>,\n",
       "        <AxesSubplot:title={'center':'floors_total'}>,\n",
       "        <AxesSubplot:title={'center':'living_area'}>,\n",
       "        <AxesSubplot:title={'center':'floor'}>],\n",
       "       [<AxesSubplot:title={'center':'kitchen_area'}>,\n",
       "        <AxesSubplot:title={'center':'balcony'}>,\n",
       "        <AxesSubplot:title={'center':'airports_nearest'}>,\n",
       "        <AxesSubplot:title={'center':'cityCenters_nearest'}>],\n",
       "       [<AxesSubplot:title={'center':'parks_around3000'}>,\n",
       "        <AxesSubplot:title={'center':'parks_nearest'}>,\n",
       "        <AxesSubplot:title={'center':'ponds_around3000'}>,\n",
       "        <AxesSubplot:title={'center':'ponds_nearest'}>],\n",
       "       [<AxesSubplot:title={'center':'days_exposition'}>, <AxesSubplot:>,\n",
       "        <AxesSubplot:>, <AxesSubplot:>]], dtype=object)"
      ]
     },
     "execution_count": 14,
     "metadata": {},
     "output_type": "execute_result"
    },
    {
     "data": {
      "image/png": "[encoded data removed]",
      "text/plain": [
       "<Figure size 1080x1440 with 20 Axes>"
      ]
     },
     "metadata": {
      "needs_background": "light"
     },
     "output_type": "display_data"
    }
   ],
   "source": [
    "data.hist(figsize=(15, 20))"
   ]
  },
  {
   "cell_type": "markdown",
   "metadata": {},
   "source": [
    "#### После преобразования данных в табличный и читаемый вид были обнаружены многочисленные пропуски. Есть столбец 'is_apartment' где пропусков больше всех, есть ряд столбцов (таких как 'ceiling_height', 'living_area', 'kitchen_area', 'balcony', 'airports_nearest', 'cityCenters_nearest', 'parks_around3000', 'parks_nearest',\t'ponds_around3000',\t'ponds_nearest','days_exposition') где пропуски единичны (из-за одной строки) или больше. Столбцов 'studio' и 'open_plan' вообще не вижу в датафрейме."
   ]
  },
  {
   "cell_type": "markdown",
   "metadata": {},
   "source": [
    "#### Теперь по типу данных.\n",
    "\n",
    " 0   total_images          int64  - оставляем как есть\n",
    " \n",
    " 1   last_price            float64 - оставляем как есть\n",
    " \n",
    " 2   total_area            float64 - оставляем как есть\n",
    " \n",
    " 3   first_day_exposition  object - необходимо перевести в тип datetime\n",
    " \n",
    " 4   rooms                 int64 - оставляем как есть\n",
    " \n",
    " 5   ceiling_height        float64 - оставляем как есть\n",
    " \n",
    " 6   floors_total          float64 - должен быть int\n",
    " \n",
    " 7   living_area           float64 - оставляем как есть\n",
    " \n",
    " 8   floor                 int64 - оставляем как есть\n",
    " \n",
    " 9   is_apartment          object - должен быть bool, но очень много значений пропущено. Думаю можно удалить столбец полностью, он не передает никакую нужную информацию для исследования\n",
    " \n",
    " 10  studio                bool - оставляем как есть   \n",
    " \n",
    " 11  open_plan             bool - оставляем как есть  \n",
    " \n",
    " 12  kitchen_area          float64 - оставляем как есть\n",
    " \n",
    " 13  balcony               float64 - должен быть int\n",
    " \n",
    " 14  locality_name         object - оставляем как есть\n",
    " \n",
    " 15  airports_nearest      float64 - оставляем как есть\n",
    " \n",
    " 16  cityCenters_nearest   float64 - оставляем как есть\n",
    " \n",
    " 17  parks_around3000      float64 - можно заменить на int\n",
    " \n",
    " 18  parks_nearest         float64 - оставляем как есть\n",
    " \n",
    " 19  ponds_around3000      float64 - можно заменить на int\n",
    " \n",
    " 20  ponds_nearest         float64 - оставляем как есть\n",
    " \n",
    " 21  days_exposition       float64 - можно заменить на int"
   ]
  },
  {
   "cell_type": "markdown",
   "metadata": {},
   "source": [
    "### Предобработка данных"
   ]
  },
  {
   "cell_type": "markdown",
   "metadata": {},
   "source": []
  },
  {
   "cell_type": "code",
   "execution_count": 15,
   "metadata": {},
   "outputs": [
    {
     "name": "stdout",
     "output_type": "stream",
     "text": [
      "2.50     3515\n",
      "2.60     1646\n",
      "2.70     1574\n",
      "3.00     1112\n",
      "2.80      993\n",
      "         ... \n",
      "4.25        1\n",
      "3.39        1\n",
      "3.93        1\n",
      "10.30       1\n",
      "4.65        1\n",
      "Name: ceiling_height, Length: 183, dtype: int64\n"
     ]
    }
   ],
   "source": [
    "# заменяю пропуски в столбце 'ceiling_height' средним арифмитическим (беру среднее потому что разброс не сильно большой и медиана от среднего почти не отличаеется, считаю, что не повлияет на исследование):\n",
    "print(data['ceiling_height'].value_counts())\n",
    "data['ceiling_height'] = data['ceiling_height'].fillna(data['ceiling_height'].mean())\n"
   ]
  },
  {
   "cell_type": "code",
   "execution_count": 16,
   "metadata": {},
   "outputs": [
    {
     "data": {
      "text/plain": [
       "count    21796.000000\n",
       "mean        34.457852\n",
       "std         22.030445\n",
       "min          2.000000\n",
       "25%         18.600000\n",
       "50%         30.000000\n",
       "75%         42.300000\n",
       "max        409.700000\n",
       "Name: living_area, dtype: float64"
      ]
     },
     "execution_count": 16,
     "metadata": {},
     "output_type": "execute_result"
    }
   ],
   "source": [
    "data['living_area'].describe()"
   ]
  },
  {
   "cell_type": "code",
   "execution_count": 17,
   "metadata": {},
   "outputs": [
    {
     "data": {
      "text/plain": [
       "False    17467\n",
       "True      6232\n",
       "Name: living_area, dtype: int64"
      ]
     },
     "execution_count": 17,
     "metadata": {},
     "output_type": "execute_result"
    }
   ],
   "source": [
    "(data['living_area'] > 40).value_counts()"
   ]
  },
  {
   "cell_type": "code",
   "execution_count": 18,
   "metadata": {},
   "outputs": [],
   "source": [
    "# я предлагаю заплнить пустые значения медианной в столбце 'living_area'. Размер площади более 40 кв.м в данных 25%, \n",
    "# пропусков около 8%.\n",
    "data['living_area'] = data['living_area'].fillna(data['living_area'].median())"
   ]
  },
  {
   "cell_type": "code",
   "execution_count": 19,
   "metadata": {},
   "outputs": [],
   "source": [
    "# перейдем к столбцу с самым большим количеством пропусков 'is_apartment'\n",
    "# судя по всему произошла техническая ошибка и выгрузились почти все данные без статуса апартаменты это или нет.\n",
    "data['is_apartment'].value_counts() # с учетом того, что большинство не апартаменты , это значение не влияет на исследование \n",
    "# я предлагаю заполнить пустые строки значением 'False'\n",
    "data['is_apartment'] = data['is_apartment'].fillna('False')"
   ]
  },
  {
   "cell_type": "code",
   "execution_count": 20,
   "metadata": {},
   "outputs": [],
   "source": [
    "# столбец 'balcony' пустые значения я заполню 0. т.к. вероятно там и правда они отсутствуют как было указано в примере \n",
    "# и изменю тип на int. \n",
    "# но я бы тоже так подумал :)\n",
    "data['balcony'] = data['balcony'].fillna('0')\n",
    "data['balcony'] = data['balcony'].astype('int')"
   ]
  },
  {
   "cell_type": "code",
   "execution_count": 21,
   "metadata": {},
   "outputs": [
    {
     "data": {
      "text/plain": [
       "(array([-100.,    0.,  100.,  200.,  300.,  400.,  500.,  600.,  700.,\n",
       "         800.]),\n",
       " [Text(-100.0, 0, '2019-01-23T00:00:00'),\n",
       "  Text(0.0, 0, '2014-11-27T00:00:00'),\n",
       "  Text(100.0, 0, '2016-08-29T00:00:00'),\n",
       "  Text(200.0, 0, '2017-08-11T00:00:00'),\n",
       "  Text(300.0, 0, '2018-01-17T00:00:00'),\n",
       "  Text(400.0, 0, '2018-06-15T00:00:00'),\n",
       "  Text(500.0, 0, '2018-10-02T00:00:00'),\n",
       "  Text(600.0, 0, '2019-01-14T00:00:00'),\n",
       "  Text(700.0, 0, '2019-04-26T00:00:00'),\n",
       "  Text(800.0, 0, '')])"
      ]
     },
     "execution_count": 21,
     "metadata": {},
     "output_type": "execute_result"
    },
    {
     "data": {
      "image/png": "[encoded data removed]",
      "text/plain": [
       "<Figure size 1296x576 with 1 Axes>"
      ]
     },
     "metadata": {
      "needs_background": "light"
     },
     "output_type": "display_data"
    }
   ],
   "source": [
    "pivot_table_days_exposition = (\n",
    "    data.query('days_exposition.isna()', engine='python')\n",
    "    .fillna('a')\n",
    "    .pivot_table(index='first_day_exposition', values='days_exposition', aggfunc = 'count')\n",
    "    .plot(y='days_exposition', title='Взаимосвязь пропущенных значений с днем публикации', figsize=(18, 8), grid=True)\n",
    ")\n",
    "plt.xticks(rotation=90)"
   ]
  },
  {
   "cell_type": "code",
   "execution_count": 22,
   "metadata": {},
   "outputs": [],
   "source": [
    "# столбцы 'days_exposition', 'parks_around3000', 'ponds_around3000' поменяю тип на 'int' и по аналогии с столбцом 'balcony' поставлю в пропусках 0, потому что\n",
    "# cкорее всего кваритиры были проданы день в день\n",
    "data['days_exposition'] = data['days_exposition'].fillna('0')\n",
    "data['days_exposition'] = data['days_exposition'].astype('int')\n",
    "data['parks_around3000'] = data['parks_around3000'].fillna('0')\n",
    "data['parks_around3000'] = data['parks_around3000'].astype('int')\n",
    "data['ponds_around3000'] = data['ponds_around3000'].fillna('0')\n",
    "data['ponds_around3000'] = data['ponds_around3000'].astype('int')"
   ]
  },
  {
   "cell_type": "code",
   "execution_count": 23,
   "metadata": {},
   "outputs": [],
   "source": [
    "# cтолбец 'first_day_exposition' уберу время и поставлю только даты :\n",
    "data['first_day_exposition'] = pd.to_datetime(data['first_day_exposition'], format = '%Y-%m-%d')\n"
   ]
  },
  {
   "cell_type": "code",
   "execution_count": 24,
   "metadata": {},
   "outputs": [],
   "source": [
    "# оставшиеся столбцы с пропусками : 'kitchen_area', 'airports_nearest', 'cityCenters_nearest','parks_nearest','ponds_nearest'\n",
    "# заменю пропуски медианой. \n",
    "# все не указанные мной столбцы я оставляю без изменений.\n",
    "data['kitchen_area'] = data['kitchen_area'].fillna(data['kitchen_area'].median())\n",
    "data['airports_nearest'] = data['airports_nearest'].fillna(data['airports_nearest'].median())\n",
    "data['cityCenters_nearest'] = data['cityCenters_nearest'].fillna(data['cityCenters_nearest'].median())\n",
    "data['parks_nearest'] = data['parks_nearest'].fillna(data['parks_nearest'].median())\n",
    "data['ponds_nearest'] = data['ponds_nearest'].fillna(data['ponds_nearest'].median())"
   ]
  },
  {
   "cell_type": "code",
   "execution_count": 25,
   "metadata": {},
   "outputs": [
    {
     "data": {
      "text/html": [
       "<div>\n",
       "<style scoped>\n",
       "    .dataframe tbody tr th:only-of-type {\n",
       "        vertical-align: middle;\n",
       "    }\n",
       "\n",
       "    .dataframe tbody tr th {\n",
       "        vertical-align: top;\n",
       "    }\n",
       "\n",
       "    .dataframe thead th {\n",
       "        text-align: right;\n",
       "    }\n",
       "</style>\n",
       "<table border=\"1\" class=\"dataframe\">\n",
       "  <thead>\n",
       "    <tr style=\"text-align: right;\">\n",
       "      <th></th>\n",
       "      <th>total_images</th>\n",
       "      <th>last_price</th>\n",
       "      <th>total_area</th>\n",
       "      <th>first_day_exposition</th>\n",
       "      <th>rooms</th>\n",
       "      <th>ceiling_height</th>\n",
       "      <th>floors_total</th>\n",
       "      <th>living_area</th>\n",
       "      <th>floor</th>\n",
       "      <th>is_apartment</th>\n",
       "      <th>...</th>\n",
       "      <th>kitchen_area</th>\n",
       "      <th>balcony</th>\n",
       "      <th>locality_name</th>\n",
       "      <th>airports_nearest</th>\n",
       "      <th>cityCenters_nearest</th>\n",
       "      <th>parks_around3000</th>\n",
       "      <th>parks_nearest</th>\n",
       "      <th>ponds_around3000</th>\n",
       "      <th>ponds_nearest</th>\n",
       "      <th>days_exposition</th>\n",
       "    </tr>\n",
       "  </thead>\n",
       "  <tbody>\n",
       "    <tr>\n",
       "      <th>0</th>\n",
       "      <td>20</td>\n",
       "      <td>13000000.0</td>\n",
       "      <td>108.00</td>\n",
       "      <td>2019-03-07</td>\n",
       "      <td>3</td>\n",
       "      <td>2.700000</td>\n",
       "      <td>16.0</td>\n",
       "      <td>51.00</td>\n",
       "      <td>8</td>\n",
       "      <td>False</td>\n",
       "      <td>...</td>\n",
       "      <td>25.00</td>\n",
       "      <td>0</td>\n",
       "      <td>Санкт-Петербург</td>\n",
       "      <td>18863.0</td>\n",
       "      <td>16028.0</td>\n",
       "      <td>1</td>\n",
       "      <td>482.0</td>\n",
       "      <td>2</td>\n",
       "      <td>755.0</td>\n",
       "      <td>0</td>\n",
       "    </tr>\n",
       "    <tr>\n",
       "      <th>1</th>\n",
       "      <td>7</td>\n",
       "      <td>3350000.0</td>\n",
       "      <td>40.40</td>\n",
       "      <td>2018-12-04</td>\n",
       "      <td>1</td>\n",
       "      <td>2.771499</td>\n",
       "      <td>11.0</td>\n",
       "      <td>18.60</td>\n",
       "      <td>1</td>\n",
       "      <td>False</td>\n",
       "      <td>...</td>\n",
       "      <td>11.00</td>\n",
       "      <td>2</td>\n",
       "      <td>посёлок Шушары</td>\n",
       "      <td>12817.0</td>\n",
       "      <td>18603.0</td>\n",
       "      <td>0</td>\n",
       "      <td>455.0</td>\n",
       "      <td>0</td>\n",
       "      <td>502.0</td>\n",
       "      <td>81</td>\n",
       "    </tr>\n",
       "    <tr>\n",
       "      <th>2</th>\n",
       "      <td>10</td>\n",
       "      <td>5196000.0</td>\n",
       "      <td>56.00</td>\n",
       "      <td>2015-08-20</td>\n",
       "      <td>2</td>\n",
       "      <td>2.771499</td>\n",
       "      <td>5.0</td>\n",
       "      <td>34.30</td>\n",
       "      <td>4</td>\n",
       "      <td>False</td>\n",
       "      <td>...</td>\n",
       "      <td>8.30</td>\n",
       "      <td>0</td>\n",
       "      <td>Санкт-Петербург</td>\n",
       "      <td>21741.0</td>\n",
       "      <td>13933.0</td>\n",
       "      <td>1</td>\n",
       "      <td>90.0</td>\n",
       "      <td>2</td>\n",
       "      <td>574.0</td>\n",
       "      <td>558</td>\n",
       "    </tr>\n",
       "    <tr>\n",
       "      <th>3</th>\n",
       "      <td>0</td>\n",
       "      <td>64900000.0</td>\n",
       "      <td>159.00</td>\n",
       "      <td>2015-07-24</td>\n",
       "      <td>3</td>\n",
       "      <td>2.771499</td>\n",
       "      <td>14.0</td>\n",
       "      <td>30.00</td>\n",
       "      <td>9</td>\n",
       "      <td>False</td>\n",
       "      <td>...</td>\n",
       "      <td>9.10</td>\n",
       "      <td>0</td>\n",
       "      <td>Санкт-Петербург</td>\n",
       "      <td>28098.0</td>\n",
       "      <td>6800.0</td>\n",
       "      <td>2</td>\n",
       "      <td>84.0</td>\n",
       "      <td>3</td>\n",
       "      <td>234.0</td>\n",
       "      <td>424</td>\n",
       "    </tr>\n",
       "    <tr>\n",
       "      <th>4</th>\n",
       "      <td>2</td>\n",
       "      <td>10000000.0</td>\n",
       "      <td>100.00</td>\n",
       "      <td>2018-06-19</td>\n",
       "      <td>2</td>\n",
       "      <td>3.030000</td>\n",
       "      <td>14.0</td>\n",
       "      <td>32.00</td>\n",
       "      <td>13</td>\n",
       "      <td>False</td>\n",
       "      <td>...</td>\n",
       "      <td>41.00</td>\n",
       "      <td>0</td>\n",
       "      <td>Санкт-Петербург</td>\n",
       "      <td>31856.0</td>\n",
       "      <td>8098.0</td>\n",
       "      <td>2</td>\n",
       "      <td>112.0</td>\n",
       "      <td>1</td>\n",
       "      <td>48.0</td>\n",
       "      <td>121</td>\n",
       "    </tr>\n",
       "    <tr>\n",
       "      <th>5</th>\n",
       "      <td>10</td>\n",
       "      <td>2890000.0</td>\n",
       "      <td>30.40</td>\n",
       "      <td>2018-09-10</td>\n",
       "      <td>1</td>\n",
       "      <td>2.771499</td>\n",
       "      <td>12.0</td>\n",
       "      <td>14.40</td>\n",
       "      <td>5</td>\n",
       "      <td>False</td>\n",
       "      <td>...</td>\n",
       "      <td>9.10</td>\n",
       "      <td>0</td>\n",
       "      <td>городской посёлок Янино-1</td>\n",
       "      <td>26726.0</td>\n",
       "      <td>13098.5</td>\n",
       "      <td>0</td>\n",
       "      <td>455.0</td>\n",
       "      <td>0</td>\n",
       "      <td>502.0</td>\n",
       "      <td>55</td>\n",
       "    </tr>\n",
       "    <tr>\n",
       "      <th>6</th>\n",
       "      <td>6</td>\n",
       "      <td>3700000.0</td>\n",
       "      <td>37.30</td>\n",
       "      <td>2017-11-02</td>\n",
       "      <td>1</td>\n",
       "      <td>2.771499</td>\n",
       "      <td>26.0</td>\n",
       "      <td>10.60</td>\n",
       "      <td>6</td>\n",
       "      <td>False</td>\n",
       "      <td>...</td>\n",
       "      <td>14.40</td>\n",
       "      <td>1</td>\n",
       "      <td>посёлок Парголово</td>\n",
       "      <td>52996.0</td>\n",
       "      <td>19143.0</td>\n",
       "      <td>0</td>\n",
       "      <td>455.0</td>\n",
       "      <td>0</td>\n",
       "      <td>502.0</td>\n",
       "      <td>155</td>\n",
       "    </tr>\n",
       "    <tr>\n",
       "      <th>7</th>\n",
       "      <td>5</td>\n",
       "      <td>7915000.0</td>\n",
       "      <td>71.60</td>\n",
       "      <td>2019-04-18</td>\n",
       "      <td>2</td>\n",
       "      <td>2.771499</td>\n",
       "      <td>24.0</td>\n",
       "      <td>30.00</td>\n",
       "      <td>22</td>\n",
       "      <td>False</td>\n",
       "      <td>...</td>\n",
       "      <td>18.90</td>\n",
       "      <td>2</td>\n",
       "      <td>Санкт-Петербург</td>\n",
       "      <td>23982.0</td>\n",
       "      <td>11634.0</td>\n",
       "      <td>0</td>\n",
       "      <td>455.0</td>\n",
       "      <td>0</td>\n",
       "      <td>502.0</td>\n",
       "      <td>0</td>\n",
       "    </tr>\n",
       "    <tr>\n",
       "      <th>8</th>\n",
       "      <td>20</td>\n",
       "      <td>2900000.0</td>\n",
       "      <td>33.16</td>\n",
       "      <td>2018-05-23</td>\n",
       "      <td>1</td>\n",
       "      <td>2.771499</td>\n",
       "      <td>27.0</td>\n",
       "      <td>15.43</td>\n",
       "      <td>26</td>\n",
       "      <td>False</td>\n",
       "      <td>...</td>\n",
       "      <td>8.81</td>\n",
       "      <td>0</td>\n",
       "      <td>посёлок Мурино</td>\n",
       "      <td>26726.0</td>\n",
       "      <td>13098.5</td>\n",
       "      <td>0</td>\n",
       "      <td>455.0</td>\n",
       "      <td>0</td>\n",
       "      <td>502.0</td>\n",
       "      <td>189</td>\n",
       "    </tr>\n",
       "    <tr>\n",
       "      <th>9</th>\n",
       "      <td>18</td>\n",
       "      <td>5400000.0</td>\n",
       "      <td>61.00</td>\n",
       "      <td>2017-02-26</td>\n",
       "      <td>3</td>\n",
       "      <td>2.500000</td>\n",
       "      <td>9.0</td>\n",
       "      <td>43.60</td>\n",
       "      <td>7</td>\n",
       "      <td>False</td>\n",
       "      <td>...</td>\n",
       "      <td>6.50</td>\n",
       "      <td>2</td>\n",
       "      <td>Санкт-Петербург</td>\n",
       "      <td>50898.0</td>\n",
       "      <td>15008.0</td>\n",
       "      <td>0</td>\n",
       "      <td>455.0</td>\n",
       "      <td>0</td>\n",
       "      <td>502.0</td>\n",
       "      <td>289</td>\n",
       "    </tr>\n",
       "  </tbody>\n",
       "</table>\n",
       "<p>10 rows × 22 columns</p>\n",
       "</div>"
      ],
      "text/plain": [
       "   total_images  last_price  total_area first_day_exposition  rooms  \\\n",
       "0            20  13000000.0      108.00           2019-03-07      3   \n",
       "1             7   3350000.0       40.40           2018-12-04      1   \n",
       "2            10   5196000.0       56.00           2015-08-20      2   \n",
       "3             0  64900000.0      159.00           2015-07-24      3   \n",
       "4             2  10000000.0      100.00           2018-06-19      2   \n",
       "5            10   2890000.0       30.40           2018-09-10      1   \n",
       "6             6   3700000.0       37.30           2017-11-02      1   \n",
       "7             5   7915000.0       71.60           2019-04-18      2   \n",
       "8            20   2900000.0       33.16           2018-05-23      1   \n",
       "9            18   5400000.0       61.00           2017-02-26      3   \n",
       "\n",
       "   ceiling_height  floors_total  living_area  floor is_apartment  ...  \\\n",
       "0        2.700000          16.0        51.00      8        False  ...   \n",
       "1        2.771499          11.0        18.60      1        False  ...   \n",
       "2        2.771499           5.0        34.30      4        False  ...   \n",
       "3        2.771499          14.0        30.00      9        False  ...   \n",
       "4        3.030000          14.0        32.00     13        False  ...   \n",
       "5        2.771499          12.0        14.40      5        False  ...   \n",
       "6        2.771499          26.0        10.60      6        False  ...   \n",
       "7        2.771499          24.0        30.00     22        False  ...   \n",
       "8        2.771499          27.0        15.43     26        False  ...   \n",
       "9        2.500000           9.0        43.60      7        False  ...   \n",
       "\n",
       "   kitchen_area  balcony              locality_name  airports_nearest  \\\n",
       "0         25.00        0            Санкт-Петербург           18863.0   \n",
       "1         11.00        2             посёлок Шушары           12817.0   \n",
       "2          8.30        0            Санкт-Петербург           21741.0   \n",
       "3          9.10        0            Санкт-Петербург           28098.0   \n",
       "4         41.00        0            Санкт-Петербург           31856.0   \n",
       "5          9.10        0  городской посёлок Янино-1           26726.0   \n",
       "6         14.40        1          посёлок Парголово           52996.0   \n",
       "7         18.90        2            Санкт-Петербург           23982.0   \n",
       "8          8.81        0             посёлок Мурино           26726.0   \n",
       "9          6.50        2            Санкт-Петербург           50898.0   \n",
       "\n",
       "  cityCenters_nearest  parks_around3000  parks_nearest  ponds_around3000  \\\n",
       "0             16028.0                 1          482.0                 2   \n",
       "1             18603.0                 0          455.0                 0   \n",
       "2             13933.0                 1           90.0                 2   \n",
       "3              6800.0                 2           84.0                 3   \n",
       "4              8098.0                 2          112.0                 1   \n",
       "5             13098.5                 0          455.0                 0   \n",
       "6             19143.0                 0          455.0                 0   \n",
       "7             11634.0                 0          455.0                 0   \n",
       "8             13098.5                 0          455.0                 0   \n",
       "9             15008.0                 0          455.0                 0   \n",
       "\n",
       "   ponds_nearest  days_exposition  \n",
       "0          755.0                0  \n",
       "1          502.0               81  \n",
       "2          574.0              558  \n",
       "3          234.0              424  \n",
       "4           48.0              121  \n",
       "5          502.0               55  \n",
       "6          502.0              155  \n",
       "7          502.0                0  \n",
       "8          502.0              189  \n",
       "9          502.0              289  \n",
       "\n",
       "[10 rows x 22 columns]"
      ]
     },
     "execution_count": 25,
     "metadata": {},
     "output_type": "execute_result"
    }
   ],
   "source": [
    "data.head(10)"
   ]
  },
  {
   "cell_type": "code",
   "execution_count": 26,
   "metadata": {},
   "outputs": [
    {
     "name": "stdout",
     "output_type": "stream",
     "text": [
      "Все ок\n"
     ]
    }
   ],
   "source": [
    "if (data['kitchen_area'].sum() + data['living_area'].sum()) < data['total_area'].sum():\n",
    "    print('Все ок')\n",
    "else:\n",
    "    print('Хьюстон у нас проблемы')"
   ]
  },
  {
   "cell_type": "markdown",
   "metadata": {},
   "source": [
    "#### Приступаю к устранению неявных дубликатов"
   ]
  },
  {
   "cell_type": "code",
   "execution_count": 27,
   "metadata": {},
   "outputs": [
    {
     "name": "stdout",
     "output_type": "stream",
     "text": [
      "['Санкт-Петербург' 'посёлок Шушары' 'городской посёлок Янино-1'\n",
      " 'посёлок Парголово' 'посёлок Мурино' 'Ломоносов' 'Сертолово' 'Петергоф'\n",
      " 'Пушкин' 'деревня Кудрово' 'Коммунар' 'Колпино'\n",
      " 'поселок городского типа Красный Бор' 'Гатчина' 'поселок Мурино'\n",
      " 'деревня Фёдоровское' 'Выборг' 'Кронштадт' 'Кировск'\n",
      " 'деревня Новое Девяткино' 'посёлок Металлострой'\n",
      " 'посёлок городского типа Лебяжье' 'посёлок городского типа Сиверский'\n",
      " 'поселок Молодцово' 'поселок городского типа Кузьмоловский'\n",
      " 'садовое товарищество Новая Ропша' 'Павловск' 'деревня Пикколово'\n",
      " 'Всеволожск' 'Волхов' 'Кингисепп' 'Приозерск' 'Сестрорецк'\n",
      " 'деревня Куттузи' 'посёлок Аннино' 'поселок городского типа Ефимовский'\n",
      " 'посёлок Плодовое' 'деревня Заклинье' 'поселок Торковичи'\n",
      " 'поселок Первомайское' 'Красное Село' 'посёлок Понтонный' 'Сясьстрой'\n",
      " 'деревня Старая' 'деревня Лесколово' 'посёлок Новый Свет' 'Сланцы'\n",
      " 'село Путилово' 'Ивангород' 'Мурино' 'Шлиссельбург' 'Никольское'\n",
      " 'Зеленогорск' 'Сосновый Бор' 'поселок Новый Свет' 'деревня Оржицы'\n",
      " 'деревня Кальтино' 'Кудрово' 'поселок Романовка' 'посёлок Бугры'\n",
      " 'поселок Бугры' 'поселок городского типа Рощино' 'Кириши' 'Луга'\n",
      " 'Волосово' 'Отрадное' 'село Павлово' 'поселок Оредеж' 'село Копорье'\n",
      " 'посёлок городского типа Красный Бор' 'посёлок Молодёжное' 'Тихвин'\n",
      " 'посёлок Победа' 'деревня Нурма' 'поселок городского типа Синявино'\n",
      " 'Тосно' 'посёлок городского типа Кузьмоловский' 'посёлок Стрельна'\n",
      " 'Бокситогорск' 'посёлок Александровская' 'деревня Лопухинка' 'Пикалёво'\n",
      " 'поселок Терволово' 'поселок городского типа Советский' 'Подпорожье'\n",
      " 'посёлок Петровское' 'посёлок городского типа Токсово' 'поселок Сельцо'\n",
      " 'посёлок городского типа Вырица' 'деревня Кипень' 'деревня Келози'\n",
      " 'деревня Вартемяги' 'посёлок Тельмана' 'поселок Севастьяново'\n",
      " 'городской поселок Большая Ижора' nan 'городской посёлок Павлово'\n",
      " 'деревня Агалатово' 'посёлок Новогорелово'\n",
      " 'городской посёлок Лесогорский' 'деревня Лаголово' 'поселок Цвелодубово'\n",
      " 'поселок городского типа Рахья' 'поселок городского типа Вырица'\n",
      " 'деревня Белогорка' 'поселок Заводской' 'городской посёлок Новоселье'\n",
      " 'деревня Большие Колпаны' 'деревня Горбунки' 'деревня Батово'\n",
      " 'деревня Заневка' 'деревня Иссад' 'Приморск'\n",
      " 'городской посёлок Фёдоровское' 'деревня Мистолово' 'Новая Ладога'\n",
      " 'поселок Зимитицы' 'поселок Барышево' 'деревня Разметелево'\n",
      " 'поселок городского типа имени Свердлова' 'деревня Пеники'\n",
      " 'поселок Рябово' 'деревня Пудомяги' 'поселок станции Корнево'\n",
      " 'деревня Низино' 'деревня Бегуницы' 'посёлок Поляны'\n",
      " 'городской посёлок Мга' 'поселок Елизаветино'\n",
      " 'посёлок городского типа Кузнечное' 'деревня Колтуши'\n",
      " 'поселок Запорожское' 'посёлок городского типа Рощино'\n",
      " 'деревня Гостилицы' 'деревня Малое Карлино' 'посёлок Мичуринское'\n",
      " 'посёлок городского типа имени Морозова' 'посёлок Песочный'\n",
      " 'посёлок Сосново' 'деревня Аро' 'поселок Ильичёво'\n",
      " 'посёлок городского типа Тайцы' 'деревня Малое Верево' 'деревня Извара'\n",
      " 'поселок станции Вещево' 'село Паша' 'деревня Калитино'\n",
      " 'посёлок городского типа Ульяновка' 'деревня Чудской Бор'\n",
      " 'поселок городского типа Дубровка' 'деревня Мины' 'поселок Войсковицы'\n",
      " 'посёлок городского типа имени Свердлова' 'деревня Коркино'\n",
      " 'посёлок Ропша' 'поселок городского типа Приладожский' 'посёлок Щеглово'\n",
      " 'посёлок Гаврилово' 'Лодейное Поле' 'деревня Рабитицы'\n",
      " 'поселок городского типа Никольский' 'деревня Кузьмолово'\n",
      " 'деревня Малые Колпаны' 'поселок Тельмана' 'посёлок Петро-Славянка'\n",
      " 'городской посёлок Назия' 'посёлок Репино' 'посёлок Ильичёво'\n",
      " 'поселок Углово' 'поселок Старая Малукса' 'садовое товарищество Рахья'\n",
      " 'поселок Аннино' 'поселок Победа' 'деревня Меньково'\n",
      " 'деревня Старые Бегуницы' 'посёлок Сапёрный' 'поселок Семрино'\n",
      " 'поселок Гаврилово' 'поселок Глажево' 'поселок Кобринское'\n",
      " 'деревня Гарболово' 'деревня Юкки' 'поселок станции Приветнинское'\n",
      " 'деревня Мануйлово' 'деревня Пчева' 'поселок Поляны' 'поселок Цвылёво'\n",
      " 'поселок Мельниково' 'посёлок Пудость' 'посёлок Усть-Луга' 'Светогорск'\n",
      " 'Любань' 'поселок Селезнёво' 'поселок городского типа Рябово'\n",
      " 'Каменногорск' 'деревня Кривко' 'поселок Глебычево' 'деревня Парицы'\n",
      " 'поселок Жилпосёлок' 'посёлок городского типа Мга'\n",
      " 'городской поселок Янино-1' 'посёлок Войскорово' 'село Никольское'\n",
      " 'посёлок Терволово' 'поселок Стеклянный' 'посёлок городского типа Важины'\n",
      " 'посёлок Мыза-Ивановка' 'село Русско-Высоцкое'\n",
      " 'поселок городского типа Лебяжье' 'поселок городского типа Форносово'\n",
      " 'село Старая Ладога' 'поселок Житково' 'городской посёлок Виллози'\n",
      " 'деревня Лампово' 'деревня Шпаньково' 'деревня Лаврики' 'посёлок Сумино'\n",
      " 'посёлок Возрождение' 'деревня Старосиверская' 'посёлок Кикерино'\n",
      " 'поселок Возрождение' 'деревня Старое Хинколово' 'посёлок Пригородный'\n",
      " 'посёлок Торфяное' 'городской посёлок Будогощь' 'поселок Суходолье'\n",
      " 'поселок Красная Долина' 'деревня Хапо-Ое'\n",
      " 'поселок городского типа Дружная Горка' 'поселок Лисий Нос'\n",
      " 'деревня Яльгелево' 'посёлок Стеклянный' 'село Рождествено'\n",
      " 'деревня Старополье' 'посёлок Левашово' 'деревня Сяськелево'\n",
      " 'деревня Камышовка'\n",
      " 'садоводческое некоммерческое товарищество Лесная Поляна'\n",
      " 'деревня Хязельки' 'поселок Жилгородок' 'посёлок городского типа Павлово'\n",
      " 'деревня Ялгино' 'поселок Новый Учхоз' 'городской посёлок Рощино'\n",
      " 'поселок Гончарово' 'поселок Почап' 'посёлок Сапёрное'\n",
      " 'посёлок Платформа 69-й километр' 'поселок Каложицы' 'деревня Фалилеево'\n",
      " 'деревня Пельгора' 'поселок городского типа Лесогорский'\n",
      " 'деревня Торошковичи' 'посёлок Белоостров' 'посёлок Алексеевка'\n",
      " 'поселок Серебрянский' 'поселок Лукаши' 'поселок Петровское'\n",
      " 'деревня Щеглово' 'поселок Мичуринское' 'деревня Тарасово'\n",
      " 'поселок Кингисеппский' 'посёлок при железнодорожной станции Вещево'\n",
      " 'поселок Ушаки' 'деревня Котлы' 'деревня Сижно' 'деревня Торосово'\n",
      " 'посёлок Форт Красная Горка' 'поселок городского типа Токсово'\n",
      " 'деревня Новолисино' 'посёлок станции Громово' 'деревня Глинка'\n",
      " 'посёлок Мельниково' 'поселок городского типа Назия'\n",
      " 'деревня Старая Пустошь' 'поселок Коммунары' 'поселок Починок'\n",
      " 'посёлок городского типа Вознесенье' 'деревня Разбегаево'\n",
      " 'посёлок городского типа Рябово' 'поселок Гладкое'\n",
      " 'посёлок при железнодорожной станции Приветнинское' 'поселок Тёсово-4'\n",
      " 'посёлок Жилгородок' 'деревня Бор' 'посёлок Коробицыно'\n",
      " 'деревня Большая Вруда' 'деревня Курковицы' 'посёлок Лисий Нос'\n",
      " 'городской посёлок Советский' 'посёлок Кобралово' 'деревня Суоранда'\n",
      " 'поселок Кобралово' 'поселок городского типа Кондратьево'\n",
      " 'коттеджный поселок Счастье' 'поселок Любань' 'деревня Реброво'\n",
      " 'деревня Зимитицы' 'деревня Тойворово' 'поселок Семиозерье'\n",
      " 'поселок Лесное' 'поселок Совхозный' 'поселок Усть-Луга'\n",
      " 'посёлок Ленинское' 'посёлок Суйда' 'посёлок городского типа Форносово'\n",
      " 'деревня Нижние Осельки' 'посёлок станции Свирь' 'поселок Перово'\n",
      " 'Высоцк' 'поселок Гарболово' 'село Шум' 'поселок Котельский'\n",
      " 'поселок станции Лужайка' 'деревня Большая Пустомержа'\n",
      " 'поселок Красносельское' 'деревня Вахнова Кара' 'деревня Пижма'\n",
      " 'коттеджный поселок Кивеннапа Север' 'поселок Коробицыно'\n",
      " 'поселок Ромашки' 'посёлок Перово' 'деревня Каськово' 'деревня Куровицы'\n",
      " 'посёлок Плоское' 'поселок Сумино'\n",
      " 'поселок городского типа Большая Ижора' 'поселок Кирпичное'\n",
      " 'деревня Ям-Тесово' 'деревня Раздолье' 'деревня Терпилицы'\n",
      " 'посёлок Шугозеро' 'деревня Ваганово' 'поселок Пушное'\n",
      " 'садовое товарищество Садко' 'посёлок Усть-Ижора' 'деревня Выскатка'\n",
      " 'городской посёлок Свирьстрой' 'поселок Громово' 'деревня Кисельня'\n",
      " 'посёлок Старая Малукса' 'деревня Трубников Бор' 'поселок Калитино'\n",
      " 'посёлок Высокоключевой' 'садовое товарищество Приладожский'\n",
      " 'посёлок Пансионат Зелёный Бор' 'деревня Ненимяки'\n",
      " 'поселок Пансионат Зелёный Бор' 'деревня Снегирёвка' 'деревня Рапполово'\n",
      " 'деревня Пустынка' 'поселок Рабитицы' 'деревня Большой Сабск'\n",
      " 'деревня Русско' 'деревня Лупполово' 'деревня Большое Рейзино'\n",
      " 'деревня Малая Романовка' 'поселок Дружноселье' 'поселок Пчевжа'\n",
      " 'поселок Володарское' 'деревня Нижняя' 'коттеджный посёлок Лесное'\n",
      " 'деревня Тихковицы' 'деревня Борисова Грива' 'посёлок Дзержинского']\n"
     ]
    }
   ],
   "source": [
    "print(data['locality_name'].unique())"
   ]
  },
  {
   "cell_type": "code",
   "execution_count": 28,
   "metadata": {},
   "outputs": [],
   "source": [
    "data['locality_name']=data['locality_name'].str.replace('ё','е')\n",
    "data['locality_name']=data['locality_name'].str.replace('поселок городского типа','поселок')\n",
    "data['locality_name']=data['locality_name'].str.replace('коттеджный поселок','поселок')\n",
    "data['locality_name']=data['locality_name'].str.replace('садовое товарищество','поселок')\n",
    "data['locality_name']=data['locality_name'].str.replace('городской поселок','поселок')\n",
    "\n"
   ]
  },
  {
   "cell_type": "code",
   "execution_count": 29,
   "metadata": {},
   "outputs": [
    {
     "name": "stdout",
     "output_type": "stream",
     "text": [
      "['Санкт-Петербург' 'поселок Шушары' 'поселок Янино-1' 'поселок Парголово'\n",
      " 'поселок Мурино' 'Ломоносов' 'Сертолово' 'Петергоф' 'Пушкин'\n",
      " 'деревня Кудрово' 'Коммунар' 'Колпино' 'поселок Красный Бор' 'Гатчина'\n",
      " 'деревня Федоровское' 'Выборг' 'Кронштадт' 'Кировск'\n",
      " 'деревня Новое Девяткино' 'поселок Металлострой' 'поселок Лебяжье'\n",
      " 'поселок Сиверский' 'поселок Молодцово' 'поселок Кузьмоловский'\n",
      " 'поселок Новая Ропша' 'Павловск' 'деревня Пикколово' 'Всеволожск'\n",
      " 'Волхов' 'Кингисепп' 'Приозерск' 'Сестрорецк' 'деревня Куттузи'\n",
      " 'поселок Аннино' 'поселок Ефимовский' 'поселок Плодовое'\n",
      " 'деревня Заклинье' 'поселок Торковичи' 'поселок Первомайское'\n",
      " 'Красное Село' 'поселок Понтонный' 'Сясьстрой' 'деревня Старая'\n",
      " 'деревня Лесколово' 'поселок Новый Свет' 'Сланцы' 'село Путилово'\n",
      " 'Ивангород' 'Мурино' 'Шлиссельбург' 'Никольское' 'Зеленогорск'\n",
      " 'Сосновый Бор' 'деревня Оржицы' 'деревня Кальтино' 'Кудрово'\n",
      " 'поселок Романовка' 'поселок Бугры' 'поселок Рощино' 'Кириши' 'Луга'\n",
      " 'Волосово' 'Отрадное' 'село Павлово' 'поселок Оредеж' 'село Копорье'\n",
      " 'поселок Молодежное' 'Тихвин' 'поселок Победа' 'деревня Нурма'\n",
      " 'поселок Синявино' 'Тосно' 'поселок Стрельна' 'Бокситогорск'\n",
      " 'поселок Александровская' 'деревня Лопухинка' 'Пикалево'\n",
      " 'поселок Терволово' 'поселок Советский' 'Подпорожье' 'поселок Петровское'\n",
      " 'поселок Токсово' 'поселок Сельцо' 'поселок Вырица' 'деревня Кипень'\n",
      " 'деревня Келози' 'деревня Вартемяги' 'поселок Тельмана'\n",
      " 'поселок Севастьяново' 'поселок Большая Ижора' nan 'поселок Павлово'\n",
      " 'деревня Агалатово' 'поселок Новогорелово' 'поселок Лесогорский'\n",
      " 'деревня Лаголово' 'поселок Цвелодубово' 'поселок Рахья'\n",
      " 'деревня Белогорка' 'поселок Заводской' 'поселок Новоселье'\n",
      " 'деревня Большие Колпаны' 'деревня Горбунки' 'деревня Батово'\n",
      " 'деревня Заневка' 'деревня Иссад' 'Приморск' 'поселок Федоровское'\n",
      " 'деревня Мистолово' 'Новая Ладога' 'поселок Зимитицы' 'поселок Барышево'\n",
      " 'деревня Разметелево' 'поселок имени Свердлова' 'деревня Пеники'\n",
      " 'поселок Рябово' 'деревня Пудомяги' 'поселок станции Корнево'\n",
      " 'деревня Низино' 'деревня Бегуницы' 'поселок Поляны' 'поселок Мга'\n",
      " 'поселок Елизаветино' 'поселок Кузнечное' 'деревня Колтуши'\n",
      " 'поселок Запорожское' 'деревня Гостилицы' 'деревня Малое Карлино'\n",
      " 'поселок Мичуринское' 'поселок имени Морозова' 'поселок Песочный'\n",
      " 'поселок Сосново' 'деревня Аро' 'поселок Ильичево' 'поселок Тайцы'\n",
      " 'деревня Малое Верево' 'деревня Извара' 'поселок станции Вещево'\n",
      " 'село Паша' 'деревня Калитино' 'поселок Ульяновка' 'деревня Чудской Бор'\n",
      " 'поселок Дубровка' 'деревня Мины' 'поселок Войсковицы' 'деревня Коркино'\n",
      " 'поселок Ропша' 'поселок Приладожский' 'поселок Щеглово'\n",
      " 'поселок Гаврилово' 'Лодейное Поле' 'деревня Рабитицы'\n",
      " 'поселок Никольский' 'деревня Кузьмолово' 'деревня Малые Колпаны'\n",
      " 'поселок Петро-Славянка' 'поселок Назия' 'поселок Репино'\n",
      " 'поселок Углово' 'поселок Старая Малукса' 'деревня Меньково'\n",
      " 'деревня Старые Бегуницы' 'поселок Саперный' 'поселок Семрино'\n",
      " 'поселок Глажево' 'поселок Кобринское' 'деревня Гарболово' 'деревня Юкки'\n",
      " 'поселок станции Приветнинское' 'деревня Мануйлово' 'деревня Пчева'\n",
      " 'поселок Цвылево' 'поселок Мельниково' 'поселок Пудость'\n",
      " 'поселок Усть-Луга' 'Светогорск' 'Любань' 'поселок Селезнево'\n",
      " 'Каменногорск' 'деревня Кривко' 'поселок Глебычево' 'деревня Парицы'\n",
      " 'поселок Жилпоселок' 'поселок Войскорово' 'село Никольское'\n",
      " 'поселок Стеклянный' 'поселок Важины' 'поселок Мыза-Ивановка'\n",
      " 'село Русско-Высоцкое' 'поселок Форносово' 'село Старая Ладога'\n",
      " 'поселок Житково' 'поселок Виллози' 'деревня Лампово' 'деревня Шпаньково'\n",
      " 'деревня Лаврики' 'поселок Сумино' 'поселок Возрождение'\n",
      " 'деревня Старосиверская' 'поселок Кикерино' 'деревня Старое Хинколово'\n",
      " 'поселок Пригородный' 'поселок Торфяное' 'поселок Будогощь'\n",
      " 'поселок Суходолье' 'поселок Красная Долина' 'деревня Хапо-Ое'\n",
      " 'поселок Дружная Горка' 'поселок Лисий Нос' 'деревня Яльгелево'\n",
      " 'село Рождествено' 'деревня Старополье' 'поселок Левашово'\n",
      " 'деревня Сяськелево' 'деревня Камышовка'\n",
      " 'садоводческое некоммерческое товарищество Лесная Поляна'\n",
      " 'деревня Хязельки' 'поселок Жилгородок' 'деревня Ялгино'\n",
      " 'поселок Новый Учхоз' 'поселок Гончарово' 'поселок Почап'\n",
      " 'поселок Саперное' 'поселок Платформа 69-й километр' 'поселок Каложицы'\n",
      " 'деревня Фалилеево' 'деревня Пельгора' 'деревня Торошковичи'\n",
      " 'поселок Белоостров' 'поселок Алексеевка' 'поселок Серебрянский'\n",
      " 'поселок Лукаши' 'деревня Щеглово' 'деревня Тарасово'\n",
      " 'поселок Кингисеппский' 'поселок при железнодорожной станции Вещево'\n",
      " 'поселок Ушаки' 'деревня Котлы' 'деревня Сижно' 'деревня Торосово'\n",
      " 'поселок Форт Красная Горка' 'деревня Новолисино'\n",
      " 'поселок станции Громово' 'деревня Глинка' 'деревня Старая Пустошь'\n",
      " 'поселок Коммунары' 'поселок Починок' 'поселок Вознесенье'\n",
      " 'деревня Разбегаево' 'поселок Гладкое'\n",
      " 'поселок при железнодорожной станции Приветнинское' 'поселок Тесово-4'\n",
      " 'деревня Бор' 'поселок Коробицыно' 'деревня Большая Вруда'\n",
      " 'деревня Курковицы' 'поселок Кобралово' 'деревня Суоранда'\n",
      " 'поселок Кондратьево' 'поселок Счастье' 'поселок Любань'\n",
      " 'деревня Реброво' 'деревня Зимитицы' 'деревня Тойворово'\n",
      " 'поселок Семиозерье' 'поселок Лесное' 'поселок Совхозный'\n",
      " 'поселок Ленинское' 'поселок Суйда' 'деревня Нижние Осельки'\n",
      " 'поселок станции Свирь' 'поселок Перово' 'Высоцк' 'поселок Гарболово'\n",
      " 'село Шум' 'поселок Котельский' 'поселок станции Лужайка'\n",
      " 'деревня Большая Пустомержа' 'поселок Красносельское'\n",
      " 'деревня Вахнова Кара' 'деревня Пижма' 'поселок Кивеннапа Север'\n",
      " 'поселок Ромашки' 'деревня Каськово' 'деревня Куровицы' 'поселок Плоское'\n",
      " 'поселок Кирпичное' 'деревня Ям-Тесово' 'деревня Раздолье'\n",
      " 'деревня Терпилицы' 'поселок Шугозеро' 'деревня Ваганово'\n",
      " 'поселок Пушное' 'поселок Садко' 'поселок Усть-Ижора' 'деревня Выскатка'\n",
      " 'поселок Свирьстрой' 'поселок Громово' 'деревня Кисельня'\n",
      " 'деревня Трубников Бор' 'поселок Калитино' 'поселок Высокоключевой'\n",
      " 'поселок Пансионат Зеленый Бор' 'деревня Ненимяки' 'деревня Снегиревка'\n",
      " 'деревня Рапполово' 'деревня Пустынка' 'поселок Рабитицы'\n",
      " 'деревня Большой Сабск' 'деревня Русско' 'деревня Лупполово'\n",
      " 'деревня Большое Рейзино' 'деревня Малая Романовка' 'поселок Дружноселье'\n",
      " 'поселок Пчевжа' 'поселок Володарское' 'деревня Нижняя'\n",
      " 'деревня Тихковицы' 'деревня Борисова Грива' 'поселок Дзержинского']\n"
     ]
    }
   ],
   "source": [
    "print(data['locality_name'].unique())"
   ]
  },
  {
   "cell_type": "code",
   "execution_count": 30,
   "metadata": {},
   "outputs": [
    {
     "data": {
      "text/plain": [
       "array([[<AxesSubplot:title={'center':'total_images'}>,\n",
       "        <AxesSubplot:title={'center':'last_price'}>,\n",
       "        <AxesSubplot:title={'center':'total_area'}>,\n",
       "        <AxesSubplot:title={'center':'first_day_exposition'}>],\n",
       "       [<AxesSubplot:title={'center':'rooms'}>,\n",
       "        <AxesSubplot:title={'center':'ceiling_height'}>,\n",
       "        <AxesSubplot:title={'center':'floors_total'}>,\n",
       "        <AxesSubplot:title={'center':'living_area'}>],\n",
       "       [<AxesSubplot:title={'center':'floor'}>,\n",
       "        <AxesSubplot:title={'center':'kitchen_area'}>,\n",
       "        <AxesSubplot:title={'center':'balcony'}>,\n",
       "        <AxesSubplot:title={'center':'airports_nearest'}>],\n",
       "       [<AxesSubplot:title={'center':'cityCenters_nearest'}>,\n",
       "        <AxesSubplot:title={'center':'parks_around3000'}>,\n",
       "        <AxesSubplot:title={'center':'parks_nearest'}>,\n",
       "        <AxesSubplot:title={'center':'ponds_around3000'}>],\n",
       "       [<AxesSubplot:title={'center':'ponds_nearest'}>,\n",
       "        <AxesSubplot:title={'center':'days_exposition'}>, <AxesSubplot:>,\n",
       "        <AxesSubplot:>]], dtype=object)"
      ]
     },
     "execution_count": 30,
     "metadata": {},
     "output_type": "execute_result"
    },
    {
     "data": {
      "image/png": "[encoded data removed]",
      "text/plain": [
       "<Figure size 1080x1440 with 20 Axes>"
      ]
     },
     "metadata": {
      "needs_background": "light"
     },
     "output_type": "display_data"
    }
   ],
   "source": [
    "# работаю с аномалиями. \n",
    "data.hist(figsize=(15, 20))"
   ]
  },
  {
   "cell_type": "markdown",
   "metadata": {},
   "source": [
    "Построив гистограммы я  ниже хочу построить график \"ящик с усами\" для точного определения \"выбросов\" ."
   ]
  },
  {
   "cell_type": "code",
   "execution_count": 31,
   "metadata": {},
   "outputs": [
    {
     "data": {
      "image/png": "[encoded data removed]",
      "text/plain": [
       "<Figure size 432x288 with 1 Axes>"
      ]
     },
     "metadata": {
      "needs_background": "light"
     },
     "output_type": "display_data"
    }
   ],
   "source": [
    "data.boxplot(column=['floors_total','kitchen_area'])\n",
    "plt.ylim(0, 100)\n",
    "plt.show()"
   ]
  },
  {
   "cell_type": "markdown",
   "metadata": {},
   "source": [
    "Построив график \"ящик с усами\" по столбцам 'floors_total'и 'kitchen_area' можно отбросить значения в столбце 'floors_total' > 40 и в столбце 'kitchen_area' > 80. "
   ]
  },
  {
   "cell_type": "code",
   "execution_count": 32,
   "metadata": {},
   "outputs": [
    {
     "data": {
      "image/png": "[encoded data removed]",
      "text/plain": [
       "<Figure size 432x288 with 1 Axes>"
      ]
     },
     "metadata": {
      "needs_background": "light"
     },
     "output_type": "display_data"
    }
   ],
   "source": [
    "data.boxplot(column=['rooms','floor', 'balcony', ])\n",
    "plt.ylim(0, 30)\n",
    "plt.show()"
   ]
  },
  {
   "cell_type": "markdown",
   "metadata": {},
   "source": [
    "Построив график \"ящик с усами\" по столбцам 'rooms', 'floor' и 'balcony' отбросить значения в столбце 'rooms' > 6 , в столбце 'floor' > 25 и 'balcony' > 4."
   ]
  },
  {
   "cell_type": "code",
   "execution_count": 33,
   "metadata": {},
   "outputs": [
    {
     "data": {
      "text/plain": [
       "(array([ 1,  2,  3,  4,  5,  6,  7,  8,  9, 10, 11, 12, 13, 14, 15, 16, 17,\n",
       "        18, 19]),\n",
       " [Text(1, 0, 'total_images'),\n",
       "  Text(2, 0, 'last_price'),\n",
       "  Text(3, 0, 'total_area'),\n",
       "  Text(4, 0, 'rooms'),\n",
       "  Text(5, 0, 'ceiling_height'),\n",
       "  Text(6, 0, 'floors_total'),\n",
       "  Text(7, 0, 'living_area'),\n",
       "  Text(8, 0, 'floor'),\n",
       "  Text(9, 0, 'studio'),\n",
       "  Text(10, 0, 'open_plan'),\n",
       "  Text(11, 0, 'kitchen_area'),\n",
       "  Text(12, 0, 'balcony'),\n",
       "  Text(13, 0, 'airports_nearest'),\n",
       "  Text(14, 0, 'cityCenters_nearest'),\n",
       "  Text(15, 0, 'parks_around3000'),\n",
       "  Text(16, 0, 'parks_nearest'),\n",
       "  Text(17, 0, 'ponds_around3000'),\n",
       "  Text(18, 0, 'ponds_nearest'),\n",
       "  Text(19, 0, 'days_exposition')])"
      ]
     },
     "execution_count": 33,
     "metadata": {},
     "output_type": "execute_result"
    },
    {
     "data": {
      "image/png": "[encoded data removed]",
      "text/plain": [
       "<Figure size 432x288 with 1 Axes>"
      ]
     },
     "metadata": {
      "needs_background": "light"
     },
     "output_type": "display_data"
    }
   ],
   "source": [
    "data.boxplot()\n",
    "plt.xticks(rotation=90)"
   ]
  },
  {
   "cell_type": "code",
   "execution_count": 34,
   "metadata": {},
   "outputs": [],
   "source": [
    "#data.describe()"
   ]
  },
  {
   "cell_type": "code",
   "execution_count": 35,
   "metadata": {},
   "outputs": [
    {
     "data": {
      "image/png": "[encoded data removed]",
      "text/plain": [
       "<Figure size 432x288 with 1 Axes>"
      ]
     },
     "metadata": {
      "needs_background": "light"
     },
     "output_type": "display_data"
    }
   ],
   "source": [
    "data.boxplot(column=['total_area', 'living_area'])\n",
    "plt.ylim(0, 800)\n",
    "plt.show()"
   ]
  },
  {
   "cell_type": "markdown",
   "metadata": {},
   "source": [
    "Построив график \"ящик с усами\" по столбцам 'total_area'и 'living_area' можно отбросить значения в столбце 'total_area' > 500 и в столбце 'kitchen_area' > 300."
   ]
  },
  {
   "cell_type": "code",
   "execution_count": 36,
   "metadata": {},
   "outputs": [
    {
     "data": {
      "image/png": "[encoded data removed]",
      "text/plain": [
       "<Figure size 432x288 with 1 Axes>"
      ]
     },
     "metadata": {
      "needs_background": "light"
     },
     "output_type": "display_data"
    }
   ],
   "source": [
    "data.boxplot(column=['airports_nearest'])\n",
    "plt.ylim(-10000, 90000)\n",
    "plt.show()"
   ]
  },
  {
   "cell_type": "markdown",
   "metadata": {},
   "source": [
    "Построив график \"ящик с усами\" по столбцу 'airports_nearest' можно отбросить значения > 8500 и меньше 5000."
   ]
  },
  {
   "cell_type": "code",
   "execution_count": 37,
   "metadata": {},
   "outputs": [
    {
     "data": {
      "image/png": "[encoded data removed]",
      "text/plain": [
       "<Figure size 432x288 with 1 Axes>"
      ]
     },
     "metadata": {
      "needs_background": "light"
     },
     "output_type": "display_data"
    }
   ],
   "source": [
    "data.boxplot(column=['cityCenters_nearest'])\n",
    "plt.ylim(-5000, 80000)\n",
    "plt.show()"
   ]
  },
  {
   "cell_type": "markdown",
   "metadata": {},
   "source": [
    "Построив график \"ящик с усами\" по столбцу 'cityCenters_nearest' можно отбросить значения > 50000."
   ]
  },
  {
   "cell_type": "code",
   "execution_count": 38,
   "metadata": {},
   "outputs": [
    {
     "data": {
      "image/png": "[encoded data removed]",
      "text/plain": [
       "<Figure size 432x288 with 1 Axes>"
      ]
     },
     "metadata": {
      "needs_background": "light"
     },
     "output_type": "display_data"
    }
   ],
   "source": [
    "data.boxplot(column=['parks_nearest', 'ponds_nearest', 'days_exposition'])\n",
    "plt.ylim(0, 2000)\n",
    "plt.show()"
   ]
  },
  {
   "cell_type": "markdown",
   "metadata": {},
   "source": [
    "Построив график \"ящик с усами\" по столбцам 'parks_nearest', 'ponds_nearest', 'days_exposition' можно отбросить значения в столбце 'parks_nearest' < 1000 и 'days_exposition' >  1000."
   ]
  },
  {
   "cell_type": "code",
   "execution_count": 39,
   "metadata": {},
   "outputs": [
    {
     "data": {
      "image/png": "[encoded data removed]",
      "text/plain": [
       "<Figure size 432x288 with 1 Axes>"
      ]
     },
     "metadata": {
      "needs_background": "light"
     },
     "output_type": "display_data"
    }
   ],
   "source": [
    "data.boxplot(column=['total_images', ])\n",
    "plt.ylim(-20, 80)\n",
    "plt.show()"
   ]
  },
  {
   "cell_type": "markdown",
   "metadata": {},
   "source": [
    "В столбце 'total_images' выявлены выбросы, но я не думаю что они как то влияют на исследование. "
   ]
  },
  {
   "cell_type": "code",
   "execution_count": 40,
   "metadata": {},
   "outputs": [
    {
     "data": {
      "image/png": "[encoded data removed]",
      "text/plain": [
       "<Figure size 432x288 with 1 Axes>"
      ]
     },
     "metadata": {
      "needs_background": "light"
     },
     "output_type": "display_data"
    }
   ],
   "source": [
    "data.boxplot(column=['last_price', 'parks_around3000', 'ponds_around3000'])\n",
    "\n",
    "plt.show()"
   ]
  },
  {
   "cell_type": "markdown",
   "metadata": {},
   "source": [
    "В вышеуказанных столбцах , только в 'last_price' есть выбросы. Но с этим столбцом мы поработаем ниже. "
   ]
  },
  {
   "cell_type": "code",
   "execution_count": 41,
   "metadata": {},
   "outputs": [
    {
     "data": {
      "text/plain": [
       "(-2.0, 4.0)"
      ]
     },
     "execution_count": 41,
     "metadata": {},
     "output_type": "execute_result"
    },
    {
     "data": {
      "image/png": "[encoded data removed]",
      "text/plain": [
       "<Figure size 432x288 with 1 Axes>"
      ]
     },
     "metadata": {
      "needs_background": "light"
     },
     "output_type": "display_data"
    }
   ],
   "source": [
    "data.boxplot(column=['ceiling_height'])\n",
    "plt.ylim(-2, 4)\n"
   ]
  },
  {
   "cell_type": "markdown",
   "metadata": {},
   "source": [
    "В столбце с потолками есть выбросы (очень низкие потолки). Их я уберу ниже в коде. "
   ]
  },
  {
   "cell_type": "code",
   "execution_count": 42,
   "metadata": {},
   "outputs": [],
   "source": [
    "# применяю срез по столбцам исходя из данных гистограммы и частично из метода boxplot. Очищаю данные от \"выбросов\".\n",
    "data_filter = data.query('total_area < 500 and rooms <= 6 and floors_total < 40 and living_area <= 300 and floor < 25 and kitchen_area < 80 and balcony <= 4')\n",
    "data_filter = data_filter.query('5000 <= airports_nearest <= 85000 and cityCenters_nearest < 50000 and parks_nearest < 1000 and days_exposition < 1000 and 2 <= ceiling_height <= 3 and days_exposition != 0')"
   ]
  },
  {
   "cell_type": "code",
   "execution_count": 43,
   "metadata": {},
   "outputs": [
    {
     "data": {
      "text/html": [
       "<div>\n",
       "<style scoped>\n",
       "    .dataframe tbody tr th:only-of-type {\n",
       "        vertical-align: middle;\n",
       "    }\n",
       "\n",
       "    .dataframe tbody tr th {\n",
       "        vertical-align: top;\n",
       "    }\n",
       "\n",
       "    .dataframe thead th {\n",
       "        text-align: right;\n",
       "    }\n",
       "</style>\n",
       "<table border=\"1\" class=\"dataframe\">\n",
       "  <thead>\n",
       "    <tr style=\"text-align: right;\">\n",
       "      <th></th>\n",
       "      <th>total_images</th>\n",
       "      <th>last_price</th>\n",
       "      <th>total_area</th>\n",
       "      <th>first_day_exposition</th>\n",
       "      <th>rooms</th>\n",
       "      <th>ceiling_height</th>\n",
       "      <th>floors_total</th>\n",
       "      <th>living_area</th>\n",
       "      <th>floor</th>\n",
       "      <th>is_apartment</th>\n",
       "      <th>...</th>\n",
       "      <th>kitchen_area</th>\n",
       "      <th>balcony</th>\n",
       "      <th>locality_name</th>\n",
       "      <th>airports_nearest</th>\n",
       "      <th>cityCenters_nearest</th>\n",
       "      <th>parks_around3000</th>\n",
       "      <th>parks_nearest</th>\n",
       "      <th>ponds_around3000</th>\n",
       "      <th>ponds_nearest</th>\n",
       "      <th>days_exposition</th>\n",
       "    </tr>\n",
       "  </thead>\n",
       "  <tbody>\n",
       "    <tr>\n",
       "      <th>1</th>\n",
       "      <td>7</td>\n",
       "      <td>3350000.0</td>\n",
       "      <td>40.4</td>\n",
       "      <td>2018-12-04</td>\n",
       "      <td>1</td>\n",
       "      <td>2.771499</td>\n",
       "      <td>11.0</td>\n",
       "      <td>18.6</td>\n",
       "      <td>1</td>\n",
       "      <td>False</td>\n",
       "      <td>...</td>\n",
       "      <td>11.0</td>\n",
       "      <td>2</td>\n",
       "      <td>поселок Шушары</td>\n",
       "      <td>12817.0</td>\n",
       "      <td>18603.0</td>\n",
       "      <td>0</td>\n",
       "      <td>455.0</td>\n",
       "      <td>0</td>\n",
       "      <td>502.0</td>\n",
       "      <td>81</td>\n",
       "    </tr>\n",
       "    <tr>\n",
       "      <th>2</th>\n",
       "      <td>10</td>\n",
       "      <td>5196000.0</td>\n",
       "      <td>56.0</td>\n",
       "      <td>2015-08-20</td>\n",
       "      <td>2</td>\n",
       "      <td>2.771499</td>\n",
       "      <td>5.0</td>\n",
       "      <td>34.3</td>\n",
       "      <td>4</td>\n",
       "      <td>False</td>\n",
       "      <td>...</td>\n",
       "      <td>8.3</td>\n",
       "      <td>0</td>\n",
       "      <td>Санкт-Петербург</td>\n",
       "      <td>21741.0</td>\n",
       "      <td>13933.0</td>\n",
       "      <td>1</td>\n",
       "      <td>90.0</td>\n",
       "      <td>2</td>\n",
       "      <td>574.0</td>\n",
       "      <td>558</td>\n",
       "    </tr>\n",
       "    <tr>\n",
       "      <th>3</th>\n",
       "      <td>0</td>\n",
       "      <td>64900000.0</td>\n",
       "      <td>159.0</td>\n",
       "      <td>2015-07-24</td>\n",
       "      <td>3</td>\n",
       "      <td>2.771499</td>\n",
       "      <td>14.0</td>\n",
       "      <td>30.0</td>\n",
       "      <td>9</td>\n",
       "      <td>False</td>\n",
       "      <td>...</td>\n",
       "      <td>9.1</td>\n",
       "      <td>0</td>\n",
       "      <td>Санкт-Петербург</td>\n",
       "      <td>28098.0</td>\n",
       "      <td>6800.0</td>\n",
       "      <td>2</td>\n",
       "      <td>84.0</td>\n",
       "      <td>3</td>\n",
       "      <td>234.0</td>\n",
       "      <td>424</td>\n",
       "    </tr>\n",
       "    <tr>\n",
       "      <th>5</th>\n",
       "      <td>10</td>\n",
       "      <td>2890000.0</td>\n",
       "      <td>30.4</td>\n",
       "      <td>2018-09-10</td>\n",
       "      <td>1</td>\n",
       "      <td>2.771499</td>\n",
       "      <td>12.0</td>\n",
       "      <td>14.4</td>\n",
       "      <td>5</td>\n",
       "      <td>False</td>\n",
       "      <td>...</td>\n",
       "      <td>9.1</td>\n",
       "      <td>0</td>\n",
       "      <td>поселок Янино-1</td>\n",
       "      <td>26726.0</td>\n",
       "      <td>13098.5</td>\n",
       "      <td>0</td>\n",
       "      <td>455.0</td>\n",
       "      <td>0</td>\n",
       "      <td>502.0</td>\n",
       "      <td>55</td>\n",
       "    </tr>\n",
       "    <tr>\n",
       "      <th>6</th>\n",
       "      <td>6</td>\n",
       "      <td>3700000.0</td>\n",
       "      <td>37.3</td>\n",
       "      <td>2017-11-02</td>\n",
       "      <td>1</td>\n",
       "      <td>2.771499</td>\n",
       "      <td>26.0</td>\n",
       "      <td>10.6</td>\n",
       "      <td>6</td>\n",
       "      <td>False</td>\n",
       "      <td>...</td>\n",
       "      <td>14.4</td>\n",
       "      <td>1</td>\n",
       "      <td>поселок Парголово</td>\n",
       "      <td>52996.0</td>\n",
       "      <td>19143.0</td>\n",
       "      <td>0</td>\n",
       "      <td>455.0</td>\n",
       "      <td>0</td>\n",
       "      <td>502.0</td>\n",
       "      <td>155</td>\n",
       "    </tr>\n",
       "    <tr>\n",
       "      <th>9</th>\n",
       "      <td>18</td>\n",
       "      <td>5400000.0</td>\n",
       "      <td>61.0</td>\n",
       "      <td>2017-02-26</td>\n",
       "      <td>3</td>\n",
       "      <td>2.500000</td>\n",
       "      <td>9.0</td>\n",
       "      <td>43.6</td>\n",
       "      <td>7</td>\n",
       "      <td>False</td>\n",
       "      <td>...</td>\n",
       "      <td>6.5</td>\n",
       "      <td>2</td>\n",
       "      <td>Санкт-Петербург</td>\n",
       "      <td>50898.0</td>\n",
       "      <td>15008.0</td>\n",
       "      <td>0</td>\n",
       "      <td>455.0</td>\n",
       "      <td>0</td>\n",
       "      <td>502.0</td>\n",
       "      <td>289</td>\n",
       "    </tr>\n",
       "    <tr>\n",
       "      <th>10</th>\n",
       "      <td>5</td>\n",
       "      <td>5050000.0</td>\n",
       "      <td>39.6</td>\n",
       "      <td>2017-11-16</td>\n",
       "      <td>1</td>\n",
       "      <td>2.670000</td>\n",
       "      <td>12.0</td>\n",
       "      <td>20.3</td>\n",
       "      <td>3</td>\n",
       "      <td>False</td>\n",
       "      <td>...</td>\n",
       "      <td>8.5</td>\n",
       "      <td>0</td>\n",
       "      <td>Санкт-Петербург</td>\n",
       "      <td>38357.0</td>\n",
       "      <td>13878.0</td>\n",
       "      <td>1</td>\n",
       "      <td>310.0</td>\n",
       "      <td>2</td>\n",
       "      <td>553.0</td>\n",
       "      <td>137</td>\n",
       "    </tr>\n",
       "    <tr>\n",
       "      <th>12</th>\n",
       "      <td>10</td>\n",
       "      <td>3890000.0</td>\n",
       "      <td>54.0</td>\n",
       "      <td>2016-06-30</td>\n",
       "      <td>2</td>\n",
       "      <td>2.771499</td>\n",
       "      <td>5.0</td>\n",
       "      <td>30.0</td>\n",
       "      <td>5</td>\n",
       "      <td>False</td>\n",
       "      <td>...</td>\n",
       "      <td>9.0</td>\n",
       "      <td>0</td>\n",
       "      <td>Сертолово</td>\n",
       "      <td>26726.0</td>\n",
       "      <td>13098.5</td>\n",
       "      <td>0</td>\n",
       "      <td>455.0</td>\n",
       "      <td>0</td>\n",
       "      <td>502.0</td>\n",
       "      <td>90</td>\n",
       "    </tr>\n",
       "    <tr>\n",
       "      <th>13</th>\n",
       "      <td>20</td>\n",
       "      <td>3550000.0</td>\n",
       "      <td>42.8</td>\n",
       "      <td>2017-07-01</td>\n",
       "      <td>2</td>\n",
       "      <td>2.560000</td>\n",
       "      <td>5.0</td>\n",
       "      <td>27.0</td>\n",
       "      <td>5</td>\n",
       "      <td>False</td>\n",
       "      <td>...</td>\n",
       "      <td>5.2</td>\n",
       "      <td>1</td>\n",
       "      <td>Петергоф</td>\n",
       "      <td>37868.0</td>\n",
       "      <td>33058.0</td>\n",
       "      <td>1</td>\n",
       "      <td>294.0</td>\n",
       "      <td>3</td>\n",
       "      <td>298.0</td>\n",
       "      <td>366</td>\n",
       "    </tr>\n",
       "    <tr>\n",
       "      <th>14</th>\n",
       "      <td>1</td>\n",
       "      <td>4400000.0</td>\n",
       "      <td>36.0</td>\n",
       "      <td>2016-06-23</td>\n",
       "      <td>1</td>\n",
       "      <td>2.771499</td>\n",
       "      <td>6.0</td>\n",
       "      <td>17.0</td>\n",
       "      <td>1</td>\n",
       "      <td>False</td>\n",
       "      <td>...</td>\n",
       "      <td>8.0</td>\n",
       "      <td>0</td>\n",
       "      <td>Пушкин</td>\n",
       "      <td>20782.0</td>\n",
       "      <td>30759.0</td>\n",
       "      <td>0</td>\n",
       "      <td>455.0</td>\n",
       "      <td>1</td>\n",
       "      <td>96.0</td>\n",
       "      <td>203</td>\n",
       "    </tr>\n",
       "  </tbody>\n",
       "</table>\n",
       "<p>10 rows × 22 columns</p>\n",
       "</div>"
      ],
      "text/plain": [
       "    total_images  last_price  total_area first_day_exposition  rooms  \\\n",
       "1              7   3350000.0        40.4           2018-12-04      1   \n",
       "2             10   5196000.0        56.0           2015-08-20      2   \n",
       "3              0  64900000.0       159.0           2015-07-24      3   \n",
       "5             10   2890000.0        30.4           2018-09-10      1   \n",
       "6              6   3700000.0        37.3           2017-11-02      1   \n",
       "9             18   5400000.0        61.0           2017-02-26      3   \n",
       "10             5   5050000.0        39.6           2017-11-16      1   \n",
       "12            10   3890000.0        54.0           2016-06-30      2   \n",
       "13            20   3550000.0        42.8           2017-07-01      2   \n",
       "14             1   4400000.0        36.0           2016-06-23      1   \n",
       "\n",
       "    ceiling_height  floors_total  living_area  floor is_apartment  ...  \\\n",
       "1         2.771499          11.0         18.6      1        False  ...   \n",
       "2         2.771499           5.0         34.3      4        False  ...   \n",
       "3         2.771499          14.0         30.0      9        False  ...   \n",
       "5         2.771499          12.0         14.4      5        False  ...   \n",
       "6         2.771499          26.0         10.6      6        False  ...   \n",
       "9         2.500000           9.0         43.6      7        False  ...   \n",
       "10        2.670000          12.0         20.3      3        False  ...   \n",
       "12        2.771499           5.0         30.0      5        False  ...   \n",
       "13        2.560000           5.0         27.0      5        False  ...   \n",
       "14        2.771499           6.0         17.0      1        False  ...   \n",
       "\n",
       "    kitchen_area  balcony      locality_name  airports_nearest  \\\n",
       "1           11.0        2     поселок Шушары           12817.0   \n",
       "2            8.3        0    Санкт-Петербург           21741.0   \n",
       "3            9.1        0    Санкт-Петербург           28098.0   \n",
       "5            9.1        0    поселок Янино-1           26726.0   \n",
       "6           14.4        1  поселок Парголово           52996.0   \n",
       "9            6.5        2    Санкт-Петербург           50898.0   \n",
       "10           8.5        0    Санкт-Петербург           38357.0   \n",
       "12           9.0        0          Сертолово           26726.0   \n",
       "13           5.2        1           Петергоф           37868.0   \n",
       "14           8.0        0             Пушкин           20782.0   \n",
       "\n",
       "   cityCenters_nearest  parks_around3000  parks_nearest  ponds_around3000  \\\n",
       "1              18603.0                 0          455.0                 0   \n",
       "2              13933.0                 1           90.0                 2   \n",
       "3               6800.0                 2           84.0                 3   \n",
       "5              13098.5                 0          455.0                 0   \n",
       "6              19143.0                 0          455.0                 0   \n",
       "9              15008.0                 0          455.0                 0   \n",
       "10             13878.0                 1          310.0                 2   \n",
       "12             13098.5                 0          455.0                 0   \n",
       "13             33058.0                 1          294.0                 3   \n",
       "14             30759.0                 0          455.0                 1   \n",
       "\n",
       "    ponds_nearest  days_exposition  \n",
       "1           502.0               81  \n",
       "2           574.0              558  \n",
       "3           234.0              424  \n",
       "5           502.0               55  \n",
       "6           502.0              155  \n",
       "9           502.0              289  \n",
       "10          553.0              137  \n",
       "12          502.0               90  \n",
       "13          298.0              366  \n",
       "14           96.0              203  \n",
       "\n",
       "[10 rows x 22 columns]"
      ]
     },
     "execution_count": 43,
     "metadata": {},
     "output_type": "execute_result"
    }
   ],
   "source": [
    "data_filter.head(10)"
   ]
  },
  {
   "cell_type": "code",
   "execution_count": 44,
   "metadata": {},
   "outputs": [
    {
     "name": "stdout",
     "output_type": "stream",
     "text": [
      "<class 'pandas.core.frame.DataFrame'>\n",
      "Int64Index: 18244 entries, 1 to 23697\n",
      "Data columns (total 22 columns):\n",
      " #   Column                Non-Null Count  Dtype         \n",
      "---  ------                --------------  -----         \n",
      " 0   total_images          18244 non-null  int64         \n",
      " 1   last_price            18244 non-null  float64       \n",
      " 2   total_area            18244 non-null  float64       \n",
      " 3   first_day_exposition  18244 non-null  datetime64[ns]\n",
      " 4   rooms                 18244 non-null  int64         \n",
      " 5   ceiling_height        18244 non-null  float64       \n",
      " 6   floors_total          18244 non-null  float64       \n",
      " 7   living_area           18244 non-null  float64       \n",
      " 8   floor                 18244 non-null  int64         \n",
      " 9   is_apartment          18244 non-null  object        \n",
      " 10  studio                18244 non-null  bool          \n",
      " 11  open_plan             18244 non-null  bool          \n",
      " 12  kitchen_area          18244 non-null  float64       \n",
      " 13  balcony               18244 non-null  int64         \n",
      " 14  locality_name         18201 non-null  object        \n",
      " 15  airports_nearest      18244 non-null  float64       \n",
      " 16  cityCenters_nearest   18244 non-null  float64       \n",
      " 17  parks_around3000      18244 non-null  int64         \n",
      " 18  parks_nearest         18244 non-null  float64       \n",
      " 19  ponds_around3000      18244 non-null  int64         \n",
      " 20  ponds_nearest         18244 non-null  float64       \n",
      " 21  days_exposition       18244 non-null  int64         \n",
      "dtypes: bool(2), datetime64[ns](1), float64(10), int64(7), object(2)\n",
      "memory usage: 3.0+ MB\n"
     ]
    }
   ],
   "source": [
    "data_filter.info()"
   ]
  },
  {
   "cell_type": "code",
   "execution_count": 45,
   "metadata": {},
   "outputs": [
    {
     "data": {
      "image/png": "[encoded data removed]",
      "text/plain": [
       "<Figure size 432x288 with 1 Axes>"
      ]
     },
     "metadata": {
      "needs_background": "light"
     },
     "output_type": "display_data"
    }
   ],
   "source": [
    "data_filter.boxplot(column=['rooms','floor', 'balcony'])\n",
    "plt.ylim(0, 10)\n",
    "plt.show()"
   ]
  },
  {
   "cell_type": "code",
   "execution_count": 46,
   "metadata": {},
   "outputs": [
    {
     "data": {
      "text/plain": [
       "<AxesSubplot:>"
      ]
     },
     "execution_count": 46,
     "metadata": {},
     "output_type": "execute_result"
    },
    {
     "data": {
      "image/png": "[encoded data removed]",
      "text/plain": [
       "<Figure size 432x288 with 1 Axes>"
      ]
     },
     "metadata": {
      "needs_background": "light"
     },
     "output_type": "display_data"
    }
   ],
   "source": [
    "data_filter.boxplot(column=['ceiling_height'])"
   ]
  },
  {
   "cell_type": "code",
   "execution_count": 47,
   "metadata": {},
   "outputs": [
    {
     "name": "stdout",
     "output_type": "stream",
     "text": [
      "<class 'pandas.core.frame.DataFrame'>\n",
      "Int64Index: 18244 entries, 1 to 23697\n",
      "Data columns (total 22 columns):\n",
      " #   Column                Non-Null Count  Dtype         \n",
      "---  ------                --------------  -----         \n",
      " 0   total_images          18244 non-null  int32         \n",
      " 1   last_price            18244 non-null  float32       \n",
      " 2   total_area            18244 non-null  float32       \n",
      " 3   first_day_exposition  18244 non-null  datetime64[ns]\n",
      " 4   rooms                 18244 non-null  int32         \n",
      " 5   ceiling_height        18244 non-null  float32       \n",
      " 6   floors_total          18244 non-null  float32       \n",
      " 7   living_area           18244 non-null  float32       \n",
      " 8   floor                 18244 non-null  int32         \n",
      " 9   is_apartment          18244 non-null  object        \n",
      " 10  studio                18244 non-null  bool          \n",
      " 11  open_plan             18244 non-null  bool          \n",
      " 12  kitchen_area          18244 non-null  float32       \n",
      " 13  balcony               18244 non-null  int32         \n",
      " 14  locality_name         18201 non-null  object        \n",
      " 15  airports_nearest      18244 non-null  float32       \n",
      " 16  cityCenters_nearest   18244 non-null  float32       \n",
      " 17  parks_around3000      18244 non-null  int32         \n",
      " 18  parks_nearest         18244 non-null  float32       \n",
      " 19  ponds_around3000      18244 non-null  int32         \n",
      " 20  ponds_nearest         18244 non-null  float32       \n",
      " 21  days_exposition       18244 non-null  int32         \n",
      "dtypes: bool(2), datetime64[ns](1), float32(10), int32(7), object(2)\n",
      "memory usage: 1.8+ MB\n"
     ]
    }
   ],
   "source": [
    "data_filter['total_images'] = data_filter['total_images'].astype('int32')\n",
    "data_filter['last_price'] = data_filter['last_price'].astype('float32')\n",
    "data_filter['total_area'] = data_filter['total_area'].astype('float32')\n",
    "data_filter['rooms'] = data_filter['rooms'].astype('int32')\n",
    "data_filter['ceiling_height'] = data_filter['ceiling_height'].astype('float32')\n",
    "data_filter['floors_total'] = data_filter['floors_total'].astype('float32')\n",
    "data_filter['living_area'] = data_filter['living_area'].astype('float32')\n",
    "data_filter['floor'] = data_filter['floor'].astype('int32')\n",
    "data_filter['kitchen_area'] = data_filter['kitchen_area'].astype('float32')\n",
    "data_filter['balcony'] = data_filter['balcony'].astype('int32')\n",
    "data_filter['airports_nearest'] = data_filter['airports_nearest'].astype('float32')\n",
    "data_filter['cityCenters_nearest'] = data_filter['cityCenters_nearest'].astype('float32')\n",
    "data_filter['parks_around3000'] = data_filter['parks_around3000'].astype('int32')\n",
    "data_filter['parks_nearest'] = data_filter['parks_nearest'].astype('float32')\n",
    "data_filter['ponds_around3000'] = data_filter['ponds_around3000'].astype('int32')\n",
    "data_filter['ponds_nearest'] = data_filter['ponds_nearest'].astype('float32')\n",
    "data_filter['days_exposition'] = data_filter['days_exposition'].astype('int32')\n",
    "            \n",
    "data_filter.info()"
   ]
  },
  {
   "cell_type": "markdown",
   "metadata": {},
   "source": [
    "### Посчитайте и добавьте в таблицу новые столбцы"
   ]
  },
  {
   "cell_type": "code",
   "execution_count": 48,
   "metadata": {},
   "outputs": [],
   "source": [
    "# посчитано и добавлено в таблицу: цена одного квадратного метра\n",
    "data_filter['price_per_metr'] = data_filter['last_price'] / data_filter['total_area']\n",
    "data_filter['price_per_metr'] = data_filter['price_per_metr'].astype('int') # визуально удобнее с типом 'int'"
   ]
  },
  {
   "cell_type": "code",
   "execution_count": 49,
   "metadata": {},
   "outputs": [],
   "source": [
    "# посчитано и добавлено в таблицу: день публикации объявления (0 - понедельник, 1 - вторник и т.д.)\n",
    "data_filter['days_publication'] = data_filter['first_day_exposition'].dt.weekday"
   ]
  },
  {
   "cell_type": "code",
   "execution_count": 50,
   "metadata": {},
   "outputs": [],
   "source": [
    "# посчитано и добавлено в таблицу: месяц публикации объявления\n",
    "data_filter['month_publication'] = data_filter['first_day_exposition'].dt.month"
   ]
  },
  {
   "cell_type": "code",
   "execution_count": 51,
   "metadata": {},
   "outputs": [],
   "source": [
    "# посчитано и добавлено в таблицу: год публикации объявления\n",
    "data_filter['year_publication'] = data_filter['first_day_exposition'].dt.year"
   ]
  },
  {
   "cell_type": "code",
   "execution_count": 52,
   "metadata": {},
   "outputs": [],
   "source": [
    "# посчитано и добавлено в таблицу: тип этажа квартиры (значения — «первый», «последний», «другой»)\n",
    "def type_flat(row):\n",
    "\n",
    "    floor = row['floor']\n",
    "    floors_total = row['floors_total']\n",
    "\n",
    "    if floor == 1:\n",
    "        return 'первый'\n",
    "    elif floor == floors_total:\n",
    "        return 'последний'\n",
    " \n",
    "    return 'другой'\n",
    "data_filter['type_flat'] = data_filter.apply(type_flat, axis=1)"
   ]
  },
  {
   "cell_type": "code",
   "execution_count": 53,
   "metadata": {},
   "outputs": [],
   "source": [
    "# посчитано и добавлено в таблицу: расстояние в км до центра города\n",
    "data_filter['km_cityCenters_nearest'] = data_filter['cityCenters_nearest'] / 1000\n",
    "data_filter['km_cityCenters_nearest'] = data_filter['km_cityCenters_nearest'].astype('int')"
   ]
  },
  {
   "cell_type": "code",
   "execution_count": 54,
   "metadata": {},
   "outputs": [
    {
     "data": {
      "text/html": [
       "<div>\n",
       "<style scoped>\n",
       "    .dataframe tbody tr th:only-of-type {\n",
       "        vertical-align: middle;\n",
       "    }\n",
       "\n",
       "    .dataframe tbody tr th {\n",
       "        vertical-align: top;\n",
       "    }\n",
       "\n",
       "    .dataframe thead th {\n",
       "        text-align: right;\n",
       "    }\n",
       "</style>\n",
       "<table border=\"1\" class=\"dataframe\">\n",
       "  <thead>\n",
       "    <tr style=\"text-align: right;\">\n",
       "      <th></th>\n",
       "      <th>total_images</th>\n",
       "      <th>last_price</th>\n",
       "      <th>total_area</th>\n",
       "      <th>first_day_exposition</th>\n",
       "      <th>rooms</th>\n",
       "      <th>ceiling_height</th>\n",
       "      <th>floors_total</th>\n",
       "      <th>living_area</th>\n",
       "      <th>floor</th>\n",
       "      <th>is_apartment</th>\n",
       "      <th>...</th>\n",
       "      <th>parks_nearest</th>\n",
       "      <th>ponds_around3000</th>\n",
       "      <th>ponds_nearest</th>\n",
       "      <th>days_exposition</th>\n",
       "      <th>price_per_metr</th>\n",
       "      <th>days_publication</th>\n",
       "      <th>month_publication</th>\n",
       "      <th>year_publication</th>\n",
       "      <th>type_flat</th>\n",
       "      <th>km_cityCenters_nearest</th>\n",
       "    </tr>\n",
       "  </thead>\n",
       "  <tbody>\n",
       "    <tr>\n",
       "      <th>1</th>\n",
       "      <td>7</td>\n",
       "      <td>3350000.0</td>\n",
       "      <td>40.400002</td>\n",
       "      <td>2018-12-04</td>\n",
       "      <td>1</td>\n",
       "      <td>2.771499</td>\n",
       "      <td>11.0</td>\n",
       "      <td>18.600000</td>\n",
       "      <td>1</td>\n",
       "      <td>False</td>\n",
       "      <td>...</td>\n",
       "      <td>455.0</td>\n",
       "      <td>0</td>\n",
       "      <td>502.0</td>\n",
       "      <td>81</td>\n",
       "      <td>82920</td>\n",
       "      <td>1</td>\n",
       "      <td>12</td>\n",
       "      <td>2018</td>\n",
       "      <td>первый</td>\n",
       "      <td>18</td>\n",
       "    </tr>\n",
       "    <tr>\n",
       "      <th>2</th>\n",
       "      <td>10</td>\n",
       "      <td>5196000.0</td>\n",
       "      <td>56.000000</td>\n",
       "      <td>2015-08-20</td>\n",
       "      <td>2</td>\n",
       "      <td>2.771499</td>\n",
       "      <td>5.0</td>\n",
       "      <td>34.299999</td>\n",
       "      <td>4</td>\n",
       "      <td>False</td>\n",
       "      <td>...</td>\n",
       "      <td>90.0</td>\n",
       "      <td>2</td>\n",
       "      <td>574.0</td>\n",
       "      <td>558</td>\n",
       "      <td>92785</td>\n",
       "      <td>3</td>\n",
       "      <td>8</td>\n",
       "      <td>2015</td>\n",
       "      <td>другой</td>\n",
       "      <td>13</td>\n",
       "    </tr>\n",
       "    <tr>\n",
       "      <th>3</th>\n",
       "      <td>0</td>\n",
       "      <td>64900000.0</td>\n",
       "      <td>159.000000</td>\n",
       "      <td>2015-07-24</td>\n",
       "      <td>3</td>\n",
       "      <td>2.771499</td>\n",
       "      <td>14.0</td>\n",
       "      <td>30.000000</td>\n",
       "      <td>9</td>\n",
       "      <td>False</td>\n",
       "      <td>...</td>\n",
       "      <td>84.0</td>\n",
       "      <td>3</td>\n",
       "      <td>234.0</td>\n",
       "      <td>424</td>\n",
       "      <td>408176</td>\n",
       "      <td>4</td>\n",
       "      <td>7</td>\n",
       "      <td>2015</td>\n",
       "      <td>другой</td>\n",
       "      <td>6</td>\n",
       "    </tr>\n",
       "    <tr>\n",
       "      <th>5</th>\n",
       "      <td>10</td>\n",
       "      <td>2890000.0</td>\n",
       "      <td>30.400000</td>\n",
       "      <td>2018-09-10</td>\n",
       "      <td>1</td>\n",
       "      <td>2.771499</td>\n",
       "      <td>12.0</td>\n",
       "      <td>14.400000</td>\n",
       "      <td>5</td>\n",
       "      <td>False</td>\n",
       "      <td>...</td>\n",
       "      <td>455.0</td>\n",
       "      <td>0</td>\n",
       "      <td>502.0</td>\n",
       "      <td>55</td>\n",
       "      <td>95065</td>\n",
       "      <td>0</td>\n",
       "      <td>9</td>\n",
       "      <td>2018</td>\n",
       "      <td>другой</td>\n",
       "      <td>13</td>\n",
       "    </tr>\n",
       "    <tr>\n",
       "      <th>6</th>\n",
       "      <td>6</td>\n",
       "      <td>3700000.0</td>\n",
       "      <td>37.299999</td>\n",
       "      <td>2017-11-02</td>\n",
       "      <td>1</td>\n",
       "      <td>2.771499</td>\n",
       "      <td>26.0</td>\n",
       "      <td>10.600000</td>\n",
       "      <td>6</td>\n",
       "      <td>False</td>\n",
       "      <td>...</td>\n",
       "      <td>455.0</td>\n",
       "      <td>0</td>\n",
       "      <td>502.0</td>\n",
       "      <td>155</td>\n",
       "      <td>99195</td>\n",
       "      <td>3</td>\n",
       "      <td>11</td>\n",
       "      <td>2017</td>\n",
       "      <td>другой</td>\n",
       "      <td>19</td>\n",
       "    </tr>\n",
       "  </tbody>\n",
       "</table>\n",
       "<p>5 rows × 28 columns</p>\n",
       "</div>"
      ],
      "text/plain": [
       "   total_images  last_price  total_area first_day_exposition  rooms  \\\n",
       "1             7   3350000.0   40.400002           2018-12-04      1   \n",
       "2            10   5196000.0   56.000000           2015-08-20      2   \n",
       "3             0  64900000.0  159.000000           2015-07-24      3   \n",
       "5            10   2890000.0   30.400000           2018-09-10      1   \n",
       "6             6   3700000.0   37.299999           2017-11-02      1   \n",
       "\n",
       "   ceiling_height  floors_total  living_area  floor is_apartment  ...  \\\n",
       "1        2.771499          11.0    18.600000      1        False  ...   \n",
       "2        2.771499           5.0    34.299999      4        False  ...   \n",
       "3        2.771499          14.0    30.000000      9        False  ...   \n",
       "5        2.771499          12.0    14.400000      5        False  ...   \n",
       "6        2.771499          26.0    10.600000      6        False  ...   \n",
       "\n",
       "   parks_nearest  ponds_around3000  ponds_nearest  days_exposition  \\\n",
       "1          455.0                 0          502.0               81   \n",
       "2           90.0                 2          574.0              558   \n",
       "3           84.0                 3          234.0              424   \n",
       "5          455.0                 0          502.0               55   \n",
       "6          455.0                 0          502.0              155   \n",
       "\n",
       "  price_per_metr  days_publication  month_publication  year_publication  \\\n",
       "1          82920                 1                 12              2018   \n",
       "2          92785                 3                  8              2015   \n",
       "3         408176                 4                  7              2015   \n",
       "5          95065                 0                  9              2018   \n",
       "6          99195                 3                 11              2017   \n",
       "\n",
       "   type_flat  km_cityCenters_nearest  \n",
       "1     первый                      18  \n",
       "2     другой                      13  \n",
       "3     другой                       6  \n",
       "5     другой                      13  \n",
       "6     другой                      19  \n",
       "\n",
       "[5 rows x 28 columns]"
      ]
     },
     "metadata": {},
     "output_type": "display_data"
    }
   ],
   "source": [
    "display(data_filter.head())"
   ]
  },
  {
   "cell_type": "markdown",
   "metadata": {},
   "source": [
    "### Проведите исследовательский анализ данных"
   ]
  },
  {
   "cell_type": "code",
   "execution_count": 55,
   "metadata": {},
   "outputs": [
    {
     "name": "stdout",
     "output_type": "stream",
     "text": [
      "AxesSubplot(0.125,0.125;0.775x0.755)\n"
     ]
    },
    {
     "data": {
      "text/plain": [
       "count    18244.000000\n",
       "mean        55.276997\n",
       "std         26.249220\n",
       "min         12.000000\n",
       "25%         38.799999\n",
       "50%         49.000000\n",
       "75%         64.000000\n",
       "max        494.100006\n",
       "Name: total_area, dtype: float64"
      ]
     },
     "execution_count": 55,
     "metadata": {},
     "output_type": "execute_result"
    },
    {
     "data": {
      "image/png": "[encoded data removed]",
      "text/plain": [
       "<Figure size 504x360 with 1 Axes>"
      ]
     },
     "metadata": {
      "needs_background": "light"
     },
     "output_type": "display_data"
    }
   ],
   "source": [
    "# изучены и описаны следующие параметры: общая площадь  \n",
    "ax = data_filter.plot(y='total_area', kind='hist', title='Общая площадь', grid=True, bins=100, range = (0,500), figsize = (7,5))\n",
    "ax.set_ylabel('Площадь')\n",
    "ax.set_xlabel('Количество квартир')\n",
    "print(ax)\n",
    "data_filter['total_area'].describe()"
   ]
  },
  {
   "cell_type": "markdown",
   "metadata": {},
   "source": [
    "Судя по графику большинство квартир имеют площадь 30-58 кв. метров при средней площади 51.2 или медианной площади 58.9). Распределение данных по графику нормальное (Гаусса). Есть выбросы, но не значительные. Впринципе по рынку если смотреть то без аномалий. Потребность высокая на квартиры есть всегда площадью 30-58. Все что выше уже меньше спрос и ниже 30 (это личное мнение из опыта). "
   ]
  },
  {
   "cell_type": "code",
   "execution_count": 56,
   "metadata": {},
   "outputs": [
    {
     "name": "stdout",
     "output_type": "stream",
     "text": [
      "AxesSubplot(0.125,0.125;0.775x0.755)\n"
     ]
    },
    {
     "data": {
      "text/plain": [
       "count    18244.000000\n",
       "mean        31.184736\n",
       "std         15.737131\n",
       "min          2.000000\n",
       "25%         18.500000\n",
       "50%         30.000000\n",
       "75%         38.000000\n",
       "max        248.699997\n",
       "Name: living_area, dtype: float64"
      ]
     },
     "execution_count": 56,
     "metadata": {},
     "output_type": "execute_result"
    },
    {
     "data": {
      "image/png": "[encoded data removed]",
      "text/plain": [
       "<Figure size 504x360 with 1 Axes>"
      ]
     },
     "metadata": {
      "needs_background": "light"
     },
     "output_type": "display_data"
    }
   ],
   "source": [
    "# изучены и описаны следующие параметры: жилая площадь\n",
    "ax = data_filter.plot(y='living_area', kind='hist', title='Жилая площадь', grid=True, bins=100, range = (0,300), figsize = (7,5))\n",
    "ax.set_ylabel('Площадь')\n",
    "ax.set_xlabel('Количество')\n",
    "print(ax)\n",
    "data_filter['living_area'].describe()"
   ]
  },
  {
   "cell_type": "markdown",
   "metadata": {},
   "source": [
    "Больше всего квартир с жилой площадью 30 квадратов. Эта же цифра является средней, медианна равна 33 квадратам. Считаю, что данные верные и находятся в одной логике в общей площадью, где большинство квартир как раз находятся в интервале до 58 квадратов в которые как раз входят 30 квадратов жилое, остальная площадь в нежилое (кухня, санузел и тд. Надо ниже посмотреть что по кухне. "
   ]
  },
  {
   "cell_type": "code",
   "execution_count": 57,
   "metadata": {},
   "outputs": [
    {
     "name": "stdout",
     "output_type": "stream",
     "text": [
      "AxesSubplot(0.125,0.125;0.775x0.755)\n"
     ]
    },
    {
     "data": {
      "text/plain": [
       "count    18244.000000\n",
       "mean         9.897406\n",
       "std          4.511592\n",
       "min          2.000000\n",
       "25%          7.100000\n",
       "50%          9.100000\n",
       "75%         11.000000\n",
       "max         77.000000\n",
       "Name: kitchen_area, dtype: float64"
      ]
     },
     "execution_count": 57,
     "metadata": {},
     "output_type": "execute_result"
    },
    {
     "data": {
      "image/png": "[encoded data removed]",
      "text/plain": [
       "<Figure size 504x360 with 1 Axes>"
      ]
     },
     "metadata": {
      "needs_background": "light"
     },
     "output_type": "display_data"
    }
   ],
   "source": [
    "# изучены и описаны следующие параметры: площадь кухни\n",
    "ax = data_filter.plot(y='kitchen_area', kind='hist', title='Площадь кухни', grid=True, bins=30, range = (0,80), figsize = (7,5))\n",
    "ax.set_ylabel('Площадь')\n",
    "ax.set_xlabel('Количество')\n",
    "print(ax)\n",
    "data_filter['kitchen_area'].describe()"
   ]
  },
  {
   "cell_type": "markdown",
   "metadata": {},
   "source": [
    "С площадью кухни тоже ничего не обычного, самый \"популярный\" размер около 10 кв.метров, что также входят во всю вышеуказанную логику по общей площади и по жилой площади. "
   ]
  },
  {
   "cell_type": "code",
   "execution_count": 58,
   "metadata": {},
   "outputs": [
    {
     "name": "stdout",
     "output_type": "stream",
     "text": [
      "AxesSubplot(0.125,0.125;0.775x0.755)\n"
     ]
    },
    {
     "data": {
      "text/plain": [
       "count        18244.0\n",
       "mean       5477733.0\n",
       "std        6332983.5\n",
       "min         430000.0\n",
       "25%        3300000.0\n",
       "50%        4350000.0\n",
       "75%        6000000.0\n",
       "max      401300000.0\n",
       "Name: last_price, dtype: float64"
      ]
     },
     "execution_count": 58,
     "metadata": {},
     "output_type": "execute_result"
    },
    {
     "data": {
      "image/png": "[encoded data removed]",
      "text/plain": [
       "<Figure size 504x360 with 1 Axes>"
      ]
     },
     "metadata": {
      "needs_background": "light"
     },
     "output_type": "display_data"
    }
   ],
   "source": [
    "# изучены и описаны следующие параметры: цена объекта\n",
    "\n",
    "ax = data_filter.plot(y='last_price', kind='hist', title='Цена объекта', grid=True, bins=50, range = (0,15000000), figsize = (7,5))\n",
    "ax.set_ylabel('Количество')\n",
    "ax.set_xlabel('Цена')\n",
    "print(ax)\n",
    "data_filter['last_price'].describe()"
   ]
  },
  {
   "cell_type": "code",
   "execution_count": 59,
   "metadata": {},
   "outputs": [
    {
     "name": "stdout",
     "output_type": "stream",
     "text": [
      "AxesSubplot(0.125,0.125;0.775x0.755)\n"
     ]
    },
    {
     "data": {
      "image/png": "[encoded data removed]",
      "text/plain": [
       "<Figure size 432x288 with 1 Axes>"
      ]
     },
     "metadata": {
      "needs_background": "light"
     },
     "output_type": "display_data"
    }
   ],
   "source": [
    "new_df = data_filter.copy()\n",
    "\n",
    "new_df['last_price'] = new_df['last_price'] / 1000000\n",
    "\n",
    "ax = new_df.plot(y='last_price', kind='hist', title='Цена объекта', grid=True, bins=100, range=(0, new_df['last_price'].median()*10))\n",
    "ax.set_ylabel('Количество')\n",
    "ax.set_xlabel('Цена')\n",
    "print(ax)"
   ]
  },
  {
   "cell_type": "code",
   "execution_count": 60,
   "metadata": {},
   "outputs": [
    {
     "name": "stdout",
     "output_type": "stream",
     "text": [
      "AxesSubplot(0.125,0.125;0.775x0.755)\n"
     ]
    },
    {
     "data": {
      "image/png": "[encoded data removed]",
      "text/plain": [
       "<Figure size 360x360 with 1 Axes>"
      ]
     },
     "metadata": {
      "needs_background": "light"
     },
     "output_type": "display_data"
    }
   ],
   "source": [
    "ax = data['last_price'].hist(range = (0, 15000000), figsize=(5, 5))\n",
    "ax.set_ylabel('Количество')\n",
    "ax.set_xlabel('Цена')\n",
    "print(ax)"
   ]
  },
  {
   "cell_type": "markdown",
   "metadata": {},
   "source": [
    "С ценой оценить сложно. Данные распределяются нормально (Гаусс), но выдаются в значениях метода describe. При просмотре данных с таблицы describe можно сделать вывод, что средняя цена на квартиру равна 6,25 млн. рублей. "
   ]
  },
  {
   "cell_type": "markdown",
   "metadata": {},
   "source": []
  },
  {
   "cell_type": "code",
   "execution_count": 61,
   "metadata": {},
   "outputs": [
    {
     "name": "stdout",
     "output_type": "stream",
     "text": [
      "AxesSubplot(0.125,0.125;0.775x0.755)\n"
     ]
    },
    {
     "data": {
      "text/plain": [
       "count    18244.000000\n",
       "mean         1.940912\n",
       "std          0.942294\n",
       "min          0.000000\n",
       "25%          1.000000\n",
       "50%          2.000000\n",
       "75%          3.000000\n",
       "max          6.000000\n",
       "Name: rooms, dtype: float64"
      ]
     },
     "execution_count": 61,
     "metadata": {},
     "output_type": "execute_result"
    },
    {
     "data": {
      "image/png": "[encoded data removed]",
      "text/plain": [
       "<Figure size 504x360 with 1 Axes>"
      ]
     },
     "metadata": {
      "needs_background": "light"
     },
     "output_type": "display_data"
    }
   ],
   "source": [
    "# изучены и описаны следующие параметры: количество комнат\n",
    "ax = data_filter.plot(y='rooms', kind='hist', title='Количество комнат', grid=True, bins=10, range = (0,10), figsize = (7,5))\n",
    "ax.set_ylabel('Количество квартир')\n",
    "ax.set_xlabel('Количество комнат')\n",
    "print(ax)\n",
    "data_filter['rooms'].describe()"
   ]
  },
  {
   "cell_type": "markdown",
   "metadata": {},
   "source": [
    "По количеству комнат данные укладываются в нашу общую логику с площадью. Как правило квартиры с площадью 59 кв.м (самая популярная) имеют 2 или 3 комнаты (тоже самое популярное количество). "
   ]
  },
  {
   "cell_type": "code",
   "execution_count": 62,
   "metadata": {},
   "outputs": [
    {
     "name": "stdout",
     "output_type": "stream",
     "text": [
      "AxesSubplot(0.125,0.125;0.775x0.755)\n"
     ]
    },
    {
     "data": {
      "text/plain": [
       "count    18244.000000\n",
       "mean         2.703206\n",
       "std          0.127843\n",
       "min          2.000000\n",
       "25%          2.600000\n",
       "50%          2.771499\n",
       "75%          2.771499\n",
       "max          3.000000\n",
       "Name: ceiling_height, dtype: float64"
      ]
     },
     "execution_count": 62,
     "metadata": {},
     "output_type": "execute_result"
    },
    {
     "data": {
      "image/png": "[encoded data removed]",
      "text/plain": [
       "<Figure size 504x360 with 1 Axes>"
      ]
     },
     "metadata": {
      "needs_background": "light"
     },
     "output_type": "display_data"
    }
   ],
   "source": [
    "# изучены и описаны следующие параметры: высота потолков\n",
    "ax = data_filter.plot(y='ceiling_height', kind='hist', title='Высота потолков', grid=True, bins=30, range = (0,5), figsize = (7,5))\n",
    "ax.set_ylabel('Количество квартир')\n",
    "ax.set_xlabel('Высота')\n",
    "print(ax)\n",
    "data_filter['ceiling_height'].describe()"
   ]
  },
  {
   "cell_type": "markdown",
   "metadata": {},
   "source": [
    "Можно сделать вывод, что по высоте потолков квартиры стандартны и имеют в основном высоту в 2.7 м. Есть некоторые варианты выше, но они слишком малы."
   ]
  },
  {
   "cell_type": "code",
   "execution_count": 63,
   "metadata": {},
   "outputs": [
    {
     "name": "stdout",
     "output_type": "stream",
     "text": [
      "AxesSubplot(0.125,0.125;0.775x0.755)\n"
     ]
    },
    {
     "data": {
      "text/plain": [
       "count    18244.000000\n",
       "mean         6.013210\n",
       "std          4.844079\n",
       "min          1.000000\n",
       "25%          2.000000\n",
       "50%          5.000000\n",
       "75%          8.000000\n",
       "max         24.000000\n",
       "Name: floor, dtype: float64"
      ]
     },
     "execution_count": 63,
     "metadata": {},
     "output_type": "execute_result"
    },
    {
     "data": {
      "image/png": "[encoded data removed]",
      "text/plain": [
       "<Figure size 504x360 with 1 Axes>"
      ]
     },
     "metadata": {
      "needs_background": "light"
     },
     "output_type": "display_data"
    }
   ],
   "source": [
    "# изучены и описаны следующие параметры: этаж квартиры\n",
    "ax = data_filter.plot(y='floor', kind='hist', title='Этаж', grid=True, bins=10, range = (0,24), figsize = (7,5))\n",
    "ax.set_ylabel('Количество квартир')\n",
    "ax.set_xlabel('Этаж')\n",
    "print(ax)\n",
    "data_filter['floor'].describe()"
   ]
  },
  {
   "cell_type": "markdown",
   "metadata": {},
   "source": [
    "Можно сказать, что квартиры в основном размещены на нижних этажах. Самый популярный 1-2 этаж. Дальше квартиры идут по убыванию судя по графику при возрастании этажа. Можно предположить, что высокие дома (выше 14 этажа) реже встречаются, чем дома ниже. Эту гипотезу мы докажем ниже когда рассмотрим график с количеством этажей в домах. \n",
    "Дополнительно хочется отметить, что есть большое число квартир с 0 этажем. Нужно уточнить это у поставщика данных. "
   ]
  },
  {
   "cell_type": "code",
   "execution_count": 64,
   "metadata": {},
   "outputs": [
    {
     "ename": "NameError",
     "evalue": "name 'type_flat_sum' is not defined",
     "output_type": "error",
     "traceback": [
      "\u001b[0;31m---------------------------------------------------------------------------\u001b[0m",
      "\u001b[0;31mNameError\u001b[0m                                 Traceback (most recent call last)",
      "\u001b[0;32m/tmp/ipykernel_32/2361452270.py\u001b[0m in \u001b[0;36m<module>\u001b[0;34m\u001b[0m\n\u001b[1;32m      1\u001b[0m \u001b[0;31m# изучены и описаны следующие параметры: тип этажа квартиры («первый», «последний», «другой»)\u001b[0m\u001b[0;34m\u001b[0m\u001b[0;34m\u001b[0m\u001b[0;34m\u001b[0m\u001b[0m\n\u001b[1;32m      2\u001b[0m \u001b[0mdata_filter_type_flat_sum\u001b[0m \u001b[0;34m=\u001b[0m \u001b[0mdata_filter\u001b[0m\u001b[0;34m[\u001b[0m\u001b[0;34m'type_flat'\u001b[0m\u001b[0;34m]\u001b[0m\u001b[0;34m.\u001b[0m\u001b[0mvalue_counts\u001b[0m\u001b[0;34m(\u001b[0m\u001b[0;34m)\u001b[0m\u001b[0;34m\u001b[0m\u001b[0;34m\u001b[0m\u001b[0m\n\u001b[0;32m----> 3\u001b[0;31m \u001b[0mtype_flat_sum\u001b[0m\u001b[0;34m.\u001b[0m\u001b[0mplot\u001b[0m\u001b[0;34m.\u001b[0m\u001b[0mbar\u001b[0m\u001b[0;34m(\u001b[0m\u001b[0mx\u001b[0m\u001b[0;34m=\u001b[0m\u001b[0mtype_flat\u001b[0m\u001b[0;34m,\u001b[0m \u001b[0my\u001b[0m\u001b[0;34m=\u001b[0m\u001b[0mtype_flat_sum\u001b[0m\u001b[0;34m)\u001b[0m\u001b[0;34m\u001b[0m\u001b[0;34m\u001b[0m\u001b[0m\n\u001b[0m\u001b[1;32m      4\u001b[0m \u001b[0mdata_filter\u001b[0m\u001b[0;34m[\u001b[0m\u001b[0;34m'type_flat'\u001b[0m\u001b[0;34m]\u001b[0m\u001b[0;34m.\u001b[0m\u001b[0mdescribe\u001b[0m\u001b[0;34m(\u001b[0m\u001b[0;34m)\u001b[0m\u001b[0;34m\u001b[0m\u001b[0;34m\u001b[0m\u001b[0m\n",
      "\u001b[0;31mNameError\u001b[0m: name 'type_flat_sum' is not defined"
     ]
    }
   ],
   "source": [
    "# изучены и описаны следующие параметры: тип этажа квартиры («первый», «последний», «другой»)\n",
    "data_filter_type_flat_sum = data_filter['type_flat'].value_counts()\n",
    "type_flat_sum.plot.bar(x=type_flat, y=type_flat_sum)\n",
    "data_filter['type_flat'].describe()"
   ]
  },
  {
   "cell_type": "markdown",
   "metadata": {},
   "source": [
    "Здесь указывает , что в основном квартиры продаются с 2 этажа и до предпоследнего. Расхождение с 1 этажом по это гистограмме с гистограммой по этажам квартиры возможно изза ситуации с 0 этажом. Здесь нужно разбираться. "
   ]
  },
  {
   "cell_type": "code",
   "execution_count": null,
   "metadata": {},
   "outputs": [],
   "source": [
    "# изучены и описаны следующие параметры: общее количество этажей в доме\n",
    "ax = data_filter.plot(y='floors_total', kind='hist', title='Количество этажей', grid=True, bins=10, range = (0,40), figsize = (7,5))\n",
    "ax.set_ylabel('Количество квартир')\n",
    "ax.set_xlabel('Всего этажей в доме')\n",
    "print(ax)\n",
    "data_filter['floors_total'].describe()"
   ]
  },
  {
   "cell_type": "markdown",
   "metadata": {},
   "source": [
    "Судя по этому графику я могу точно сделать окончательный вывод, указанный выше. Большинство домов даже ниже 14 этажей, поэтому и квартиры расположенные выше 14 этажа меньше в обьявлениях на продажу. "
   ]
  },
  {
   "cell_type": "code",
   "execution_count": null,
   "metadata": {},
   "outputs": [],
   "source": [
    "# изучены и описаны следующие параметры: расстояние до центра города в метрах\n",
    "ax = data_filter.plot(y='cityCenters_nearest', kind='hist', title='До центра города', grid=True, bins=50, range = (0,50000), figsize = (7,5))\n",
    "ax.set_ylabel('Количество квартир')\n",
    "ax.set_xlabel('Расстояние')\n",
    "print(ax)\n",
    "data_filter['cityCenters_nearest'].describe()"
   ]
  },
  {
   "cell_type": "markdown",
   "metadata": {},
   "source": [
    "В основном квартиры в продаже размещены в 13 км от центра. Есть и ближе, но основные обьявления именно в этом диапазоне. Думаю можно сказать, что квартиры сконцентрированы в одном районе. "
   ]
  },
  {
   "cell_type": "code",
   "execution_count": null,
   "metadata": {},
   "outputs": [],
   "source": [
    "# изучены и описаны следующие параметры: расстояние до ближайшего аэропорта\n",
    "ax = data_filter.plot(y='airports_nearest', kind='hist', title='До аэропорта', grid=True, bins=50, range = (0,70000), figsize = (7,5))\n",
    "ax.set_ylabel('Количество квартир')\n",
    "ax.set_xlabel('Расстояние')\n",
    "print(ax)\n",
    "data_filter['airports_nearest'].describe()"
   ]
  },
  {
   "cell_type": "markdown",
   "metadata": {},
   "source": [
    "Исходя из размещения большого количества квартир в одном районе (как гипотеза) логично что и равномерное количество квартир будет размещено в одинаковом расстоянии от аэропорта. Среднее размещение 28 км от аэропорта. Выходит пока , что большинство квартир находятся в 13 км от центра и 28 км от аэропорта. "
   ]
  },
  {
   "cell_type": "code",
   "execution_count": null,
   "metadata": {},
   "outputs": [],
   "source": [
    "# изучены и описаны следующие параметры: расстояние до ближайшего парка\n",
    "ax = data_filter.plot(y='parks_nearest', kind='hist', title='До парка', grid=True, bins=30, range = (0,1000), figsize = (7,5))\n",
    "ax.set_ylabel('Количество квартир')\n",
    "ax.set_xlabel('Расстояние')\n",
    "print(ax)\n",
    "data_filter['parks_nearest'].describe()"
   ]
  },
  {
   "cell_type": "markdown",
   "metadata": {},
   "source": [
    "То же самое можно сказать и про расстояние до парка. Среднее и медианное значение 449 и 455 м. Большинство квартир очень удобно расположены."
   ]
  },
  {
   "cell_type": "code",
   "execution_count": null,
   "metadata": {},
   "outputs": [],
   "source": [
    "display(data_filter.head())"
   ]
  },
  {
   "cell_type": "code",
   "execution_count": null,
   "metadata": {},
   "outputs": [],
   "source": [
    "# изучены и описаны следующие параметры: день публикации объявления\n",
    "days_publication_sum = data_filter['days_publication'].value_counts()\n",
    "\n",
    "\n",
    "ax = days_publication_sum.plot.bar(x='days_publication', y=days_publication_sum)\n",
    "ax.set_ylabel('Количество квартир')\n",
    "ax.set_xlabel('День публикации')\n",
    "print(ax)\n",
    "data_filter['days_publication'].describe()"
   ]
  },
  {
   "cell_type": "markdown",
   "metadata": {},
   "source": [
    "По графику видно, что обьявления о продаже в основном выкладывали в четверг, но разница между днями недели не большая. Реже всего в выходные люди вкладывали свои обьявления. Понятно чем люди занимаются на работе :)"
   ]
  },
  {
   "cell_type": "code",
   "execution_count": null,
   "metadata": {},
   "outputs": [],
   "source": [
    "# изучены и описаны следующие параметры: месяц публикации объявления\n",
    "\n",
    "month_publication_sum = data_filter['month_publication'].value_counts()\n",
    "\n",
    "ax = month_publication_sum.plot.bar(x='month_publication', y=month_publication_sum)\n",
    "ax.set_ylabel('Количество квартир')\n",
    "ax.set_xlabel('Месяц публикации')\n",
    "print(ax)\n",
    "data_filter['month_publication'].describe()"
   ]
  },
  {
   "cell_type": "markdown",
   "metadata": {},
   "source": [
    "Тут явно выражена тенденция к продаже квартир либо в начале года , либо в конце. Причем равно как первый месяц так и последний месяц года, когда в основном все либо в поготовке к новому году, либо только входят в новый год, обьявлений выложено меньше. "
   ]
  },
  {
   "cell_type": "code",
   "execution_count": null,
   "metadata": {},
   "outputs": [],
   "source": [
    "# \"Изучите, как быстро продавались квартиры (столбец days_exposition). Этот параметр показывает, \n",
    "#сколько дней «висело» каждое объявление.\n",
    "\n",
    "data_filter['days_exposition'].hist(bins=50, range=(0, 999))\n",
    "data_filter['days_exposition'].describe()"
   ]
  },
  {
   "cell_type": "code",
   "execution_count": null,
   "metadata": {},
   "outputs": [],
   "source": [
    "plt.boxplot(data_filter['days_exposition'])\n",
    "plt.ylim(0,1000)"
   ]
  },
  {
   "cell_type": "code",
   "execution_count": null,
   "metadata": {},
   "outputs": [],
   "source": [
    "data_filter.plot(y='days_exposition', bins=30, kind='hist', grid=True, range=(0,1000), figsize=(12, 5))"
   ]
  },
  {
   "cell_type": "markdown",
   "metadata": {},
   "source": [
    "Исходя из данных, полученных из графиков средний срок сколько висит обьявление до продажи 144 дня, медианна составляет 71 день. Есть большой перечень квартир реализованные сразу же как было выставлено обьявление. На этот показатель возможно повлиял тот факт, что мы заполнили пропуски \"0\" в предобработке. Поэтому результат \"скоростной\" продажи выше реального. Но если мы даже уберем показатель \"0\", все равно большое число квартир продается в 1 день размещения. Можно сказать, что квартиры реализуются быстро на сервисе Яндекс.Недвижимость. Есть квартиры которые висят 999 дней, но считаю скорее что это аномалия. Судя по \"ящику с усами\" есть большое количество \"выбросов\" за 500 дней. Возможно стоить уточнить у поставика данных об этих квартирах. "
   ]
  },
  {
   "cell_type": "code",
   "execution_count": null,
   "metadata": {},
   "outputs": [],
   "source": [
    "#\"Какие факторы больше всего влияют на общую (полную) стоимость объекта? Постройте графики, которые покажут зависимость \n",
    "# цены от указанных ниже параметров. \n",
    "# Для подготовки данных перед визуализацией вы можете использовать сводные таблицы.\""
   ]
  },
  {
   "cell_type": "code",
   "execution_count": null,
   "metadata": {},
   "outputs": [],
   "source": [
    "pivot_table_total_area = (\n",
    "    data_filter.pivot_table(index='total_area', values='last_price', aggfunc = ['median','count'])\n",
    "    .plot(y='median', title='Взаимосвязь цены с площадью', style='o', figsize=(8, 8), grid=True)\n",
    ")\n",
    "\n",
    "print('Корреляция равна', data_filter['total_area'].corr(data_filter['last_price']))"
   ]
  },
  {
   "cell_type": "code",
   "execution_count": null,
   "metadata": {},
   "outputs": [],
   "source": [
    "pivot_table_total_area = (\n",
    "    data_filter.pivot_table(index='living_area', values='last_price', aggfunc = ['median','count'])\n",
    "    .plot(y='median', title='Взаимосвязь цены с жилой площадью', style='o', figsize=(8, 8), grid=True)\n",
    ")\n",
    "print('Корреляция равна', data_filter['living_area'].corr(data_filter['last_price']))"
   ]
  },
  {
   "cell_type": "code",
   "execution_count": null,
   "metadata": {},
   "outputs": [],
   "source": [
    "pivot_table_total_area = (\n",
    "    data_filter.pivot_table(index='kitchen_area', values='last_price', aggfunc = ['median','count'])\n",
    "    .plot(y='median', title='Взаимосвязь цены с площадью кухни', style='o', figsize=(8, 8), grid=True)\n",
    ")\n",
    "print('Корреляция равна', data_filter['kitchen_area'].corr(data_filter['last_price']))"
   ]
  },
  {
   "cell_type": "code",
   "execution_count": null,
   "metadata": {},
   "outputs": [],
   "source": [
    "pivot_table_total_area = (\n",
    "    data_filter.pivot_table(index='rooms', values='last_price', aggfunc = ['median','count'])\n",
    "    .plot(y='median', title='Взаимосвязь цены с количеством комнат', figsize=(8, 8), grid=True)\n",
    ")\n",
    "print('Корреляция равна', data_filter['rooms'].corr(data_filter['last_price']))"
   ]
  },
  {
   "cell_type": "code",
   "execution_count": null,
   "metadata": {},
   "outputs": [],
   "source": [
    "from matplotlib.ticker import FormatStrFormatter\n",
    "\n",
    "ax = data_filter.groupby('type_flat')['last_price'].median().plot.bar(\n",
    "    title='Зависимость между типом и ценой', rot=45, figsize=(7,7))\n",
    "ax.set(xlabel='Тип этажа объекта', ylabel='Количество объектов')\n",
    "ax.yaxis.set_major_formatter(FormatStrFormatter('%.0f'))\n"
   ]
  },
  {
   "cell_type": "code",
   "execution_count": null,
   "metadata": {},
   "outputs": [],
   "source": [
    "pivot_table_total_area = (\n",
    "    data_filter.pivot_table(index='days_publication', values='last_price', aggfunc = ['median','count'])\n",
    "    .plot(y='median', title='Взаимосвязь цены с днем публикации', figsize=(8, 8), grid=True)\n",
    ")\n",
    "print('Корреляция равна', data_filter['days_publication'].corr(data_filter['last_price']))"
   ]
  },
  {
   "cell_type": "code",
   "execution_count": null,
   "metadata": {},
   "outputs": [],
   "source": [
    "pivot_table_total_area = (\n",
    "    data_filter.pivot_table(index='month_publication', values='last_price', aggfunc = ['median','count'])\n",
    "    .plot(y='median', title='Взаимосвязь цены с месяцем публикации', figsize=(8, 8), grid=True)\n",
    ")\n",
    "print('Корреляция равна', data_filter['month_publication'].corr(data_filter['last_price']))"
   ]
  },
  {
   "cell_type": "code",
   "execution_count": null,
   "metadata": {},
   "outputs": [],
   "source": [
    "pivot_table_total_area = (\n",
    "    data_filter.pivot_table(index='year_publication', values='last_price', aggfunc = ['median','count'])\n",
    "    .plot(y='median', title='Взаимосвязь цены с годом публикации', figsize=(8, 8), grid=True)\n",
    ")\n",
    "print('Корреляция равна', data_filter['year_publication'].corr(data_filter['last_price']))"
   ]
  },
  {
   "cell_type": "code",
   "execution_count": null,
   "metadata": {},
   "outputs": [],
   "source": [
    "g = sns.pairplot(data_filter,\n",
    "            x_vars=['total_area', 'living_area', 'kitchen_area', 'rooms', 'type_flat', 'days_publication', 'month_publication', 'year_publication'],\n",
    "            y_vars=['last_price'],\n",
    "            )\n",
    "g.fig.set_figheight (6)\n",
    "g.fig.set_figwidth (30)"
   ]
  },
  {
   "cell_type": "markdown",
   "metadata": {},
   "source": [
    "Проведя небольшое исследование видно, что есть определенная зависимость цены от общей площади квартиры, чуть меньше от жилой площади и от площади кухни. Это подтверждает и коэффициент корреляции Пирсона. Впринципе это логично, что при увеличении площади цена должна расти и наоборот, тут играет и роль стоимость квадратного метра. Логично , что чем больше площадь больше и квадратных метров.С количеством комнат тоже присутствует взаимосвязь, но ниже чем с площадью. \n",
    "А вот в части зависимости цены с типом квартиры я не прослеживаю корреляцию. Мое мнение и график и коэффициент корреляции Пирсона явно показывает отсутствие зависимости. \n",
    "По вопросу времени даты публикации (день, месяц, год) суя по графику можно сказать, что было достаточно резкое падение цены в 2014-2015 годах и далее уход в \"штиль\", когда цена по сути не менялась до 2018 года. После замечен небольшой рост. \n",
    "В части дней и месяцев я вижу, что в будни цены выше, чем в выходные. Ранее выше по исследованию, мы пришли к выводу, что чаще всего выкладывают обьявления именно в будни. Можно выдвинуть мысль, что рост цен в будни зависит от повышения активности. Больше людей выкладывают объявления и собственно устанавливают цену. По месяцам есть сильное падение цены в июне, и снижения в начале года. Но я бы не стал устанавливать какую либо зависимость цены от времени публикации. "
   ]
  },
  {
   "cell_type": "code",
   "execution_count": null,
   "metadata": {},
   "outputs": [],
   "source": [
    "data_filter[['last_price', 'total_area', 'rooms', 'cityCenters_nearest']].corr()"
   ]
  },
  {
   "cell_type": "code",
   "execution_count": null,
   "metadata": {},
   "outputs": [],
   "source": [
    "# выполнено задание: \"Посчитайте среднюю цену одного квадратного метра в 10 населённых пунктах с наибольшим числом объявлений. \n",
    "# Выделите населённые пункты с самой высокой и низкой стоимостью квадратного метра. Эти данные можно найти по имени в столбце \n",
    "# locality_name.\""
   ]
  },
  {
   "cell_type": "code",
   "execution_count": null,
   "metadata": {},
   "outputs": [],
   "source": [
    "data_top = data_filter.pivot_table(index = 'locality_name', values = 'price_per_metr', aggfunc=['count', 'mean'])\n",
    "data_top.columns = ['count', 'mean']\n",
    "data_top_sort = data_top.sort_values('count', ascending = False).head(10)\n",
    "display(data_top_sort[data_top_sort['mean']==data_top_sort['mean'].max()])\n",
    "display(data_top_sort[data_top_sort['mean']==data_top_sort['mean'].min()])\n",
    "print('Топ-10 населенных пунктов')\n",
    "display(data_top_sort)"
   ]
  },
  {
   "cell_type": "markdown",
   "metadata": {},
   "source": [
    "Самым дорогим городом оказался Санкт-Петербург. Что не удивительно. Из топ-10 населённых пунктов с наибольшим числом объявлений самый дешевый сал - Выборг. "
   ]
  },
  {
   "cell_type": "code",
   "execution_count": null,
   "metadata": {},
   "outputs": [],
   "source": [
    "#выполнено задание: \"Ранее вы посчитали расстояние до центра в километрах. Теперь выделите квартиры в Санкт-Петербурге \n",
    "#с помощью столбца locality_name и вычислите среднюю цену каждого километра. Опишите, как стоимость объектов зависит \n",
    "#от расстояния до центра города.\""
   ]
  },
  {
   "cell_type": "code",
   "execution_count": null,
   "metadata": {},
   "outputs": [],
   "source": [
    "data_filter_spb = (\n",
    "    data_filter\n",
    "    .query('locality_name == \"Санкт-Петербург\"')\n",
    "    .pivot_table(index= 'km_cityCenters_nearest', values='price_per_metr', aggfunc=('mean'))\n",
    ")\n",
    "display(data_filter_spb)\n",
    "data_filter_spb.plot(y='price_per_metr', title='Средняя цена каждого километра', figsize=(8, 8), grid=True)"
   ]
  },
  {
   "cell_type": "markdown",
   "metadata": {},
   "source": [
    "Исходя из полученных данных, а также графика можно сделать вывод, что чем дальше объекты размещены от центра города, тем они дешевле. Размещение всегда играло большую роль в цене. Здесь нет ничего не обычного. "
   ]
  },
  {
   "cell_type": "markdown",
   "metadata": {},
   "source": [
    "### Общий вывод"
   ]
  },
  {
   "cell_type": "markdown",
   "metadata": {},
   "source": [
    "##### Мы изучили большой массив данных. На первоначальном этапе провели сначала подготовительную работу и привели таблицу в читаемый вид. После этого перешли к фазе предобработки данных. Заменили пропуски в ряде столбцов используя метод медианы и среднего. Часть пропусков интуитовно были заполнены \"0\" (было принято решение, что например балкон отсутствует и поэтому по нему нет данных в обьявлении). Были изменены типы данных для последующей работы. Также проработаны неявные дубликаты. Наименование населенных пунктов было приведено в единый формат для удобства работы с ними.  После этого проведена уже более глубокая работа, осуществлен поиск аномалий. Постоены гистограммы и фигуры \"ящик с усами\". На основании этих графиков были обнаружены \"выбросы\", которые были удалены. После добавление новых столбцов в таблицу мы приступили к исследовательскому анализу данных. \n",
    "##### При исследовании была определена самая популярная площадь (58 кв.м) среди квартир, выставленных в обьявлениях. Эти квартиры имеют в основном 2 или 3 комнаты (большинство квартир выложенных в объявлениях). Также была определена средняя цена на квартиру равная 6,25 млн. рублей. В части размещения в основном на продажу выставлены квартиры которые находятся на 1-2 этаже. Мы предположить, что высокие дома (выше 14 этажа) реже встречаются, чем дома ниже. Эту гипотезу мы доказали когда рассмотрели график с количеством этажей в домах. Большинство домов даже ниже 14 этажей, поэтому и квартиры расположенные выше 14 этажа меньше в обьявлениях на продажу. Посмотрев обьявления по расположению домов от центра города , от папрков и аэропорта можно предположить, что большинство выставленных квартир на продажу размещены в одном районе. Есть большое скопление квартир в одной части и дальше резкое распределение. По графику построенному в части публикации объявлений по дням видно, что обьявления о продаже в основном выкладывали в четверг, но разница между днями недели не большая. Реже всего в выходные люди вкладывали свои обьявления. Если рассматривать по месяцам, то можно увидеть, что в начале года и в конце был всегда спад, и ближе к середине количество объявлений увеличивались. Исходя из данных, полученных из графиков средний срок сколько висит обьявление до продажи 144 дня, медианна составляет 71 день. Есть большой перечень квартир реализованные сразу же как было выставлено обьявление. На этот показатель возможно повлиял тот факт, что мы заполнили пропуски \"0\" в предобработке. Поэтому результат \"скоростной\" продажи выше реального. Но если мы даже уберем показатель \"0\", все равно большое число квартир продается в 1 день размещения. Можно сказать, что квартиры реализуются быстро на сервисе Яндекс.Недвижимость.\n",
    "##### Можно сказать, что есть определенная зависимость цены от общей площади квартиры, чуть меньше от жилой площади и от площади кухни. Это подтверждает и коэффициент корреляции Пирсона. Также чем больше площадь больше и квадратных метров.С количеством комнат тоже присутствует взаимосвязь, но ниже чем с площадью. А вот в части зависимости цены с типом квартиры я не прослеживаю корреляцию. Мое мнение и график и коэффициент корреляции Пирсона явно показывает отсутствие зависимости. По вопросу времени даты публикации (день, месяц, год) суя по графику можно сказать, что было достаточно резкое падение цены в 2014-2015 годах и далее уход в \"штиль\", когда цена по сути не менялась до 2018 года. После замечен небольшой рост. В части дней и месяцев я вижу, что в будни цены выше, чем в выходные. Ранее выше по исследованию, мы пришли к выводу, что чаще всего выкладывают обьявления именно в будни. Можно выдвинуть мысль, что рост цен в будни зависит от повышения активности. Больше людей выкладывают объявления и собственно устанавливают цену. По месяцам есть сильное падение цены в июне, и снижения в начале года. Но я бы не стал устанавливать какую либо зависимость цены от времени публикации\n",
    "##### Были также обнаружены небольшие аномалии требующие уточнения у поставщика данных. Например есть квартиры которые висят 999 дней, но считаю скорее что это аномалия. Судя по \"ящику с усами\" есть большое количество \"выбросов\" за 500 дней. Также есть большое число квартир с 0 этажем. \n",
    "##### Самым дорогим городом оказался Санкт-Петербург. Из топ-10 населённых пунктов с наибольшим числом объявлений самый дешевый сnал - Выборг. Взаимосвязь также установлена между ценой и удаленности от центра города. Чем дальше квартира от центра тем она дешевле. "
   ]
  },
  {
   "cell_type": "markdown",
   "metadata": {},
   "source": [
    "**Чек-лист готовности проекта**\n",
    "\n",
    "Поставьте 'x' в выполненных пунктах. Далее нажмите Shift+Enter."
   ]
  },
  {
   "cell_type": "markdown",
   "metadata": {},
   "source": [
    "- [x]  открыт файл\n",
    "- [x]  файлы изучены (выведены первые строки, метод `info()`, гистограммы и т.д.)\n",
    "- [x]  определены пропущенные значения\n",
    "- [x]  заполнены пропущенные значения там, где это возможно\n",
    "- [x]  есть пояснение, какие пропущенные значения обнаружены\n",
    "- [x]  изменены типы данных\n",
    "- [x]  есть пояснение, в каких столбцах изменены типы и почему\n",
    "- [x]  устранены неявные дубликаты в названиях населённых пунктов\n",
    "- [x]  устранены редкие и выбивающиеся значения (аномалии) во всех столбцах\n",
    "- [x]  посчитано и добавлено в таблицу: цена одного квадратного метра\n",
    "- [x]  посчитано и добавлено в таблицу: день публикации объявления (0 - понедельник, 1 - вторник и т.д.)\n",
    "- [x]  посчитано и добавлено в таблицу: месяц публикации объявления\n",
    "- [x]  посчитано и добавлено в таблицу: год публикации объявления\n",
    "- [x]  посчитано и добавлено в таблицу: тип этажа квартиры (значения — «первый», «последний», «другой»)\n",
    "- [x]  посчитано и добавлено в таблицу: расстояние в км до центра города\n",
    "- [x]  изучены и описаны следующие параметры:\n",
    "        - общая площадь;\n",
    "        - жилая площадь;\n",
    "        - площадь кухни;\n",
    "        - цена объекта;\n",
    "        - количество комнат;\n",
    "        - высота потолков;\n",
    "        - этаж квартиры;\n",
    "        - тип этажа квартиры («первый», «последний», «другой»);\n",
    "        - общее количество этажей в доме;\n",
    "        - расстояние до центра города в метрах;\n",
    "        - расстояние до ближайшего аэропорта;\n",
    "        - расстояние до ближайшего парка;\n",
    "        - день и месяц публикации объявления\n",
    "- [x]  построены гистограммы для каждого параметра\n",
    "- [x]  выполнено задание: \"Изучите, как быстро продавались квартиры (столбец days_exposition). Этот параметр показывает, сколько дней «висело» каждое объявление.\n",
    "    - Постройте гистограмму.\n",
    "    - Посчитайте среднее и медиану.\n",
    "    - В ячейке типа markdown опишите, сколько обычно занимает продажа. Какие продажи можно считать быстрыми, а какие — необычно долгими?\"\n",
    "- [x]  выполнено задание: \"Какие факторы больше всего влияют на общую (полную) стоимость объекта? Постройте графики, которые покажут зависимость цены от указанных ниже параметров. Для подготовки данных перед визуализацией вы можете использовать сводные таблицы.\"\n",
    "        - общей площади;\n",
    "        - жилой площади;\n",
    "        - площади кухни;\n",
    "        - количество комнат;\n",
    "        - типа этажа, на котором расположена квартира (первый, последний, другой);\n",
    "        - даты размещения (день недели, месяц, год);\n",
    "- [x]  выполнено задание: \"Посчитайте среднюю цену одного квадратного метра в 10 населённых пунктах с наибольшим числом объявлений. Выделите населённые пункты с самой высокой и низкой стоимостью квадратного метра. Эти данные можно найти по имени в столбце `locality_name`.\"\n",
    "- [x]  выполнено задание: \"Ранее вы посчитали расстояние до центра в километрах. Теперь выделите квартиры в Санкт-Петербурге с помощью столбца `locality_name` и вычислите среднюю цену каждого километра. Опишите, как стоимость объектов зависит от расстояния до центра города.\"\n",
    "- [x]  в каждом этапе есть промежуточные выводы\n",
    "- [x]  есть общий вывод"
   ]
  }
 ],
 "metadata": {
  "ExecuteTimeLog": [
   {
    "duration": 45,
    "start_time": "2022-07-15T08:36:01.223Z"
   },
   {
    "duration": 390,
    "start_time": "2022-07-15T08:36:46.093Z"
   },
   {
    "duration": 366,
    "start_time": "2022-07-15T08:36:46.558Z"
   },
   {
    "duration": 318,
    "start_time": "2022-07-15T08:36:46.945Z"
   },
   {
    "duration": 8,
    "start_time": "2022-07-15T08:36:47.303Z"
   },
   {
    "duration": 9,
    "start_time": "2022-07-15T08:36:59.825Z"
   },
   {
    "duration": 13,
    "start_time": "2022-07-15T08:37:40.947Z"
   },
   {
    "duration": 6,
    "start_time": "2022-07-15T08:39:33.722Z"
   },
   {
    "duration": 4,
    "start_time": "2022-07-15T08:40:10.113Z"
   },
   {
    "duration": 16,
    "start_time": "2022-07-15T08:40:37.440Z"
   },
   {
    "duration": 2,
    "start_time": "2022-07-15T08:40:49.064Z"
   },
   {
    "duration": 2,
    "start_time": "2022-07-15T08:40:49.481Z"
   },
   {
    "duration": 85,
    "start_time": "2022-07-15T08:40:49.892Z"
   },
   {
    "duration": 7,
    "start_time": "2022-07-15T08:40:50.361Z"
   },
   {
    "duration": 12,
    "start_time": "2022-07-15T08:40:50.801Z"
   },
   {
    "duration": 4,
    "start_time": "2022-07-15T08:40:51.588Z"
   },
   {
    "duration": 3,
    "start_time": "2022-07-15T08:40:57.179Z"
   },
   {
    "duration": 94,
    "start_time": "2022-07-15T08:40:57.710Z"
   },
   {
    "duration": 7,
    "start_time": "2022-07-15T08:40:58.172Z"
   },
   {
    "duration": 13,
    "start_time": "2022-07-15T08:40:58.830Z"
   },
   {
    "duration": 4,
    "start_time": "2022-07-15T08:40:59.841Z"
   },
   {
    "duration": 42,
    "start_time": "2022-07-15T08:52:53.186Z"
   },
   {
    "duration": 8,
    "start_time": "2022-07-15T08:54:16.732Z"
   },
   {
    "duration": 5,
    "start_time": "2022-07-15T08:54:30.190Z"
   },
   {
    "duration": 8,
    "start_time": "2022-07-15T08:54:39.321Z"
   },
   {
    "duration": 2,
    "start_time": "2022-07-15T08:55:52.970Z"
   },
   {
    "duration": 3,
    "start_time": "2022-07-15T08:55:53.353Z"
   },
   {
    "duration": 80,
    "start_time": "2022-07-15T08:55:53.528Z"
   },
   {
    "duration": 7,
    "start_time": "2022-07-15T08:55:53.674Z"
   },
   {
    "duration": 6,
    "start_time": "2022-07-15T08:55:53.819Z"
   },
   {
    "duration": 15,
    "start_time": "2022-07-15T08:55:53.962Z"
   },
   {
    "duration": 4,
    "start_time": "2022-07-15T08:55:54.483Z"
   },
   {
    "duration": 11,
    "start_time": "2022-07-15T08:55:54.658Z"
   },
   {
    "duration": 7,
    "start_time": "2022-07-15T09:07:31.497Z"
   },
   {
    "duration": 82,
    "start_time": "2022-07-15T12:55:27.717Z"
   },
   {
    "duration": 7,
    "start_time": "2022-07-15T12:55:28.670Z"
   },
   {
    "duration": 3,
    "start_time": "2022-07-15T12:56:27.803Z"
   },
   {
    "duration": 3,
    "start_time": "2022-07-15T12:56:28.667Z"
   },
   {
    "duration": 87,
    "start_time": "2022-07-15T12:56:28.942Z"
   },
   {
    "duration": 11,
    "start_time": "2022-07-15T12:56:29.129Z"
   },
   {
    "duration": 7,
    "start_time": "2022-07-15T12:56:29.295Z"
   },
   {
    "duration": 14,
    "start_time": "2022-07-15T12:56:29.502Z"
   },
   {
    "duration": 5,
    "start_time": "2022-07-15T12:56:29.694Z"
   },
   {
    "duration": 13,
    "start_time": "2022-07-15T12:56:29.920Z"
   },
   {
    "duration": 101,
    "start_time": "2022-07-15T12:56:30.288Z"
   },
   {
    "duration": 8,
    "start_time": "2022-07-15T12:56:30.449Z"
   },
   {
    "duration": 86,
    "start_time": "2022-07-15T12:57:10.480Z"
   },
   {
    "duration": 7,
    "start_time": "2022-07-15T12:57:11.000Z"
   },
   {
    "duration": 4,
    "start_time": "2022-07-15T12:57:26.457Z"
   },
   {
    "duration": 3,
    "start_time": "2022-07-15T12:58:10.908Z"
   },
   {
    "duration": 2,
    "start_time": "2022-07-15T12:58:11.476Z"
   },
   {
    "duration": 84,
    "start_time": "2022-07-15T12:58:11.685Z"
   },
   {
    "duration": 10,
    "start_time": "2022-07-15T12:58:11.862Z"
   },
   {
    "duration": 7,
    "start_time": "2022-07-15T12:58:12.054Z"
   },
   {
    "duration": 12,
    "start_time": "2022-07-15T12:58:12.615Z"
   },
   {
    "duration": 4,
    "start_time": "2022-07-15T12:58:13.079Z"
   },
   {
    "duration": 11,
    "start_time": "2022-07-15T12:58:14.441Z"
   },
   {
    "duration": 84,
    "start_time": "2022-07-15T12:59:05.325Z"
   },
   {
    "duration": 6,
    "start_time": "2022-07-15T12:59:18.302Z"
   },
   {
    "duration": 1166,
    "start_time": "2022-07-15T12:59:30.526Z"
   },
   {
    "duration": 0,
    "start_time": "2022-07-15T12:59:31.694Z"
   },
   {
    "duration": 93,
    "start_time": "2022-07-15T12:59:53.721Z"
   },
   {
    "duration": 6,
    "start_time": "2022-07-15T12:59:54.746Z"
   },
   {
    "duration": 95,
    "start_time": "2022-07-15T13:00:37.689Z"
   },
   {
    "duration": 24,
    "start_time": "2022-07-15T13:00:38.395Z"
   },
   {
    "duration": 45,
    "start_time": "2022-07-15T13:00:51.463Z"
   },
   {
    "duration": 28,
    "start_time": "2022-07-15T13:01:00.875Z"
   },
   {
    "duration": 5,
    "start_time": "2022-07-15T13:09:32.450Z"
   },
   {
    "duration": 18,
    "start_time": "2022-07-15T13:09:58.320Z"
   },
   {
    "duration": 1910,
    "start_time": "2022-07-15T13:10:56.691Z"
   },
   {
    "duration": 49,
    "start_time": "2022-07-16T08:50:35.503Z"
   },
   {
    "duration": 432,
    "start_time": "2022-07-16T08:50:42.715Z"
   },
   {
    "duration": 499,
    "start_time": "2022-07-16T08:50:43.370Z"
   },
   {
    "duration": 151,
    "start_time": "2022-07-16T08:50:43.872Z"
   },
   {
    "duration": 12,
    "start_time": "2022-07-16T08:50:44.599Z"
   },
   {
    "duration": 9,
    "start_time": "2022-07-16T08:50:45.372Z"
   },
   {
    "duration": 20,
    "start_time": "2022-07-16T08:50:46.075Z"
   },
   {
    "duration": 5,
    "start_time": "2022-07-16T08:50:46.832Z"
   },
   {
    "duration": 95,
    "start_time": "2022-07-16T08:50:48.166Z"
   },
   {
    "duration": 50,
    "start_time": "2022-07-16T08:50:48.839Z"
   },
   {
    "duration": 5,
    "start_time": "2022-07-16T08:50:49.947Z"
   },
   {
    "duration": 15,
    "start_time": "2022-07-16T08:50:51.026Z"
   },
   {
    "duration": 8,
    "start_time": "2022-07-16T08:50:52.149Z"
   },
   {
    "duration": 2158,
    "start_time": "2022-07-16T08:51:00.179Z"
   },
   {
    "duration": 59,
    "start_time": "2022-07-17T10:51:28.888Z"
   },
   {
    "duration": 452,
    "start_time": "2022-07-17T10:51:46.621Z"
   },
   {
    "duration": 373,
    "start_time": "2022-07-17T10:51:47.075Z"
   },
   {
    "duration": 298,
    "start_time": "2022-07-17T10:51:47.451Z"
   },
   {
    "duration": 12,
    "start_time": "2022-07-17T10:51:47.751Z"
   },
   {
    "duration": 8,
    "start_time": "2022-07-17T10:51:47.765Z"
   },
   {
    "duration": 19,
    "start_time": "2022-07-17T10:51:47.775Z"
   },
   {
    "duration": 8,
    "start_time": "2022-07-17T10:51:47.796Z"
   },
   {
    "duration": 74,
    "start_time": "2022-07-17T10:51:47.806Z"
   },
   {
    "duration": 30,
    "start_time": "2022-07-17T10:51:47.882Z"
   },
   {
    "duration": 6,
    "start_time": "2022-07-17T10:51:47.922Z"
   },
   {
    "duration": 19,
    "start_time": "2022-07-17T10:51:47.930Z"
   },
   {
    "duration": 9,
    "start_time": "2022-07-17T10:51:47.951Z"
   },
   {
    "duration": 2129,
    "start_time": "2022-07-17T10:51:47.961Z"
   },
   {
    "duration": 7,
    "start_time": "2022-07-17T10:51:50.091Z"
   },
   {
    "duration": 6,
    "start_time": "2022-07-17T10:52:50.922Z"
   },
   {
    "duration": 52,
    "start_time": "2022-07-17T10:53:15.890Z"
   },
   {
    "duration": 6,
    "start_time": "2022-07-17T10:54:03.327Z"
   },
   {
    "duration": 42,
    "start_time": "2022-07-17T10:55:51.338Z"
   },
   {
    "duration": 12,
    "start_time": "2022-07-17T10:56:12.701Z"
   },
   {
    "duration": 6,
    "start_time": "2022-07-17T10:56:30.629Z"
   },
   {
    "duration": 6,
    "start_time": "2022-07-17T11:01:10.801Z"
   },
   {
    "duration": 6,
    "start_time": "2022-07-17T11:01:43.496Z"
   },
   {
    "duration": 7,
    "start_time": "2022-07-17T11:02:23.212Z"
   },
   {
    "duration": 5,
    "start_time": "2022-07-17T11:02:43.421Z"
   },
   {
    "duration": 6,
    "start_time": "2022-07-17T11:03:21.039Z"
   },
   {
    "duration": 5,
    "start_time": "2022-07-17T11:03:35.101Z"
   },
   {
    "duration": 4,
    "start_time": "2022-07-17T11:15:28.370Z"
   },
   {
    "duration": 9,
    "start_time": "2022-07-17T11:17:43.163Z"
   },
   {
    "duration": 5,
    "start_time": "2022-07-17T11:18:07.062Z"
   },
   {
    "duration": 5,
    "start_time": "2022-07-17T11:20:09.828Z"
   },
   {
    "duration": 4,
    "start_time": "2022-07-17T11:21:12.231Z"
   },
   {
    "duration": 2,
    "start_time": "2022-07-17T11:22:02.396Z"
   },
   {
    "duration": 187,
    "start_time": "2022-07-17T11:22:03.036Z"
   },
   {
    "duration": 4,
    "start_time": "2022-07-17T11:22:50.336Z"
   },
   {
    "duration": 162,
    "start_time": "2022-07-17T11:22:50.976Z"
   },
   {
    "duration": 6,
    "start_time": "2022-07-17T11:23:48.881Z"
   },
   {
    "duration": 6,
    "start_time": "2022-07-17T11:24:02.110Z"
   },
   {
    "duration": 6,
    "start_time": "2022-07-17T11:24:56.473Z"
   },
   {
    "duration": 10,
    "start_time": "2022-07-17T11:26:23.294Z"
   },
   {
    "duration": 10,
    "start_time": "2022-07-17T11:27:34.360Z"
   },
   {
    "duration": 11,
    "start_time": "2022-07-17T11:28:01.937Z"
   },
   {
    "duration": 11,
    "start_time": "2022-07-17T11:28:30.332Z"
   },
   {
    "duration": 11,
    "start_time": "2022-07-17T11:28:54.783Z"
   },
   {
    "duration": 9,
    "start_time": "2022-07-17T11:29:13.058Z"
   },
   {
    "duration": 13,
    "start_time": "2022-07-17T11:29:17.922Z"
   },
   {
    "duration": 147,
    "start_time": "2022-07-17T11:29:44.157Z"
   },
   {
    "duration": 8,
    "start_time": "2022-07-17T12:37:31.342Z"
   },
   {
    "duration": 8,
    "start_time": "2022-07-17T12:38:25.655Z"
   },
   {
    "duration": 7,
    "start_time": "2022-07-17T12:38:47.998Z"
   },
   {
    "duration": 2,
    "start_time": "2022-07-17T12:39:25.328Z"
   },
   {
    "duration": 9,
    "start_time": "2022-07-17T12:39:25.332Z"
   },
   {
    "duration": 81,
    "start_time": "2022-07-17T12:39:25.342Z"
   },
   {
    "duration": 8,
    "start_time": "2022-07-17T12:39:25.425Z"
   },
   {
    "duration": 11,
    "start_time": "2022-07-17T12:39:25.435Z"
   },
   {
    "duration": 15,
    "start_time": "2022-07-17T12:39:25.448Z"
   },
   {
    "duration": 13,
    "start_time": "2022-07-17T12:39:25.465Z"
   },
   {
    "duration": 78,
    "start_time": "2022-07-17T12:39:25.479Z"
   },
   {
    "duration": 32,
    "start_time": "2022-07-17T12:39:25.559Z"
   },
   {
    "duration": 10,
    "start_time": "2022-07-17T12:39:25.593Z"
   },
   {
    "duration": 31,
    "start_time": "2022-07-17T12:39:25.604Z"
   },
   {
    "duration": 7,
    "start_time": "2022-07-17T12:39:25.637Z"
   },
   {
    "duration": 1893,
    "start_time": "2022-07-17T12:39:25.646Z"
   },
   {
    "duration": 8,
    "start_time": "2022-07-17T12:39:27.541Z"
   },
   {
    "duration": 14,
    "start_time": "2022-07-17T12:39:27.550Z"
   },
   {
    "duration": 6,
    "start_time": "2022-07-17T12:39:27.565Z"
   },
   {
    "duration": 7,
    "start_time": "2022-07-17T12:39:27.572Z"
   },
   {
    "duration": 8,
    "start_time": "2022-07-17T12:39:35.452Z"
   },
   {
    "duration": 10,
    "start_time": "2022-07-17T12:40:42.046Z"
   },
   {
    "duration": 8,
    "start_time": "2022-07-17T12:41:00.391Z"
   },
   {
    "duration": 6,
    "start_time": "2022-07-17T12:41:06.410Z"
   },
   {
    "duration": 5,
    "start_time": "2022-07-17T12:43:13.238Z"
   },
   {
    "duration": 6,
    "start_time": "2022-07-17T12:43:22.184Z"
   },
   {
    "duration": 8,
    "start_time": "2022-07-17T12:50:20.777Z"
   },
   {
    "duration": 1027,
    "start_time": "2022-07-17T12:50:31.621Z"
   },
   {
    "duration": 843,
    "start_time": "2022-07-17T12:51:12.701Z"
   },
   {
    "duration": 17,
    "start_time": "2022-07-17T12:51:22.942Z"
   },
   {
    "duration": 36,
    "start_time": "2022-07-17T12:55:13.436Z"
   },
   {
    "duration": 30,
    "start_time": "2022-07-17T12:55:30.736Z"
   },
   {
    "duration": 7,
    "start_time": "2022-07-17T12:57:51.860Z"
   },
   {
    "duration": 8,
    "start_time": "2022-07-17T12:58:05.964Z"
   },
   {
    "duration": 11,
    "start_time": "2022-07-17T13:01:12.938Z"
   },
   {
    "duration": 13,
    "start_time": "2022-07-17T13:01:58.902Z"
   },
   {
    "duration": 14,
    "start_time": "2022-07-17T13:02:12.423Z"
   },
   {
    "duration": 9,
    "start_time": "2022-07-17T13:02:19.391Z"
   },
   {
    "duration": 11,
    "start_time": "2022-07-17T13:07:33.438Z"
   },
   {
    "duration": 8,
    "start_time": "2022-07-17T13:07:44.092Z"
   },
   {
    "duration": 11,
    "start_time": "2022-07-17T13:07:45.087Z"
   },
   {
    "duration": 4,
    "start_time": "2022-07-17T13:09:35.734Z"
   },
   {
    "duration": 14,
    "start_time": "2022-07-17T13:27:42.771Z"
   },
   {
    "duration": 8,
    "start_time": "2022-07-17T13:28:45.722Z"
   },
   {
    "duration": 13,
    "start_time": "2022-07-17T13:28:46.295Z"
   },
   {
    "duration": 2,
    "start_time": "2022-07-17T13:37:47.320Z"
   },
   {
    "duration": 19,
    "start_time": "2022-07-17T13:39:26.081Z"
   },
   {
    "duration": 34,
    "start_time": "2022-07-17T13:41:52.608Z"
   },
   {
    "duration": 3,
    "start_time": "2022-07-17T13:50:33.067Z"
   },
   {
    "duration": 9,
    "start_time": "2022-07-17T13:50:33.072Z"
   },
   {
    "duration": 83,
    "start_time": "2022-07-17T13:50:33.083Z"
   },
   {
    "duration": 10,
    "start_time": "2022-07-17T13:50:33.167Z"
   },
   {
    "duration": 10,
    "start_time": "2022-07-17T13:50:33.179Z"
   },
   {
    "duration": 18,
    "start_time": "2022-07-17T13:50:33.191Z"
   },
   {
    "duration": 5,
    "start_time": "2022-07-17T13:50:33.222Z"
   },
   {
    "duration": 80,
    "start_time": "2022-07-17T13:50:33.228Z"
   },
   {
    "duration": 34,
    "start_time": "2022-07-17T13:50:33.310Z"
   },
   {
    "duration": 8,
    "start_time": "2022-07-17T13:50:33.345Z"
   },
   {
    "duration": 21,
    "start_time": "2022-07-17T13:50:33.355Z"
   },
   {
    "duration": 8,
    "start_time": "2022-07-17T13:50:33.378Z"
   },
   {
    "duration": 2000,
    "start_time": "2022-07-17T13:50:33.388Z"
   },
   {
    "duration": 8,
    "start_time": "2022-07-17T13:50:35.392Z"
   },
   {
    "duration": 26,
    "start_time": "2022-07-17T13:50:35.402Z"
   },
   {
    "duration": 7,
    "start_time": "2022-07-17T13:50:35.430Z"
   },
   {
    "duration": 12,
    "start_time": "2022-07-17T13:50:35.439Z"
   },
   {
    "duration": 9,
    "start_time": "2022-07-17T13:50:35.453Z"
   },
   {
    "duration": 16,
    "start_time": "2022-07-17T13:50:35.463Z"
   },
   {
    "duration": 20,
    "start_time": "2022-07-17T13:50:35.481Z"
   },
   {
    "duration": 24,
    "start_time": "2022-07-17T13:50:35.502Z"
   },
   {
    "duration": 14,
    "start_time": "2022-07-17T13:50:35.527Z"
   },
   {
    "duration": 25,
    "start_time": "2022-07-17T13:50:53.351Z"
   },
   {
    "duration": 29,
    "start_time": "2022-07-17T13:51:01.029Z"
   },
   {
    "duration": 13,
    "start_time": "2022-07-17T13:52:23.495Z"
   },
   {
    "duration": 29,
    "start_time": "2022-07-17T13:52:24.126Z"
   },
   {
    "duration": 7,
    "start_time": "2022-07-17T13:56:12.755Z"
   },
   {
    "duration": 66,
    "start_time": "2022-07-17T13:56:36.268Z"
   },
   {
    "duration": 5,
    "start_time": "2022-07-17T13:56:49.578Z"
   },
   {
    "duration": 5,
    "start_time": "2022-07-17T13:56:59.553Z"
   },
   {
    "duration": 5,
    "start_time": "2022-07-17T13:57:19.900Z"
   },
   {
    "duration": 9,
    "start_time": "2022-07-17T13:58:24.771Z"
   },
   {
    "duration": 7,
    "start_time": "2022-07-17T13:58:32.605Z"
   },
   {
    "duration": 11,
    "start_time": "2022-07-17T13:59:08.009Z"
   },
   {
    "duration": 6,
    "start_time": "2022-07-17T13:59:19.776Z"
   },
   {
    "duration": 55,
    "start_time": "2022-07-17T14:09:45.170Z"
   },
   {
    "duration": 12,
    "start_time": "2022-07-17T14:09:52.085Z"
   },
   {
    "duration": 7,
    "start_time": "2022-07-17T14:10:11.662Z"
   },
   {
    "duration": 49,
    "start_time": "2022-07-17T14:18:27.585Z"
   },
   {
    "duration": 4,
    "start_time": "2022-07-17T14:18:32.787Z"
   },
   {
    "duration": 6,
    "start_time": "2022-07-17T14:25:25.304Z"
   },
   {
    "duration": 5,
    "start_time": "2022-07-17T14:25:38.092Z"
   },
   {
    "duration": 64,
    "start_time": "2022-07-17T14:36:51.967Z"
   },
   {
    "duration": 49,
    "start_time": "2022-07-17T14:39:21.069Z"
   },
   {
    "duration": 47,
    "start_time": "2022-07-17T14:39:34.929Z"
   },
   {
    "duration": 8,
    "start_time": "2022-07-17T14:40:16.834Z"
   },
   {
    "duration": 4,
    "start_time": "2022-07-17T14:40:39.523Z"
   },
   {
    "duration": 8,
    "start_time": "2022-07-17T14:42:05.085Z"
   },
   {
    "duration": 211,
    "start_time": "2022-07-17T14:42:17.309Z"
   },
   {
    "duration": 60,
    "start_time": "2022-07-17T14:44:36.422Z"
   },
   {
    "duration": 6,
    "start_time": "2022-07-17T14:44:37.208Z"
   },
   {
    "duration": 55,
    "start_time": "2022-07-17T14:45:11.866Z"
   },
   {
    "duration": 5,
    "start_time": "2022-07-17T14:45:12.489Z"
   },
   {
    "duration": 6,
    "start_time": "2022-07-17T14:50:09.485Z"
   },
   {
    "duration": 4,
    "start_time": "2022-07-17T14:50:10.525Z"
   },
   {
    "duration": 10,
    "start_time": "2022-07-17T14:50:28.177Z"
   },
   {
    "duration": 6,
    "start_time": "2022-07-17T14:50:28.974Z"
   },
   {
    "duration": 46,
    "start_time": "2022-07-18T06:32:18.821Z"
   },
   {
    "duration": 370,
    "start_time": "2022-07-18T06:32:30.021Z"
   },
   {
    "duration": 362,
    "start_time": "2022-07-18T06:32:30.392Z"
   },
   {
    "duration": 259,
    "start_time": "2022-07-18T06:32:30.756Z"
   },
   {
    "duration": 14,
    "start_time": "2022-07-18T06:32:31.017Z"
   },
   {
    "duration": 45,
    "start_time": "2022-07-18T06:32:31.033Z"
   },
   {
    "duration": 24,
    "start_time": "2022-07-18T06:32:31.080Z"
   },
   {
    "duration": 69,
    "start_time": "2022-07-18T06:32:31.106Z"
   },
   {
    "duration": 100,
    "start_time": "2022-07-18T06:32:31.177Z"
   },
   {
    "duration": 29,
    "start_time": "2022-07-18T06:32:31.278Z"
   },
   {
    "duration": 27,
    "start_time": "2022-07-18T06:32:31.310Z"
   },
   {
    "duration": 25,
    "start_time": "2022-07-18T06:32:31.339Z"
   },
   {
    "duration": 8,
    "start_time": "2022-07-18T06:32:31.366Z"
   },
   {
    "duration": 1885,
    "start_time": "2022-07-18T06:32:31.375Z"
   },
   {
    "duration": 7,
    "start_time": "2022-07-18T06:32:33.262Z"
   },
   {
    "duration": 15,
    "start_time": "2022-07-18T06:32:33.270Z"
   },
   {
    "duration": 8,
    "start_time": "2022-07-18T06:32:33.287Z"
   },
   {
    "duration": 6,
    "start_time": "2022-07-18T06:32:33.296Z"
   },
   {
    "duration": 8,
    "start_time": "2022-07-18T06:32:33.304Z"
   },
   {
    "duration": 13,
    "start_time": "2022-07-18T06:32:33.314Z"
   },
   {
    "duration": 17,
    "start_time": "2022-07-18T06:32:33.329Z"
   },
   {
    "duration": 7,
    "start_time": "2022-07-18T06:32:33.348Z"
   },
   {
    "duration": 20,
    "start_time": "2022-07-18T06:32:33.357Z"
   },
   {
    "duration": 35,
    "start_time": "2022-07-18T06:32:33.378Z"
   },
   {
    "duration": 5,
    "start_time": "2022-07-18T06:32:33.415Z"
   },
   {
    "duration": 80,
    "start_time": "2022-07-18T06:32:33.422Z"
   },
   {
    "duration": 5,
    "start_time": "2022-07-18T06:32:33.504Z"
   },
   {
    "duration": 2084,
    "start_time": "2022-07-18T07:17:29.359Z"
   },
   {
    "duration": 563,
    "start_time": "2022-07-18T07:19:24.067Z"
   },
   {
    "duration": 652,
    "start_time": "2022-07-18T07:20:43.670Z"
   },
   {
    "duration": 753,
    "start_time": "2022-07-18T07:20:51.786Z"
   },
   {
    "duration": 564,
    "start_time": "2022-07-18T07:20:59.355Z"
   },
   {
    "duration": 718,
    "start_time": "2022-07-18T07:21:05.089Z"
   },
   {
    "duration": 542,
    "start_time": "2022-07-18T07:21:17.068Z"
   },
   {
    "duration": 681,
    "start_time": "2022-07-18T07:21:30.790Z"
   },
   {
    "duration": 4,
    "start_time": "2022-07-18T07:27:07.540Z"
   },
   {
    "duration": 606,
    "start_time": "2022-07-18T07:27:12.484Z"
   },
   {
    "duration": 654,
    "start_time": "2022-07-18T07:27:21.727Z"
   },
   {
    "duration": 535,
    "start_time": "2022-07-18T07:27:26.727Z"
   },
   {
    "duration": 522,
    "start_time": "2022-07-18T07:27:47.289Z"
   },
   {
    "duration": 559,
    "start_time": "2022-07-18T07:27:54.773Z"
   },
   {
    "duration": 523,
    "start_time": "2022-07-18T07:28:29.277Z"
   },
   {
    "duration": 771,
    "start_time": "2022-07-18T07:28:35.167Z"
   },
   {
    "duration": 496,
    "start_time": "2022-07-18T07:28:42.352Z"
   },
   {
    "duration": 545,
    "start_time": "2022-07-18T07:28:47.375Z"
   },
   {
    "duration": 575,
    "start_time": "2022-07-18T07:28:50.780Z"
   },
   {
    "duration": 623,
    "start_time": "2022-07-18T07:28:54.788Z"
   },
   {
    "duration": 568,
    "start_time": "2022-07-18T07:29:00.756Z"
   },
   {
    "duration": 699,
    "start_time": "2022-07-18T07:29:05.234Z"
   },
   {
    "duration": 734,
    "start_time": "2022-07-18T07:29:09.897Z"
   },
   {
    "duration": 665,
    "start_time": "2022-07-18T07:29:24.889Z"
   },
   {
    "duration": 555,
    "start_time": "2022-07-18T07:29:30.552Z"
   },
   {
    "duration": 668,
    "start_time": "2022-07-18T07:30:08.973Z"
   },
   {
    "duration": 613,
    "start_time": "2022-07-18T07:30:26.339Z"
   },
   {
    "duration": 68,
    "start_time": "2022-07-18T07:32:28.228Z"
   },
   {
    "duration": 182,
    "start_time": "2022-07-18T07:33:04.743Z"
   },
   {
    "duration": 99,
    "start_time": "2022-07-18T07:33:26.656Z"
   },
   {
    "duration": 600,
    "start_time": "2022-07-18T07:33:36.163Z"
   },
   {
    "duration": 631,
    "start_time": "2022-07-18T07:35:00.233Z"
   },
   {
    "duration": 268,
    "start_time": "2022-07-18T07:49:10.474Z"
   },
   {
    "duration": 295,
    "start_time": "2022-07-18T07:49:21.469Z"
   },
   {
    "duration": 246,
    "start_time": "2022-07-18T07:49:26.082Z"
   },
   {
    "duration": 266,
    "start_time": "2022-07-18T07:49:30.979Z"
   },
   {
    "duration": 475,
    "start_time": "2022-07-18T07:55:07.850Z"
   },
   {
    "duration": 248,
    "start_time": "2022-07-18T07:55:53.544Z"
   },
   {
    "duration": 249,
    "start_time": "2022-07-18T07:56:09.149Z"
   },
   {
    "duration": 255,
    "start_time": "2022-07-18T07:56:20.471Z"
   },
   {
    "duration": 208,
    "start_time": "2022-07-18T07:58:35.500Z"
   },
   {
    "duration": 203,
    "start_time": "2022-07-18T07:58:42.405Z"
   },
   {
    "duration": 200,
    "start_time": "2022-07-18T07:58:51.102Z"
   },
   {
    "duration": 199,
    "start_time": "2022-07-18T07:58:59.416Z"
   },
   {
    "duration": 139,
    "start_time": "2022-07-18T07:59:25.555Z"
   },
   {
    "duration": 145,
    "start_time": "2022-07-18T07:59:30.072Z"
   },
   {
    "duration": 138,
    "start_time": "2022-07-18T07:59:36.508Z"
   },
   {
    "duration": 145,
    "start_time": "2022-07-18T07:59:41.873Z"
   },
   {
    "duration": 231,
    "start_time": "2022-07-18T08:02:07.679Z"
   },
   {
    "duration": 117,
    "start_time": "2022-07-18T08:02:17.065Z"
   },
   {
    "duration": 321,
    "start_time": "2022-07-18T08:02:39.311Z"
   },
   {
    "duration": 132,
    "start_time": "2022-07-18T08:03:46.937Z"
   },
   {
    "duration": 140,
    "start_time": "2022-07-18T08:03:48.540Z"
   },
   {
    "duration": 150,
    "start_time": "2022-07-18T08:03:55.654Z"
   },
   {
    "duration": 165,
    "start_time": "2022-07-18T08:04:05.446Z"
   },
   {
    "duration": 151,
    "start_time": "2022-07-18T08:04:16.610Z"
   },
   {
    "duration": 297,
    "start_time": "2022-07-18T08:04:26.141Z"
   },
   {
    "duration": 278,
    "start_time": "2022-07-18T08:05:10.947Z"
   },
   {
    "duration": 208,
    "start_time": "2022-07-18T08:05:18.613Z"
   },
   {
    "duration": 220,
    "start_time": "2022-07-18T08:05:30.895Z"
   },
   {
    "duration": 210,
    "start_time": "2022-07-18T08:05:58.420Z"
   },
   {
    "duration": 218,
    "start_time": "2022-07-18T08:06:07.079Z"
   },
   {
    "duration": 198,
    "start_time": "2022-07-18T08:06:14.275Z"
   },
   {
    "duration": 237,
    "start_time": "2022-07-18T08:06:45.627Z"
   },
   {
    "duration": 202,
    "start_time": "2022-07-18T08:06:59.008Z"
   },
   {
    "duration": 189,
    "start_time": "2022-07-18T08:07:18.482Z"
   },
   {
    "duration": 165,
    "start_time": "2022-07-18T08:07:24.195Z"
   },
   {
    "duration": 205,
    "start_time": "2022-07-18T08:07:29.249Z"
   },
   {
    "duration": 538,
    "start_time": "2022-07-18T08:07:34.856Z"
   },
   {
    "duration": 182,
    "start_time": "2022-07-18T08:07:38.669Z"
   },
   {
    "duration": 187,
    "start_time": "2022-07-18T08:07:45.468Z"
   },
   {
    "duration": 194,
    "start_time": "2022-07-18T08:07:53.602Z"
   },
   {
    "duration": 184,
    "start_time": "2022-07-18T08:07:58.800Z"
   },
   {
    "duration": 212,
    "start_time": "2022-07-18T08:08:04.346Z"
   },
   {
    "duration": 186,
    "start_time": "2022-07-18T08:08:09.552Z"
   },
   {
    "duration": 217,
    "start_time": "2022-07-18T08:08:13.904Z"
   },
   {
    "duration": 120,
    "start_time": "2022-07-18T08:09:10.746Z"
   },
   {
    "duration": 121,
    "start_time": "2022-07-18T08:09:16.956Z"
   },
   {
    "duration": 122,
    "start_time": "2022-07-18T08:09:27.267Z"
   },
   {
    "duration": 119,
    "start_time": "2022-07-18T08:09:30.919Z"
   },
   {
    "duration": 127,
    "start_time": "2022-07-18T08:09:34.685Z"
   },
   {
    "duration": 125,
    "start_time": "2022-07-18T08:09:39.362Z"
   },
   {
    "duration": 104,
    "start_time": "2022-07-18T08:09:44.572Z"
   },
   {
    "duration": 105,
    "start_time": "2022-07-18T08:09:54.924Z"
   },
   {
    "duration": 119,
    "start_time": "2022-07-18T08:10:02.441Z"
   },
   {
    "duration": 113,
    "start_time": "2022-07-18T08:15:39.304Z"
   },
   {
    "duration": 126,
    "start_time": "2022-07-18T08:15:43.854Z"
   },
   {
    "duration": 108,
    "start_time": "2022-07-18T08:15:47.893Z"
   },
   {
    "duration": 107,
    "start_time": "2022-07-18T08:15:52.267Z"
   },
   {
    "duration": 119,
    "start_time": "2022-07-18T08:16:01.778Z"
   },
   {
    "duration": 115,
    "start_time": "2022-07-18T08:16:10.078Z"
   },
   {
    "duration": 112,
    "start_time": "2022-07-18T08:16:18.967Z"
   },
   {
    "duration": 113,
    "start_time": "2022-07-18T08:16:39.886Z"
   },
   {
    "duration": 186,
    "start_time": "2022-07-18T08:17:06.586Z"
   },
   {
    "duration": 200,
    "start_time": "2022-07-18T08:17:18.393Z"
   },
   {
    "duration": 209,
    "start_time": "2022-07-18T08:17:24.056Z"
   },
   {
    "duration": 172,
    "start_time": "2022-07-18T08:17:50.525Z"
   },
   {
    "duration": 175,
    "start_time": "2022-07-18T08:17:54.130Z"
   },
   {
    "duration": 168,
    "start_time": "2022-07-18T08:17:57.789Z"
   },
   {
    "duration": 174,
    "start_time": "2022-07-18T08:18:02.989Z"
   },
   {
    "duration": 137,
    "start_time": "2022-07-18T08:18:16.303Z"
   },
   {
    "duration": 137,
    "start_time": "2022-07-18T08:18:21.751Z"
   },
   {
    "duration": 140,
    "start_time": "2022-07-18T08:18:28.417Z"
   },
   {
    "duration": 55,
    "start_time": "2022-07-18T08:18:57.410Z"
   },
   {
    "duration": 67,
    "start_time": "2022-07-18T08:19:08.259Z"
   },
   {
    "duration": 91,
    "start_time": "2022-07-18T08:19:17.344Z"
   },
   {
    "duration": 125,
    "start_time": "2022-07-18T08:19:24.485Z"
   },
   {
    "duration": 113,
    "start_time": "2022-07-18T08:19:36.292Z"
   },
   {
    "duration": 108,
    "start_time": "2022-07-18T08:19:40.837Z"
   },
   {
    "duration": 142,
    "start_time": "2022-07-18T08:20:16.213Z"
   },
   {
    "duration": 119,
    "start_time": "2022-07-18T08:20:41.342Z"
   },
   {
    "duration": 121,
    "start_time": "2022-07-18T08:20:47.208Z"
   },
   {
    "duration": 115,
    "start_time": "2022-07-18T08:21:10.079Z"
   },
   {
    "duration": 121,
    "start_time": "2022-07-18T08:21:14.357Z"
   },
   {
    "duration": 195,
    "start_time": "2022-07-18T08:21:34.412Z"
   },
   {
    "duration": 488,
    "start_time": "2022-07-18T08:26:43.858Z"
   },
   {
    "duration": 148,
    "start_time": "2022-07-18T08:26:54.820Z"
   },
   {
    "duration": 147,
    "start_time": "2022-07-18T08:30:21.792Z"
   },
   {
    "duration": 152,
    "start_time": "2022-07-18T08:30:27.614Z"
   },
   {
    "duration": 147,
    "start_time": "2022-07-18T08:31:20.834Z"
   },
   {
    "duration": 14,
    "start_time": "2022-07-18T08:36:55.298Z"
   },
   {
    "duration": 102,
    "start_time": "2022-07-18T08:37:43.740Z"
   },
   {
    "duration": 102,
    "start_time": "2022-07-18T08:37:54.398Z"
   },
   {
    "duration": 106,
    "start_time": "2022-07-18T08:38:17.477Z"
   },
   {
    "duration": 130,
    "start_time": "2022-07-18T08:39:59.248Z"
   },
   {
    "duration": 137,
    "start_time": "2022-07-18T08:40:07.019Z"
   },
   {
    "duration": 17,
    "start_time": "2022-07-18T08:43:20.493Z"
   },
   {
    "duration": 156,
    "start_time": "2022-07-18T08:44:07.941Z"
   },
   {
    "duration": 98,
    "start_time": "2022-07-18T08:44:44.849Z"
   },
   {
    "duration": 93,
    "start_time": "2022-07-18T08:45:10.762Z"
   },
   {
    "duration": 136,
    "start_time": "2022-07-18T08:45:35.838Z"
   },
   {
    "duration": 74,
    "start_time": "2022-07-18T08:46:33.838Z"
   },
   {
    "duration": 7,
    "start_time": "2022-07-18T08:55:12.450Z"
   },
   {
    "duration": 3,
    "start_time": "2022-07-18T09:00:10.016Z"
   },
   {
    "duration": 21,
    "start_time": "2022-07-18T09:00:10.023Z"
   },
   {
    "duration": 225,
    "start_time": "2022-07-18T09:00:10.046Z"
   },
   {
    "duration": 8,
    "start_time": "2022-07-18T09:00:10.273Z"
   },
   {
    "duration": 13,
    "start_time": "2022-07-18T09:00:10.283Z"
   },
   {
    "duration": 29,
    "start_time": "2022-07-18T09:00:10.298Z"
   },
   {
    "duration": 12,
    "start_time": "2022-07-18T09:00:10.328Z"
   },
   {
    "duration": 76,
    "start_time": "2022-07-18T09:00:10.342Z"
   },
   {
    "duration": 31,
    "start_time": "2022-07-18T09:00:10.419Z"
   },
   {
    "duration": 15,
    "start_time": "2022-07-18T09:00:10.452Z"
   },
   {
    "duration": 20,
    "start_time": "2022-07-18T09:00:10.470Z"
   },
   {
    "duration": 8,
    "start_time": "2022-07-18T09:00:10.492Z"
   },
   {
    "duration": 1865,
    "start_time": "2022-07-18T09:00:10.502Z"
   },
   {
    "duration": 8,
    "start_time": "2022-07-18T09:00:12.368Z"
   },
   {
    "duration": 14,
    "start_time": "2022-07-18T09:00:12.378Z"
   },
   {
    "duration": 7,
    "start_time": "2022-07-18T09:00:12.401Z"
   },
   {
    "duration": 8,
    "start_time": "2022-07-18T09:00:12.410Z"
   },
   {
    "duration": 15,
    "start_time": "2022-07-18T09:00:12.420Z"
   },
   {
    "duration": 22,
    "start_time": "2022-07-18T09:00:12.436Z"
   },
   {
    "duration": 23,
    "start_time": "2022-07-18T09:00:12.460Z"
   },
   {
    "duration": 15,
    "start_time": "2022-07-18T09:00:12.485Z"
   },
   {
    "duration": 11,
    "start_time": "2022-07-18T09:00:12.502Z"
   },
   {
    "duration": 26,
    "start_time": "2022-07-18T09:00:12.515Z"
   },
   {
    "duration": 5,
    "start_time": "2022-07-18T09:00:12.543Z"
   },
   {
    "duration": 75,
    "start_time": "2022-07-18T09:00:12.549Z"
   },
   {
    "duration": 5,
    "start_time": "2022-07-18T09:00:12.626Z"
   },
   {
    "duration": 2236,
    "start_time": "2022-07-18T09:00:12.633Z"
   },
   {
    "duration": 144,
    "start_time": "2022-07-18T09:00:14.870Z"
   },
   {
    "duration": 155,
    "start_time": "2022-07-18T09:00:15.017Z"
   },
   {
    "duration": 152,
    "start_time": "2022-07-18T09:00:15.173Z"
   },
   {
    "duration": 151,
    "start_time": "2022-07-18T09:00:15.327Z"
   },
   {
    "duration": 174,
    "start_time": "2022-07-18T09:00:15.480Z"
   },
   {
    "duration": 210,
    "start_time": "2022-07-18T09:00:15.656Z"
   },
   {
    "duration": 20,
    "start_time": "2022-07-18T09:00:15.869Z"
   },
   {
    "duration": 31,
    "start_time": "2022-07-18T09:17:23.886Z"
   },
   {
    "duration": 15,
    "start_time": "2022-07-18T09:19:38.839Z"
   },
   {
    "duration": 5,
    "start_time": "2022-07-18T09:22:57.946Z"
   },
   {
    "duration": 23,
    "start_time": "2022-07-18T09:23:10.856Z"
   },
   {
    "duration": 33,
    "start_time": "2022-07-18T09:25:15.398Z"
   },
   {
    "duration": 41,
    "start_time": "2022-07-18T09:39:11.582Z"
   },
   {
    "duration": 43,
    "start_time": "2022-07-18T09:42:40.223Z"
   },
   {
    "duration": 57,
    "start_time": "2022-07-18T09:43:43.907Z"
   },
   {
    "duration": 2,
    "start_time": "2022-07-18T09:44:51.349Z"
   },
   {
    "duration": 20,
    "start_time": "2022-07-18T09:44:51.353Z"
   },
   {
    "duration": 81,
    "start_time": "2022-07-18T09:44:51.375Z"
   },
   {
    "duration": 7,
    "start_time": "2022-07-18T09:44:51.458Z"
   },
   {
    "duration": 13,
    "start_time": "2022-07-18T09:44:51.468Z"
   },
   {
    "duration": 27,
    "start_time": "2022-07-18T09:44:51.483Z"
   },
   {
    "duration": 18,
    "start_time": "2022-07-18T09:44:51.512Z"
   },
   {
    "duration": 87,
    "start_time": "2022-07-18T09:44:51.532Z"
   },
   {
    "duration": 33,
    "start_time": "2022-07-18T09:44:51.621Z"
   },
   {
    "duration": 16,
    "start_time": "2022-07-18T09:44:51.656Z"
   },
   {
    "duration": 50,
    "start_time": "2022-07-18T09:44:51.674Z"
   },
   {
    "duration": 7,
    "start_time": "2022-07-18T09:44:51.726Z"
   },
   {
    "duration": 1873,
    "start_time": "2022-07-18T09:44:51.735Z"
   },
   {
    "duration": 7,
    "start_time": "2022-07-18T09:44:53.610Z"
   },
   {
    "duration": 15,
    "start_time": "2022-07-18T09:44:53.619Z"
   },
   {
    "duration": 8,
    "start_time": "2022-07-18T09:44:53.635Z"
   },
   {
    "duration": 8,
    "start_time": "2022-07-18T09:44:53.644Z"
   },
   {
    "duration": 19,
    "start_time": "2022-07-18T09:44:53.654Z"
   },
   {
    "duration": 27,
    "start_time": "2022-07-18T09:44:53.675Z"
   },
   {
    "duration": 24,
    "start_time": "2022-07-18T09:44:53.704Z"
   },
   {
    "duration": 8,
    "start_time": "2022-07-18T09:44:53.730Z"
   },
   {
    "duration": 20,
    "start_time": "2022-07-18T09:44:53.740Z"
   },
   {
    "duration": 42,
    "start_time": "2022-07-18T09:44:53.762Z"
   },
   {
    "duration": 5,
    "start_time": "2022-07-18T09:44:53.806Z"
   },
   {
    "duration": 73,
    "start_time": "2022-07-18T09:44:53.812Z"
   },
   {
    "duration": 5,
    "start_time": "2022-07-18T09:44:53.886Z"
   },
   {
    "duration": 2118,
    "start_time": "2022-07-18T09:44:53.901Z"
   },
   {
    "duration": 144,
    "start_time": "2022-07-18T09:44:56.021Z"
   },
   {
    "duration": 486,
    "start_time": "2022-07-18T09:44:56.168Z"
   },
   {
    "duration": 180,
    "start_time": "2022-07-18T09:44:56.655Z"
   },
   {
    "duration": 118,
    "start_time": "2022-07-18T09:44:56.837Z"
   },
   {
    "duration": 144,
    "start_time": "2022-07-18T09:44:56.957Z"
   },
   {
    "duration": 208,
    "start_time": "2022-07-18T09:44:57.102Z"
   },
   {
    "duration": 17,
    "start_time": "2022-07-18T09:44:57.311Z"
   },
   {
    "duration": 29,
    "start_time": "2022-07-18T09:44:57.329Z"
   },
   {
    "duration": 12,
    "start_time": "2022-07-18T09:44:57.359Z"
   },
   {
    "duration": 30,
    "start_time": "2022-07-18T09:44:57.373Z"
   },
   {
    "duration": 6,
    "start_time": "2022-07-18T09:44:57.405Z"
   },
   {
    "duration": 11,
    "start_time": "2022-07-18T09:44:57.413Z"
   },
   {
    "duration": 9,
    "start_time": "2022-07-18T09:44:57.426Z"
   },
   {
    "duration": 3,
    "start_time": "2022-07-18T10:28:37.622Z"
   },
   {
    "duration": 4,
    "start_time": "2022-07-18T10:28:37.628Z"
   },
   {
    "duration": 81,
    "start_time": "2022-07-18T10:28:37.634Z"
   },
   {
    "duration": 8,
    "start_time": "2022-07-18T10:28:37.716Z"
   },
   {
    "duration": 18,
    "start_time": "2022-07-18T10:28:37.725Z"
   },
   {
    "duration": 16,
    "start_time": "2022-07-18T10:28:37.745Z"
   },
   {
    "duration": 10,
    "start_time": "2022-07-18T10:28:37.762Z"
   },
   {
    "duration": 79,
    "start_time": "2022-07-18T10:28:37.773Z"
   },
   {
    "duration": 30,
    "start_time": "2022-07-18T10:28:37.853Z"
   },
   {
    "duration": 16,
    "start_time": "2022-07-18T10:28:37.884Z"
   },
   {
    "duration": 22,
    "start_time": "2022-07-18T10:28:37.902Z"
   },
   {
    "duration": 7,
    "start_time": "2022-07-18T10:28:37.926Z"
   },
   {
    "duration": 1850,
    "start_time": "2022-07-18T10:28:37.935Z"
   },
   {
    "duration": 16,
    "start_time": "2022-07-18T10:28:39.787Z"
   },
   {
    "duration": 9,
    "start_time": "2022-07-18T10:28:39.805Z"
   },
   {
    "duration": 5,
    "start_time": "2022-07-18T10:28:39.816Z"
   },
   {
    "duration": 6,
    "start_time": "2022-07-18T10:28:39.823Z"
   },
   {
    "duration": 9,
    "start_time": "2022-07-18T10:28:39.830Z"
   },
   {
    "duration": 15,
    "start_time": "2022-07-18T10:28:39.841Z"
   },
   {
    "duration": 48,
    "start_time": "2022-07-18T10:28:39.858Z"
   },
   {
    "duration": 8,
    "start_time": "2022-07-18T10:28:39.907Z"
   },
   {
    "duration": 14,
    "start_time": "2022-07-18T10:28:39.917Z"
   },
   {
    "duration": 13,
    "start_time": "2022-07-18T10:28:39.932Z"
   },
   {
    "duration": 0,
    "start_time": "2022-07-18T10:28:39.948Z"
   },
   {
    "duration": 0,
    "start_time": "2022-07-18T10:28:39.949Z"
   },
   {
    "duration": 0,
    "start_time": "2022-07-18T10:28:39.950Z"
   },
   {
    "duration": 0,
    "start_time": "2022-07-18T10:28:39.951Z"
   },
   {
    "duration": 0,
    "start_time": "2022-07-18T10:28:39.952Z"
   },
   {
    "duration": 0,
    "start_time": "2022-07-18T10:28:39.953Z"
   },
   {
    "duration": 1,
    "start_time": "2022-07-18T10:28:39.954Z"
   },
   {
    "duration": 0,
    "start_time": "2022-07-18T10:28:39.956Z"
   },
   {
    "duration": 0,
    "start_time": "2022-07-18T10:28:39.957Z"
   },
   {
    "duration": 0,
    "start_time": "2022-07-18T10:28:39.958Z"
   },
   {
    "duration": 0,
    "start_time": "2022-07-18T10:28:39.959Z"
   },
   {
    "duration": 0,
    "start_time": "2022-07-18T10:28:40.001Z"
   },
   {
    "duration": 0,
    "start_time": "2022-07-18T10:28:40.003Z"
   },
   {
    "duration": 0,
    "start_time": "2022-07-18T10:28:40.004Z"
   },
   {
    "duration": 0,
    "start_time": "2022-07-18T10:28:40.005Z"
   },
   {
    "duration": 0,
    "start_time": "2022-07-18T10:28:40.005Z"
   },
   {
    "duration": 0,
    "start_time": "2022-07-18T10:28:40.006Z"
   },
   {
    "duration": 0,
    "start_time": "2022-07-18T10:28:40.007Z"
   },
   {
    "duration": 0,
    "start_time": "2022-07-18T10:28:40.008Z"
   },
   {
    "duration": 48,
    "start_time": "2022-07-18T10:39:18.529Z"
   },
   {
    "duration": 46,
    "start_time": "2022-07-18T10:39:26.472Z"
   },
   {
    "duration": 279,
    "start_time": "2022-07-18T10:39:37.443Z"
   },
   {
    "duration": 270,
    "start_time": "2022-07-18T10:40:06.644Z"
   },
   {
    "duration": 255,
    "start_time": "2022-07-18T10:40:36.488Z"
   },
   {
    "duration": 258,
    "start_time": "2022-07-18T10:40:47.538Z"
   },
   {
    "duration": 22,
    "start_time": "2022-07-18T10:41:39.146Z"
   },
   {
    "duration": 6,
    "start_time": "2022-07-18T10:43:06.533Z"
   },
   {
    "duration": 23,
    "start_time": "2022-07-18T10:46:12.969Z"
   },
   {
    "duration": 3,
    "start_time": "2022-07-18T10:46:40.749Z"
   },
   {
    "duration": 89,
    "start_time": "2022-07-18T11:09:05.469Z"
   },
   {
    "duration": 70,
    "start_time": "2022-07-18T11:10:21.714Z"
   },
   {
    "duration": 97,
    "start_time": "2022-07-18T11:11:01.485Z"
   },
   {
    "duration": 146,
    "start_time": "2022-07-18T11:11:25.720Z"
   },
   {
    "duration": 183,
    "start_time": "2022-07-18T11:11:40.718Z"
   },
   {
    "duration": 154,
    "start_time": "2022-07-18T11:12:07.892Z"
   },
   {
    "duration": 197,
    "start_time": "2022-07-18T11:12:13.547Z"
   },
   {
    "duration": 219,
    "start_time": "2022-07-18T11:12:43.256Z"
   },
   {
    "duration": 202,
    "start_time": "2022-07-18T11:12:54.453Z"
   },
   {
    "duration": 51,
    "start_time": "2022-07-18T11:13:06.101Z"
   },
   {
    "duration": 51,
    "start_time": "2022-07-18T11:13:15.925Z"
   },
   {
    "duration": 212,
    "start_time": "2022-07-18T11:13:22.741Z"
   },
   {
    "duration": 252,
    "start_time": "2022-07-18T11:13:51.103Z"
   },
   {
    "duration": 218,
    "start_time": "2022-07-18T11:16:00.142Z"
   },
   {
    "duration": 192,
    "start_time": "2022-07-18T11:16:13.638Z"
   },
   {
    "duration": 180,
    "start_time": "2022-07-18T11:16:28.395Z"
   },
   {
    "duration": 558,
    "start_time": "2022-07-18T11:18:08.761Z"
   },
   {
    "duration": 284,
    "start_time": "2022-07-18T11:18:37.215Z"
   },
   {
    "duration": 293,
    "start_time": "2022-07-18T11:18:45.641Z"
   },
   {
    "duration": 308,
    "start_time": "2022-07-18T11:18:56.260Z"
   },
   {
    "duration": 296,
    "start_time": "2022-07-18T11:21:05.674Z"
   },
   {
    "duration": 251,
    "start_time": "2022-07-18T11:21:22.972Z"
   },
   {
    "duration": 214,
    "start_time": "2022-07-18T11:21:27.658Z"
   },
   {
    "duration": 158,
    "start_time": "2022-07-18T11:21:32.440Z"
   },
   {
    "duration": 176,
    "start_time": "2022-07-18T11:22:08.656Z"
   },
   {
    "duration": 225,
    "start_time": "2022-07-18T11:22:18.740Z"
   },
   {
    "duration": 292,
    "start_time": "2022-07-18T11:22:54.105Z"
   },
   {
    "duration": 304,
    "start_time": "2022-07-18T11:23:03.246Z"
   },
   {
    "duration": 318,
    "start_time": "2022-07-18T11:23:08.768Z"
   },
   {
    "duration": 262,
    "start_time": "2022-07-18T11:23:32.595Z"
   },
   {
    "duration": 287,
    "start_time": "2022-07-18T11:24:16.216Z"
   },
   {
    "duration": 270,
    "start_time": "2022-07-18T11:24:30.559Z"
   },
   {
    "duration": 232,
    "start_time": "2022-07-18T11:25:08.558Z"
   },
   {
    "duration": 343,
    "start_time": "2022-07-18T11:25:13.291Z"
   },
   {
    "duration": 135,
    "start_time": "2022-07-18T11:25:17.557Z"
   },
   {
    "duration": 177,
    "start_time": "2022-07-18T11:25:22.136Z"
   },
   {
    "duration": 168,
    "start_time": "2022-07-18T11:27:00.812Z"
   },
   {
    "duration": 148,
    "start_time": "2022-07-18T11:27:20.346Z"
   },
   {
    "duration": 162,
    "start_time": "2022-07-18T11:27:36.231Z"
   },
   {
    "duration": 270,
    "start_time": "2022-07-18T11:28:12.186Z"
   },
   {
    "duration": 282,
    "start_time": "2022-07-18T11:28:13.097Z"
   },
   {
    "duration": 676,
    "start_time": "2022-07-18T11:28:13.939Z"
   },
   {
    "duration": 233,
    "start_time": "2022-07-18T11:28:14.876Z"
   },
   {
    "duration": 162,
    "start_time": "2022-07-18T11:28:15.767Z"
   },
   {
    "duration": 170,
    "start_time": "2022-07-18T11:29:44.088Z"
   },
   {
    "duration": 146,
    "start_time": "2022-07-18T11:29:57.136Z"
   },
   {
    "duration": 185,
    "start_time": "2022-07-18T11:30:04.820Z"
   },
   {
    "duration": 280,
    "start_time": "2022-07-18T11:30:28.318Z"
   },
   {
    "duration": 236,
    "start_time": "2022-07-18T11:30:40.026Z"
   },
   {
    "duration": 181,
    "start_time": "2022-07-18T11:34:22.304Z"
   },
   {
    "duration": 188,
    "start_time": "2022-07-18T11:34:27.998Z"
   },
   {
    "duration": 200,
    "start_time": "2022-07-18T11:34:33.648Z"
   },
   {
    "duration": 246,
    "start_time": "2022-07-18T11:34:39.839Z"
   },
   {
    "duration": 232,
    "start_time": "2022-07-18T11:34:43.925Z"
   },
   {
    "duration": 149,
    "start_time": "2022-07-18T11:35:47.562Z"
   },
   {
    "duration": 177,
    "start_time": "2022-07-18T11:36:01.870Z"
   },
   {
    "duration": 16,
    "start_time": "2022-07-18T11:37:06.811Z"
   },
   {
    "duration": 15,
    "start_time": "2022-07-18T11:37:36.857Z"
   },
   {
    "duration": 14,
    "start_time": "2022-07-18T11:39:09.624Z"
   },
   {
    "duration": 22,
    "start_time": "2022-07-18T11:50:35.969Z"
   },
   {
    "duration": 20,
    "start_time": "2022-07-18T12:22:22.048Z"
   },
   {
    "duration": 18,
    "start_time": "2022-07-18T12:22:47.548Z"
   },
   {
    "duration": 20,
    "start_time": "2022-07-18T12:23:56.581Z"
   },
   {
    "duration": 16,
    "start_time": "2022-07-18T12:26:11.271Z"
   },
   {
    "duration": 13,
    "start_time": "2022-07-18T12:26:17.743Z"
   },
   {
    "duration": 16,
    "start_time": "2022-07-18T12:35:35.374Z"
   },
   {
    "duration": 23,
    "start_time": "2022-07-18T12:35:43.476Z"
   },
   {
    "duration": 20,
    "start_time": "2022-07-18T12:36:14.657Z"
   },
   {
    "duration": 5,
    "start_time": "2022-07-18T12:36:42.154Z"
   },
   {
    "duration": 6,
    "start_time": "2022-07-18T12:36:51.509Z"
   },
   {
    "duration": 20,
    "start_time": "2022-07-18T12:37:27.321Z"
   },
   {
    "duration": 18,
    "start_time": "2022-07-18T13:02:41.345Z"
   },
   {
    "duration": 22,
    "start_time": "2022-07-18T13:02:49.802Z"
   },
   {
    "duration": 20,
    "start_time": "2022-07-18T13:05:13.974Z"
   },
   {
    "duration": 185,
    "start_time": "2022-07-18T13:10:04.669Z"
   },
   {
    "duration": 170,
    "start_time": "2022-07-18T13:11:19.388Z"
   },
   {
    "duration": 215,
    "start_time": "2022-07-18T13:11:32.693Z"
   },
   {
    "duration": 236,
    "start_time": "2022-07-18T13:11:40.320Z"
   },
   {
    "duration": 232,
    "start_time": "2022-07-18T13:11:46.216Z"
   },
   {
    "duration": 232,
    "start_time": "2022-07-18T13:11:53.042Z"
   },
   {
    "duration": 234,
    "start_time": "2022-07-18T13:13:06.368Z"
   },
   {
    "duration": 245,
    "start_time": "2022-07-18T13:13:11.753Z"
   },
   {
    "duration": 224,
    "start_time": "2022-07-18T13:13:20.444Z"
   },
   {
    "duration": 226,
    "start_time": "2022-07-18T13:13:24.970Z"
   },
   {
    "duration": 239,
    "start_time": "2022-07-18T13:13:33.054Z"
   },
   {
    "duration": 220,
    "start_time": "2022-07-18T13:13:39.223Z"
   },
   {
    "duration": 243,
    "start_time": "2022-07-18T13:14:01.569Z"
   },
   {
    "duration": 243,
    "start_time": "2022-07-18T13:14:02.603Z"
   },
   {
    "duration": 225,
    "start_time": "2022-07-18T13:14:55.492Z"
   },
   {
    "duration": 332,
    "start_time": "2022-07-18T13:15:05.185Z"
   },
   {
    "duration": 212,
    "start_time": "2022-07-18T13:15:15.049Z"
   },
   {
    "duration": 50,
    "start_time": "2022-07-19T06:32:26.911Z"
   },
   {
    "duration": 493,
    "start_time": "2022-07-19T06:32:53.913Z"
   },
   {
    "duration": 459,
    "start_time": "2022-07-19T06:32:54.408Z"
   },
   {
    "duration": 146,
    "start_time": "2022-07-19T06:32:54.869Z"
   },
   {
    "duration": 16,
    "start_time": "2022-07-19T06:32:55.018Z"
   },
   {
    "duration": 11,
    "start_time": "2022-07-19T06:32:55.035Z"
   },
   {
    "duration": 22,
    "start_time": "2022-07-19T06:32:55.048Z"
   },
   {
    "duration": 7,
    "start_time": "2022-07-19T06:32:55.072Z"
   },
   {
    "duration": 93,
    "start_time": "2022-07-19T06:32:55.081Z"
   },
   {
    "duration": 35,
    "start_time": "2022-07-19T06:32:55.176Z"
   },
   {
    "duration": 4,
    "start_time": "2022-07-19T06:32:55.214Z"
   },
   {
    "duration": 19,
    "start_time": "2022-07-19T06:32:55.220Z"
   },
   {
    "duration": 9,
    "start_time": "2022-07-19T06:32:55.240Z"
   },
   {
    "duration": 2244,
    "start_time": "2022-07-19T06:32:55.250Z"
   },
   {
    "duration": 9,
    "start_time": "2022-07-19T06:32:57.495Z"
   },
   {
    "duration": 12,
    "start_time": "2022-07-19T06:32:57.505Z"
   },
   {
    "duration": 8,
    "start_time": "2022-07-19T06:32:57.519Z"
   },
   {
    "duration": 7,
    "start_time": "2022-07-19T06:32:57.529Z"
   },
   {
    "duration": 10,
    "start_time": "2022-07-19T06:32:57.538Z"
   },
   {
    "duration": 20,
    "start_time": "2022-07-19T06:32:57.549Z"
   },
   {
    "duration": 44,
    "start_time": "2022-07-19T06:32:57.570Z"
   },
   {
    "duration": 10,
    "start_time": "2022-07-19T06:32:57.616Z"
   },
   {
    "duration": 13,
    "start_time": "2022-07-19T06:32:57.627Z"
   },
   {
    "duration": 63,
    "start_time": "2022-07-19T06:32:57.642Z"
   },
   {
    "duration": 0,
    "start_time": "2022-07-19T06:32:57.709Z"
   },
   {
    "duration": 0,
    "start_time": "2022-07-19T06:32:57.710Z"
   },
   {
    "duration": 0,
    "start_time": "2022-07-19T06:32:57.712Z"
   },
   {
    "duration": 0,
    "start_time": "2022-07-19T06:32:57.713Z"
   },
   {
    "duration": 0,
    "start_time": "2022-07-19T06:32:57.715Z"
   },
   {
    "duration": 0,
    "start_time": "2022-07-19T06:32:57.716Z"
   },
   {
    "duration": 0,
    "start_time": "2022-07-19T06:32:57.718Z"
   },
   {
    "duration": 0,
    "start_time": "2022-07-19T06:32:57.719Z"
   },
   {
    "duration": 0,
    "start_time": "2022-07-19T06:32:57.720Z"
   },
   {
    "duration": 0,
    "start_time": "2022-07-19T06:32:57.722Z"
   },
   {
    "duration": 0,
    "start_time": "2022-07-19T06:32:57.723Z"
   },
   {
    "duration": 0,
    "start_time": "2022-07-19T06:32:57.724Z"
   },
   {
    "duration": 0,
    "start_time": "2022-07-19T06:32:57.725Z"
   },
   {
    "duration": 0,
    "start_time": "2022-07-19T06:32:57.726Z"
   },
   {
    "duration": 0,
    "start_time": "2022-07-19T06:32:57.727Z"
   },
   {
    "duration": 0,
    "start_time": "2022-07-19T06:32:57.728Z"
   },
   {
    "duration": 0,
    "start_time": "2022-07-19T06:32:57.729Z"
   },
   {
    "duration": 0,
    "start_time": "2022-07-19T06:32:57.731Z"
   },
   {
    "duration": 0,
    "start_time": "2022-07-19T06:32:57.732Z"
   },
   {
    "duration": 0,
    "start_time": "2022-07-19T06:32:57.733Z"
   },
   {
    "duration": 0,
    "start_time": "2022-07-19T06:32:57.734Z"
   },
   {
    "duration": 0,
    "start_time": "2022-07-19T06:32:57.735Z"
   },
   {
    "duration": 0,
    "start_time": "2022-07-19T06:32:57.736Z"
   },
   {
    "duration": 0,
    "start_time": "2022-07-19T06:32:57.737Z"
   },
   {
    "duration": 0,
    "start_time": "2022-07-19T06:32:57.738Z"
   },
   {
    "duration": 0,
    "start_time": "2022-07-19T06:32:57.739Z"
   },
   {
    "duration": 0,
    "start_time": "2022-07-19T06:32:57.740Z"
   },
   {
    "duration": 0,
    "start_time": "2022-07-19T06:32:57.741Z"
   },
   {
    "duration": 0,
    "start_time": "2022-07-19T06:32:57.742Z"
   },
   {
    "duration": 0,
    "start_time": "2022-07-19T06:32:57.743Z"
   },
   {
    "duration": 0,
    "start_time": "2022-07-19T06:32:57.804Z"
   },
   {
    "duration": 0,
    "start_time": "2022-07-19T06:32:57.805Z"
   },
   {
    "duration": 0,
    "start_time": "2022-07-19T06:32:57.807Z"
   },
   {
    "duration": 0,
    "start_time": "2022-07-19T06:32:57.808Z"
   },
   {
    "duration": 0,
    "start_time": "2022-07-19T06:32:57.809Z"
   },
   {
    "duration": 0,
    "start_time": "2022-07-19T06:32:57.811Z"
   },
   {
    "duration": 0,
    "start_time": "2022-07-19T06:32:57.812Z"
   },
   {
    "duration": 8,
    "start_time": "2022-07-19T06:33:08.701Z"
   },
   {
    "duration": 9,
    "start_time": "2022-07-19T06:34:01.240Z"
   },
   {
    "duration": 3,
    "start_time": "2022-07-19T06:34:30.249Z"
   },
   {
    "duration": 8,
    "start_time": "2022-07-19T06:34:30.255Z"
   },
   {
    "duration": 96,
    "start_time": "2022-07-19T06:34:30.265Z"
   },
   {
    "duration": 9,
    "start_time": "2022-07-19T06:34:30.363Z"
   },
   {
    "duration": 31,
    "start_time": "2022-07-19T06:34:30.374Z"
   },
   {
    "duration": 27,
    "start_time": "2022-07-19T06:34:30.407Z"
   },
   {
    "duration": 23,
    "start_time": "2022-07-19T06:34:30.436Z"
   },
   {
    "duration": 109,
    "start_time": "2022-07-19T06:34:30.460Z"
   },
   {
    "duration": 46,
    "start_time": "2022-07-19T06:34:30.571Z"
   },
   {
    "duration": 5,
    "start_time": "2022-07-19T06:34:30.620Z"
   },
   {
    "duration": 29,
    "start_time": "2022-07-19T06:34:30.626Z"
   },
   {
    "duration": 10,
    "start_time": "2022-07-19T06:34:30.657Z"
   },
   {
    "duration": 2018,
    "start_time": "2022-07-19T06:34:30.668Z"
   },
   {
    "duration": 16,
    "start_time": "2022-07-19T06:34:32.688Z"
   },
   {
    "duration": 16,
    "start_time": "2022-07-19T06:34:32.705Z"
   },
   {
    "duration": 6,
    "start_time": "2022-07-19T06:34:32.722Z"
   },
   {
    "duration": 8,
    "start_time": "2022-07-19T06:34:32.729Z"
   },
   {
    "duration": 14,
    "start_time": "2022-07-19T06:34:32.738Z"
   },
   {
    "duration": 12,
    "start_time": "2022-07-19T06:34:32.754Z"
   },
   {
    "duration": 21,
    "start_time": "2022-07-19T06:34:32.767Z"
   },
   {
    "duration": 9,
    "start_time": "2022-07-19T06:34:32.804Z"
   },
   {
    "duration": 14,
    "start_time": "2022-07-19T06:34:32.814Z"
   },
   {
    "duration": 27,
    "start_time": "2022-07-19T06:34:32.830Z"
   },
   {
    "duration": 7,
    "start_time": "2022-07-19T06:34:32.859Z"
   },
   {
    "duration": 76,
    "start_time": "2022-07-19T06:34:32.869Z"
   },
   {
    "duration": 5,
    "start_time": "2022-07-19T06:34:32.947Z"
   },
   {
    "duration": 2259,
    "start_time": "2022-07-19T06:34:32.953Z"
   },
   {
    "duration": 150,
    "start_time": "2022-07-19T06:34:35.214Z"
   },
   {
    "duration": 165,
    "start_time": "2022-07-19T06:34:35.367Z"
   },
   {
    "duration": 606,
    "start_time": "2022-07-19T06:34:35.534Z"
   },
   {
    "duration": 72,
    "start_time": "2022-07-19T06:34:36.142Z"
   },
   {
    "duration": 152,
    "start_time": "2022-07-19T06:34:36.216Z"
   },
   {
    "duration": 131,
    "start_time": "2022-07-19T06:34:36.370Z"
   },
   {
    "duration": 153,
    "start_time": "2022-07-19T06:34:36.503Z"
   },
   {
    "duration": 197,
    "start_time": "2022-07-19T06:34:36.658Z"
   },
   {
    "duration": 20,
    "start_time": "2022-07-19T06:34:36.857Z"
   },
   {
    "duration": 46,
    "start_time": "2022-07-19T06:34:36.878Z"
   },
   {
    "duration": 13,
    "start_time": "2022-07-19T06:34:36.926Z"
   },
   {
    "duration": 168,
    "start_time": "2022-07-19T06:34:36.941Z"
   },
   {
    "duration": 6,
    "start_time": "2022-07-19T06:34:37.111Z"
   },
   {
    "duration": 12,
    "start_time": "2022-07-19T06:34:37.119Z"
   },
   {
    "duration": 12,
    "start_time": "2022-07-19T06:34:37.133Z"
   },
   {
    "duration": 9,
    "start_time": "2022-07-19T06:34:37.147Z"
   },
   {
    "duration": 414,
    "start_time": "2022-07-19T06:34:37.158Z"
   },
   {
    "duration": 5,
    "start_time": "2022-07-19T06:34:37.573Z"
   },
   {
    "duration": 33,
    "start_time": "2022-07-19T06:34:37.579Z"
   },
   {
    "duration": 304,
    "start_time": "2022-07-19T06:34:37.614Z"
   },
   {
    "duration": 320,
    "start_time": "2022-07-19T06:34:37.920Z"
   },
   {
    "duration": 216,
    "start_time": "2022-07-19T06:34:38.241Z"
   },
   {
    "duration": 260,
    "start_time": "2022-07-19T06:34:38.459Z"
   },
   {
    "duration": 203,
    "start_time": "2022-07-19T06:34:38.720Z"
   },
   {
    "duration": 237,
    "start_time": "2022-07-19T06:34:38.924Z"
   },
   {
    "duration": 187,
    "start_time": "2022-07-19T06:34:39.163Z"
   },
   {
    "duration": 154,
    "start_time": "2022-07-19T06:34:39.352Z"
   },
   {
    "duration": 225,
    "start_time": "2022-07-19T06:34:39.509Z"
   },
   {
    "duration": 260,
    "start_time": "2022-07-19T06:34:39.736Z"
   },
   {
    "duration": 272,
    "start_time": "2022-07-19T06:34:39.997Z"
   },
   {
    "duration": 391,
    "start_time": "2022-07-19T06:34:40.271Z"
   },
   {
    "duration": 3,
    "start_time": "2022-07-19T06:34:40.663Z"
   },
   {
    "duration": 15,
    "start_time": "2022-07-19T06:42:35.297Z"
   },
   {
    "duration": 131,
    "start_time": "2022-07-19T06:43:51.628Z"
   },
   {
    "duration": 134,
    "start_time": "2022-07-19T06:44:00.930Z"
   },
   {
    "duration": 127,
    "start_time": "2022-07-19T06:48:58.080Z"
   },
   {
    "duration": 6,
    "start_time": "2022-07-19T06:49:22.871Z"
   },
   {
    "duration": 26,
    "start_time": "2022-07-19T06:51:59.529Z"
   },
   {
    "duration": 10,
    "start_time": "2022-07-19T06:53:49.468Z"
   },
   {
    "duration": 4,
    "start_time": "2022-07-19T06:54:02.502Z"
   },
   {
    "duration": 16,
    "start_time": "2022-07-19T06:54:02.518Z"
   },
   {
    "duration": 95,
    "start_time": "2022-07-19T06:54:02.536Z"
   },
   {
    "duration": 9,
    "start_time": "2022-07-19T06:54:02.633Z"
   },
   {
    "duration": 9,
    "start_time": "2022-07-19T06:54:02.643Z"
   },
   {
    "duration": 18,
    "start_time": "2022-07-19T06:54:02.654Z"
   },
   {
    "duration": 6,
    "start_time": "2022-07-19T06:54:02.673Z"
   },
   {
    "duration": 89,
    "start_time": "2022-07-19T06:54:02.680Z"
   },
   {
    "duration": 54,
    "start_time": "2022-07-19T06:54:02.771Z"
   },
   {
    "duration": 8,
    "start_time": "2022-07-19T06:54:02.827Z"
   },
   {
    "duration": 16,
    "start_time": "2022-07-19T06:54:02.837Z"
   },
   {
    "duration": 7,
    "start_time": "2022-07-19T06:54:02.854Z"
   },
   {
    "duration": 2070,
    "start_time": "2022-07-19T06:54:02.863Z"
   },
   {
    "duration": 7,
    "start_time": "2022-07-19T06:54:04.935Z"
   },
   {
    "duration": 10,
    "start_time": "2022-07-19T06:54:04.945Z"
   },
   {
    "duration": 9,
    "start_time": "2022-07-19T06:54:04.956Z"
   },
   {
    "duration": 10,
    "start_time": "2022-07-19T06:54:04.967Z"
   },
   {
    "duration": 29,
    "start_time": "2022-07-19T06:54:04.979Z"
   },
   {
    "duration": 18,
    "start_time": "2022-07-19T06:54:05.011Z"
   },
   {
    "duration": 189,
    "start_time": "2022-07-19T06:54:05.031Z"
   },
   {
    "duration": 8,
    "start_time": "2022-07-19T06:54:05.221Z"
   },
   {
    "duration": 14,
    "start_time": "2022-07-19T06:54:05.231Z"
   },
   {
    "duration": 29,
    "start_time": "2022-07-19T06:54:05.246Z"
   },
   {
    "duration": 5,
    "start_time": "2022-07-19T06:54:05.276Z"
   },
   {
    "duration": 86,
    "start_time": "2022-07-19T06:54:05.283Z"
   },
   {
    "duration": 5,
    "start_time": "2022-07-19T06:54:05.370Z"
   },
   {
    "duration": 2174,
    "start_time": "2022-07-19T06:54:05.377Z"
   },
   {
    "duration": 164,
    "start_time": "2022-07-19T06:54:07.553Z"
   },
   {
    "duration": 181,
    "start_time": "2022-07-19T06:54:07.719Z"
   },
   {
    "duration": 652,
    "start_time": "2022-07-19T06:54:07.904Z"
   },
   {
    "duration": 80,
    "start_time": "2022-07-19T06:54:08.558Z"
   },
   {
    "duration": 167,
    "start_time": "2022-07-19T06:54:08.639Z"
   },
   {
    "duration": 323,
    "start_time": "2022-07-19T06:54:08.811Z"
   },
   {
    "duration": 149,
    "start_time": "2022-07-19T06:54:09.137Z"
   },
   {
    "duration": 211,
    "start_time": "2022-07-19T06:54:09.288Z"
   },
   {
    "duration": 23,
    "start_time": "2022-07-19T06:54:09.505Z"
   },
   {
    "duration": 36,
    "start_time": "2022-07-19T06:54:09.530Z"
   },
   {
    "duration": 20,
    "start_time": "2022-07-19T06:54:09.568Z"
   },
   {
    "duration": 183,
    "start_time": "2022-07-19T06:54:09.590Z"
   },
   {
    "duration": 6,
    "start_time": "2022-07-19T06:54:09.775Z"
   },
   {
    "duration": 15,
    "start_time": "2022-07-19T06:54:09.782Z"
   },
   {
    "duration": 7,
    "start_time": "2022-07-19T06:54:09.808Z"
   },
   {
    "duration": 11,
    "start_time": "2022-07-19T06:54:09.817Z"
   },
   {
    "duration": 292,
    "start_time": "2022-07-19T06:54:09.830Z"
   },
   {
    "duration": 6,
    "start_time": "2022-07-19T06:54:10.125Z"
   },
   {
    "duration": 32,
    "start_time": "2022-07-19T06:54:10.133Z"
   },
   {
    "duration": 332,
    "start_time": "2022-07-19T06:54:10.168Z"
   },
   {
    "duration": 333,
    "start_time": "2022-07-19T06:54:10.504Z"
   },
   {
    "duration": 220,
    "start_time": "2022-07-19T06:54:10.839Z"
   },
   {
    "duration": 277,
    "start_time": "2022-07-19T06:54:11.061Z"
   },
   {
    "duration": 192,
    "start_time": "2022-07-19T06:54:11.340Z"
   },
   {
    "duration": 243,
    "start_time": "2022-07-19T06:54:11.534Z"
   },
   {
    "duration": 184,
    "start_time": "2022-07-19T06:54:11.779Z"
   },
   {
    "duration": 141,
    "start_time": "2022-07-19T06:54:11.965Z"
   },
   {
    "duration": 219,
    "start_time": "2022-07-19T06:54:12.108Z"
   },
   {
    "duration": 248,
    "start_time": "2022-07-19T06:54:12.329Z"
   },
   {
    "duration": 260,
    "start_time": "2022-07-19T06:54:12.578Z"
   },
   {
    "duration": 454,
    "start_time": "2022-07-19T06:54:12.840Z"
   },
   {
    "duration": 31,
    "start_time": "2022-07-19T06:54:13.296Z"
   },
   {
    "duration": 0,
    "start_time": "2022-07-19T06:54:13.339Z"
   },
   {
    "duration": 12,
    "start_time": "2022-07-19T06:54:19.688Z"
   },
   {
    "duration": 4,
    "start_time": "2022-07-19T06:56:59.615Z"
   },
   {
    "duration": 11,
    "start_time": "2022-07-19T06:56:59.631Z"
   },
   {
    "duration": 107,
    "start_time": "2022-07-19T06:56:59.644Z"
   },
   {
    "duration": 9,
    "start_time": "2022-07-19T06:56:59.753Z"
   },
   {
    "duration": 13,
    "start_time": "2022-07-19T06:56:59.764Z"
   },
   {
    "duration": 34,
    "start_time": "2022-07-19T06:56:59.779Z"
   },
   {
    "duration": 15,
    "start_time": "2022-07-19T06:56:59.817Z"
   },
   {
    "duration": 87,
    "start_time": "2022-07-19T06:56:59.836Z"
   },
   {
    "duration": 38,
    "start_time": "2022-07-19T06:56:59.925Z"
   },
   {
    "duration": 5,
    "start_time": "2022-07-19T06:56:59.966Z"
   },
   {
    "duration": 47,
    "start_time": "2022-07-19T06:56:59.973Z"
   },
   {
    "duration": 31,
    "start_time": "2022-07-19T06:57:00.021Z"
   },
   {
    "duration": 2108,
    "start_time": "2022-07-19T06:57:00.053Z"
   },
   {
    "duration": 10,
    "start_time": "2022-07-19T06:57:02.164Z"
   },
   {
    "duration": 28,
    "start_time": "2022-07-19T06:57:02.178Z"
   },
   {
    "duration": 8,
    "start_time": "2022-07-19T06:57:02.209Z"
   },
   {
    "duration": 17,
    "start_time": "2022-07-19T06:57:02.219Z"
   },
   {
    "duration": 11,
    "start_time": "2022-07-19T06:57:02.239Z"
   },
   {
    "duration": 18,
    "start_time": "2022-07-19T06:57:02.252Z"
   },
   {
    "duration": 37,
    "start_time": "2022-07-19T06:57:02.272Z"
   },
   {
    "duration": 8,
    "start_time": "2022-07-19T06:57:02.310Z"
   },
   {
    "duration": 15,
    "start_time": "2022-07-19T06:57:02.320Z"
   },
   {
    "duration": 31,
    "start_time": "2022-07-19T06:57:02.336Z"
   },
   {
    "duration": 8,
    "start_time": "2022-07-19T06:57:02.369Z"
   },
   {
    "duration": 59,
    "start_time": "2022-07-19T06:57:02.405Z"
   },
   {
    "duration": 6,
    "start_time": "2022-07-19T06:57:02.465Z"
   },
   {
    "duration": 2398,
    "start_time": "2022-07-19T06:57:02.473Z"
   },
   {
    "duration": 156,
    "start_time": "2022-07-19T06:57:04.873Z"
   },
   {
    "duration": 193,
    "start_time": "2022-07-19T06:57:05.031Z"
   },
   {
    "duration": 651,
    "start_time": "2022-07-19T06:57:05.226Z"
   },
   {
    "duration": 78,
    "start_time": "2022-07-19T06:57:05.879Z"
   },
   {
    "duration": 169,
    "start_time": "2022-07-19T06:57:05.959Z"
   },
   {
    "duration": 138,
    "start_time": "2022-07-19T06:57:06.130Z"
   },
   {
    "duration": 166,
    "start_time": "2022-07-19T06:57:06.269Z"
   },
   {
    "duration": 262,
    "start_time": "2022-07-19T06:57:06.437Z"
   },
   {
    "duration": 27,
    "start_time": "2022-07-19T06:57:06.701Z"
   },
   {
    "duration": 45,
    "start_time": "2022-07-19T06:57:06.731Z"
   },
   {
    "duration": 36,
    "start_time": "2022-07-19T06:57:06.782Z"
   },
   {
    "duration": 238,
    "start_time": "2022-07-19T06:57:06.821Z"
   },
   {
    "duration": 6,
    "start_time": "2022-07-19T06:57:07.061Z"
   },
   {
    "duration": 10,
    "start_time": "2022-07-19T06:57:07.069Z"
   },
   {
    "duration": 24,
    "start_time": "2022-07-19T06:57:07.080Z"
   },
   {
    "duration": 5,
    "start_time": "2022-07-19T06:57:07.106Z"
   },
   {
    "duration": 303,
    "start_time": "2022-07-19T06:57:07.114Z"
   },
   {
    "duration": 6,
    "start_time": "2022-07-19T06:57:07.419Z"
   },
   {
    "duration": 29,
    "start_time": "2022-07-19T06:57:07.426Z"
   },
   {
    "duration": 347,
    "start_time": "2022-07-19T06:57:07.457Z"
   },
   {
    "duration": 322,
    "start_time": "2022-07-19T06:57:07.806Z"
   },
   {
    "duration": 237,
    "start_time": "2022-07-19T06:57:08.130Z"
   },
   {
    "duration": 277,
    "start_time": "2022-07-19T06:57:08.369Z"
   },
   {
    "duration": 236,
    "start_time": "2022-07-19T06:57:08.648Z"
   },
   {
    "duration": 272,
    "start_time": "2022-07-19T06:57:08.886Z"
   },
   {
    "duration": 200,
    "start_time": "2022-07-19T06:57:09.160Z"
   },
   {
    "duration": 470,
    "start_time": "2022-07-19T06:57:09.361Z"
   },
   {
    "duration": 254,
    "start_time": "2022-07-19T06:57:09.834Z"
   },
   {
    "duration": 293,
    "start_time": "2022-07-19T06:57:10.090Z"
   },
   {
    "duration": 282,
    "start_time": "2022-07-19T06:57:10.384Z"
   },
   {
    "duration": 274,
    "start_time": "2022-07-19T06:57:10.668Z"
   },
   {
    "duration": 26,
    "start_time": "2022-07-19T06:57:10.945Z"
   },
   {
    "duration": 12,
    "start_time": "2022-07-19T06:57:10.973Z"
   },
   {
    "duration": 9,
    "start_time": "2022-07-19T06:58:01.896Z"
   },
   {
    "duration": 139,
    "start_time": "2022-07-19T06:58:20.939Z"
   },
   {
    "duration": 54,
    "start_time": "2022-07-19T06:58:44.346Z"
   },
   {
    "duration": 147,
    "start_time": "2022-07-19T07:00:05.749Z"
   },
   {
    "duration": 25,
    "start_time": "2022-07-19T07:00:53.233Z"
   },
   {
    "duration": 176,
    "start_time": "2022-07-19T07:03:05.873Z"
   },
   {
    "duration": 131,
    "start_time": "2022-07-19T07:03:28.450Z"
   },
   {
    "duration": 158,
    "start_time": "2022-07-19T07:03:53.115Z"
   },
   {
    "duration": 330,
    "start_time": "2022-07-19T07:16:20.121Z"
   },
   {
    "duration": 316,
    "start_time": "2022-07-19T07:16:25.461Z"
   },
   {
    "duration": 317,
    "start_time": "2022-07-19T07:17:15.635Z"
   },
   {
    "duration": 360,
    "start_time": "2022-07-19T07:17:39.186Z"
   },
   {
    "duration": 356,
    "start_time": "2022-07-19T07:17:56.326Z"
   },
   {
    "duration": 374,
    "start_time": "2022-07-19T07:19:57.304Z"
   },
   {
    "duration": 328,
    "start_time": "2022-07-19T07:20:23.871Z"
   },
   {
    "duration": 669,
    "start_time": "2022-07-19T07:22:14.158Z"
   },
   {
    "duration": 311,
    "start_time": "2022-07-19T07:24:37.716Z"
   },
   {
    "duration": 250,
    "start_time": "2022-07-19T07:24:56.699Z"
   },
   {
    "duration": 217,
    "start_time": "2022-07-19T11:10:57.665Z"
   },
   {
    "duration": 254,
    "start_time": "2022-07-19T11:11:03.035Z"
   },
   {
    "duration": 2,
    "start_time": "2022-07-19T11:12:03.400Z"
   },
   {
    "duration": 13,
    "start_time": "2022-07-19T11:12:03.408Z"
   },
   {
    "duration": 79,
    "start_time": "2022-07-19T11:12:03.423Z"
   },
   {
    "duration": 14,
    "start_time": "2022-07-19T11:12:03.503Z"
   },
   {
    "duration": 11,
    "start_time": "2022-07-19T11:12:03.518Z"
   },
   {
    "duration": 14,
    "start_time": "2022-07-19T11:12:03.530Z"
   },
   {
    "duration": 4,
    "start_time": "2022-07-19T11:12:03.546Z"
   },
   {
    "duration": 98,
    "start_time": "2022-07-19T11:12:03.552Z"
   },
   {
    "duration": 56,
    "start_time": "2022-07-19T11:12:03.652Z"
   },
   {
    "duration": 6,
    "start_time": "2022-07-19T11:12:03.716Z"
   },
   {
    "duration": 16,
    "start_time": "2022-07-19T11:12:03.725Z"
   },
   {
    "duration": 7,
    "start_time": "2022-07-19T11:12:03.742Z"
   },
   {
    "duration": 1972,
    "start_time": "2022-07-19T11:12:03.751Z"
   },
   {
    "duration": 7,
    "start_time": "2022-07-19T11:12:05.725Z"
   },
   {
    "duration": 16,
    "start_time": "2022-07-19T11:12:05.734Z"
   },
   {
    "duration": 6,
    "start_time": "2022-07-19T11:12:05.752Z"
   },
   {
    "duration": 4,
    "start_time": "2022-07-19T11:12:05.760Z"
   },
   {
    "duration": 11,
    "start_time": "2022-07-19T11:12:05.766Z"
   },
   {
    "duration": 32,
    "start_time": "2022-07-19T11:12:05.779Z"
   },
   {
    "duration": 35,
    "start_time": "2022-07-19T11:12:05.812Z"
   },
   {
    "duration": 8,
    "start_time": "2022-07-19T11:12:05.849Z"
   },
   {
    "duration": 20,
    "start_time": "2022-07-19T11:12:05.858Z"
   },
   {
    "duration": 39,
    "start_time": "2022-07-19T11:12:05.880Z"
   },
   {
    "duration": 5,
    "start_time": "2022-07-19T11:12:05.921Z"
   },
   {
    "duration": 67,
    "start_time": "2022-07-19T11:12:05.927Z"
   },
   {
    "duration": 5,
    "start_time": "2022-07-19T11:12:05.995Z"
   },
   {
    "duration": 2529,
    "start_time": "2022-07-19T11:12:06.002Z"
   },
   {
    "duration": 177,
    "start_time": "2022-07-19T11:12:08.533Z"
   },
   {
    "duration": 197,
    "start_time": "2022-07-19T11:12:08.721Z"
   },
   {
    "duration": 620,
    "start_time": "2022-07-19T11:12:08.920Z"
   },
   {
    "duration": 79,
    "start_time": "2022-07-19T11:12:09.541Z"
   },
   {
    "duration": 151,
    "start_time": "2022-07-19T11:12:09.621Z"
   },
   {
    "duration": 114,
    "start_time": "2022-07-19T11:12:09.773Z"
   },
   {
    "duration": 148,
    "start_time": "2022-07-19T11:12:09.889Z"
   },
   {
    "duration": 229,
    "start_time": "2022-07-19T11:12:10.039Z"
   },
   {
    "duration": 17,
    "start_time": "2022-07-19T11:12:10.270Z"
   },
   {
    "duration": 44,
    "start_time": "2022-07-19T11:12:10.289Z"
   },
   {
    "duration": 14,
    "start_time": "2022-07-19T11:12:10.335Z"
   },
   {
    "duration": 166,
    "start_time": "2022-07-19T11:12:10.351Z"
   },
   {
    "duration": 5,
    "start_time": "2022-07-19T11:12:10.519Z"
   },
   {
    "duration": 8,
    "start_time": "2022-07-19T11:12:10.525Z"
   },
   {
    "duration": 6,
    "start_time": "2022-07-19T11:12:10.534Z"
   },
   {
    "duration": 5,
    "start_time": "2022-07-19T11:12:10.542Z"
   },
   {
    "duration": 288,
    "start_time": "2022-07-19T11:12:10.549Z"
   },
   {
    "duration": 5,
    "start_time": "2022-07-19T11:12:10.839Z"
   },
   {
    "duration": 25,
    "start_time": "2022-07-19T11:12:10.845Z"
   },
   {
    "duration": 312,
    "start_time": "2022-07-19T11:12:10.871Z"
   },
   {
    "duration": 334,
    "start_time": "2022-07-19T11:12:11.185Z"
   },
   {
    "duration": 202,
    "start_time": "2022-07-19T11:12:11.521Z"
   },
   {
    "duration": 249,
    "start_time": "2022-07-19T11:12:11.725Z"
   },
   {
    "duration": 193,
    "start_time": "2022-07-19T11:12:11.975Z"
   },
   {
    "duration": 247,
    "start_time": "2022-07-19T11:12:12.170Z"
   },
   {
    "duration": 174,
    "start_time": "2022-07-19T11:12:12.419Z"
   },
   {
    "duration": 141,
    "start_time": "2022-07-19T11:12:12.595Z"
   },
   {
    "duration": 212,
    "start_time": "2022-07-19T11:12:12.737Z"
   },
   {
    "duration": 267,
    "start_time": "2022-07-19T11:12:12.951Z"
   },
   {
    "duration": 244,
    "start_time": "2022-07-19T11:12:13.220Z"
   },
   {
    "duration": 221,
    "start_time": "2022-07-19T11:12:13.465Z"
   },
   {
    "duration": 35,
    "start_time": "2022-07-19T11:12:13.688Z"
   },
   {
    "duration": 147,
    "start_time": "2022-07-19T11:12:13.725Z"
   },
   {
    "duration": 162,
    "start_time": "2022-07-19T11:12:13.873Z"
   },
   {
    "duration": 5,
    "start_time": "2022-07-19T11:13:11.618Z"
   },
   {
    "duration": 600,
    "start_time": "2022-07-19T11:14:42.373Z"
   },
   {
    "duration": 6,
    "start_time": "2022-07-19T11:16:56.737Z"
   },
   {
    "duration": 254,
    "start_time": "2022-07-19T11:17:02.586Z"
   },
   {
    "duration": 5,
    "start_time": "2022-07-19T11:17:17.974Z"
   },
   {
    "duration": 263,
    "start_time": "2022-07-19T11:17:20.836Z"
   },
   {
    "duration": 325,
    "start_time": "2022-07-19T11:17:56.381Z"
   },
   {
    "duration": 267,
    "start_time": "2022-07-19T11:18:05.093Z"
   },
   {
    "duration": 256,
    "start_time": "2022-07-19T11:18:13.480Z"
   },
   {
    "duration": 243,
    "start_time": "2022-07-19T11:19:11.714Z"
   },
   {
    "duration": 4,
    "start_time": "2022-07-19T11:30:22.941Z"
   },
   {
    "duration": 5,
    "start_time": "2022-07-19T11:31:57.626Z"
   },
   {
    "duration": 241,
    "start_time": "2022-07-19T11:32:09.610Z"
   },
   {
    "duration": 8,
    "start_time": "2022-07-19T11:33:25.670Z"
   },
   {
    "duration": 7,
    "start_time": "2022-07-19T11:33:37.115Z"
   },
   {
    "duration": 247,
    "start_time": "2022-07-19T11:33:41.536Z"
   },
   {
    "duration": 6,
    "start_time": "2022-07-19T11:34:28.418Z"
   },
   {
    "duration": 266,
    "start_time": "2022-07-19T11:34:30.776Z"
   },
   {
    "duration": 7,
    "start_time": "2022-07-19T11:34:42.002Z"
   },
   {
    "duration": 254,
    "start_time": "2022-07-19T11:34:45.386Z"
   },
   {
    "duration": 4,
    "start_time": "2022-07-19T11:34:57.961Z"
   },
   {
    "duration": 263,
    "start_time": "2022-07-19T11:34:58.753Z"
   },
   {
    "duration": 5,
    "start_time": "2022-07-19T11:35:11.155Z"
   },
   {
    "duration": 251,
    "start_time": "2022-07-19T11:35:11.668Z"
   },
   {
    "duration": 4,
    "start_time": "2022-07-19T11:36:15.823Z"
   },
   {
    "duration": 3,
    "start_time": "2022-07-19T11:37:07.686Z"
   },
   {
    "duration": 4,
    "start_time": "2022-07-19T11:37:07.693Z"
   },
   {
    "duration": 94,
    "start_time": "2022-07-19T11:37:07.699Z"
   },
   {
    "duration": 9,
    "start_time": "2022-07-19T11:37:07.795Z"
   },
   {
    "duration": 22,
    "start_time": "2022-07-19T11:37:07.805Z"
   },
   {
    "duration": 15,
    "start_time": "2022-07-19T11:37:07.829Z"
   },
   {
    "duration": 12,
    "start_time": "2022-07-19T11:37:07.846Z"
   },
   {
    "duration": 85,
    "start_time": "2022-07-19T11:37:07.860Z"
   },
   {
    "duration": 33,
    "start_time": "2022-07-19T11:37:07.947Z"
   },
   {
    "duration": 12,
    "start_time": "2022-07-19T11:37:08.011Z"
   },
   {
    "duration": 23,
    "start_time": "2022-07-19T11:37:08.025Z"
   },
   {
    "duration": 9,
    "start_time": "2022-07-19T11:37:08.050Z"
   },
   {
    "duration": 2011,
    "start_time": "2022-07-19T11:37:08.060Z"
   },
   {
    "duration": 8,
    "start_time": "2022-07-19T11:37:10.073Z"
   },
   {
    "duration": 31,
    "start_time": "2022-07-19T11:37:10.082Z"
   },
   {
    "duration": 8,
    "start_time": "2022-07-19T11:37:10.119Z"
   },
   {
    "duration": 15,
    "start_time": "2022-07-19T11:37:10.129Z"
   },
   {
    "duration": 21,
    "start_time": "2022-07-19T11:37:10.146Z"
   },
   {
    "duration": 14,
    "start_time": "2022-07-19T11:37:10.169Z"
   },
   {
    "duration": 30,
    "start_time": "2022-07-19T11:37:10.185Z"
   },
   {
    "duration": 15,
    "start_time": "2022-07-19T11:37:10.219Z"
   },
   {
    "duration": 14,
    "start_time": "2022-07-19T11:37:10.236Z"
   },
   {
    "duration": 29,
    "start_time": "2022-07-19T11:37:10.252Z"
   },
   {
    "duration": 5,
    "start_time": "2022-07-19T11:37:10.282Z"
   },
   {
    "duration": 62,
    "start_time": "2022-07-19T11:37:10.304Z"
   },
   {
    "duration": 5,
    "start_time": "2022-07-19T11:37:10.368Z"
   },
   {
    "duration": 2499,
    "start_time": "2022-07-19T11:37:10.375Z"
   },
   {
    "duration": 151,
    "start_time": "2022-07-19T11:37:12.876Z"
   },
   {
    "duration": 165,
    "start_time": "2022-07-19T11:37:13.029Z"
   },
   {
    "duration": 628,
    "start_time": "2022-07-19T11:37:13.198Z"
   },
   {
    "duration": 65,
    "start_time": "2022-07-19T11:37:13.828Z"
   },
   {
    "duration": 158,
    "start_time": "2022-07-19T11:37:13.904Z"
   },
   {
    "duration": 113,
    "start_time": "2022-07-19T11:37:14.064Z"
   },
   {
    "duration": 140,
    "start_time": "2022-07-19T11:37:14.179Z"
   },
   {
    "duration": 203,
    "start_time": "2022-07-19T11:37:14.321Z"
   },
   {
    "duration": 17,
    "start_time": "2022-07-19T11:37:14.525Z"
   },
   {
    "duration": 28,
    "start_time": "2022-07-19T11:37:14.544Z"
   },
   {
    "duration": 43,
    "start_time": "2022-07-19T11:37:14.574Z"
   },
   {
    "duration": 155,
    "start_time": "2022-07-19T11:37:14.618Z"
   },
   {
    "duration": 6,
    "start_time": "2022-07-19T11:37:14.774Z"
   },
   {
    "duration": 10,
    "start_time": "2022-07-19T11:37:14.782Z"
   },
   {
    "duration": 7,
    "start_time": "2022-07-19T11:37:14.813Z"
   },
   {
    "duration": 12,
    "start_time": "2022-07-19T11:37:14.830Z"
   },
   {
    "duration": 283,
    "start_time": "2022-07-19T11:37:14.844Z"
   },
   {
    "duration": 5,
    "start_time": "2022-07-19T11:37:15.129Z"
   },
   {
    "duration": 25,
    "start_time": "2022-07-19T11:37:15.136Z"
   },
   {
    "duration": 359,
    "start_time": "2022-07-19T11:37:15.163Z"
   },
   {
    "duration": 341,
    "start_time": "2022-07-19T11:37:15.523Z"
   },
   {
    "duration": 250,
    "start_time": "2022-07-19T11:37:15.866Z"
   },
   {
    "duration": 4,
    "start_time": "2022-07-19T11:37:16.118Z"
   },
   {
    "duration": 266,
    "start_time": "2022-07-19T11:37:16.124Z"
   },
   {
    "duration": 222,
    "start_time": "2022-07-19T11:37:16.392Z"
   },
   {
    "duration": 305,
    "start_time": "2022-07-19T11:37:16.616Z"
   },
   {
    "duration": 191,
    "start_time": "2022-07-19T11:37:16.923Z"
   },
   {
    "duration": 143,
    "start_time": "2022-07-19T11:37:17.117Z"
   },
   {
    "duration": 219,
    "start_time": "2022-07-19T11:37:17.262Z"
   },
   {
    "duration": 285,
    "start_time": "2022-07-19T11:37:17.484Z"
   },
   {
    "duration": 301,
    "start_time": "2022-07-19T11:37:17.772Z"
   },
   {
    "duration": 682,
    "start_time": "2022-07-19T11:37:18.076Z"
   },
   {
    "duration": 26,
    "start_time": "2022-07-19T11:37:18.759Z"
   },
   {
    "duration": 166,
    "start_time": "2022-07-19T11:37:18.786Z"
   },
   {
    "duration": 172,
    "start_time": "2022-07-19T11:37:18.954Z"
   },
   {
    "duration": 3,
    "start_time": "2022-07-19T11:39:19.302Z"
   },
   {
    "duration": 10,
    "start_time": "2022-07-19T11:39:19.313Z"
   },
   {
    "duration": 91,
    "start_time": "2022-07-19T11:39:19.325Z"
   },
   {
    "duration": 10,
    "start_time": "2022-07-19T11:39:19.418Z"
   },
   {
    "duration": 10,
    "start_time": "2022-07-19T11:39:19.430Z"
   },
   {
    "duration": 16,
    "start_time": "2022-07-19T11:39:19.442Z"
   },
   {
    "duration": 9,
    "start_time": "2022-07-19T11:39:19.460Z"
   },
   {
    "duration": 96,
    "start_time": "2022-07-19T11:39:19.470Z"
   },
   {
    "duration": 57,
    "start_time": "2022-07-19T11:39:19.568Z"
   },
   {
    "duration": 5,
    "start_time": "2022-07-19T11:39:19.626Z"
   },
   {
    "duration": 19,
    "start_time": "2022-07-19T11:39:19.635Z"
   },
   {
    "duration": 11,
    "start_time": "2022-07-19T11:39:19.656Z"
   },
   {
    "duration": 2080,
    "start_time": "2022-07-19T11:39:19.669Z"
   },
   {
    "duration": 10,
    "start_time": "2022-07-19T11:39:21.751Z"
   },
   {
    "duration": 11,
    "start_time": "2022-07-19T11:39:21.762Z"
   },
   {
    "duration": 6,
    "start_time": "2022-07-19T11:39:21.775Z"
   },
   {
    "duration": 5,
    "start_time": "2022-07-19T11:39:21.817Z"
   },
   {
    "duration": 9,
    "start_time": "2022-07-19T11:39:21.824Z"
   },
   {
    "duration": 18,
    "start_time": "2022-07-19T11:39:21.834Z"
   },
   {
    "duration": 21,
    "start_time": "2022-07-19T11:39:21.853Z"
   },
   {
    "duration": 8,
    "start_time": "2022-07-19T11:39:21.875Z"
   },
   {
    "duration": 30,
    "start_time": "2022-07-19T11:39:21.885Z"
   },
   {
    "duration": 33,
    "start_time": "2022-07-19T11:39:21.917Z"
   },
   {
    "duration": 6,
    "start_time": "2022-07-19T11:39:21.952Z"
   },
   {
    "duration": 84,
    "start_time": "2022-07-19T11:39:21.960Z"
   },
   {
    "duration": 5,
    "start_time": "2022-07-19T11:39:22.046Z"
   },
   {
    "duration": 2171,
    "start_time": "2022-07-19T11:39:22.052Z"
   },
   {
    "duration": 157,
    "start_time": "2022-07-19T11:39:24.226Z"
   },
   {
    "duration": 173,
    "start_time": "2022-07-19T11:39:24.388Z"
   },
   {
    "duration": 683,
    "start_time": "2022-07-19T11:39:24.563Z"
   },
   {
    "duration": 3,
    "start_time": "2022-07-19T11:39:25.248Z"
   },
   {
    "duration": 183,
    "start_time": "2022-07-19T11:39:25.252Z"
   },
   {
    "duration": 127,
    "start_time": "2022-07-19T11:39:25.438Z"
   },
   {
    "duration": 154,
    "start_time": "2022-07-19T11:39:25.567Z"
   },
   {
    "duration": 202,
    "start_time": "2022-07-19T11:39:25.723Z"
   },
   {
    "duration": 18,
    "start_time": "2022-07-19T11:39:25.927Z"
   },
   {
    "duration": 28,
    "start_time": "2022-07-19T11:39:25.947Z"
   },
   {
    "duration": 37,
    "start_time": "2022-07-19T11:39:25.977Z"
   },
   {
    "duration": 168,
    "start_time": "2022-07-19T11:39:26.015Z"
   },
   {
    "duration": 6,
    "start_time": "2022-07-19T11:39:26.184Z"
   },
   {
    "duration": 32,
    "start_time": "2022-07-19T11:39:26.192Z"
   },
   {
    "duration": 6,
    "start_time": "2022-07-19T11:39:26.226Z"
   },
   {
    "duration": 6,
    "start_time": "2022-07-19T11:39:26.234Z"
   },
   {
    "duration": 363,
    "start_time": "2022-07-19T11:39:26.242Z"
   },
   {
    "duration": 6,
    "start_time": "2022-07-19T11:39:26.607Z"
   },
   {
    "duration": 46,
    "start_time": "2022-07-19T11:39:26.616Z"
   },
   {
    "duration": 779,
    "start_time": "2022-07-19T11:39:26.664Z"
   },
   {
    "duration": 366,
    "start_time": "2022-07-19T11:39:27.445Z"
   },
   {
    "duration": 219,
    "start_time": "2022-07-19T11:39:27.817Z"
   },
   {
    "duration": 5,
    "start_time": "2022-07-19T11:39:28.038Z"
   },
   {
    "duration": 293,
    "start_time": "2022-07-19T11:39:28.045Z"
   },
   {
    "duration": 202,
    "start_time": "2022-07-19T11:39:28.339Z"
   },
   {
    "duration": 247,
    "start_time": "2022-07-19T11:39:28.542Z"
   },
   {
    "duration": 192,
    "start_time": "2022-07-19T11:39:28.790Z"
   },
   {
    "duration": 137,
    "start_time": "2022-07-19T11:39:28.983Z"
   },
   {
    "duration": 212,
    "start_time": "2022-07-19T11:39:29.122Z"
   },
   {
    "duration": 253,
    "start_time": "2022-07-19T11:39:29.336Z"
   },
   {
    "duration": 259,
    "start_time": "2022-07-19T11:39:29.590Z"
   },
   {
    "duration": 233,
    "start_time": "2022-07-19T11:39:29.851Z"
   },
   {
    "duration": 36,
    "start_time": "2022-07-19T11:39:30.086Z"
   },
   {
    "duration": 161,
    "start_time": "2022-07-19T11:39:30.124Z"
   },
   {
    "duration": 174,
    "start_time": "2022-07-19T11:39:30.287Z"
   },
   {
    "duration": 125,
    "start_time": "2022-07-19T11:44:56.416Z"
   },
   {
    "duration": 115,
    "start_time": "2022-07-19T11:45:01.568Z"
   },
   {
    "duration": 143,
    "start_time": "2022-07-19T11:45:06.791Z"
   },
   {
    "duration": 111,
    "start_time": "2022-07-19T11:45:11.027Z"
   },
   {
    "duration": 133,
    "start_time": "2022-07-19T11:45:18.618Z"
   },
   {
    "duration": 121,
    "start_time": "2022-07-19T11:45:23.703Z"
   },
   {
    "duration": 3,
    "start_time": "2022-07-19T11:45:52.039Z"
   },
   {
    "duration": 6,
    "start_time": "2022-07-19T11:45:52.045Z"
   },
   {
    "duration": 87,
    "start_time": "2022-07-19T11:45:52.053Z"
   },
   {
    "duration": 11,
    "start_time": "2022-07-19T11:45:52.142Z"
   },
   {
    "duration": 14,
    "start_time": "2022-07-19T11:45:52.155Z"
   },
   {
    "duration": 46,
    "start_time": "2022-07-19T11:45:52.171Z"
   },
   {
    "duration": 7,
    "start_time": "2022-07-19T11:45:52.218Z"
   },
   {
    "duration": 96,
    "start_time": "2022-07-19T11:45:52.227Z"
   },
   {
    "duration": 31,
    "start_time": "2022-07-19T11:45:52.325Z"
   },
   {
    "duration": 6,
    "start_time": "2022-07-19T11:45:52.360Z"
   },
   {
    "duration": 49,
    "start_time": "2022-07-19T11:45:52.368Z"
   },
   {
    "duration": 10,
    "start_time": "2022-07-19T11:45:52.419Z"
   },
   {
    "duration": 2052,
    "start_time": "2022-07-19T11:45:52.431Z"
   },
   {
    "duration": 28,
    "start_time": "2022-07-19T11:45:54.485Z"
   },
   {
    "duration": 10,
    "start_time": "2022-07-19T11:45:54.515Z"
   },
   {
    "duration": 8,
    "start_time": "2022-07-19T11:45:54.527Z"
   },
   {
    "duration": 16,
    "start_time": "2022-07-19T11:45:54.536Z"
   },
   {
    "duration": 25,
    "start_time": "2022-07-19T11:45:54.554Z"
   },
   {
    "duration": 21,
    "start_time": "2022-07-19T11:45:54.581Z"
   },
   {
    "duration": 29,
    "start_time": "2022-07-19T11:45:54.612Z"
   },
   {
    "duration": 9,
    "start_time": "2022-07-19T11:45:54.643Z"
   },
   {
    "duration": 18,
    "start_time": "2022-07-19T11:45:54.653Z"
   },
   {
    "duration": 48,
    "start_time": "2022-07-19T11:45:54.673Z"
   },
   {
    "duration": 6,
    "start_time": "2022-07-19T11:45:54.723Z"
   },
   {
    "duration": 76,
    "start_time": "2022-07-19T11:45:54.732Z"
   },
   {
    "duration": 8,
    "start_time": "2022-07-19T11:45:54.811Z"
   },
   {
    "duration": 2351,
    "start_time": "2022-07-19T11:45:54.821Z"
   },
   {
    "duration": 164,
    "start_time": "2022-07-19T11:45:57.174Z"
   },
   {
    "duration": 180,
    "start_time": "2022-07-19T11:45:57.340Z"
   },
   {
    "duration": 1357,
    "start_time": "2022-07-19T11:45:57.522Z"
   },
   {
    "duration": 3,
    "start_time": "2022-07-19T11:45:58.881Z"
   },
   {
    "duration": 203,
    "start_time": "2022-07-19T11:45:58.887Z"
   },
   {
    "duration": 142,
    "start_time": "2022-07-19T11:45:59.092Z"
   },
   {
    "duration": 150,
    "start_time": "2022-07-19T11:45:59.236Z"
   },
   {
    "duration": 239,
    "start_time": "2022-07-19T11:45:59.388Z"
   },
   {
    "duration": 20,
    "start_time": "2022-07-19T11:45:59.629Z"
   },
   {
    "duration": 31,
    "start_time": "2022-07-19T11:45:59.650Z"
   },
   {
    "duration": 41,
    "start_time": "2022-07-19T11:45:59.683Z"
   },
   {
    "duration": 183,
    "start_time": "2022-07-19T11:45:59.726Z"
   },
   {
    "duration": 6,
    "start_time": "2022-07-19T11:45:59.922Z"
   },
   {
    "duration": 10,
    "start_time": "2022-07-19T11:45:59.930Z"
   },
   {
    "duration": 6,
    "start_time": "2022-07-19T11:45:59.942Z"
   },
   {
    "duration": 14,
    "start_time": "2022-07-19T11:45:59.950Z"
   },
   {
    "duration": 377,
    "start_time": "2022-07-19T11:45:59.966Z"
   },
   {
    "duration": 5,
    "start_time": "2022-07-19T11:46:00.344Z"
   },
   {
    "duration": 37,
    "start_time": "2022-07-19T11:46:00.351Z"
   },
   {
    "duration": 354,
    "start_time": "2022-07-19T11:46:00.390Z"
   },
   {
    "duration": 409,
    "start_time": "2022-07-19T11:46:00.746Z"
   },
   {
    "duration": 256,
    "start_time": "2022-07-19T11:46:01.157Z"
   },
   {
    "duration": 9,
    "start_time": "2022-07-19T11:46:01.415Z"
   },
   {
    "duration": 335,
    "start_time": "2022-07-19T11:46:01.427Z"
   },
   {
    "duration": 218,
    "start_time": "2022-07-19T11:46:01.763Z"
   },
   {
    "duration": 271,
    "start_time": "2022-07-19T11:46:01.983Z"
   },
   {
    "duration": 196,
    "start_time": "2022-07-19T11:46:02.255Z"
   },
   {
    "duration": 135,
    "start_time": "2022-07-19T11:46:02.453Z"
   },
   {
    "duration": 208,
    "start_time": "2022-07-19T11:46:02.590Z"
   },
   {
    "duration": 262,
    "start_time": "2022-07-19T11:46:02.800Z"
   },
   {
    "duration": 267,
    "start_time": "2022-07-19T11:46:03.064Z"
   },
   {
    "duration": 267,
    "start_time": "2022-07-19T11:46:03.333Z"
   },
   {
    "duration": 39,
    "start_time": "2022-07-19T11:46:03.602Z"
   },
   {
    "duration": 225,
    "start_time": "2022-07-19T11:46:03.643Z"
   },
   {
    "duration": 181,
    "start_time": "2022-07-19T11:46:03.870Z"
   },
   {
    "duration": 5,
    "start_time": "2022-07-19T11:46:38.590Z"
   },
   {
    "duration": 148,
    "start_time": "2022-07-19T11:49:38.418Z"
   },
   {
    "duration": 9,
    "start_time": "2022-07-19T11:50:07.074Z"
   },
   {
    "duration": 256,
    "start_time": "2022-07-19T11:50:48.942Z"
   },
   {
    "duration": 146,
    "start_time": "2022-07-19T11:50:58.637Z"
   },
   {
    "duration": 172,
    "start_time": "2022-07-19T11:51:11.576Z"
   },
   {
    "duration": 152,
    "start_time": "2022-07-19T11:51:18.595Z"
   },
   {
    "duration": 150,
    "start_time": "2022-07-19T11:53:08.370Z"
   },
   {
    "duration": 162,
    "start_time": "2022-07-19T11:53:15.356Z"
   },
   {
    "duration": 182,
    "start_time": "2022-07-19T11:55:35.804Z"
   },
   {
    "duration": 169,
    "start_time": "2022-07-19T11:55:59.383Z"
   },
   {
    "duration": 267,
    "start_time": "2022-07-19T12:04:27.441Z"
   },
   {
    "duration": 254,
    "start_time": "2022-07-19T12:04:33.844Z"
   },
   {
    "duration": 237,
    "start_time": "2022-07-19T12:04:44.003Z"
   },
   {
    "duration": 181,
    "start_time": "2022-07-19T12:12:23.373Z"
   },
   {
    "duration": 3,
    "start_time": "2022-07-19T12:54:27.744Z"
   },
   {
    "duration": 5,
    "start_time": "2022-07-19T13:05:08.657Z"
   },
   {
    "duration": 4,
    "start_time": "2022-07-19T13:06:42.057Z"
   },
   {
    "duration": 1916,
    "start_time": "2022-07-19T13:07:20.318Z"
   },
   {
    "duration": 191,
    "start_time": "2022-07-19T13:07:31.615Z"
   },
   {
    "duration": 177,
    "start_time": "2022-07-19T13:08:19.382Z"
   },
   {
    "duration": 172,
    "start_time": "2022-07-19T13:12:37.558Z"
   },
   {
    "duration": 184,
    "start_time": "2022-07-19T13:26:33.622Z"
   },
   {
    "duration": 9,
    "start_time": "2022-07-19T13:35:43.165Z"
   },
   {
    "duration": 238,
    "start_time": "2022-07-19T13:39:03.993Z"
   },
   {
    "duration": 97,
    "start_time": "2022-07-19T13:41:48.458Z"
   },
   {
    "duration": 91,
    "start_time": "2022-07-19T13:42:42.443Z"
   },
   {
    "duration": 8,
    "start_time": "2022-07-19T13:46:17.480Z"
   },
   {
    "duration": 128,
    "start_time": "2022-07-19T13:46:24.595Z"
   },
   {
    "duration": 118,
    "start_time": "2022-07-19T13:47:45.863Z"
   },
   {
    "duration": 119,
    "start_time": "2022-07-19T13:47:52.310Z"
   },
   {
    "duration": 156,
    "start_time": "2022-07-19T13:48:30.227Z"
   },
   {
    "duration": 165,
    "start_time": "2022-07-19T13:49:40.570Z"
   },
   {
    "duration": 178,
    "start_time": "2022-07-19T13:50:07.678Z"
   },
   {
    "duration": 109,
    "start_time": "2022-07-19T13:50:34.250Z"
   },
   {
    "duration": 206,
    "start_time": "2022-07-19T13:50:39.485Z"
   },
   {
    "duration": 82,
    "start_time": "2022-07-19T13:51:05.017Z"
   },
   {
    "duration": 239,
    "start_time": "2022-07-19T13:51:10.008Z"
   },
   {
    "duration": 329,
    "start_time": "2022-07-19T13:51:52.785Z"
   },
   {
    "duration": 5,
    "start_time": "2022-07-19T13:53:04.551Z"
   },
   {
    "duration": 5,
    "start_time": "2022-07-19T13:53:21.787Z"
   },
   {
    "duration": 3,
    "start_time": "2022-07-19T14:09:57.199Z"
   },
   {
    "duration": 139,
    "start_time": "2022-07-19T14:47:34.301Z"
   },
   {
    "duration": 198,
    "start_time": "2022-07-19T14:52:53.235Z"
   },
   {
    "duration": 192,
    "start_time": "2022-07-19T14:52:58.658Z"
   },
   {
    "duration": 143,
    "start_time": "2022-07-19T14:54:08.083Z"
   },
   {
    "duration": 16,
    "start_time": "2022-07-19T14:58:23.788Z"
   },
   {
    "duration": 27,
    "start_time": "2022-07-19T14:58:38.699Z"
   },
   {
    "duration": 3,
    "start_time": "2022-07-19T15:00:59.504Z"
   },
   {
    "duration": 5,
    "start_time": "2022-07-19T15:00:59.509Z"
   },
   {
    "duration": 79,
    "start_time": "2022-07-19T15:00:59.515Z"
   },
   {
    "duration": 9,
    "start_time": "2022-07-19T15:00:59.598Z"
   },
   {
    "duration": 10,
    "start_time": "2022-07-19T15:00:59.609Z"
   },
   {
    "duration": 16,
    "start_time": "2022-07-19T15:00:59.623Z"
   },
   {
    "duration": 7,
    "start_time": "2022-07-19T15:00:59.640Z"
   },
   {
    "duration": 86,
    "start_time": "2022-07-19T15:00:59.649Z"
   },
   {
    "duration": 32,
    "start_time": "2022-07-19T15:00:59.737Z"
   },
   {
    "duration": 6,
    "start_time": "2022-07-19T15:00:59.771Z"
   },
   {
    "duration": 33,
    "start_time": "2022-07-19T15:00:59.779Z"
   },
   {
    "duration": 9,
    "start_time": "2022-07-19T15:00:59.814Z"
   },
   {
    "duration": 22,
    "start_time": "2022-07-19T15:01:38.238Z"
   },
   {
    "duration": 8,
    "start_time": "2022-07-19T15:01:38.262Z"
   },
   {
    "duration": 85,
    "start_time": "2022-07-19T15:01:38.279Z"
   },
   {
    "duration": 48,
    "start_time": "2022-07-19T15:01:38.366Z"
   },
   {
    "duration": 5,
    "start_time": "2022-07-19T15:01:38.415Z"
   },
   {
    "duration": 22,
    "start_time": "2022-07-19T15:01:38.421Z"
   },
   {
    "duration": 9,
    "start_time": "2022-07-19T15:01:38.445Z"
   },
   {
    "duration": 2085,
    "start_time": "2022-07-19T15:01:38.455Z"
   },
   {
    "duration": 8,
    "start_time": "2022-07-19T15:01:40.542Z"
   },
   {
    "duration": 10,
    "start_time": "2022-07-19T15:01:40.552Z"
   },
   {
    "duration": 6,
    "start_time": "2022-07-19T15:01:40.564Z"
   },
   {
    "duration": 37,
    "start_time": "2022-07-19T15:01:40.572Z"
   },
   {
    "duration": 9,
    "start_time": "2022-07-19T15:01:40.610Z"
   },
   {
    "duration": 12,
    "start_time": "2022-07-19T15:01:40.621Z"
   },
   {
    "duration": 22,
    "start_time": "2022-07-19T15:01:40.635Z"
   },
   {
    "duration": 8,
    "start_time": "2022-07-19T15:01:40.658Z"
   },
   {
    "duration": 44,
    "start_time": "2022-07-19T15:01:40.668Z"
   },
   {
    "duration": 29,
    "start_time": "2022-07-19T15:01:40.714Z"
   },
   {
    "duration": 6,
    "start_time": "2022-07-19T15:01:40.745Z"
   },
   {
    "duration": 83,
    "start_time": "2022-07-19T15:01:40.753Z"
   },
   {
    "duration": 6,
    "start_time": "2022-07-19T15:01:40.838Z"
   },
   {
    "duration": 2155,
    "start_time": "2022-07-19T15:01:40.845Z"
   },
   {
    "duration": 145,
    "start_time": "2022-07-19T15:01:43.002Z"
   },
   {
    "duration": 168,
    "start_time": "2022-07-19T15:01:43.149Z"
   },
   {
    "duration": 632,
    "start_time": "2022-07-19T15:01:43.318Z"
   },
   {
    "duration": 3,
    "start_time": "2022-07-19T15:01:43.951Z"
   },
   {
    "duration": 167,
    "start_time": "2022-07-19T15:01:43.955Z"
   },
   {
    "duration": 998,
    "start_time": "2022-07-19T15:01:44.124Z"
   },
   {
    "duration": 163,
    "start_time": "2022-07-19T15:01:45.124Z"
   },
   {
    "duration": 228,
    "start_time": "2022-07-19T15:01:45.289Z"
   },
   {
    "duration": 19,
    "start_time": "2022-07-19T15:01:45.519Z"
   },
   {
    "duration": 30,
    "start_time": "2022-07-19T15:01:45.539Z"
   },
   {
    "duration": 37,
    "start_time": "2022-07-19T15:01:45.570Z"
   },
   {
    "duration": 141,
    "start_time": "2022-07-19T15:01:45.609Z"
   },
   {
    "duration": 5,
    "start_time": "2022-07-19T15:01:45.752Z"
   },
   {
    "duration": 8,
    "start_time": "2022-07-19T15:01:45.758Z"
   },
   {
    "duration": 6,
    "start_time": "2022-07-19T15:01:45.767Z"
   },
   {
    "duration": 5,
    "start_time": "2022-07-19T15:01:45.775Z"
   },
   {
    "duration": 253,
    "start_time": "2022-07-19T15:01:45.804Z"
   },
   {
    "duration": 4,
    "start_time": "2022-07-19T15:01:46.058Z"
   },
   {
    "duration": 32,
    "start_time": "2022-07-19T15:01:46.064Z"
   },
   {
    "duration": 305,
    "start_time": "2022-07-19T15:01:46.103Z"
   },
   {
    "duration": 370,
    "start_time": "2022-07-19T15:01:46.409Z"
   },
   {
    "duration": 217,
    "start_time": "2022-07-19T15:01:46.781Z"
   },
   {
    "duration": 259,
    "start_time": "2022-07-19T15:01:47.003Z"
   },
   {
    "duration": 165,
    "start_time": "2022-07-19T15:01:47.264Z"
   },
   {
    "duration": 187,
    "start_time": "2022-07-19T15:01:47.431Z"
   },
   {
    "duration": 213,
    "start_time": "2022-07-19T15:01:47.619Z"
   },
   {
    "duration": 175,
    "start_time": "2022-07-19T15:01:47.834Z"
   },
   {
    "duration": 137,
    "start_time": "2022-07-19T15:01:48.010Z"
   },
   {
    "duration": 198,
    "start_time": "2022-07-19T15:01:48.148Z"
   },
   {
    "duration": 243,
    "start_time": "2022-07-19T15:01:48.348Z"
   },
   {
    "duration": 242,
    "start_time": "2022-07-19T15:01:48.593Z"
   },
   {
    "duration": 215,
    "start_time": "2022-07-19T15:01:48.836Z"
   },
   {
    "duration": 26,
    "start_time": "2022-07-19T15:01:49.053Z"
   },
   {
    "duration": 151,
    "start_time": "2022-07-19T15:01:49.080Z"
   },
   {
    "duration": 143,
    "start_time": "2022-07-19T15:01:49.233Z"
   },
   {
    "duration": 176,
    "start_time": "2022-07-19T15:01:49.378Z"
   },
   {
    "duration": 95,
    "start_time": "2022-07-19T15:01:49.555Z"
   },
   {
    "duration": 213,
    "start_time": "2022-07-19T15:01:49.651Z"
   },
   {
    "duration": 152,
    "start_time": "2022-07-19T15:01:49.866Z"
   },
   {
    "duration": 25,
    "start_time": "2022-07-19T15:02:15.532Z"
   },
   {
    "duration": 3,
    "start_time": "2022-07-19T15:02:15.558Z"
   },
   {
    "duration": 6,
    "start_time": "2022-07-19T15:02:15.562Z"
   },
   {
    "duration": 83,
    "start_time": "2022-07-19T15:02:15.569Z"
   },
   {
    "duration": 9,
    "start_time": "2022-07-19T15:02:15.654Z"
   },
   {
    "duration": 7,
    "start_time": "2022-07-19T15:02:15.671Z"
   },
   {
    "duration": 27,
    "start_time": "2022-07-19T15:02:15.679Z"
   },
   {
    "duration": 4,
    "start_time": "2022-07-19T15:02:15.708Z"
   },
   {
    "duration": 78,
    "start_time": "2022-07-19T15:02:15.713Z"
   },
   {
    "duration": 32,
    "start_time": "2022-07-19T15:02:15.803Z"
   },
   {
    "duration": 4,
    "start_time": "2022-07-19T15:02:15.837Z"
   },
   {
    "duration": 21,
    "start_time": "2022-07-19T15:02:15.843Z"
   },
   {
    "duration": 8,
    "start_time": "2022-07-19T15:02:15.865Z"
   },
   {
    "duration": 2072,
    "start_time": "2022-07-19T15:02:15.875Z"
   },
   {
    "duration": 7,
    "start_time": "2022-07-19T15:02:17.949Z"
   },
   {
    "duration": 13,
    "start_time": "2022-07-19T15:02:17.958Z"
   },
   {
    "duration": 7,
    "start_time": "2022-07-19T15:02:17.973Z"
   },
   {
    "duration": 6,
    "start_time": "2022-07-19T15:02:18.004Z"
   },
   {
    "duration": 11,
    "start_time": "2022-07-19T15:02:18.011Z"
   },
   {
    "duration": 13,
    "start_time": "2022-07-19T15:02:18.024Z"
   },
   {
    "duration": 23,
    "start_time": "2022-07-19T15:02:18.039Z"
   },
   {
    "duration": 8,
    "start_time": "2022-07-19T15:02:18.064Z"
   },
   {
    "duration": 37,
    "start_time": "2022-07-19T15:02:18.074Z"
   },
   {
    "duration": 34,
    "start_time": "2022-07-19T15:02:18.113Z"
   },
   {
    "duration": 7,
    "start_time": "2022-07-19T15:02:18.148Z"
   },
   {
    "duration": 80,
    "start_time": "2022-07-19T15:02:18.157Z"
   },
   {
    "duration": 6,
    "start_time": "2022-07-19T15:02:18.239Z"
   },
   {
    "duration": 2100,
    "start_time": "2022-07-19T15:02:18.246Z"
   },
   {
    "duration": 144,
    "start_time": "2022-07-19T15:02:20.348Z"
   },
   {
    "duration": 168,
    "start_time": "2022-07-19T15:02:20.494Z"
   },
   {
    "duration": 644,
    "start_time": "2022-07-19T15:02:20.664Z"
   },
   {
    "duration": 3,
    "start_time": "2022-07-19T15:02:21.310Z"
   },
   {
    "duration": 158,
    "start_time": "2022-07-19T15:02:21.314Z"
   },
   {
    "duration": 115,
    "start_time": "2022-07-19T15:02:21.473Z"
   },
   {
    "duration": 131,
    "start_time": "2022-07-19T15:02:21.590Z"
   },
   {
    "duration": 197,
    "start_time": "2022-07-19T15:02:21.723Z"
   },
   {
    "duration": 18,
    "start_time": "2022-07-19T15:02:21.922Z"
   },
   {
    "duration": 32,
    "start_time": "2022-07-19T15:02:21.942Z"
   },
   {
    "duration": 36,
    "start_time": "2022-07-19T15:02:21.976Z"
   },
   {
    "duration": 164,
    "start_time": "2022-07-19T15:02:22.014Z"
   },
   {
    "duration": 6,
    "start_time": "2022-07-19T15:02:22.180Z"
   },
   {
    "duration": 18,
    "start_time": "2022-07-19T15:02:22.187Z"
   },
   {
    "duration": 6,
    "start_time": "2022-07-19T15:02:22.206Z"
   },
   {
    "duration": 6,
    "start_time": "2022-07-19T15:02:22.213Z"
   },
   {
    "duration": 282,
    "start_time": "2022-07-19T15:02:22.221Z"
   },
   {
    "duration": 4,
    "start_time": "2022-07-19T15:02:22.506Z"
   },
   {
    "duration": 27,
    "start_time": "2022-07-19T15:02:22.512Z"
   },
   {
    "duration": 323,
    "start_time": "2022-07-19T15:02:22.541Z"
   },
   {
    "duration": 342,
    "start_time": "2022-07-19T15:02:22.866Z"
   },
   {
    "duration": 227,
    "start_time": "2022-07-19T15:02:23.210Z"
   },
   {
    "duration": 270,
    "start_time": "2022-07-19T15:02:23.439Z"
   },
   {
    "duration": 167,
    "start_time": "2022-07-19T15:02:23.711Z"
   },
   {
    "duration": 202,
    "start_time": "2022-07-19T15:02:23.879Z"
   },
   {
    "duration": 223,
    "start_time": "2022-07-19T15:02:24.083Z"
   },
   {
    "duration": 180,
    "start_time": "2022-07-19T15:02:24.309Z"
   },
   {
    "duration": 138,
    "start_time": "2022-07-19T15:02:24.491Z"
   },
   {
    "duration": 209,
    "start_time": "2022-07-19T15:02:24.631Z"
   },
   {
    "duration": 250,
    "start_time": "2022-07-19T15:02:24.841Z"
   },
   {
    "duration": 261,
    "start_time": "2022-07-19T15:02:25.093Z"
   },
   {
    "duration": 226,
    "start_time": "2022-07-19T15:02:25.356Z"
   },
   {
    "duration": 33,
    "start_time": "2022-07-19T15:02:25.584Z"
   },
   {
    "duration": 149,
    "start_time": "2022-07-19T15:02:25.618Z"
   },
   {
    "duration": 168,
    "start_time": "2022-07-19T15:02:25.769Z"
   },
   {
    "duration": 198,
    "start_time": "2022-07-19T15:02:25.939Z"
   },
   {
    "duration": 120,
    "start_time": "2022-07-19T15:02:26.138Z"
   },
   {
    "duration": 207,
    "start_time": "2022-07-19T15:02:26.260Z"
   },
   {
    "duration": 187,
    "start_time": "2022-07-19T15:03:20.845Z"
   },
   {
    "duration": 25453,
    "start_time": "2022-07-19T15:03:49.292Z"
   },
   {
    "duration": 26645,
    "start_time": "2022-07-19T15:05:11.512Z"
   },
   {
    "duration": 540,
    "start_time": "2022-07-20T06:40:39.015Z"
   },
   {
    "duration": 184,
    "start_time": "2022-07-20T06:40:46.848Z"
   },
   {
    "duration": 371,
    "start_time": "2022-07-20T06:40:47.034Z"
   },
   {
    "duration": 137,
    "start_time": "2022-07-20T06:40:47.406Z"
   },
   {
    "duration": 13,
    "start_time": "2022-07-20T06:40:47.546Z"
   },
   {
    "duration": 8,
    "start_time": "2022-07-20T06:40:47.560Z"
   },
   {
    "duration": 19,
    "start_time": "2022-07-20T06:40:47.570Z"
   },
   {
    "duration": 6,
    "start_time": "2022-07-20T06:40:47.591Z"
   },
   {
    "duration": 80,
    "start_time": "2022-07-20T06:40:47.599Z"
   },
   {
    "duration": 37,
    "start_time": "2022-07-20T06:40:47.680Z"
   },
   {
    "duration": 4,
    "start_time": "2022-07-20T06:40:47.719Z"
   },
   {
    "duration": 19,
    "start_time": "2022-07-20T06:40:47.725Z"
   },
   {
    "duration": 11,
    "start_time": "2022-07-20T06:40:47.745Z"
   },
   {
    "duration": 2034,
    "start_time": "2022-07-20T06:40:47.759Z"
   },
   {
    "duration": 8,
    "start_time": "2022-07-20T06:40:49.795Z"
   },
   {
    "duration": 9,
    "start_time": "2022-07-20T06:40:49.805Z"
   },
   {
    "duration": 6,
    "start_time": "2022-07-20T06:40:49.816Z"
   },
   {
    "duration": 4,
    "start_time": "2022-07-20T06:40:49.824Z"
   },
   {
    "duration": 9,
    "start_time": "2022-07-20T06:40:49.830Z"
   },
   {
    "duration": 19,
    "start_time": "2022-07-20T06:40:49.841Z"
   },
   {
    "duration": 22,
    "start_time": "2022-07-20T06:40:49.862Z"
   },
   {
    "duration": 24,
    "start_time": "2022-07-20T06:40:49.886Z"
   },
   {
    "duration": 12,
    "start_time": "2022-07-20T06:40:49.912Z"
   },
   {
    "duration": 29,
    "start_time": "2022-07-20T06:40:49.926Z"
   },
   {
    "duration": 5,
    "start_time": "2022-07-20T06:40:49.957Z"
   },
   {
    "duration": 88,
    "start_time": "2022-07-20T06:40:49.964Z"
   },
   {
    "duration": 5,
    "start_time": "2022-07-20T06:40:50.054Z"
   },
   {
    "duration": 2285,
    "start_time": "2022-07-20T06:40:50.061Z"
   },
   {
    "duration": 146,
    "start_time": "2022-07-20T06:40:52.350Z"
   },
   {
    "duration": 164,
    "start_time": "2022-07-20T06:40:52.498Z"
   },
   {
    "duration": 630,
    "start_time": "2022-07-20T06:40:52.664Z"
   },
   {
    "duration": 2,
    "start_time": "2022-07-20T06:40:53.296Z"
   },
   {
    "duration": 146,
    "start_time": "2022-07-20T06:40:53.304Z"
   },
   {
    "duration": 115,
    "start_time": "2022-07-20T06:40:53.452Z"
   },
   {
    "duration": 234,
    "start_time": "2022-07-20T06:40:53.569Z"
   },
   {
    "duration": 189,
    "start_time": "2022-07-20T06:40:53.805Z"
   },
   {
    "duration": 24,
    "start_time": "2022-07-20T06:40:53.996Z"
   },
   {
    "duration": 29,
    "start_time": "2022-07-20T06:40:54.021Z"
   },
   {
    "duration": 14,
    "start_time": "2022-07-20T06:40:54.051Z"
   },
   {
    "duration": 187,
    "start_time": "2022-07-20T06:40:54.067Z"
   },
   {
    "duration": 5,
    "start_time": "2022-07-20T06:40:54.256Z"
   },
   {
    "duration": 11,
    "start_time": "2022-07-20T06:40:54.263Z"
   },
   {
    "duration": 13,
    "start_time": "2022-07-20T06:40:54.276Z"
   },
   {
    "duration": 13,
    "start_time": "2022-07-20T06:40:54.291Z"
   },
   {
    "duration": 280,
    "start_time": "2022-07-20T06:40:54.305Z"
   },
   {
    "duration": 4,
    "start_time": "2022-07-20T06:40:54.586Z"
   },
   {
    "duration": 30,
    "start_time": "2022-07-20T06:40:54.592Z"
   },
   {
    "duration": 307,
    "start_time": "2022-07-20T06:40:54.623Z"
   },
   {
    "duration": 320,
    "start_time": "2022-07-20T06:40:54.932Z"
   },
   {
    "duration": 224,
    "start_time": "2022-07-20T06:40:55.254Z"
   },
   {
    "duration": 240,
    "start_time": "2022-07-20T06:40:55.480Z"
   },
   {
    "duration": 272,
    "start_time": "2022-07-20T06:40:55.721Z"
   },
   {
    "duration": 195,
    "start_time": "2022-07-20T06:40:55.995Z"
   },
   {
    "duration": 223,
    "start_time": "2022-07-20T06:40:56.192Z"
   },
   {
    "duration": 205,
    "start_time": "2022-07-20T06:40:56.417Z"
   },
   {
    "duration": 189,
    "start_time": "2022-07-20T06:40:56.624Z"
   },
   {
    "duration": 204,
    "start_time": "2022-07-20T06:40:56.815Z"
   },
   {
    "duration": 257,
    "start_time": "2022-07-20T06:40:57.020Z"
   },
   {
    "duration": 245,
    "start_time": "2022-07-20T06:40:57.279Z"
   },
   {
    "duration": 220,
    "start_time": "2022-07-20T06:40:57.526Z"
   },
   {
    "duration": 24,
    "start_time": "2022-07-20T06:40:57.747Z"
   },
   {
    "duration": 152,
    "start_time": "2022-07-20T06:40:57.772Z"
   },
   {
    "duration": 151,
    "start_time": "2022-07-20T06:40:57.925Z"
   },
   {
    "duration": 200,
    "start_time": "2022-07-20T06:40:58.078Z"
   },
   {
    "duration": 98,
    "start_time": "2022-07-20T06:40:58.280Z"
   },
   {
    "duration": 358,
    "start_time": "2022-07-20T06:40:58.380Z"
   },
   {
    "duration": 138,
    "start_time": "2022-07-20T06:40:58.740Z"
   },
   {
    "duration": 26037,
    "start_time": "2022-07-20T06:40:58.880Z"
   },
   {
    "duration": 25,
    "start_time": "2022-07-20T06:41:24.919Z"
   },
   {
    "duration": 26920,
    "start_time": "2022-07-20T06:43:00.885Z"
   },
   {
    "duration": 2,
    "start_time": "2022-07-20T07:06:48.252Z"
   },
   {
    "duration": 5,
    "start_time": "2022-07-20T07:06:48.259Z"
   },
   {
    "duration": 513,
    "start_time": "2022-07-20T07:06:48.266Z"
   },
   {
    "duration": 73,
    "start_time": "2022-07-20T07:06:48.781Z"
   },
   {
    "duration": 9,
    "start_time": "2022-07-20T07:06:48.856Z"
   },
   {
    "duration": 11,
    "start_time": "2022-07-20T07:06:48.868Z"
   },
   {
    "duration": 29,
    "start_time": "2022-07-20T07:06:48.881Z"
   },
   {
    "duration": 11,
    "start_time": "2022-07-20T07:06:48.911Z"
   },
   {
    "duration": 66,
    "start_time": "2022-07-20T07:06:48.924Z"
   },
   {
    "duration": 36,
    "start_time": "2022-07-20T07:06:48.992Z"
   },
   {
    "duration": 6,
    "start_time": "2022-07-20T07:06:49.031Z"
   },
   {
    "duration": 15,
    "start_time": "2022-07-20T07:06:49.040Z"
   },
   {
    "duration": 9,
    "start_time": "2022-07-20T07:06:49.056Z"
   },
   {
    "duration": 2051,
    "start_time": "2022-07-20T07:06:49.067Z"
   },
   {
    "duration": 8,
    "start_time": "2022-07-20T07:06:51.120Z"
   },
   {
    "duration": 10,
    "start_time": "2022-07-20T07:06:51.130Z"
   },
   {
    "duration": 7,
    "start_time": "2022-07-20T07:06:51.142Z"
   },
   {
    "duration": 8,
    "start_time": "2022-07-20T07:06:51.151Z"
   },
   {
    "duration": 8,
    "start_time": "2022-07-20T07:06:51.161Z"
   },
   {
    "duration": 37,
    "start_time": "2022-07-20T07:06:51.171Z"
   },
   {
    "duration": 21,
    "start_time": "2022-07-20T07:06:51.210Z"
   },
   {
    "duration": 8,
    "start_time": "2022-07-20T07:06:51.232Z"
   },
   {
    "duration": 13,
    "start_time": "2022-07-20T07:06:51.241Z"
   },
   {
    "duration": 49,
    "start_time": "2022-07-20T07:06:51.256Z"
   },
   {
    "duration": 6,
    "start_time": "2022-07-20T07:06:51.306Z"
   },
   {
    "duration": 58,
    "start_time": "2022-07-20T07:06:51.313Z"
   },
   {
    "duration": 5,
    "start_time": "2022-07-20T07:06:51.373Z"
   },
   {
    "duration": 2012,
    "start_time": "2022-07-20T07:06:51.380Z"
   },
   {
    "duration": 142,
    "start_time": "2022-07-20T07:06:53.393Z"
   },
   {
    "duration": 157,
    "start_time": "2022-07-20T07:06:53.539Z"
   },
   {
    "duration": 593,
    "start_time": "2022-07-20T07:06:53.698Z"
   },
   {
    "duration": 11,
    "start_time": "2022-07-20T07:06:54.293Z"
   },
   {
    "duration": 144,
    "start_time": "2022-07-20T07:06:54.306Z"
   },
   {
    "duration": 112,
    "start_time": "2022-07-20T07:06:54.452Z"
   },
   {
    "duration": 134,
    "start_time": "2022-07-20T07:06:54.566Z"
   },
   {
    "duration": 193,
    "start_time": "2022-07-20T07:06:54.704Z"
   },
   {
    "duration": 23,
    "start_time": "2022-07-20T07:06:54.899Z"
   },
   {
    "duration": 32,
    "start_time": "2022-07-20T07:06:54.924Z"
   },
   {
    "duration": 19,
    "start_time": "2022-07-20T07:06:54.957Z"
   },
   {
    "duration": 179,
    "start_time": "2022-07-20T07:06:54.977Z"
   },
   {
    "duration": 6,
    "start_time": "2022-07-20T07:06:55.158Z"
   },
   {
    "duration": 8,
    "start_time": "2022-07-20T07:06:55.166Z"
   },
   {
    "duration": 6,
    "start_time": "2022-07-20T07:06:55.176Z"
   },
   {
    "duration": 24,
    "start_time": "2022-07-20T07:06:55.184Z"
   },
   {
    "duration": 563,
    "start_time": "2022-07-20T07:06:55.210Z"
   },
   {
    "duration": 4,
    "start_time": "2022-07-20T07:06:55.775Z"
   },
   {
    "duration": 39,
    "start_time": "2022-07-20T07:06:55.780Z"
   },
   {
    "duration": 320,
    "start_time": "2022-07-20T07:06:55.821Z"
   },
   {
    "duration": 332,
    "start_time": "2022-07-20T07:06:56.143Z"
   },
   {
    "duration": 273,
    "start_time": "2022-07-20T07:06:56.477Z"
   },
   {
    "duration": 304,
    "start_time": "2022-07-20T07:06:56.752Z"
   },
   {
    "duration": 149,
    "start_time": "2022-07-20T07:06:57.057Z"
   },
   {
    "duration": 179,
    "start_time": "2022-07-20T07:06:57.208Z"
   },
   {
    "duration": 225,
    "start_time": "2022-07-20T07:06:57.389Z"
   },
   {
    "duration": 173,
    "start_time": "2022-07-20T07:06:57.616Z"
   },
   {
    "duration": 143,
    "start_time": "2022-07-20T07:06:57.790Z"
   },
   {
    "duration": 195,
    "start_time": "2022-07-20T07:06:57.935Z"
   },
   {
    "duration": 272,
    "start_time": "2022-07-20T07:06:58.132Z"
   },
   {
    "duration": 243,
    "start_time": "2022-07-20T07:06:58.406Z"
   },
   {
    "duration": 217,
    "start_time": "2022-07-20T07:06:58.651Z"
   },
   {
    "duration": 36,
    "start_time": "2022-07-20T07:06:58.870Z"
   },
   {
    "duration": 152,
    "start_time": "2022-07-20T07:06:58.908Z"
   },
   {
    "duration": 159,
    "start_time": "2022-07-20T07:06:59.062Z"
   },
   {
    "duration": 199,
    "start_time": "2022-07-20T07:06:59.223Z"
   },
   {
    "duration": 97,
    "start_time": "2022-07-20T07:06:59.423Z"
   },
   {
    "duration": 208,
    "start_time": "2022-07-20T07:06:59.522Z"
   },
   {
    "duration": 130,
    "start_time": "2022-07-20T07:06:59.732Z"
   },
   {
    "duration": 26088,
    "start_time": "2022-07-20T07:06:59.863Z"
   },
   {
    "duration": 27,
    "start_time": "2022-07-20T07:07:25.953Z"
   },
   {
    "duration": 160046,
    "start_time": "2022-07-20T07:09:47.993Z"
   },
   {
    "duration": 15,
    "start_time": "2022-07-20T07:50:45.623Z"
   },
   {
    "duration": 82,
    "start_time": "2022-07-20T07:55:22.654Z"
   },
   {
    "duration": 77,
    "start_time": "2022-07-20T07:55:53.409Z"
   },
   {
    "duration": 1739,
    "start_time": "2022-07-20T07:56:11.684Z"
   },
   {
    "duration": 1953,
    "start_time": "2022-07-20T07:57:14.830Z"
   },
   {
    "duration": 1964,
    "start_time": "2022-07-20T08:03:15.379Z"
   },
   {
    "duration": 60,
    "start_time": "2022-07-20T08:03:34.032Z"
   },
   {
    "duration": 2346,
    "start_time": "2022-07-20T08:04:53.968Z"
   },
   {
    "duration": 1785,
    "start_time": "2022-07-20T08:05:05.880Z"
   },
   {
    "duration": 1848,
    "start_time": "2022-07-20T08:06:46.973Z"
   },
   {
    "duration": 1920,
    "start_time": "2022-07-20T08:07:00.886Z"
   },
   {
    "duration": 1979,
    "start_time": "2022-07-20T08:07:13.502Z"
   },
   {
    "duration": 493,
    "start_time": "2022-07-20T08:29:43.016Z"
   },
   {
    "duration": 564,
    "start_time": "2022-07-20T08:29:53.764Z"
   },
   {
    "duration": 520,
    "start_time": "2022-07-20T08:30:21.565Z"
   },
   {
    "duration": 105,
    "start_time": "2022-07-20T08:45:40.402Z"
   },
   {
    "duration": 82,
    "start_time": "2022-07-20T08:46:03.261Z"
   },
   {
    "duration": 76,
    "start_time": "2022-07-20T08:47:05.588Z"
   },
   {
    "duration": 255,
    "start_time": "2022-07-20T08:48:44.829Z"
   },
   {
    "duration": 20,
    "start_time": "2022-07-20T08:49:05.728Z"
   },
   {
    "duration": 234,
    "start_time": "2022-07-20T08:49:24.151Z"
   },
   {
    "duration": 236,
    "start_time": "2022-07-20T08:49:49.839Z"
   },
   {
    "duration": 196,
    "start_time": "2022-07-20T08:50:48.712Z"
   },
   {
    "duration": 29,
    "start_time": "2022-07-20T09:02:48.117Z"
   },
   {
    "duration": 1877,
    "start_time": "2022-07-20T09:03:26.835Z"
   },
   {
    "duration": 1583,
    "start_time": "2022-07-20T09:03:50.722Z"
   },
   {
    "duration": 374,
    "start_time": "2022-07-20T09:04:05.672Z"
   },
   {
    "duration": 1302,
    "start_time": "2022-07-20T09:04:34.321Z"
   },
   {
    "duration": 234,
    "start_time": "2022-07-20T09:05:47.581Z"
   },
   {
    "duration": 193,
    "start_time": "2022-07-20T11:51:39.585Z"
   },
   {
    "duration": 207,
    "start_time": "2022-07-20T11:52:05.885Z"
   },
   {
    "duration": 209,
    "start_time": "2022-07-20T11:52:10.964Z"
   },
   {
    "duration": 535,
    "start_time": "2022-07-20T11:52:58.873Z"
   },
   {
    "duration": 222,
    "start_time": "2022-07-20T11:54:07.899Z"
   },
   {
    "duration": 207,
    "start_time": "2022-07-20T11:54:47.198Z"
   },
   {
    "duration": 292,
    "start_time": "2022-07-20T11:55:46.614Z"
   },
   {
    "duration": 3045,
    "start_time": "2022-07-20T11:56:18.885Z"
   },
   {
    "duration": 206,
    "start_time": "2022-07-20T11:57:06.779Z"
   },
   {
    "duration": 3,
    "start_time": "2022-07-20T11:57:25.037Z"
   },
   {
    "duration": 138,
    "start_time": "2022-07-20T11:57:31.904Z"
   },
   {
    "duration": 574,
    "start_time": "2022-07-20T11:58:11.888Z"
   },
   {
    "duration": 160,
    "start_time": "2022-07-20T11:59:11.023Z"
   },
   {
    "duration": 18,
    "start_time": "2022-07-20T12:01:19.011Z"
   },
   {
    "duration": 218,
    "start_time": "2022-07-20T12:01:35.167Z"
   },
   {
    "duration": 212,
    "start_time": "2022-07-20T12:01:58.684Z"
   },
   {
    "duration": 285,
    "start_time": "2022-07-20T12:02:21.488Z"
   },
   {
    "duration": 199,
    "start_time": "2022-07-20T12:04:23.319Z"
   },
   {
    "duration": 219,
    "start_time": "2022-07-20T12:05:58.597Z"
   },
   {
    "duration": 200,
    "start_time": "2022-07-20T12:06:19.992Z"
   },
   {
    "duration": 212,
    "start_time": "2022-07-20T12:06:34.965Z"
   },
   {
    "duration": 231,
    "start_time": "2022-07-20T12:07:07.119Z"
   },
   {
    "duration": 197,
    "start_time": "2022-07-20T12:07:20.654Z"
   },
   {
    "duration": 194,
    "start_time": "2022-07-20T12:07:23.252Z"
   },
   {
    "duration": 201,
    "start_time": "2022-07-20T12:08:19.252Z"
   },
   {
    "duration": 213,
    "start_time": "2022-07-20T12:09:41.661Z"
   },
   {
    "duration": 88,
    "start_time": "2022-07-20T12:09:52.998Z"
   },
   {
    "duration": 212,
    "start_time": "2022-07-20T12:09:59.321Z"
   },
   {
    "duration": 214,
    "start_time": "2022-07-20T12:11:25.383Z"
   },
   {
    "duration": 206,
    "start_time": "2022-07-20T12:12:33.012Z"
   },
   {
    "duration": 202,
    "start_time": "2022-07-20T12:13:05.511Z"
   },
   {
    "duration": 25,
    "start_time": "2022-07-20T12:30:37.805Z"
   },
   {
    "duration": 16,
    "start_time": "2022-07-20T12:31:00.351Z"
   },
   {
    "duration": 11,
    "start_time": "2022-07-20T12:32:22.453Z"
   },
   {
    "duration": 5,
    "start_time": "2022-07-20T12:32:42.984Z"
   },
   {
    "duration": 19,
    "start_time": "2022-07-20T12:47:28.439Z"
   },
   {
    "duration": 20,
    "start_time": "2022-07-20T12:50:23.366Z"
   },
   {
    "duration": 19,
    "start_time": "2022-07-20T12:50:41.610Z"
   },
   {
    "duration": 20,
    "start_time": "2022-07-20T12:51:02.588Z"
   },
   {
    "duration": 20,
    "start_time": "2022-07-20T12:51:10.222Z"
   },
   {
    "duration": 21,
    "start_time": "2022-07-20T12:52:13.751Z"
   },
   {
    "duration": 13,
    "start_time": "2022-07-20T12:52:20.178Z"
   },
   {
    "duration": 23,
    "start_time": "2022-07-20T12:52:52.794Z"
   },
   {
    "duration": 17,
    "start_time": "2022-07-20T12:53:02.758Z"
   },
   {
    "duration": 15,
    "start_time": "2022-07-20T12:54:00.006Z"
   },
   {
    "duration": 167,
    "start_time": "2022-07-20T12:57:53.521Z"
   },
   {
    "duration": 178,
    "start_time": "2022-07-20T12:58:15.368Z"
   },
   {
    "duration": 268,
    "start_time": "2022-07-20T12:58:49.327Z"
   },
   {
    "duration": 299,
    "start_time": "2022-07-20T12:59:01.024Z"
   },
   {
    "duration": 1586,
    "start_time": "2022-07-20T12:59:13.597Z"
   },
   {
    "duration": 1311,
    "start_time": "2022-07-20T12:59:39.324Z"
   },
   {
    "duration": 29,
    "start_time": "2022-07-20T13:00:26.218Z"
   },
   {
    "duration": 312,
    "start_time": "2022-07-20T13:00:47.048Z"
   },
   {
    "duration": 177,
    "start_time": "2022-07-20T13:06:25.213Z"
   },
   {
    "duration": 11,
    "start_time": "2022-07-20T13:10:52.821Z"
   },
   {
    "duration": 15,
    "start_time": "2022-07-20T13:11:17.079Z"
   },
   {
    "duration": 200,
    "start_time": "2022-07-20T13:12:58.270Z"
   },
   {
    "duration": 25,
    "start_time": "2022-07-20T13:13:03.164Z"
   },
   {
    "duration": 36,
    "start_time": "2022-07-20T13:13:43.191Z"
   },
   {
    "duration": 23,
    "start_time": "2022-07-20T13:13:52.719Z"
   },
   {
    "duration": 24,
    "start_time": "2022-07-20T13:14:12.256Z"
   },
   {
    "duration": 26,
    "start_time": "2022-07-20T13:14:54.961Z"
   },
   {
    "duration": 31,
    "start_time": "2022-07-20T13:15:04.352Z"
   },
   {
    "duration": 48,
    "start_time": "2022-07-20T13:15:58.776Z"
   },
   {
    "duration": 31,
    "start_time": "2022-07-20T13:16:12.809Z"
   },
   {
    "duration": 40,
    "start_time": "2022-07-20T13:16:26.622Z"
   },
   {
    "duration": 38,
    "start_time": "2022-07-20T13:17:23.402Z"
   },
   {
    "duration": 3,
    "start_time": "2022-07-20T13:18:04.776Z"
   },
   {
    "duration": 5,
    "start_time": "2022-07-20T13:18:04.783Z"
   },
   {
    "duration": 5,
    "start_time": "2022-07-20T13:18:04.790Z"
   },
   {
    "duration": 85,
    "start_time": "2022-07-20T13:18:04.797Z"
   },
   {
    "duration": 10,
    "start_time": "2022-07-20T13:18:04.884Z"
   },
   {
    "duration": 9,
    "start_time": "2022-07-20T13:18:04.897Z"
   },
   {
    "duration": 18,
    "start_time": "2022-07-20T13:18:04.908Z"
   },
   {
    "duration": 7,
    "start_time": "2022-07-20T13:18:04.928Z"
   },
   {
    "duration": 101,
    "start_time": "2022-07-20T13:18:04.936Z"
   },
   {
    "duration": 33,
    "start_time": "2022-07-20T13:18:05.039Z"
   },
   {
    "duration": 9,
    "start_time": "2022-07-20T13:18:05.104Z"
   },
   {
    "duration": 21,
    "start_time": "2022-07-20T13:18:05.114Z"
   },
   {
    "duration": 9,
    "start_time": "2022-07-20T13:18:05.136Z"
   },
   {
    "duration": 2814,
    "start_time": "2022-07-20T13:18:05.146Z"
   },
   {
    "duration": 8,
    "start_time": "2022-07-20T13:18:07.962Z"
   },
   {
    "duration": 14,
    "start_time": "2022-07-20T13:18:07.972Z"
   },
   {
    "duration": 8,
    "start_time": "2022-07-20T13:18:08.005Z"
   },
   {
    "duration": 6,
    "start_time": "2022-07-20T13:18:08.015Z"
   },
   {
    "duration": 10,
    "start_time": "2022-07-20T13:18:08.023Z"
   },
   {
    "duration": 14,
    "start_time": "2022-07-20T13:18:08.036Z"
   },
   {
    "duration": 20,
    "start_time": "2022-07-20T13:18:08.051Z"
   },
   {
    "duration": 34,
    "start_time": "2022-07-20T13:18:08.073Z"
   },
   {
    "duration": 12,
    "start_time": "2022-07-20T13:18:08.109Z"
   },
   {
    "duration": 34,
    "start_time": "2022-07-20T13:18:08.124Z"
   },
   {
    "duration": 7,
    "start_time": "2022-07-20T13:18:08.161Z"
   },
   {
    "duration": 58,
    "start_time": "2022-07-20T13:18:08.205Z"
   },
   {
    "duration": 5,
    "start_time": "2022-07-20T13:18:08.265Z"
   },
   {
    "duration": 2764,
    "start_time": "2022-07-20T13:18:08.272Z"
   },
   {
    "duration": 171,
    "start_time": "2022-07-20T13:18:11.038Z"
   },
   {
    "duration": 199,
    "start_time": "2022-07-20T13:18:11.211Z"
   },
   {
    "duration": 649,
    "start_time": "2022-07-20T13:18:11.412Z"
   },
   {
    "duration": 3,
    "start_time": "2022-07-20T13:18:12.062Z"
   },
   {
    "duration": 194,
    "start_time": "2022-07-20T13:18:12.066Z"
   },
   {
    "duration": 143,
    "start_time": "2022-07-20T13:18:12.262Z"
   },
   {
    "duration": 155,
    "start_time": "2022-07-20T13:18:12.407Z"
   },
   {
    "duration": 220,
    "start_time": "2022-07-20T13:18:12.564Z"
   },
   {
    "duration": 26,
    "start_time": "2022-07-20T13:18:12.786Z"
   },
   {
    "duration": 31,
    "start_time": "2022-07-20T13:18:12.814Z"
   },
   {
    "duration": 15,
    "start_time": "2022-07-20T13:18:12.847Z"
   },
   {
    "duration": 192,
    "start_time": "2022-07-20T13:18:12.865Z"
   },
   {
    "duration": 6,
    "start_time": "2022-07-20T13:18:13.058Z"
   },
   {
    "duration": 8,
    "start_time": "2022-07-20T13:18:13.066Z"
   },
   {
    "duration": 6,
    "start_time": "2022-07-20T13:18:13.076Z"
   },
   {
    "duration": 25,
    "start_time": "2022-07-20T13:18:13.084Z"
   },
   {
    "duration": 288,
    "start_time": "2022-07-20T13:18:13.111Z"
   },
   {
    "duration": 5,
    "start_time": "2022-07-20T13:18:13.401Z"
   },
   {
    "duration": 30,
    "start_time": "2022-07-20T13:18:13.408Z"
   },
   {
    "duration": 367,
    "start_time": "2022-07-20T13:18:13.440Z"
   },
   {
    "duration": 381,
    "start_time": "2022-07-20T13:18:13.809Z"
   },
   {
    "duration": 274,
    "start_time": "2022-07-20T13:18:14.192Z"
   },
   {
    "duration": 308,
    "start_time": "2022-07-20T13:18:14.468Z"
   },
   {
    "duration": 195,
    "start_time": "2022-07-20T13:18:14.777Z"
   },
   {
    "duration": 237,
    "start_time": "2022-07-20T13:18:14.974Z"
   },
   {
    "duration": 274,
    "start_time": "2022-07-20T13:18:15.213Z"
   },
   {
    "duration": 209,
    "start_time": "2022-07-20T13:18:15.489Z"
   },
   {
    "duration": 163,
    "start_time": "2022-07-20T13:18:15.699Z"
   },
   {
    "duration": 239,
    "start_time": "2022-07-20T13:18:15.864Z"
   },
   {
    "duration": 288,
    "start_time": "2022-07-20T13:18:16.105Z"
   },
   {
    "duration": 362,
    "start_time": "2022-07-20T13:18:16.395Z"
   },
   {
    "duration": 252,
    "start_time": "2022-07-20T13:18:16.760Z"
   },
   {
    "duration": 25,
    "start_time": "2022-07-20T13:18:17.013Z"
   },
   {
    "duration": 170,
    "start_time": "2022-07-20T13:18:17.039Z"
   },
   {
    "duration": 184,
    "start_time": "2022-07-20T13:18:17.211Z"
   },
   {
    "duration": 222,
    "start_time": "2022-07-20T13:18:17.396Z"
   },
   {
    "duration": 122,
    "start_time": "2022-07-20T13:18:17.619Z"
   },
   {
    "duration": 253,
    "start_time": "2022-07-20T13:18:17.743Z"
   },
   {
    "duration": 7,
    "start_time": "2022-07-20T13:18:17.998Z"
   },
   {
    "duration": 244,
    "start_time": "2022-07-20T13:18:18.006Z"
   },
   {
    "duration": 238,
    "start_time": "2022-07-20T13:18:18.251Z"
   },
   {
    "duration": 244,
    "start_time": "2022-07-20T13:18:18.490Z"
   },
   {
    "duration": 225,
    "start_time": "2022-07-20T13:18:18.739Z"
   },
   {
    "duration": 151,
    "start_time": "2022-07-20T13:18:18.966Z"
   },
   {
    "duration": 225,
    "start_time": "2022-07-20T13:18:19.119Z"
   },
   {
    "duration": 239,
    "start_time": "2022-07-20T13:18:19.346Z"
   },
   {
    "duration": 234,
    "start_time": "2022-07-20T13:18:19.587Z"
   },
   {
    "duration": 2054,
    "start_time": "2022-07-20T13:18:19.822Z"
   },
   {
    "duration": 40,
    "start_time": "2022-07-20T13:18:21.878Z"
   },
   {
    "duration": 19,
    "start_time": "2022-07-20T13:18:21.920Z"
   },
   {
    "duration": 28,
    "start_time": "2022-07-20T13:18:21.941Z"
   },
   {
    "duration": 58,
    "start_time": "2022-07-20T13:18:21.971Z"
   },
   {
    "duration": 30,
    "start_time": "2022-07-20T13:18:40.316Z"
   },
   {
    "duration": 12,
    "start_time": "2022-07-20T13:19:53.423Z"
   },
   {
    "duration": 11,
    "start_time": "2022-07-20T13:20:54.055Z"
   },
   {
    "duration": 2075,
    "start_time": "2022-07-20T13:21:14.513Z"
   },
   {
    "duration": 2250,
    "start_time": "2022-07-20T13:21:30.558Z"
   },
   {
    "duration": 19,
    "start_time": "2022-07-20T13:23:28.181Z"
   },
   {
    "duration": 3,
    "start_time": "2022-07-20T14:17:11.754Z"
   },
   {
    "duration": 24,
    "start_time": "2022-07-20T14:18:26.955Z"
   },
   {
    "duration": 170,
    "start_time": "2022-07-20T14:22:52.760Z"
   },
   {
    "duration": 37,
    "start_time": "2022-07-20T14:22:58.934Z"
   },
   {
    "duration": 31,
    "start_time": "2022-07-20T14:23:10.315Z"
   },
   {
    "duration": 46,
    "start_time": "2022-07-20T14:25:43.063Z"
   },
   {
    "duration": 7,
    "start_time": "2022-07-20T14:37:16.659Z"
   },
   {
    "duration": 24,
    "start_time": "2022-07-20T14:37:17.178Z"
   },
   {
    "duration": 2,
    "start_time": "2022-07-20T14:37:24.272Z"
   },
   {
    "duration": 5,
    "start_time": "2022-07-20T14:37:24.278Z"
   },
   {
    "duration": 5,
    "start_time": "2022-07-20T14:37:24.285Z"
   },
   {
    "duration": 84,
    "start_time": "2022-07-20T14:37:24.292Z"
   },
   {
    "duration": 10,
    "start_time": "2022-07-20T14:37:24.378Z"
   },
   {
    "duration": 16,
    "start_time": "2022-07-20T14:37:24.390Z"
   },
   {
    "duration": 14,
    "start_time": "2022-07-20T14:37:24.408Z"
   },
   {
    "duration": 10,
    "start_time": "2022-07-20T14:37:24.423Z"
   },
   {
    "duration": 77,
    "start_time": "2022-07-20T14:37:24.434Z"
   },
   {
    "duration": 29,
    "start_time": "2022-07-20T14:37:24.513Z"
   },
   {
    "duration": 4,
    "start_time": "2022-07-20T14:37:24.544Z"
   },
   {
    "duration": 24,
    "start_time": "2022-07-20T14:37:24.549Z"
   },
   {
    "duration": 8,
    "start_time": "2022-07-20T14:37:24.575Z"
   },
   {
    "duration": 2526,
    "start_time": "2022-07-20T14:37:24.584Z"
   },
   {
    "duration": 8,
    "start_time": "2022-07-20T14:37:27.113Z"
   },
   {
    "duration": 16,
    "start_time": "2022-07-20T14:37:27.122Z"
   },
   {
    "duration": 6,
    "start_time": "2022-07-20T14:37:27.140Z"
   },
   {
    "duration": 5,
    "start_time": "2022-07-20T14:37:27.148Z"
   },
   {
    "duration": 9,
    "start_time": "2022-07-20T14:37:27.154Z"
   },
   {
    "duration": 42,
    "start_time": "2022-07-20T14:37:27.164Z"
   },
   {
    "duration": 21,
    "start_time": "2022-07-20T14:37:27.208Z"
   },
   {
    "duration": 8,
    "start_time": "2022-07-20T14:37:27.231Z"
   },
   {
    "duration": 14,
    "start_time": "2022-07-20T14:37:27.241Z"
   },
   {
    "duration": 49,
    "start_time": "2022-07-20T14:37:27.256Z"
   },
   {
    "duration": 6,
    "start_time": "2022-07-20T14:37:27.309Z"
   },
   {
    "duration": 56,
    "start_time": "2022-07-20T14:37:27.316Z"
   },
   {
    "duration": 6,
    "start_time": "2022-07-20T14:37:27.373Z"
   },
   {
    "duration": 2574,
    "start_time": "2022-07-20T14:37:27.380Z"
   },
   {
    "duration": 168,
    "start_time": "2022-07-20T14:37:29.956Z"
   },
   {
    "duration": 206,
    "start_time": "2022-07-20T14:37:30.126Z"
   },
   {
    "duration": 637,
    "start_time": "2022-07-20T14:37:30.333Z"
   },
   {
    "duration": 2,
    "start_time": "2022-07-20T14:37:30.972Z"
   },
   {
    "duration": 205,
    "start_time": "2022-07-20T14:37:30.976Z"
   },
   {
    "duration": 154,
    "start_time": "2022-07-20T14:37:31.183Z"
   },
   {
    "duration": 166,
    "start_time": "2022-07-20T14:37:31.338Z"
   },
   {
    "duration": 219,
    "start_time": "2022-07-20T14:37:31.506Z"
   },
   {
    "duration": 20,
    "start_time": "2022-07-20T14:37:31.727Z"
   },
   {
    "duration": 48,
    "start_time": "2022-07-20T14:37:31.749Z"
   },
   {
    "duration": 55,
    "start_time": "2022-07-20T14:37:31.798Z"
   },
   {
    "duration": 181,
    "start_time": "2022-07-20T14:37:31.855Z"
   },
   {
    "duration": 6,
    "start_time": "2022-07-20T14:37:32.038Z"
   },
   {
    "duration": 13,
    "start_time": "2022-07-20T14:37:32.045Z"
   },
   {
    "duration": 7,
    "start_time": "2022-07-20T14:37:32.060Z"
   },
   {
    "duration": 7,
    "start_time": "2022-07-20T14:37:32.069Z"
   },
   {
    "duration": 292,
    "start_time": "2022-07-20T14:37:32.077Z"
   },
   {
    "duration": 6,
    "start_time": "2022-07-20T14:37:32.372Z"
   },
   {
    "duration": 37,
    "start_time": "2022-07-20T14:37:32.380Z"
   },
   {
    "duration": 353,
    "start_time": "2022-07-20T14:37:32.419Z"
   },
   {
    "duration": 366,
    "start_time": "2022-07-20T14:37:32.774Z"
   },
   {
    "duration": 240,
    "start_time": "2022-07-20T14:37:33.142Z"
   },
   {
    "duration": 279,
    "start_time": "2022-07-20T14:37:33.383Z"
   },
   {
    "duration": 179,
    "start_time": "2022-07-20T14:37:33.664Z"
   },
   {
    "duration": 221,
    "start_time": "2022-07-20T14:37:33.845Z"
   },
   {
    "duration": 247,
    "start_time": "2022-07-20T14:37:34.067Z"
   },
   {
    "duration": 195,
    "start_time": "2022-07-20T14:37:34.315Z"
   },
   {
    "duration": 151,
    "start_time": "2022-07-20T14:37:34.512Z"
   },
   {
    "duration": 238,
    "start_time": "2022-07-20T14:37:34.665Z"
   },
   {
    "duration": 285,
    "start_time": "2022-07-20T14:37:34.905Z"
   },
   {
    "duration": 315,
    "start_time": "2022-07-20T14:37:35.192Z"
   },
   {
    "duration": 248,
    "start_time": "2022-07-20T14:37:35.509Z"
   },
   {
    "duration": 26,
    "start_time": "2022-07-20T14:37:35.758Z"
   },
   {
    "duration": 184,
    "start_time": "2022-07-20T14:37:35.785Z"
   },
   {
    "duration": 180,
    "start_time": "2022-07-20T14:37:35.974Z"
   },
   {
    "duration": 210,
    "start_time": "2022-07-20T14:37:36.156Z"
   },
   {
    "duration": 115,
    "start_time": "2022-07-20T14:37:36.368Z"
   },
   {
    "duration": 321,
    "start_time": "2022-07-20T14:37:36.485Z"
   },
   {
    "duration": 3,
    "start_time": "2022-07-20T14:37:36.807Z"
   },
   {
    "duration": 217,
    "start_time": "2022-07-20T14:37:36.811Z"
   },
   {
    "duration": 237,
    "start_time": "2022-07-20T14:37:37.029Z"
   },
   {
    "duration": 243,
    "start_time": "2022-07-20T14:37:37.268Z"
   },
   {
    "duration": 223,
    "start_time": "2022-07-20T14:37:37.512Z"
   },
   {
    "duration": 150,
    "start_time": "2022-07-20T14:37:37.736Z"
   },
   {
    "duration": 240,
    "start_time": "2022-07-20T14:37:37.887Z"
   },
   {
    "duration": 261,
    "start_time": "2022-07-20T14:37:38.129Z"
   },
   {
    "duration": 222,
    "start_time": "2022-07-20T14:37:38.391Z"
   },
   {
    "duration": 2068,
    "start_time": "2022-07-20T14:37:38.614Z"
   },
   {
    "duration": 30,
    "start_time": "2022-07-20T14:37:40.684Z"
   },
   {
    "duration": 14,
    "start_time": "2022-07-20T14:37:40.716Z"
   },
   {
    "duration": 2,
    "start_time": "2022-07-20T14:37:40.732Z"
   },
   {
    "duration": 36,
    "start_time": "2022-07-20T14:37:40.736Z"
   },
   {
    "duration": 2,
    "start_time": "2022-07-20T14:37:40.774Z"
   },
   {
    "duration": 123,
    "start_time": "2022-07-20T14:37:40.777Z"
   },
   {
    "duration": 4830,
    "start_time": "2022-07-20T14:39:26.007Z"
   },
   {
    "duration": 230,
    "start_time": "2022-07-20T14:39:58.775Z"
   },
   {
    "duration": 2036,
    "start_time": "2022-07-20T14:42:23.786Z"
   },
   {
    "duration": 252,
    "start_time": "2022-07-20T14:42:49.093Z"
   },
   {
    "duration": 204,
    "start_time": "2022-07-20T14:43:23.781Z"
   },
   {
    "duration": 231,
    "start_time": "2022-07-20T14:43:37.704Z"
   },
   {
    "duration": 2,
    "start_time": "2022-07-20T15:23:37.100Z"
   },
   {
    "duration": 3,
    "start_time": "2022-07-20T15:23:37.109Z"
   },
   {
    "duration": 5,
    "start_time": "2022-07-20T15:23:37.114Z"
   },
   {
    "duration": 83,
    "start_time": "2022-07-20T15:23:37.121Z"
   },
   {
    "duration": 9,
    "start_time": "2022-07-20T15:23:37.206Z"
   },
   {
    "duration": 12,
    "start_time": "2022-07-20T15:23:37.218Z"
   },
   {
    "duration": 21,
    "start_time": "2022-07-20T15:23:37.233Z"
   },
   {
    "duration": 6,
    "start_time": "2022-07-20T15:23:37.256Z"
   },
   {
    "duration": 91,
    "start_time": "2022-07-20T15:23:37.263Z"
   },
   {
    "duration": 54,
    "start_time": "2022-07-20T15:23:37.356Z"
   },
   {
    "duration": 6,
    "start_time": "2022-07-20T15:23:37.412Z"
   },
   {
    "duration": 30,
    "start_time": "2022-07-20T15:23:37.419Z"
   },
   {
    "duration": 8,
    "start_time": "2022-07-20T15:23:37.451Z"
   },
   {
    "duration": 2693,
    "start_time": "2022-07-20T15:23:37.461Z"
   },
   {
    "duration": 10,
    "start_time": "2022-07-20T15:23:40.156Z"
   },
   {
    "duration": 24,
    "start_time": "2022-07-20T15:23:40.168Z"
   },
   {
    "duration": 10,
    "start_time": "2022-07-20T15:23:40.194Z"
   },
   {
    "duration": 6,
    "start_time": "2022-07-20T15:23:40.206Z"
   },
   {
    "duration": 9,
    "start_time": "2022-07-20T15:23:40.214Z"
   },
   {
    "duration": 14,
    "start_time": "2022-07-20T15:23:40.225Z"
   },
   {
    "duration": 21,
    "start_time": "2022-07-20T15:23:40.241Z"
   },
   {
    "duration": 8,
    "start_time": "2022-07-20T15:23:40.264Z"
   },
   {
    "duration": 13,
    "start_time": "2022-07-20T15:23:40.304Z"
   },
   {
    "duration": 31,
    "start_time": "2022-07-20T15:23:40.319Z"
   },
   {
    "duration": 6,
    "start_time": "2022-07-20T15:23:40.353Z"
   },
   {
    "duration": 93,
    "start_time": "2022-07-20T15:23:40.364Z"
   },
   {
    "duration": 8,
    "start_time": "2022-07-20T15:23:40.458Z"
   },
   {
    "duration": 2729,
    "start_time": "2022-07-20T15:23:40.467Z"
   },
   {
    "duration": 175,
    "start_time": "2022-07-20T15:23:43.198Z"
   },
   {
    "duration": 195,
    "start_time": "2022-07-20T15:23:43.375Z"
   },
   {
    "duration": 691,
    "start_time": "2022-07-20T15:23:43.571Z"
   },
   {
    "duration": 3,
    "start_time": "2022-07-20T15:23:44.264Z"
   },
   {
    "duration": 190,
    "start_time": "2022-07-20T15:23:44.268Z"
   },
   {
    "duration": 141,
    "start_time": "2022-07-20T15:23:44.460Z"
   },
   {
    "duration": 159,
    "start_time": "2022-07-20T15:23:44.603Z"
   },
   {
    "duration": 251,
    "start_time": "2022-07-20T15:23:44.764Z"
   },
   {
    "duration": 20,
    "start_time": "2022-07-20T15:23:45.017Z"
   },
   {
    "duration": 71,
    "start_time": "2022-07-20T15:23:45.038Z"
   },
   {
    "duration": 16,
    "start_time": "2022-07-20T15:23:45.111Z"
   },
   {
    "duration": 192,
    "start_time": "2022-07-20T15:23:45.128Z"
   },
   {
    "duration": 6,
    "start_time": "2022-07-20T15:23:45.322Z"
   },
   {
    "duration": 31,
    "start_time": "2022-07-20T15:23:45.330Z"
   },
   {
    "duration": 8,
    "start_time": "2022-07-20T15:23:45.362Z"
   },
   {
    "duration": 9,
    "start_time": "2022-07-20T15:23:45.372Z"
   },
   {
    "duration": 267,
    "start_time": "2022-07-20T15:23:45.383Z"
   },
   {
    "duration": 5,
    "start_time": "2022-07-20T15:23:45.652Z"
   },
   {
    "duration": 27,
    "start_time": "2022-07-20T15:23:45.659Z"
   },
   {
    "duration": 360,
    "start_time": "2022-07-20T15:23:45.687Z"
   },
   {
    "duration": 389,
    "start_time": "2022-07-20T15:23:46.049Z"
   },
   {
    "duration": 332,
    "start_time": "2022-07-20T15:23:46.440Z"
   },
   {
    "duration": 323,
    "start_time": "2022-07-20T15:23:46.775Z"
   },
   {
    "duration": 201,
    "start_time": "2022-07-20T15:23:47.100Z"
   },
   {
    "duration": 240,
    "start_time": "2022-07-20T15:23:47.302Z"
   },
   {
    "duration": 254,
    "start_time": "2022-07-20T15:23:47.544Z"
   },
   {
    "duration": 222,
    "start_time": "2022-07-20T15:23:47.800Z"
   },
   {
    "duration": 171,
    "start_time": "2022-07-20T15:23:48.024Z"
   },
   {
    "duration": 243,
    "start_time": "2022-07-20T15:23:48.196Z"
   },
   {
    "duration": 313,
    "start_time": "2022-07-20T15:23:48.442Z"
   },
   {
    "duration": 300,
    "start_time": "2022-07-20T15:23:48.757Z"
   },
   {
    "duration": 280,
    "start_time": "2022-07-20T15:23:49.059Z"
   },
   {
    "duration": 24,
    "start_time": "2022-07-20T15:23:49.341Z"
   },
   {
    "duration": 197,
    "start_time": "2022-07-20T15:23:49.366Z"
   },
   {
    "duration": 202,
    "start_time": "2022-07-20T15:23:49.564Z"
   },
   {
    "duration": 313,
    "start_time": "2022-07-20T15:23:49.768Z"
   },
   {
    "duration": 147,
    "start_time": "2022-07-20T15:23:50.083Z"
   },
   {
    "duration": 264,
    "start_time": "2022-07-20T15:23:50.232Z"
   },
   {
    "duration": 3,
    "start_time": "2022-07-20T15:23:50.503Z"
   },
   {
    "duration": 244,
    "start_time": "2022-07-20T15:23:50.508Z"
   },
   {
    "duration": 237,
    "start_time": "2022-07-20T15:23:50.754Z"
   },
   {
    "duration": 253,
    "start_time": "2022-07-20T15:23:50.993Z"
   },
   {
    "duration": 242,
    "start_time": "2022-07-20T15:23:51.251Z"
   },
   {
    "duration": 172,
    "start_time": "2022-07-20T15:23:51.495Z"
   },
   {
    "duration": 237,
    "start_time": "2022-07-20T15:23:51.669Z"
   },
   {
    "duration": 237,
    "start_time": "2022-07-20T15:23:51.908Z"
   },
   {
    "duration": 248,
    "start_time": "2022-07-20T15:23:52.146Z"
   },
   {
    "duration": 2086,
    "start_time": "2022-07-20T15:23:52.395Z"
   },
   {
    "duration": 3,
    "start_time": "2022-07-20T15:23:54.483Z"
   },
   {
    "duration": 57,
    "start_time": "2022-07-20T15:23:54.488Z"
   },
   {
    "duration": 3,
    "start_time": "2022-07-20T15:23:54.547Z"
   },
   {
    "duration": 307,
    "start_time": "2022-07-20T15:23:54.552Z"
   },
   {
    "duration": 127,
    "start_time": "2022-07-21T06:47:15.146Z"
   },
   {
    "duration": 73,
    "start_time": "2022-07-21T06:48:49.508Z"
   },
   {
    "duration": 37,
    "start_time": "2022-07-21T07:07:44.436Z"
   },
   {
    "duration": 1294,
    "start_time": "2022-07-21T07:07:53.343Z"
   },
   {
    "duration": 134,
    "start_time": "2022-07-21T07:07:54.640Z"
   },
   {
    "duration": 11,
    "start_time": "2022-07-21T07:07:54.776Z"
   },
   {
    "duration": 10,
    "start_time": "2022-07-21T07:07:54.788Z"
   },
   {
    "duration": 12,
    "start_time": "2022-07-21T07:07:54.800Z"
   },
   {
    "duration": 8,
    "start_time": "2022-07-21T07:07:54.813Z"
   },
   {
    "duration": 93,
    "start_time": "2022-07-21T07:07:54.823Z"
   },
   {
    "duration": 25,
    "start_time": "2022-07-21T07:07:54.918Z"
   },
   {
    "duration": 11,
    "start_time": "2022-07-21T07:07:54.944Z"
   },
   {
    "duration": 13,
    "start_time": "2022-07-21T07:07:54.958Z"
   },
   {
    "duration": 8,
    "start_time": "2022-07-21T07:07:54.972Z"
   },
   {
    "duration": 1880,
    "start_time": "2022-07-21T07:07:54.982Z"
   },
   {
    "duration": 8,
    "start_time": "2022-07-21T07:07:56.863Z"
   },
   {
    "duration": 9,
    "start_time": "2022-07-21T07:07:56.872Z"
   },
   {
    "duration": 7,
    "start_time": "2022-07-21T07:07:56.883Z"
   },
   {
    "duration": 6,
    "start_time": "2022-07-21T07:07:56.891Z"
   },
   {
    "duration": 9,
    "start_time": "2022-07-21T07:07:56.898Z"
   },
   {
    "duration": 14,
    "start_time": "2022-07-21T07:07:56.908Z"
   },
   {
    "duration": 33,
    "start_time": "2022-07-21T07:07:56.924Z"
   },
   {
    "duration": 7,
    "start_time": "2022-07-21T07:07:56.958Z"
   },
   {
    "duration": 11,
    "start_time": "2022-07-21T07:07:56.967Z"
   },
   {
    "duration": 24,
    "start_time": "2022-07-21T07:07:56.980Z"
   },
   {
    "duration": 4,
    "start_time": "2022-07-21T07:07:57.006Z"
   },
   {
    "duration": 80,
    "start_time": "2022-07-21T07:07:57.012Z"
   },
   {
    "duration": 5,
    "start_time": "2022-07-21T07:07:57.094Z"
   },
   {
    "duration": 1947,
    "start_time": "2022-07-21T07:07:57.100Z"
   },
   {
    "duration": 218,
    "start_time": "2022-07-21T07:07:59.049Z"
   },
   {
    "duration": 140,
    "start_time": "2022-07-21T07:07:59.270Z"
   },
   {
    "duration": 583,
    "start_time": "2022-07-21T07:07:59.412Z"
   },
   {
    "duration": 2,
    "start_time": "2022-07-21T07:07:59.997Z"
   },
   {
    "duration": 152,
    "start_time": "2022-07-21T07:08:00.000Z"
   },
   {
    "duration": 100,
    "start_time": "2022-07-21T07:08:00.154Z"
   },
   {
    "duration": 126,
    "start_time": "2022-07-21T07:08:00.256Z"
   },
   {
    "duration": 172,
    "start_time": "2022-07-21T07:08:00.383Z"
   },
   {
    "duration": 18,
    "start_time": "2022-07-21T07:08:00.556Z"
   },
   {
    "duration": 34,
    "start_time": "2022-07-21T07:08:00.575Z"
   },
   {
    "duration": 42,
    "start_time": "2022-07-21T07:08:00.610Z"
   },
   {
    "duration": 128,
    "start_time": "2022-07-21T07:08:00.654Z"
   },
   {
    "duration": 5,
    "start_time": "2022-07-21T07:08:00.783Z"
   },
   {
    "duration": 14,
    "start_time": "2022-07-21T07:08:00.789Z"
   },
   {
    "duration": 20,
    "start_time": "2022-07-21T07:08:00.804Z"
   },
   {
    "duration": 18,
    "start_time": "2022-07-21T07:08:00.825Z"
   },
   {
    "duration": 239,
    "start_time": "2022-07-21T07:08:00.844Z"
   },
   {
    "duration": 5,
    "start_time": "2022-07-21T07:08:01.085Z"
   },
   {
    "duration": 23,
    "start_time": "2022-07-21T07:08:01.092Z"
   },
   {
    "duration": 392,
    "start_time": "2022-07-21T07:08:01.117Z"
   },
   {
    "duration": 290,
    "start_time": "2022-07-21T07:08:01.511Z"
   },
   {
    "duration": 188,
    "start_time": "2022-07-21T07:08:01.803Z"
   },
   {
    "duration": 225,
    "start_time": "2022-07-21T07:08:01.992Z"
   },
   {
    "duration": 136,
    "start_time": "2022-07-21T07:08:02.218Z"
   },
   {
    "duration": 157,
    "start_time": "2022-07-21T07:08:02.356Z"
   },
   {
    "duration": 186,
    "start_time": "2022-07-21T07:08:02.515Z"
   },
   {
    "duration": 141,
    "start_time": "2022-07-21T07:08:02.703Z"
   },
   {
    "duration": 112,
    "start_time": "2022-07-21T07:08:02.852Z"
   },
   {
    "duration": 166,
    "start_time": "2022-07-21T07:08:02.966Z"
   },
   {
    "duration": 213,
    "start_time": "2022-07-21T07:08:03.134Z"
   },
   {
    "duration": 205,
    "start_time": "2022-07-21T07:08:03.349Z"
   },
   {
    "duration": 190,
    "start_time": "2022-07-21T07:08:03.556Z"
   },
   {
    "duration": 23,
    "start_time": "2022-07-21T07:08:03.748Z"
   },
   {
    "duration": 257,
    "start_time": "2022-07-21T07:08:03.772Z"
   },
   {
    "duration": 133,
    "start_time": "2022-07-21T07:08:04.031Z"
   },
   {
    "duration": 157,
    "start_time": "2022-07-21T07:08:04.165Z"
   },
   {
    "duration": 83,
    "start_time": "2022-07-21T07:08:04.324Z"
   },
   {
    "duration": 187,
    "start_time": "2022-07-21T07:08:04.409Z"
   },
   {
    "duration": 2,
    "start_time": "2022-07-21T07:08:04.598Z"
   },
   {
    "duration": 193,
    "start_time": "2022-07-21T07:08:04.602Z"
   },
   {
    "duration": 172,
    "start_time": "2022-07-21T07:08:04.797Z"
   },
   {
    "duration": 197,
    "start_time": "2022-07-21T07:08:04.971Z"
   },
   {
    "duration": 170,
    "start_time": "2022-07-21T07:08:05.170Z"
   },
   {
    "duration": 113,
    "start_time": "2022-07-21T07:08:05.341Z"
   },
   {
    "duration": 171,
    "start_time": "2022-07-21T07:08:05.456Z"
   },
   {
    "duration": 170,
    "start_time": "2022-07-21T07:08:05.629Z"
   },
   {
    "duration": 174,
    "start_time": "2022-07-21T07:08:05.800Z"
   },
   {
    "duration": 1507,
    "start_time": "2022-07-21T07:08:05.975Z"
   },
   {
    "duration": 2,
    "start_time": "2022-07-21T07:08:07.483Z"
   },
   {
    "duration": 28,
    "start_time": "2022-07-21T07:08:07.487Z"
   },
   {
    "duration": 2,
    "start_time": "2022-07-21T07:08:07.516Z"
   },
   {
    "duration": 335,
    "start_time": "2022-07-21T07:08:07.519Z"
   },
   {
    "duration": 57,
    "start_time": "2022-07-21T07:30:17.227Z"
   },
   {
    "duration": 13,
    "start_time": "2022-07-21T07:31:03.795Z"
   },
   {
    "duration": 13,
    "start_time": "2022-07-21T07:31:33.044Z"
   },
   {
    "duration": 13,
    "start_time": "2022-07-21T07:32:01.231Z"
   },
   {
    "duration": 7,
    "start_time": "2022-07-21T07:34:35.164Z"
   },
   {
    "duration": 21,
    "start_time": "2022-07-21T07:34:44.455Z"
   },
   {
    "duration": 24,
    "start_time": "2022-07-21T07:34:54.399Z"
   },
   {
    "duration": 6,
    "start_time": "2022-07-21T07:52:35.773Z"
   },
   {
    "duration": 9,
    "start_time": "2022-07-21T07:52:51.652Z"
   },
   {
    "duration": 3,
    "start_time": "2022-07-21T07:54:52.014Z"
   },
   {
    "duration": 92,
    "start_time": "2022-07-21T07:54:52.019Z"
   },
   {
    "duration": 8,
    "start_time": "2022-07-21T07:54:52.114Z"
   },
   {
    "duration": 29,
    "start_time": "2022-07-21T07:54:52.124Z"
   },
   {
    "duration": 14,
    "start_time": "2022-07-21T07:54:52.156Z"
   },
   {
    "duration": 6,
    "start_time": "2022-07-21T07:54:52.172Z"
   },
   {
    "duration": 100,
    "start_time": "2022-07-21T07:54:52.180Z"
   },
   {
    "duration": 40,
    "start_time": "2022-07-21T07:54:52.282Z"
   },
   {
    "duration": 34,
    "start_time": "2022-07-21T07:54:52.323Z"
   },
   {
    "duration": 21,
    "start_time": "2022-07-21T07:54:52.359Z"
   },
   {
    "duration": 8,
    "start_time": "2022-07-21T07:54:52.383Z"
   },
   {
    "duration": 2033,
    "start_time": "2022-07-21T07:54:52.393Z"
   },
   {
    "duration": 7,
    "start_time": "2022-07-21T07:54:54.428Z"
   },
   {
    "duration": 10,
    "start_time": "2022-07-21T07:54:54.452Z"
   },
   {
    "duration": 6,
    "start_time": "2022-07-21T07:54:54.463Z"
   },
   {
    "duration": 9,
    "start_time": "2022-07-21T07:54:54.470Z"
   },
   {
    "duration": 0,
    "start_time": "2022-07-21T07:54:54.482Z"
   },
   {
    "duration": 0,
    "start_time": "2022-07-21T07:54:54.483Z"
   },
   {
    "duration": 0,
    "start_time": "2022-07-21T07:54:54.484Z"
   },
   {
    "duration": 0,
    "start_time": "2022-07-21T07:54:54.486Z"
   },
   {
    "duration": 0,
    "start_time": "2022-07-21T07:54:54.487Z"
   },
   {
    "duration": 0,
    "start_time": "2022-07-21T07:54:54.488Z"
   },
   {
    "duration": 0,
    "start_time": "2022-07-21T07:54:54.489Z"
   },
   {
    "duration": 0,
    "start_time": "2022-07-21T07:54:54.490Z"
   },
   {
    "duration": 0,
    "start_time": "2022-07-21T07:54:54.492Z"
   },
   {
    "duration": 0,
    "start_time": "2022-07-21T07:54:54.493Z"
   },
   {
    "duration": 0,
    "start_time": "2022-07-21T07:54:54.494Z"
   },
   {
    "duration": 0,
    "start_time": "2022-07-21T07:54:54.495Z"
   },
   {
    "duration": 0,
    "start_time": "2022-07-21T07:54:54.496Z"
   },
   {
    "duration": 0,
    "start_time": "2022-07-21T07:54:54.497Z"
   },
   {
    "duration": 0,
    "start_time": "2022-07-21T07:54:54.498Z"
   },
   {
    "duration": 0,
    "start_time": "2022-07-21T07:54:54.499Z"
   },
   {
    "duration": 0,
    "start_time": "2022-07-21T07:54:54.552Z"
   },
   {
    "duration": 0,
    "start_time": "2022-07-21T07:54:54.553Z"
   },
   {
    "duration": 0,
    "start_time": "2022-07-21T07:54:54.556Z"
   },
   {
    "duration": 0,
    "start_time": "2022-07-21T07:54:54.557Z"
   },
   {
    "duration": 0,
    "start_time": "2022-07-21T07:54:54.558Z"
   },
   {
    "duration": 0,
    "start_time": "2022-07-21T07:54:54.559Z"
   },
   {
    "duration": 0,
    "start_time": "2022-07-21T07:54:54.560Z"
   },
   {
    "duration": 0,
    "start_time": "2022-07-21T07:54:54.562Z"
   },
   {
    "duration": 0,
    "start_time": "2022-07-21T07:54:54.564Z"
   },
   {
    "duration": 0,
    "start_time": "2022-07-21T07:54:54.565Z"
   },
   {
    "duration": 0,
    "start_time": "2022-07-21T07:54:54.567Z"
   },
   {
    "duration": 0,
    "start_time": "2022-07-21T07:54:54.568Z"
   },
   {
    "duration": 0,
    "start_time": "2022-07-21T07:54:54.569Z"
   },
   {
    "duration": 0,
    "start_time": "2022-07-21T07:54:54.571Z"
   },
   {
    "duration": 0,
    "start_time": "2022-07-21T07:54:54.572Z"
   },
   {
    "duration": 0,
    "start_time": "2022-07-21T07:54:54.574Z"
   },
   {
    "duration": 0,
    "start_time": "2022-07-21T07:54:54.575Z"
   },
   {
    "duration": 0,
    "start_time": "2022-07-21T07:54:54.576Z"
   },
   {
    "duration": 0,
    "start_time": "2022-07-21T07:54:54.578Z"
   },
   {
    "duration": 0,
    "start_time": "2022-07-21T07:54:54.580Z"
   },
   {
    "duration": 0,
    "start_time": "2022-07-21T07:54:54.582Z"
   },
   {
    "duration": 0,
    "start_time": "2022-07-21T07:54:54.583Z"
   },
   {
    "duration": 0,
    "start_time": "2022-07-21T07:54:54.583Z"
   },
   {
    "duration": 0,
    "start_time": "2022-07-21T07:54:54.585Z"
   },
   {
    "duration": 0,
    "start_time": "2022-07-21T07:54:54.587Z"
   },
   {
    "duration": 0,
    "start_time": "2022-07-21T07:54:54.588Z"
   },
   {
    "duration": 0,
    "start_time": "2022-07-21T07:54:54.589Z"
   },
   {
    "duration": 0,
    "start_time": "2022-07-21T07:54:54.591Z"
   },
   {
    "duration": 0,
    "start_time": "2022-07-21T07:54:54.592Z"
   },
   {
    "duration": 0,
    "start_time": "2022-07-21T07:54:54.653Z"
   },
   {
    "duration": 0,
    "start_time": "2022-07-21T07:54:54.654Z"
   },
   {
    "duration": 0,
    "start_time": "2022-07-21T07:54:54.656Z"
   },
   {
    "duration": 0,
    "start_time": "2022-07-21T07:54:54.657Z"
   },
   {
    "duration": 0,
    "start_time": "2022-07-21T07:54:54.658Z"
   },
   {
    "duration": 0,
    "start_time": "2022-07-21T07:54:54.659Z"
   },
   {
    "duration": 0,
    "start_time": "2022-07-21T07:54:54.661Z"
   },
   {
    "duration": 0,
    "start_time": "2022-07-21T07:54:54.662Z"
   },
   {
    "duration": 0,
    "start_time": "2022-07-21T07:54:54.663Z"
   },
   {
    "duration": 0,
    "start_time": "2022-07-21T07:54:54.664Z"
   },
   {
    "duration": 0,
    "start_time": "2022-07-21T07:54:54.664Z"
   },
   {
    "duration": 0,
    "start_time": "2022-07-21T07:54:54.666Z"
   },
   {
    "duration": 0,
    "start_time": "2022-07-21T07:54:54.667Z"
   },
   {
    "duration": 0,
    "start_time": "2022-07-21T07:54:54.668Z"
   },
   {
    "duration": 0,
    "start_time": "2022-07-21T07:54:54.669Z"
   },
   {
    "duration": 0,
    "start_time": "2022-07-21T07:54:54.671Z"
   },
   {
    "duration": 0,
    "start_time": "2022-07-21T07:54:54.672Z"
   },
   {
    "duration": 0,
    "start_time": "2022-07-21T07:54:54.673Z"
   },
   {
    "duration": 0,
    "start_time": "2022-07-21T07:54:54.674Z"
   },
   {
    "duration": 97,
    "start_time": "2022-07-21T07:56:04.865Z"
   },
   {
    "duration": 6,
    "start_time": "2022-07-21T07:56:17.865Z"
   },
   {
    "duration": 6,
    "start_time": "2022-07-21T08:00:54.893Z"
   },
   {
    "duration": 3,
    "start_time": "2022-07-21T08:06:28.416Z"
   },
   {
    "duration": 86,
    "start_time": "2022-07-21T08:06:28.422Z"
   },
   {
    "duration": 8,
    "start_time": "2022-07-21T08:06:28.510Z"
   },
   {
    "duration": 8,
    "start_time": "2022-07-21T08:06:28.519Z"
   },
   {
    "duration": 31,
    "start_time": "2022-07-21T08:06:28.530Z"
   },
   {
    "duration": 4,
    "start_time": "2022-07-21T08:06:28.563Z"
   },
   {
    "duration": 93,
    "start_time": "2022-07-21T08:06:28.569Z"
   },
   {
    "duration": 33,
    "start_time": "2022-07-21T08:06:28.663Z"
   },
   {
    "duration": 7,
    "start_time": "2022-07-21T08:06:28.697Z"
   },
   {
    "duration": 14,
    "start_time": "2022-07-21T08:06:28.706Z"
   },
   {
    "duration": 9,
    "start_time": "2022-07-21T08:06:28.754Z"
   },
   {
    "duration": 1866,
    "start_time": "2022-07-21T08:06:28.765Z"
   },
   {
    "duration": 6,
    "start_time": "2022-07-21T08:06:30.633Z"
   },
   {
    "duration": 37,
    "start_time": "2022-07-21T08:06:30.640Z"
   },
   {
    "duration": 11,
    "start_time": "2022-07-21T08:06:30.678Z"
   },
   {
    "duration": 10,
    "start_time": "2022-07-21T08:06:30.690Z"
   },
   {
    "duration": 8,
    "start_time": "2022-07-21T08:06:30.702Z"
   },
   {
    "duration": 10,
    "start_time": "2022-07-21T08:06:30.712Z"
   },
   {
    "duration": 19,
    "start_time": "2022-07-21T08:06:30.723Z"
   },
   {
    "duration": 18,
    "start_time": "2022-07-21T08:06:30.744Z"
   },
   {
    "duration": 2,
    "start_time": "2022-07-21T08:06:30.764Z"
   },
   {
    "duration": 9,
    "start_time": "2022-07-21T08:06:30.767Z"
   },
   {
    "duration": 11,
    "start_time": "2022-07-21T08:06:30.778Z"
   },
   {
    "duration": 27,
    "start_time": "2022-07-21T08:06:30.790Z"
   },
   {
    "duration": 5,
    "start_time": "2022-07-21T08:06:30.818Z"
   },
   {
    "duration": 71,
    "start_time": "2022-07-21T08:06:30.824Z"
   },
   {
    "duration": 5,
    "start_time": "2022-07-21T08:06:30.896Z"
   },
   {
    "duration": 1958,
    "start_time": "2022-07-21T08:06:30.903Z"
   },
   {
    "duration": 128,
    "start_time": "2022-07-21T08:06:32.866Z"
   },
   {
    "duration": 146,
    "start_time": "2022-07-21T08:06:32.995Z"
   },
   {
    "duration": 539,
    "start_time": "2022-07-21T08:06:33.143Z"
   },
   {
    "duration": 2,
    "start_time": "2022-07-21T08:06:33.684Z"
   },
   {
    "duration": 138,
    "start_time": "2022-07-21T08:06:33.688Z"
   },
   {
    "duration": 97,
    "start_time": "2022-07-21T08:06:33.828Z"
   },
   {
    "duration": 128,
    "start_time": "2022-07-21T08:06:33.926Z"
   },
   {
    "duration": 174,
    "start_time": "2022-07-21T08:06:34.056Z"
   },
   {
    "duration": 35,
    "start_time": "2022-07-21T08:06:34.232Z"
   },
   {
    "duration": 26,
    "start_time": "2022-07-21T08:06:34.268Z"
   },
   {
    "duration": 29,
    "start_time": "2022-07-21T08:06:34.296Z"
   },
   {
    "duration": 162,
    "start_time": "2022-07-21T08:06:34.327Z"
   },
   {
    "duration": 4,
    "start_time": "2022-07-21T08:06:34.491Z"
   },
   {
    "duration": 35,
    "start_time": "2022-07-21T08:06:34.497Z"
   },
   {
    "duration": 17,
    "start_time": "2022-07-21T08:06:34.534Z"
   },
   {
    "duration": 21,
    "start_time": "2022-07-21T08:06:34.552Z"
   },
   {
    "duration": 252,
    "start_time": "2022-07-21T08:06:34.575Z"
   },
   {
    "duration": 5,
    "start_time": "2022-07-21T08:06:34.829Z"
   },
   {
    "duration": 28,
    "start_time": "2022-07-21T08:06:34.835Z"
   },
   {
    "duration": 292,
    "start_time": "2022-07-21T08:06:34.864Z"
   },
   {
    "duration": 288,
    "start_time": "2022-07-21T08:06:35.157Z"
   },
   {
    "duration": 444,
    "start_time": "2022-07-21T08:06:35.446Z"
   },
   {
    "duration": 317,
    "start_time": "2022-07-21T08:06:35.892Z"
   },
   {
    "duration": 144,
    "start_time": "2022-07-21T08:06:36.211Z"
   },
   {
    "duration": 168,
    "start_time": "2022-07-21T08:06:36.357Z"
   },
   {
    "duration": 188,
    "start_time": "2022-07-21T08:06:36.527Z"
   },
   {
    "duration": 148,
    "start_time": "2022-07-21T08:06:36.717Z"
   },
   {
    "duration": 125,
    "start_time": "2022-07-21T08:06:36.867Z"
   },
   {
    "duration": 169,
    "start_time": "2022-07-21T08:06:36.993Z"
   },
   {
    "duration": 206,
    "start_time": "2022-07-21T08:06:37.164Z"
   },
   {
    "duration": 220,
    "start_time": "2022-07-21T08:06:37.371Z"
   },
   {
    "duration": 183,
    "start_time": "2022-07-21T08:06:37.593Z"
   },
   {
    "duration": 21,
    "start_time": "2022-07-21T08:06:37.777Z"
   },
   {
    "duration": 138,
    "start_time": "2022-07-21T08:06:37.800Z"
   },
   {
    "duration": 138,
    "start_time": "2022-07-21T08:06:37.940Z"
   },
   {
    "duration": 167,
    "start_time": "2022-07-21T08:06:38.080Z"
   },
   {
    "duration": 100,
    "start_time": "2022-07-21T08:06:38.252Z"
   },
   {
    "duration": 190,
    "start_time": "2022-07-21T08:06:38.354Z"
   },
   {
    "duration": 3,
    "start_time": "2022-07-21T08:06:38.551Z"
   },
   {
    "duration": 217,
    "start_time": "2022-07-21T08:06:38.555Z"
   },
   {
    "duration": 200,
    "start_time": "2022-07-21T08:06:38.773Z"
   },
   {
    "duration": 178,
    "start_time": "2022-07-21T08:06:38.974Z"
   },
   {
    "duration": 167,
    "start_time": "2022-07-21T08:06:39.154Z"
   },
   {
    "duration": 131,
    "start_time": "2022-07-21T08:06:39.323Z"
   },
   {
    "duration": 181,
    "start_time": "2022-07-21T08:06:39.456Z"
   },
   {
    "duration": 186,
    "start_time": "2022-07-21T08:06:39.639Z"
   },
   {
    "duration": 182,
    "start_time": "2022-07-21T08:06:39.826Z"
   },
   {
    "duration": 1781,
    "start_time": "2022-07-21T08:06:40.009Z"
   },
   {
    "duration": 2,
    "start_time": "2022-07-21T08:06:41.792Z"
   },
   {
    "duration": 33,
    "start_time": "2022-07-21T08:06:41.795Z"
   },
   {
    "duration": 2,
    "start_time": "2022-07-21T08:06:41.830Z"
   },
   {
    "duration": 237,
    "start_time": "2022-07-21T08:06:41.853Z"
   },
   {
    "duration": 1281,
    "start_time": "2022-07-21T08:13:09.662Z"
   },
   {
    "duration": 1245,
    "start_time": "2022-07-21T08:13:22.959Z"
   },
   {
    "duration": 3,
    "start_time": "2022-07-21T08:25:10.467Z"
   },
   {
    "duration": 3,
    "start_time": "2022-07-21T08:35:04.753Z"
   },
   {
    "duration": 3,
    "start_time": "2022-07-21T08:35:09.658Z"
   },
   {
    "duration": 2009,
    "start_time": "2022-07-21T08:36:30.943Z"
   },
   {
    "duration": 16,
    "start_time": "2022-07-21T08:36:50.531Z"
   },
   {
    "duration": 17,
    "start_time": "2022-07-21T09:07:53.080Z"
   },
   {
    "duration": 19,
    "start_time": "2022-07-21T09:08:46.340Z"
   },
   {
    "duration": 3,
    "start_time": "2022-07-21T09:09:06.230Z"
   },
   {
    "duration": 80,
    "start_time": "2022-07-21T09:09:06.244Z"
   },
   {
    "duration": 8,
    "start_time": "2022-07-21T09:09:06.326Z"
   },
   {
    "duration": 15,
    "start_time": "2022-07-21T09:09:06.335Z"
   },
   {
    "duration": 14,
    "start_time": "2022-07-21T09:09:06.352Z"
   },
   {
    "duration": 8,
    "start_time": "2022-07-21T09:09:06.368Z"
   },
   {
    "duration": 77,
    "start_time": "2022-07-21T09:09:06.377Z"
   },
   {
    "duration": 30,
    "start_time": "2022-07-21T09:09:06.455Z"
   },
   {
    "duration": 4,
    "start_time": "2022-07-21T09:09:06.486Z"
   },
   {
    "duration": 14,
    "start_time": "2022-07-21T09:09:06.492Z"
   },
   {
    "duration": 6,
    "start_time": "2022-07-21T09:09:06.508Z"
   },
   {
    "duration": 1772,
    "start_time": "2022-07-21T09:09:06.516Z"
   },
   {
    "duration": 8,
    "start_time": "2022-07-21T09:09:08.289Z"
   },
   {
    "duration": 9,
    "start_time": "2022-07-21T09:09:08.299Z"
   },
   {
    "duration": 11,
    "start_time": "2022-07-21T09:09:08.312Z"
   },
   {
    "duration": 27,
    "start_time": "2022-07-21T09:09:08.325Z"
   },
   {
    "duration": 6,
    "start_time": "2022-07-21T09:09:08.354Z"
   },
   {
    "duration": 12,
    "start_time": "2022-07-21T09:09:08.362Z"
   },
   {
    "duration": 17,
    "start_time": "2022-07-21T09:09:08.375Z"
   },
   {
    "duration": 15,
    "start_time": "2022-07-21T09:09:08.393Z"
   },
   {
    "duration": 0,
    "start_time": "2022-07-21T09:09:08.410Z"
   },
   {
    "duration": 0,
    "start_time": "2022-07-21T09:09:08.412Z"
   },
   {
    "duration": 0,
    "start_time": "2022-07-21T09:09:08.413Z"
   },
   {
    "duration": 0,
    "start_time": "2022-07-21T09:09:08.414Z"
   },
   {
    "duration": 0,
    "start_time": "2022-07-21T09:09:08.415Z"
   },
   {
    "duration": 0,
    "start_time": "2022-07-21T09:09:08.416Z"
   },
   {
    "duration": 0,
    "start_time": "2022-07-21T09:09:08.417Z"
   },
   {
    "duration": 0,
    "start_time": "2022-07-21T09:09:08.418Z"
   },
   {
    "duration": 0,
    "start_time": "2022-07-21T09:09:08.453Z"
   },
   {
    "duration": 0,
    "start_time": "2022-07-21T09:09:08.454Z"
   },
   {
    "duration": 0,
    "start_time": "2022-07-21T09:09:08.454Z"
   },
   {
    "duration": 0,
    "start_time": "2022-07-21T09:09:08.456Z"
   },
   {
    "duration": 0,
    "start_time": "2022-07-21T09:09:08.457Z"
   },
   {
    "duration": 0,
    "start_time": "2022-07-21T09:09:08.459Z"
   },
   {
    "duration": 0,
    "start_time": "2022-07-21T09:09:08.460Z"
   },
   {
    "duration": 1,
    "start_time": "2022-07-21T09:09:08.461Z"
   },
   {
    "duration": 0,
    "start_time": "2022-07-21T09:09:08.463Z"
   },
   {
    "duration": 1,
    "start_time": "2022-07-21T09:09:08.464Z"
   },
   {
    "duration": 0,
    "start_time": "2022-07-21T09:09:08.466Z"
   },
   {
    "duration": 0,
    "start_time": "2022-07-21T09:09:08.467Z"
   },
   {
    "duration": 0,
    "start_time": "2022-07-21T09:09:08.469Z"
   },
   {
    "duration": 0,
    "start_time": "2022-07-21T09:09:08.470Z"
   },
   {
    "duration": 0,
    "start_time": "2022-07-21T09:09:08.471Z"
   },
   {
    "duration": 0,
    "start_time": "2022-07-21T09:09:08.473Z"
   },
   {
    "duration": 0,
    "start_time": "2022-07-21T09:09:08.475Z"
   },
   {
    "duration": 0,
    "start_time": "2022-07-21T09:09:08.476Z"
   },
   {
    "duration": 0,
    "start_time": "2022-07-21T09:09:08.477Z"
   },
   {
    "duration": 0,
    "start_time": "2022-07-21T09:09:08.479Z"
   },
   {
    "duration": 0,
    "start_time": "2022-07-21T09:09:08.480Z"
   },
   {
    "duration": 0,
    "start_time": "2022-07-21T09:09:08.482Z"
   },
   {
    "duration": 0,
    "start_time": "2022-07-21T09:09:08.484Z"
   },
   {
    "duration": 0,
    "start_time": "2022-07-21T09:09:08.485Z"
   },
   {
    "duration": 0,
    "start_time": "2022-07-21T09:09:08.486Z"
   },
   {
    "duration": 0,
    "start_time": "2022-07-21T09:09:08.487Z"
   },
   {
    "duration": 0,
    "start_time": "2022-07-21T09:09:08.488Z"
   },
   {
    "duration": 0,
    "start_time": "2022-07-21T09:09:08.489Z"
   },
   {
    "duration": 0,
    "start_time": "2022-07-21T09:09:08.490Z"
   },
   {
    "duration": 0,
    "start_time": "2022-07-21T09:09:08.491Z"
   },
   {
    "duration": 0,
    "start_time": "2022-07-21T09:09:08.492Z"
   },
   {
    "duration": 0,
    "start_time": "2022-07-21T09:09:08.492Z"
   },
   {
    "duration": 0,
    "start_time": "2022-07-21T09:09:08.553Z"
   },
   {
    "duration": 0,
    "start_time": "2022-07-21T09:09:08.554Z"
   },
   {
    "duration": 0,
    "start_time": "2022-07-21T09:09:08.555Z"
   },
   {
    "duration": 0,
    "start_time": "2022-07-21T09:09:08.556Z"
   },
   {
    "duration": 0,
    "start_time": "2022-07-21T09:09:08.557Z"
   },
   {
    "duration": 0,
    "start_time": "2022-07-21T09:09:08.558Z"
   },
   {
    "duration": 0,
    "start_time": "2022-07-21T09:09:08.559Z"
   },
   {
    "duration": 0,
    "start_time": "2022-07-21T09:09:08.560Z"
   },
   {
    "duration": 0,
    "start_time": "2022-07-21T09:09:08.561Z"
   },
   {
    "duration": 0,
    "start_time": "2022-07-21T09:09:08.562Z"
   },
   {
    "duration": 0,
    "start_time": "2022-07-21T09:09:08.563Z"
   },
   {
    "duration": 0,
    "start_time": "2022-07-21T09:09:08.563Z"
   },
   {
    "duration": 0,
    "start_time": "2022-07-21T09:09:08.564Z"
   },
   {
    "duration": 0,
    "start_time": "2022-07-21T09:09:08.565Z"
   },
   {
    "duration": 0,
    "start_time": "2022-07-21T09:09:08.566Z"
   },
   {
    "duration": 0,
    "start_time": "2022-07-21T09:09:08.567Z"
   },
   {
    "duration": 0,
    "start_time": "2022-07-21T09:09:08.568Z"
   },
   {
    "duration": 0,
    "start_time": "2022-07-21T09:09:08.569Z"
   },
   {
    "duration": 0,
    "start_time": "2022-07-21T09:09:08.570Z"
   },
   {
    "duration": 15,
    "start_time": "2022-07-21T09:09:48.866Z"
   },
   {
    "duration": 595,
    "start_time": "2022-07-21T09:10:34.983Z"
   },
   {
    "duration": 181,
    "start_time": "2022-07-21T09:11:14.254Z"
   },
   {
    "duration": 11,
    "start_time": "2022-07-21T09:12:07.151Z"
   },
   {
    "duration": 28,
    "start_time": "2022-07-21T09:13:40.616Z"
   },
   {
    "duration": 21,
    "start_time": "2022-07-21T09:14:19.139Z"
   },
   {
    "duration": 3,
    "start_time": "2022-07-21T09:16:38.060Z"
   },
   {
    "duration": 76,
    "start_time": "2022-07-21T09:16:38.066Z"
   },
   {
    "duration": 8,
    "start_time": "2022-07-21T09:16:38.144Z"
   },
   {
    "duration": 10,
    "start_time": "2022-07-21T09:16:38.153Z"
   },
   {
    "duration": 17,
    "start_time": "2022-07-21T09:16:38.165Z"
   },
   {
    "duration": 7,
    "start_time": "2022-07-21T09:16:38.184Z"
   },
   {
    "duration": 87,
    "start_time": "2022-07-21T09:16:38.192Z"
   },
   {
    "duration": 31,
    "start_time": "2022-07-21T09:16:38.281Z"
   },
   {
    "duration": 9,
    "start_time": "2022-07-21T09:16:38.314Z"
   },
   {
    "duration": 44,
    "start_time": "2022-07-21T09:16:38.326Z"
   },
   {
    "duration": 9,
    "start_time": "2022-07-21T09:16:38.374Z"
   },
   {
    "duration": 2003,
    "start_time": "2022-07-21T09:16:38.386Z"
   },
   {
    "duration": 9,
    "start_time": "2022-07-21T09:16:40.391Z"
   },
   {
    "duration": 10,
    "start_time": "2022-07-21T09:16:40.402Z"
   },
   {
    "duration": 6,
    "start_time": "2022-07-21T09:16:40.413Z"
   },
   {
    "duration": 5,
    "start_time": "2022-07-21T09:16:40.420Z"
   },
   {
    "duration": 7,
    "start_time": "2022-07-21T09:16:40.453Z"
   },
   {
    "duration": 11,
    "start_time": "2022-07-21T09:16:40.462Z"
   },
   {
    "duration": 21,
    "start_time": "2022-07-21T09:16:40.475Z"
   },
   {
    "duration": 24,
    "start_time": "2022-07-21T09:16:40.497Z"
   },
   {
    "duration": 0,
    "start_time": "2022-07-21T09:16:40.524Z"
   },
   {
    "duration": 0,
    "start_time": "2022-07-21T09:16:40.525Z"
   },
   {
    "duration": 0,
    "start_time": "2022-07-21T09:16:40.527Z"
   },
   {
    "duration": 0,
    "start_time": "2022-07-21T09:16:40.552Z"
   },
   {
    "duration": 0,
    "start_time": "2022-07-21T09:16:40.553Z"
   },
   {
    "duration": 0,
    "start_time": "2022-07-21T09:16:40.554Z"
   },
   {
    "duration": 0,
    "start_time": "2022-07-21T09:16:40.555Z"
   },
   {
    "duration": 0,
    "start_time": "2022-07-21T09:16:40.556Z"
   },
   {
    "duration": 0,
    "start_time": "2022-07-21T09:16:40.557Z"
   },
   {
    "duration": 0,
    "start_time": "2022-07-21T09:16:40.557Z"
   },
   {
    "duration": 0,
    "start_time": "2022-07-21T09:16:40.559Z"
   },
   {
    "duration": 0,
    "start_time": "2022-07-21T09:16:40.559Z"
   },
   {
    "duration": 0,
    "start_time": "2022-07-21T09:16:40.561Z"
   },
   {
    "duration": 0,
    "start_time": "2022-07-21T09:16:40.562Z"
   },
   {
    "duration": 0,
    "start_time": "2022-07-21T09:16:40.563Z"
   },
   {
    "duration": 0,
    "start_time": "2022-07-21T09:16:40.564Z"
   },
   {
    "duration": 0,
    "start_time": "2022-07-21T09:16:40.564Z"
   },
   {
    "duration": 0,
    "start_time": "2022-07-21T09:16:40.565Z"
   },
   {
    "duration": 0,
    "start_time": "2022-07-21T09:16:40.567Z"
   },
   {
    "duration": 0,
    "start_time": "2022-07-21T09:16:40.568Z"
   },
   {
    "duration": 0,
    "start_time": "2022-07-21T09:16:40.569Z"
   },
   {
    "duration": 0,
    "start_time": "2022-07-21T09:16:40.571Z"
   },
   {
    "duration": 0,
    "start_time": "2022-07-21T09:16:40.572Z"
   },
   {
    "duration": 0,
    "start_time": "2022-07-21T09:16:40.572Z"
   },
   {
    "duration": 0,
    "start_time": "2022-07-21T09:16:40.573Z"
   },
   {
    "duration": 0,
    "start_time": "2022-07-21T09:16:40.574Z"
   },
   {
    "duration": 0,
    "start_time": "2022-07-21T09:16:40.575Z"
   },
   {
    "duration": 0,
    "start_time": "2022-07-21T09:16:40.578Z"
   },
   {
    "duration": 0,
    "start_time": "2022-07-21T09:16:40.579Z"
   },
   {
    "duration": 0,
    "start_time": "2022-07-21T09:16:40.580Z"
   },
   {
    "duration": 0,
    "start_time": "2022-07-21T09:16:40.582Z"
   },
   {
    "duration": 0,
    "start_time": "2022-07-21T09:16:40.583Z"
   },
   {
    "duration": 0,
    "start_time": "2022-07-21T09:16:40.584Z"
   },
   {
    "duration": 0,
    "start_time": "2022-07-21T09:16:40.585Z"
   },
   {
    "duration": 0,
    "start_time": "2022-07-21T09:16:40.587Z"
   },
   {
    "duration": 0,
    "start_time": "2022-07-21T09:16:40.588Z"
   },
   {
    "duration": 0,
    "start_time": "2022-07-21T09:16:40.590Z"
   },
   {
    "duration": 0,
    "start_time": "2022-07-21T09:16:40.591Z"
   },
   {
    "duration": 0,
    "start_time": "2022-07-21T09:16:40.592Z"
   },
   {
    "duration": 0,
    "start_time": "2022-07-21T09:16:40.652Z"
   },
   {
    "duration": 0,
    "start_time": "2022-07-21T09:16:40.653Z"
   },
   {
    "duration": 0,
    "start_time": "2022-07-21T09:16:40.654Z"
   },
   {
    "duration": 0,
    "start_time": "2022-07-21T09:16:40.655Z"
   },
   {
    "duration": 0,
    "start_time": "2022-07-21T09:16:40.656Z"
   },
   {
    "duration": 0,
    "start_time": "2022-07-21T09:16:40.657Z"
   },
   {
    "duration": 0,
    "start_time": "2022-07-21T09:16:40.658Z"
   },
   {
    "duration": 0,
    "start_time": "2022-07-21T09:16:40.659Z"
   },
   {
    "duration": 0,
    "start_time": "2022-07-21T09:16:40.660Z"
   },
   {
    "duration": 0,
    "start_time": "2022-07-21T09:16:40.661Z"
   },
   {
    "duration": 0,
    "start_time": "2022-07-21T09:16:40.662Z"
   },
   {
    "duration": 0,
    "start_time": "2022-07-21T09:16:40.663Z"
   },
   {
    "duration": 0,
    "start_time": "2022-07-21T09:16:40.663Z"
   },
   {
    "duration": 0,
    "start_time": "2022-07-21T09:16:40.665Z"
   },
   {
    "duration": 0,
    "start_time": "2022-07-21T09:16:40.666Z"
   },
   {
    "duration": 0,
    "start_time": "2022-07-21T09:16:40.667Z"
   },
   {
    "duration": 0,
    "start_time": "2022-07-21T09:16:40.668Z"
   },
   {
    "duration": 0,
    "start_time": "2022-07-21T09:16:40.670Z"
   },
   {
    "duration": 0,
    "start_time": "2022-07-21T09:16:40.671Z"
   },
   {
    "duration": 0,
    "start_time": "2022-07-21T09:16:40.673Z"
   },
   {
    "duration": 14,
    "start_time": "2022-07-21T11:28:23.124Z"
   },
   {
    "duration": 1521,
    "start_time": "2022-07-21T11:30:14.662Z"
   },
   {
    "duration": 1278,
    "start_time": "2022-07-21T11:30:22.561Z"
   },
   {
    "duration": 2,
    "start_time": "2022-07-21T11:30:36.356Z"
   },
   {
    "duration": 77,
    "start_time": "2022-07-21T11:30:36.362Z"
   },
   {
    "duration": 7,
    "start_time": "2022-07-21T11:30:36.441Z"
   },
   {
    "duration": 6,
    "start_time": "2022-07-21T11:30:36.450Z"
   },
   {
    "duration": 12,
    "start_time": "2022-07-21T11:30:36.458Z"
   },
   {
    "duration": 4,
    "start_time": "2022-07-21T11:30:36.471Z"
   },
   {
    "duration": 60,
    "start_time": "2022-07-21T11:30:36.477Z"
   },
   {
    "duration": 27,
    "start_time": "2022-07-21T11:30:36.553Z"
   },
   {
    "duration": 6,
    "start_time": "2022-07-21T11:30:36.582Z"
   },
   {
    "duration": 25,
    "start_time": "2022-07-21T11:30:36.590Z"
   },
   {
    "duration": 34,
    "start_time": "2022-07-21T11:30:36.618Z"
   },
   {
    "duration": 1714,
    "start_time": "2022-07-21T11:30:36.654Z"
   },
   {
    "duration": 8,
    "start_time": "2022-07-21T11:30:38.369Z"
   },
   {
    "duration": 27,
    "start_time": "2022-07-21T11:30:38.378Z"
   },
   {
    "duration": 21,
    "start_time": "2022-07-21T11:30:38.407Z"
   },
   {
    "duration": 18,
    "start_time": "2022-07-21T11:30:38.430Z"
   },
   {
    "duration": 21,
    "start_time": "2022-07-21T11:30:38.449Z"
   },
   {
    "duration": 22,
    "start_time": "2022-07-21T11:30:38.471Z"
   },
   {
    "duration": 25,
    "start_time": "2022-07-21T11:30:38.494Z"
   },
   {
    "duration": 1192,
    "start_time": "2022-07-21T11:30:38.521Z"
   },
   {
    "duration": 0,
    "start_time": "2022-07-21T11:30:39.716Z"
   },
   {
    "duration": 0,
    "start_time": "2022-07-21T11:30:39.717Z"
   },
   {
    "duration": 0,
    "start_time": "2022-07-21T11:30:39.718Z"
   },
   {
    "duration": 0,
    "start_time": "2022-07-21T11:30:39.719Z"
   },
   {
    "duration": 0,
    "start_time": "2022-07-21T11:30:39.720Z"
   },
   {
    "duration": 0,
    "start_time": "2022-07-21T11:30:39.721Z"
   },
   {
    "duration": 0,
    "start_time": "2022-07-21T11:30:39.722Z"
   },
   {
    "duration": 0,
    "start_time": "2022-07-21T11:30:39.723Z"
   },
   {
    "duration": 0,
    "start_time": "2022-07-21T11:30:39.724Z"
   },
   {
    "duration": 0,
    "start_time": "2022-07-21T11:30:39.725Z"
   },
   {
    "duration": 0,
    "start_time": "2022-07-21T11:30:39.726Z"
   },
   {
    "duration": 0,
    "start_time": "2022-07-21T11:30:39.727Z"
   },
   {
    "duration": 0,
    "start_time": "2022-07-21T11:30:39.728Z"
   },
   {
    "duration": 0,
    "start_time": "2022-07-21T11:30:39.728Z"
   },
   {
    "duration": 0,
    "start_time": "2022-07-21T11:30:39.729Z"
   },
   {
    "duration": 0,
    "start_time": "2022-07-21T11:30:39.730Z"
   },
   {
    "duration": 0,
    "start_time": "2022-07-21T11:30:39.731Z"
   },
   {
    "duration": 0,
    "start_time": "2022-07-21T11:30:39.732Z"
   },
   {
    "duration": 0,
    "start_time": "2022-07-21T11:30:39.733Z"
   },
   {
    "duration": 0,
    "start_time": "2022-07-21T11:30:39.734Z"
   },
   {
    "duration": 0,
    "start_time": "2022-07-21T11:30:39.735Z"
   },
   {
    "duration": 0,
    "start_time": "2022-07-21T11:30:39.736Z"
   },
   {
    "duration": 0,
    "start_time": "2022-07-21T11:30:39.737Z"
   },
   {
    "duration": 0,
    "start_time": "2022-07-21T11:30:39.738Z"
   },
   {
    "duration": 0,
    "start_time": "2022-07-21T11:30:39.739Z"
   },
   {
    "duration": 0,
    "start_time": "2022-07-21T11:30:39.739Z"
   },
   {
    "duration": 0,
    "start_time": "2022-07-21T11:30:39.740Z"
   },
   {
    "duration": 0,
    "start_time": "2022-07-21T11:30:39.741Z"
   },
   {
    "duration": 0,
    "start_time": "2022-07-21T11:30:39.742Z"
   },
   {
    "duration": 0,
    "start_time": "2022-07-21T11:30:39.743Z"
   },
   {
    "duration": 0,
    "start_time": "2022-07-21T11:30:39.744Z"
   },
   {
    "duration": 0,
    "start_time": "2022-07-21T11:30:39.745Z"
   },
   {
    "duration": 0,
    "start_time": "2022-07-21T11:30:39.746Z"
   },
   {
    "duration": 0,
    "start_time": "2022-07-21T11:30:39.747Z"
   },
   {
    "duration": 0,
    "start_time": "2022-07-21T11:30:39.748Z"
   },
   {
    "duration": 0,
    "start_time": "2022-07-21T11:30:39.749Z"
   },
   {
    "duration": 0,
    "start_time": "2022-07-21T11:30:39.750Z"
   },
   {
    "duration": 0,
    "start_time": "2022-07-21T11:30:39.753Z"
   },
   {
    "duration": 0,
    "start_time": "2022-07-21T11:30:39.755Z"
   },
   {
    "duration": 0,
    "start_time": "2022-07-21T11:30:39.755Z"
   },
   {
    "duration": 0,
    "start_time": "2022-07-21T11:30:39.756Z"
   },
   {
    "duration": 0,
    "start_time": "2022-07-21T11:30:39.757Z"
   },
   {
    "duration": 0,
    "start_time": "2022-07-21T11:30:39.758Z"
   },
   {
    "duration": 0,
    "start_time": "2022-07-21T11:30:39.759Z"
   },
   {
    "duration": 0,
    "start_time": "2022-07-21T11:30:39.760Z"
   },
   {
    "duration": 0,
    "start_time": "2022-07-21T11:30:39.761Z"
   },
   {
    "duration": 0,
    "start_time": "2022-07-21T11:30:39.762Z"
   },
   {
    "duration": 0,
    "start_time": "2022-07-21T11:30:39.763Z"
   },
   {
    "duration": 0,
    "start_time": "2022-07-21T11:30:39.763Z"
   },
   {
    "duration": 0,
    "start_time": "2022-07-21T11:30:39.764Z"
   },
   {
    "duration": 0,
    "start_time": "2022-07-21T11:30:39.765Z"
   },
   {
    "duration": 0,
    "start_time": "2022-07-21T11:30:39.766Z"
   },
   {
    "duration": 0,
    "start_time": "2022-07-21T11:30:39.767Z"
   },
   {
    "duration": 0,
    "start_time": "2022-07-21T11:30:39.768Z"
   },
   {
    "duration": 0,
    "start_time": "2022-07-21T11:30:39.768Z"
   },
   {
    "duration": 0,
    "start_time": "2022-07-21T11:30:39.769Z"
   },
   {
    "duration": 0,
    "start_time": "2022-07-21T11:30:39.770Z"
   },
   {
    "duration": 0,
    "start_time": "2022-07-21T11:30:39.771Z"
   },
   {
    "duration": 0,
    "start_time": "2022-07-21T11:30:39.772Z"
   },
   {
    "duration": 157,
    "start_time": "2022-07-21T11:32:15.239Z"
   },
   {
    "duration": 16,
    "start_time": "2022-07-21T11:32:27.369Z"
   },
   {
    "duration": 19,
    "start_time": "2022-07-21T11:32:40.323Z"
   },
   {
    "duration": 196,
    "start_time": "2022-07-21T11:34:21.148Z"
   },
   {
    "duration": 135,
    "start_time": "2022-07-21T11:37:03.034Z"
   },
   {
    "duration": 109,
    "start_time": "2022-07-21T11:39:35.215Z"
   },
   {
    "duration": 73,
    "start_time": "2022-07-21T11:39:56.843Z"
   },
   {
    "duration": 21,
    "start_time": "2022-07-21T11:40:05.175Z"
   },
   {
    "duration": 13,
    "start_time": "2022-07-21T11:41:26.823Z"
   },
   {
    "duration": 1382,
    "start_time": "2022-07-21T11:41:40.573Z"
   },
   {
    "duration": 9,
    "start_time": "2022-07-21T11:45:37.381Z"
   },
   {
    "duration": 9,
    "start_time": "2022-07-21T11:46:03.747Z"
   },
   {
    "duration": 33,
    "start_time": "2022-07-21T12:24:44.547Z"
   },
   {
    "duration": 10,
    "start_time": "2022-07-21T12:25:48.322Z"
   },
   {
    "duration": 12,
    "start_time": "2022-07-21T12:26:31.704Z"
   },
   {
    "duration": 12,
    "start_time": "2022-07-21T12:27:47.770Z"
   },
   {
    "duration": 174,
    "start_time": "2022-07-21T12:30:10.033Z"
   },
   {
    "duration": 1230,
    "start_time": "2022-07-21T12:30:59.649Z"
   },
   {
    "duration": 1158,
    "start_time": "2022-07-21T12:32:38.756Z"
   },
   {
    "duration": 1219,
    "start_time": "2022-07-21T12:33:41.732Z"
   },
   {
    "duration": 1272,
    "start_time": "2022-07-21T12:34:07.930Z"
   },
   {
    "duration": 1374,
    "start_time": "2022-07-21T13:14:25.311Z"
   },
   {
    "duration": 10,
    "start_time": "2022-07-21T13:15:03.674Z"
   },
   {
    "duration": 5,
    "start_time": "2022-07-21T13:15:15.596Z"
   },
   {
    "duration": 3,
    "start_time": "2022-07-21T13:15:41.317Z"
   },
   {
    "duration": 85,
    "start_time": "2022-07-21T13:15:41.325Z"
   },
   {
    "duration": 9,
    "start_time": "2022-07-21T13:15:41.412Z"
   },
   {
    "duration": 10,
    "start_time": "2022-07-21T13:15:41.423Z"
   },
   {
    "duration": 13,
    "start_time": "2022-07-21T13:15:41.455Z"
   },
   {
    "duration": 13,
    "start_time": "2022-07-21T13:15:41.471Z"
   },
   {
    "duration": 116,
    "start_time": "2022-07-21T13:15:41.486Z"
   },
   {
    "duration": 63,
    "start_time": "2022-07-21T13:15:41.605Z"
   },
   {
    "duration": 6,
    "start_time": "2022-07-21T13:15:41.671Z"
   },
   {
    "duration": 22,
    "start_time": "2022-07-21T13:15:41.679Z"
   },
   {
    "duration": 48,
    "start_time": "2022-07-21T13:15:41.705Z"
   },
   {
    "duration": 2247,
    "start_time": "2022-07-21T13:15:41.755Z"
   },
   {
    "duration": 6,
    "start_time": "2022-07-21T13:15:44.004Z"
   },
   {
    "duration": 11,
    "start_time": "2022-07-21T13:15:44.012Z"
   },
   {
    "duration": 5,
    "start_time": "2022-07-21T13:15:44.025Z"
   },
   {
    "duration": 23,
    "start_time": "2022-07-21T13:15:44.032Z"
   },
   {
    "duration": 12,
    "start_time": "2022-07-21T13:15:44.058Z"
   },
   {
    "duration": 16,
    "start_time": "2022-07-21T13:15:44.072Z"
   },
   {
    "duration": 22,
    "start_time": "2022-07-21T13:15:44.090Z"
   },
   {
    "duration": 6,
    "start_time": "2022-07-21T13:15:44.114Z"
   },
   {
    "duration": 1338,
    "start_time": "2022-07-21T13:15:44.122Z"
   },
   {
    "duration": 0,
    "start_time": "2022-07-21T13:15:45.465Z"
   },
   {
    "duration": 0,
    "start_time": "2022-07-21T13:15:45.466Z"
   },
   {
    "duration": 0,
    "start_time": "2022-07-21T13:15:45.467Z"
   },
   {
    "duration": 0,
    "start_time": "2022-07-21T13:15:45.468Z"
   },
   {
    "duration": 0,
    "start_time": "2022-07-21T13:15:45.469Z"
   },
   {
    "duration": 0,
    "start_time": "2022-07-21T13:15:45.470Z"
   },
   {
    "duration": 0,
    "start_time": "2022-07-21T13:15:45.471Z"
   },
   {
    "duration": 0,
    "start_time": "2022-07-21T13:15:45.472Z"
   },
   {
    "duration": 0,
    "start_time": "2022-07-21T13:15:45.474Z"
   },
   {
    "duration": 0,
    "start_time": "2022-07-21T13:15:45.474Z"
   },
   {
    "duration": 0,
    "start_time": "2022-07-21T13:15:45.475Z"
   },
   {
    "duration": 0,
    "start_time": "2022-07-21T13:15:45.476Z"
   },
   {
    "duration": 0,
    "start_time": "2022-07-21T13:15:45.477Z"
   },
   {
    "duration": 0,
    "start_time": "2022-07-21T13:15:45.478Z"
   },
   {
    "duration": 0,
    "start_time": "2022-07-21T13:15:45.479Z"
   },
   {
    "duration": 0,
    "start_time": "2022-07-21T13:15:45.480Z"
   },
   {
    "duration": 0,
    "start_time": "2022-07-21T13:15:45.481Z"
   },
   {
    "duration": 0,
    "start_time": "2022-07-21T13:15:45.482Z"
   },
   {
    "duration": 0,
    "start_time": "2022-07-21T13:15:45.483Z"
   },
   {
    "duration": 0,
    "start_time": "2022-07-21T13:15:45.483Z"
   },
   {
    "duration": 0,
    "start_time": "2022-07-21T13:15:45.484Z"
   },
   {
    "duration": 0,
    "start_time": "2022-07-21T13:15:45.485Z"
   },
   {
    "duration": 0,
    "start_time": "2022-07-21T13:15:45.486Z"
   },
   {
    "duration": 0,
    "start_time": "2022-07-21T13:15:45.487Z"
   },
   {
    "duration": 0,
    "start_time": "2022-07-21T13:15:45.488Z"
   },
   {
    "duration": 0,
    "start_time": "2022-07-21T13:15:45.489Z"
   },
   {
    "duration": 0,
    "start_time": "2022-07-21T13:15:45.490Z"
   },
   {
    "duration": 0,
    "start_time": "2022-07-21T13:15:45.491Z"
   },
   {
    "duration": 0,
    "start_time": "2022-07-21T13:15:45.492Z"
   },
   {
    "duration": 0,
    "start_time": "2022-07-21T13:15:45.493Z"
   },
   {
    "duration": 0,
    "start_time": "2022-07-21T13:15:45.494Z"
   },
   {
    "duration": 0,
    "start_time": "2022-07-21T13:15:45.495Z"
   },
   {
    "duration": 0,
    "start_time": "2022-07-21T13:15:45.496Z"
   },
   {
    "duration": 0,
    "start_time": "2022-07-21T13:15:45.497Z"
   },
   {
    "duration": 0,
    "start_time": "2022-07-21T13:15:45.498Z"
   },
   {
    "duration": 0,
    "start_time": "2022-07-21T13:15:45.499Z"
   },
   {
    "duration": 0,
    "start_time": "2022-07-21T13:15:45.500Z"
   },
   {
    "duration": 0,
    "start_time": "2022-07-21T13:15:45.501Z"
   },
   {
    "duration": 0,
    "start_time": "2022-07-21T13:15:45.552Z"
   },
   {
    "duration": 0,
    "start_time": "2022-07-21T13:15:45.553Z"
   },
   {
    "duration": 0,
    "start_time": "2022-07-21T13:15:45.554Z"
   },
   {
    "duration": 0,
    "start_time": "2022-07-21T13:15:45.556Z"
   },
   {
    "duration": 0,
    "start_time": "2022-07-21T13:15:45.557Z"
   },
   {
    "duration": 0,
    "start_time": "2022-07-21T13:15:45.558Z"
   },
   {
    "duration": 0,
    "start_time": "2022-07-21T13:15:45.559Z"
   },
   {
    "duration": 0,
    "start_time": "2022-07-21T13:15:45.560Z"
   },
   {
    "duration": 0,
    "start_time": "2022-07-21T13:15:45.561Z"
   },
   {
    "duration": 0,
    "start_time": "2022-07-21T13:15:45.562Z"
   },
   {
    "duration": 0,
    "start_time": "2022-07-21T13:15:45.563Z"
   },
   {
    "duration": 0,
    "start_time": "2022-07-21T13:15:45.564Z"
   },
   {
    "duration": 0,
    "start_time": "2022-07-21T13:15:45.565Z"
   },
   {
    "duration": 0,
    "start_time": "2022-07-21T13:15:45.566Z"
   },
   {
    "duration": 0,
    "start_time": "2022-07-21T13:15:45.567Z"
   },
   {
    "duration": 0,
    "start_time": "2022-07-21T13:15:45.568Z"
   },
   {
    "duration": 0,
    "start_time": "2022-07-21T13:15:45.569Z"
   },
   {
    "duration": 0,
    "start_time": "2022-07-21T13:15:45.570Z"
   },
   {
    "duration": 0,
    "start_time": "2022-07-21T13:15:45.571Z"
   },
   {
    "duration": 0,
    "start_time": "2022-07-21T13:15:45.572Z"
   },
   {
    "duration": 0,
    "start_time": "2022-07-21T13:15:45.573Z"
   },
   {
    "duration": 4,
    "start_time": "2022-07-21T13:16:10.877Z"
   },
   {
    "duration": 7,
    "start_time": "2022-07-21T13:16:52.932Z"
   },
   {
    "duration": 4,
    "start_time": "2022-07-21T13:16:55.372Z"
   },
   {
    "duration": 3,
    "start_time": "2022-07-21T13:17:17.849Z"
   },
   {
    "duration": 84,
    "start_time": "2022-07-21T13:17:17.856Z"
   },
   {
    "duration": 9,
    "start_time": "2022-07-21T13:17:17.941Z"
   },
   {
    "duration": 13,
    "start_time": "2022-07-21T13:17:17.951Z"
   },
   {
    "duration": 19,
    "start_time": "2022-07-21T13:17:17.966Z"
   },
   {
    "duration": 8,
    "start_time": "2022-07-21T13:17:17.987Z"
   },
   {
    "duration": 103,
    "start_time": "2022-07-21T13:17:17.997Z"
   },
   {
    "duration": 52,
    "start_time": "2022-07-21T13:17:18.102Z"
   },
   {
    "duration": 11,
    "start_time": "2022-07-21T13:17:18.155Z"
   },
   {
    "duration": 18,
    "start_time": "2022-07-21T13:17:18.168Z"
   },
   {
    "duration": 10,
    "start_time": "2022-07-21T13:17:18.190Z"
   },
   {
    "duration": 2024,
    "start_time": "2022-07-21T13:17:18.203Z"
   },
   {
    "duration": 23,
    "start_time": "2022-07-21T13:17:20.229Z"
   },
   {
    "duration": 11,
    "start_time": "2022-07-21T13:17:20.255Z"
   },
   {
    "duration": 7,
    "start_time": "2022-07-21T13:17:20.268Z"
   },
   {
    "duration": 7,
    "start_time": "2022-07-21T13:17:20.277Z"
   },
   {
    "duration": 11,
    "start_time": "2022-07-21T13:17:20.286Z"
   },
   {
    "duration": 15,
    "start_time": "2022-07-21T13:17:20.300Z"
   },
   {
    "duration": 5,
    "start_time": "2022-07-21T13:17:20.353Z"
   },
   {
    "duration": 30,
    "start_time": "2022-07-21T13:17:20.361Z"
   },
   {
    "duration": 1424,
    "start_time": "2022-07-21T13:17:20.393Z"
   },
   {
    "duration": 0,
    "start_time": "2022-07-21T13:17:21.820Z"
   },
   {
    "duration": 0,
    "start_time": "2022-07-21T13:17:21.822Z"
   },
   {
    "duration": 0,
    "start_time": "2022-07-21T13:17:21.824Z"
   },
   {
    "duration": 0,
    "start_time": "2022-07-21T13:17:21.825Z"
   },
   {
    "duration": 0,
    "start_time": "2022-07-21T13:17:21.826Z"
   },
   {
    "duration": 0,
    "start_time": "2022-07-21T13:17:21.828Z"
   },
   {
    "duration": 0,
    "start_time": "2022-07-21T13:17:21.829Z"
   },
   {
    "duration": 0,
    "start_time": "2022-07-21T13:17:21.830Z"
   },
   {
    "duration": 0,
    "start_time": "2022-07-21T13:17:21.831Z"
   },
   {
    "duration": 0,
    "start_time": "2022-07-21T13:17:21.833Z"
   },
   {
    "duration": 0,
    "start_time": "2022-07-21T13:17:21.835Z"
   },
   {
    "duration": 0,
    "start_time": "2022-07-21T13:17:21.837Z"
   },
   {
    "duration": 0,
    "start_time": "2022-07-21T13:17:21.839Z"
   },
   {
    "duration": 0,
    "start_time": "2022-07-21T13:17:21.841Z"
   },
   {
    "duration": 0,
    "start_time": "2022-07-21T13:17:21.842Z"
   },
   {
    "duration": 0,
    "start_time": "2022-07-21T13:17:21.844Z"
   },
   {
    "duration": 0,
    "start_time": "2022-07-21T13:17:21.845Z"
   },
   {
    "duration": 0,
    "start_time": "2022-07-21T13:17:21.846Z"
   },
   {
    "duration": 0,
    "start_time": "2022-07-21T13:17:21.848Z"
   },
   {
    "duration": 0,
    "start_time": "2022-07-21T13:17:21.849Z"
   },
   {
    "duration": 0,
    "start_time": "2022-07-21T13:17:21.850Z"
   },
   {
    "duration": 0,
    "start_time": "2022-07-21T13:17:21.852Z"
   },
   {
    "duration": 0,
    "start_time": "2022-07-21T13:17:21.852Z"
   },
   {
    "duration": 0,
    "start_time": "2022-07-21T13:17:21.854Z"
   },
   {
    "duration": 0,
    "start_time": "2022-07-21T13:17:21.855Z"
   },
   {
    "duration": 0,
    "start_time": "2022-07-21T13:17:21.856Z"
   },
   {
    "duration": 0,
    "start_time": "2022-07-21T13:17:21.857Z"
   },
   {
    "duration": 0,
    "start_time": "2022-07-21T13:17:21.858Z"
   },
   {
    "duration": 0,
    "start_time": "2022-07-21T13:17:21.859Z"
   },
   {
    "duration": 0,
    "start_time": "2022-07-21T13:17:21.860Z"
   },
   {
    "duration": 0,
    "start_time": "2022-07-21T13:17:21.861Z"
   },
   {
    "duration": 0,
    "start_time": "2022-07-21T13:17:21.862Z"
   },
   {
    "duration": 0,
    "start_time": "2022-07-21T13:17:21.864Z"
   },
   {
    "duration": 0,
    "start_time": "2022-07-21T13:17:21.865Z"
   },
   {
    "duration": 0,
    "start_time": "2022-07-21T13:17:21.866Z"
   },
   {
    "duration": 0,
    "start_time": "2022-07-21T13:17:21.868Z"
   },
   {
    "duration": 0,
    "start_time": "2022-07-21T13:17:21.869Z"
   },
   {
    "duration": 0,
    "start_time": "2022-07-21T13:17:21.870Z"
   },
   {
    "duration": 0,
    "start_time": "2022-07-21T13:17:21.872Z"
   },
   {
    "duration": 0,
    "start_time": "2022-07-21T13:17:21.873Z"
   },
   {
    "duration": 0,
    "start_time": "2022-07-21T13:17:21.874Z"
   },
   {
    "duration": 0,
    "start_time": "2022-07-21T13:17:21.875Z"
   },
   {
    "duration": 0,
    "start_time": "2022-07-21T13:17:21.877Z"
   },
   {
    "duration": 0,
    "start_time": "2022-07-21T13:17:21.878Z"
   },
   {
    "duration": 0,
    "start_time": "2022-07-21T13:17:21.880Z"
   },
   {
    "duration": 0,
    "start_time": "2022-07-21T13:17:21.881Z"
   },
   {
    "duration": 0,
    "start_time": "2022-07-21T13:17:21.882Z"
   },
   {
    "duration": 0,
    "start_time": "2022-07-21T13:17:21.884Z"
   },
   {
    "duration": 0,
    "start_time": "2022-07-21T13:17:21.885Z"
   },
   {
    "duration": 0,
    "start_time": "2022-07-21T13:17:21.886Z"
   },
   {
    "duration": 0,
    "start_time": "2022-07-21T13:17:21.887Z"
   },
   {
    "duration": 0,
    "start_time": "2022-07-21T13:17:21.888Z"
   },
   {
    "duration": 0,
    "start_time": "2022-07-21T13:17:21.890Z"
   },
   {
    "duration": 0,
    "start_time": "2022-07-21T13:17:21.891Z"
   },
   {
    "duration": 0,
    "start_time": "2022-07-21T13:17:21.892Z"
   },
   {
    "duration": 0,
    "start_time": "2022-07-21T13:17:21.893Z"
   },
   {
    "duration": 0,
    "start_time": "2022-07-21T13:17:21.894Z"
   },
   {
    "duration": 0,
    "start_time": "2022-07-21T13:17:21.952Z"
   },
   {
    "duration": 0,
    "start_time": "2022-07-21T13:17:21.953Z"
   },
   {
    "duration": 76,
    "start_time": "2022-07-21T13:18:12.702Z"
   },
   {
    "duration": 1338,
    "start_time": "2022-07-21T13:18:24.459Z"
   },
   {
    "duration": 73,
    "start_time": "2022-07-21T13:22:05.147Z"
   },
   {
    "duration": 72,
    "start_time": "2022-07-21T13:23:48.422Z"
   },
   {
    "duration": 1379,
    "start_time": "2022-07-21T13:24:08.642Z"
   },
   {
    "duration": 3,
    "start_time": "2022-07-21T13:25:21.513Z"
   },
   {
    "duration": 106,
    "start_time": "2022-07-21T13:25:21.518Z"
   },
   {
    "duration": 10,
    "start_time": "2022-07-21T13:25:21.627Z"
   },
   {
    "duration": 16,
    "start_time": "2022-07-21T13:25:21.638Z"
   },
   {
    "duration": 16,
    "start_time": "2022-07-21T13:25:21.657Z"
   },
   {
    "duration": 12,
    "start_time": "2022-07-21T13:25:21.675Z"
   },
   {
    "duration": 104,
    "start_time": "2022-07-21T13:25:21.689Z"
   },
   {
    "duration": 30,
    "start_time": "2022-07-21T13:25:21.794Z"
   },
   {
    "duration": 29,
    "start_time": "2022-07-21T13:25:21.825Z"
   },
   {
    "duration": 25,
    "start_time": "2022-07-21T13:25:21.856Z"
   },
   {
    "duration": 16,
    "start_time": "2022-07-21T13:25:21.885Z"
   },
   {
    "duration": 2078,
    "start_time": "2022-07-21T13:25:21.903Z"
   },
   {
    "duration": 8,
    "start_time": "2022-07-21T13:25:23.983Z"
   },
   {
    "duration": 11,
    "start_time": "2022-07-21T13:25:23.992Z"
   },
   {
    "duration": 6,
    "start_time": "2022-07-21T13:25:24.005Z"
   },
   {
    "duration": 6,
    "start_time": "2022-07-21T13:25:24.013Z"
   },
   {
    "duration": 38,
    "start_time": "2022-07-21T13:25:24.020Z"
   },
   {
    "duration": 16,
    "start_time": "2022-07-21T13:25:24.061Z"
   },
   {
    "duration": 232,
    "start_time": "2022-07-21T13:25:24.079Z"
   },
   {
    "duration": 18,
    "start_time": "2022-07-21T13:25:24.313Z"
   },
   {
    "duration": 2065,
    "start_time": "2022-07-21T13:25:24.333Z"
   },
   {
    "duration": 0,
    "start_time": "2022-07-21T13:25:26.401Z"
   },
   {
    "duration": 0,
    "start_time": "2022-07-21T13:25:26.402Z"
   },
   {
    "duration": 0,
    "start_time": "2022-07-21T13:25:26.403Z"
   },
   {
    "duration": 0,
    "start_time": "2022-07-21T13:25:26.404Z"
   },
   {
    "duration": 0,
    "start_time": "2022-07-21T13:25:26.405Z"
   },
   {
    "duration": 0,
    "start_time": "2022-07-21T13:25:26.407Z"
   },
   {
    "duration": 0,
    "start_time": "2022-07-21T13:25:26.408Z"
   },
   {
    "duration": 1,
    "start_time": "2022-07-21T13:25:26.409Z"
   },
   {
    "duration": 0,
    "start_time": "2022-07-21T13:25:26.411Z"
   },
   {
    "duration": 0,
    "start_time": "2022-07-21T13:25:26.413Z"
   },
   {
    "duration": 0,
    "start_time": "2022-07-21T13:25:26.414Z"
   },
   {
    "duration": 0,
    "start_time": "2022-07-21T13:25:26.416Z"
   },
   {
    "duration": 0,
    "start_time": "2022-07-21T13:25:26.417Z"
   },
   {
    "duration": 0,
    "start_time": "2022-07-21T13:25:26.418Z"
   },
   {
    "duration": 0,
    "start_time": "2022-07-21T13:25:26.420Z"
   },
   {
    "duration": 0,
    "start_time": "2022-07-21T13:25:26.421Z"
   },
   {
    "duration": 0,
    "start_time": "2022-07-21T13:25:26.423Z"
   },
   {
    "duration": 0,
    "start_time": "2022-07-21T13:25:26.424Z"
   },
   {
    "duration": 0,
    "start_time": "2022-07-21T13:25:26.426Z"
   },
   {
    "duration": 0,
    "start_time": "2022-07-21T13:25:26.427Z"
   },
   {
    "duration": 0,
    "start_time": "2022-07-21T13:25:26.429Z"
   },
   {
    "duration": 0,
    "start_time": "2022-07-21T13:25:26.430Z"
   },
   {
    "duration": 0,
    "start_time": "2022-07-21T13:25:26.431Z"
   },
   {
    "duration": 0,
    "start_time": "2022-07-21T13:25:26.432Z"
   },
   {
    "duration": 0,
    "start_time": "2022-07-21T13:25:26.433Z"
   },
   {
    "duration": 0,
    "start_time": "2022-07-21T13:25:26.434Z"
   },
   {
    "duration": 0,
    "start_time": "2022-07-21T13:25:26.436Z"
   },
   {
    "duration": 0,
    "start_time": "2022-07-21T13:25:26.436Z"
   },
   {
    "duration": 0,
    "start_time": "2022-07-21T13:25:26.438Z"
   },
   {
    "duration": 0,
    "start_time": "2022-07-21T13:25:26.438Z"
   },
   {
    "duration": 0,
    "start_time": "2022-07-21T13:25:26.439Z"
   },
   {
    "duration": 0,
    "start_time": "2022-07-21T13:25:26.452Z"
   },
   {
    "duration": 0,
    "start_time": "2022-07-21T13:25:26.453Z"
   },
   {
    "duration": 0,
    "start_time": "2022-07-21T13:25:26.454Z"
   },
   {
    "duration": 0,
    "start_time": "2022-07-21T13:25:26.455Z"
   },
   {
    "duration": 0,
    "start_time": "2022-07-21T13:25:26.456Z"
   },
   {
    "duration": 0,
    "start_time": "2022-07-21T13:25:26.457Z"
   },
   {
    "duration": 0,
    "start_time": "2022-07-21T13:25:26.459Z"
   },
   {
    "duration": 0,
    "start_time": "2022-07-21T13:25:26.460Z"
   },
   {
    "duration": 0,
    "start_time": "2022-07-21T13:25:26.461Z"
   },
   {
    "duration": 0,
    "start_time": "2022-07-21T13:25:26.462Z"
   },
   {
    "duration": 0,
    "start_time": "2022-07-21T13:25:26.463Z"
   },
   {
    "duration": 0,
    "start_time": "2022-07-21T13:25:26.465Z"
   },
   {
    "duration": 0,
    "start_time": "2022-07-21T13:25:26.466Z"
   },
   {
    "duration": 0,
    "start_time": "2022-07-21T13:25:26.467Z"
   },
   {
    "duration": 0,
    "start_time": "2022-07-21T13:25:26.468Z"
   },
   {
    "duration": 0,
    "start_time": "2022-07-21T13:25:26.470Z"
   },
   {
    "duration": 0,
    "start_time": "2022-07-21T13:25:26.471Z"
   },
   {
    "duration": 0,
    "start_time": "2022-07-21T13:25:26.473Z"
   },
   {
    "duration": 0,
    "start_time": "2022-07-21T13:25:26.473Z"
   },
   {
    "duration": 0,
    "start_time": "2022-07-21T13:25:26.475Z"
   },
   {
    "duration": 0,
    "start_time": "2022-07-21T13:25:26.476Z"
   },
   {
    "duration": 0,
    "start_time": "2022-07-21T13:25:26.477Z"
   },
   {
    "duration": 0,
    "start_time": "2022-07-21T13:25:26.478Z"
   },
   {
    "duration": 0,
    "start_time": "2022-07-21T13:25:26.479Z"
   },
   {
    "duration": 0,
    "start_time": "2022-07-21T13:25:26.481Z"
   },
   {
    "duration": 0,
    "start_time": "2022-07-21T13:25:26.482Z"
   },
   {
    "duration": 0,
    "start_time": "2022-07-21T13:25:26.483Z"
   },
   {
    "duration": 0,
    "start_time": "2022-07-21T13:25:26.484Z"
   },
   {
    "duration": 23,
    "start_time": "2022-07-21T13:26:15.848Z"
   },
   {
    "duration": 13,
    "start_time": "2022-07-21T13:26:27.778Z"
   },
   {
    "duration": 3,
    "start_time": "2022-07-21T13:27:05.966Z"
   },
   {
    "duration": 108,
    "start_time": "2022-07-21T13:27:05.971Z"
   },
   {
    "duration": 13,
    "start_time": "2022-07-21T13:27:06.082Z"
   },
   {
    "duration": 31,
    "start_time": "2022-07-21T13:27:06.097Z"
   },
   {
    "duration": 50,
    "start_time": "2022-07-21T13:27:06.130Z"
   },
   {
    "duration": 24,
    "start_time": "2022-07-21T13:27:06.182Z"
   },
   {
    "duration": 116,
    "start_time": "2022-07-21T13:27:06.209Z"
   },
   {
    "duration": 64,
    "start_time": "2022-07-21T13:27:06.327Z"
   },
   {
    "duration": 13,
    "start_time": "2022-07-21T13:27:06.393Z"
   },
   {
    "duration": 22,
    "start_time": "2022-07-21T13:27:06.408Z"
   },
   {
    "duration": 29,
    "start_time": "2022-07-21T13:27:06.433Z"
   },
   {
    "duration": 2293,
    "start_time": "2022-07-21T13:27:06.464Z"
   },
   {
    "duration": 16,
    "start_time": "2022-07-21T13:27:08.759Z"
   },
   {
    "duration": 23,
    "start_time": "2022-07-21T13:27:08.777Z"
   },
   {
    "duration": 11,
    "start_time": "2022-07-21T13:27:08.802Z"
   },
   {
    "duration": 8,
    "start_time": "2022-07-21T13:27:08.816Z"
   },
   {
    "duration": 15,
    "start_time": "2022-07-21T13:27:08.826Z"
   },
   {
    "duration": 19,
    "start_time": "2022-07-21T13:27:08.843Z"
   },
   {
    "duration": 250,
    "start_time": "2022-07-21T13:27:08.864Z"
   },
   {
    "duration": 20,
    "start_time": "2022-07-21T13:27:09.116Z"
   },
   {
    "duration": 24,
    "start_time": "2022-07-21T13:27:09.138Z"
   },
   {
    "duration": 14,
    "start_time": "2022-07-21T13:27:09.165Z"
   },
   {
    "duration": 28,
    "start_time": "2022-07-21T13:27:09.181Z"
   },
   {
    "duration": 9,
    "start_time": "2022-07-21T13:27:09.211Z"
   },
   {
    "duration": 100,
    "start_time": "2022-07-21T13:27:09.222Z"
   },
   {
    "duration": 5,
    "start_time": "2022-07-21T13:27:09.324Z"
   },
   {
    "duration": 2179,
    "start_time": "2022-07-21T13:27:09.330Z"
   },
   {
    "duration": 200,
    "start_time": "2022-07-21T13:27:11.511Z"
   },
   {
    "duration": 185,
    "start_time": "2022-07-21T13:27:11.715Z"
   },
   {
    "duration": 694,
    "start_time": "2022-07-21T13:27:11.902Z"
   },
   {
    "duration": 3,
    "start_time": "2022-07-21T13:27:12.598Z"
   },
   {
    "duration": 188,
    "start_time": "2022-07-21T13:27:12.606Z"
   },
   {
    "duration": 166,
    "start_time": "2022-07-21T13:27:12.796Z"
   },
   {
    "duration": 212,
    "start_time": "2022-07-21T13:27:12.964Z"
   },
   {
    "duration": 201,
    "start_time": "2022-07-21T13:27:13.180Z"
   },
   {
    "duration": 29,
    "start_time": "2022-07-21T13:27:13.383Z"
   },
   {
    "duration": 61,
    "start_time": "2022-07-21T13:27:13.415Z"
   },
   {
    "duration": 14,
    "start_time": "2022-07-21T13:27:13.478Z"
   },
   {
    "duration": 196,
    "start_time": "2022-07-21T13:27:13.495Z"
   },
   {
    "duration": 6,
    "start_time": "2022-07-21T13:27:13.692Z"
   },
   {
    "duration": 10,
    "start_time": "2022-07-21T13:27:13.700Z"
   },
   {
    "duration": 7,
    "start_time": "2022-07-21T13:27:13.712Z"
   },
   {
    "duration": 7,
    "start_time": "2022-07-21T13:27:13.721Z"
   },
   {
    "duration": 313,
    "start_time": "2022-07-21T13:27:13.729Z"
   },
   {
    "duration": 10,
    "start_time": "2022-07-21T13:27:14.044Z"
   },
   {
    "duration": 43,
    "start_time": "2022-07-21T13:27:14.056Z"
   },
   {
    "duration": 400,
    "start_time": "2022-07-21T13:27:14.101Z"
   },
   {
    "duration": 459,
    "start_time": "2022-07-21T13:27:14.503Z"
   },
   {
    "duration": 242,
    "start_time": "2022-07-21T13:27:14.965Z"
   },
   {
    "duration": 279,
    "start_time": "2022-07-21T13:27:15.209Z"
   },
   {
    "duration": 234,
    "start_time": "2022-07-21T13:27:15.490Z"
   },
   {
    "duration": 198,
    "start_time": "2022-07-21T13:27:15.727Z"
   },
   {
    "duration": 270,
    "start_time": "2022-07-21T13:27:15.927Z"
   },
   {
    "duration": 243,
    "start_time": "2022-07-21T13:27:16.200Z"
   },
   {
    "duration": 181,
    "start_time": "2022-07-21T13:27:16.445Z"
   },
   {
    "duration": 218,
    "start_time": "2022-07-21T13:27:16.627Z"
   },
   {
    "duration": 265,
    "start_time": "2022-07-21T13:27:16.847Z"
   },
   {
    "duration": 286,
    "start_time": "2022-07-21T13:27:17.114Z"
   },
   {
    "duration": 708,
    "start_time": "2022-07-21T13:27:17.402Z"
   },
   {
    "duration": 26,
    "start_time": "2022-07-21T13:27:18.112Z"
   },
   {
    "duration": 166,
    "start_time": "2022-07-21T13:27:18.154Z"
   },
   {
    "duration": 192,
    "start_time": "2022-07-21T13:27:18.323Z"
   },
   {
    "duration": 277,
    "start_time": "2022-07-21T13:27:18.516Z"
   },
   {
    "duration": 119,
    "start_time": "2022-07-21T13:27:18.795Z"
   },
   {
    "duration": 227,
    "start_time": "2022-07-21T13:27:18.915Z"
   },
   {
    "duration": 9,
    "start_time": "2022-07-21T13:27:19.144Z"
   },
   {
    "duration": 231,
    "start_time": "2022-07-21T13:27:19.156Z"
   },
   {
    "duration": 207,
    "start_time": "2022-07-21T13:27:19.389Z"
   },
   {
    "duration": 246,
    "start_time": "2022-07-21T13:27:19.598Z"
   },
   {
    "duration": 243,
    "start_time": "2022-07-21T13:27:19.845Z"
   },
   {
    "duration": 165,
    "start_time": "2022-07-21T13:27:20.090Z"
   },
   {
    "duration": 269,
    "start_time": "2022-07-21T13:27:20.257Z"
   },
   {
    "duration": 257,
    "start_time": "2022-07-21T13:27:20.528Z"
   },
   {
    "duration": 237,
    "start_time": "2022-07-21T13:27:20.787Z"
   },
   {
    "duration": 1746,
    "start_time": "2022-07-21T13:27:21.027Z"
   },
   {
    "duration": 2,
    "start_time": "2022-07-21T13:27:22.775Z"
   },
   {
    "duration": 40,
    "start_time": "2022-07-21T13:27:22.778Z"
   },
   {
    "duration": 2,
    "start_time": "2022-07-21T13:27:22.820Z"
   },
   {
    "duration": 224,
    "start_time": "2022-07-21T13:27:22.824Z"
   },
   {
    "duration": 1267,
    "start_time": "2022-07-21T13:28:43.868Z"
   },
   {
    "duration": 3,
    "start_time": "2022-07-21T13:28:56.925Z"
   },
   {
    "duration": 100,
    "start_time": "2022-07-21T13:28:56.932Z"
   },
   {
    "duration": 10,
    "start_time": "2022-07-21T13:28:57.034Z"
   },
   {
    "duration": 20,
    "start_time": "2022-07-21T13:28:57.045Z"
   },
   {
    "duration": 27,
    "start_time": "2022-07-21T13:28:57.072Z"
   },
   {
    "duration": 6,
    "start_time": "2022-07-21T13:28:57.100Z"
   },
   {
    "duration": 97,
    "start_time": "2022-07-21T13:28:57.108Z"
   },
   {
    "duration": 49,
    "start_time": "2022-07-21T13:28:57.207Z"
   },
   {
    "duration": 11,
    "start_time": "2022-07-21T13:28:57.258Z"
   },
   {
    "duration": 32,
    "start_time": "2022-07-21T13:28:57.271Z"
   },
   {
    "duration": 11,
    "start_time": "2022-07-21T13:28:57.306Z"
   },
   {
    "duration": 1992,
    "start_time": "2022-07-21T13:28:57.319Z"
   },
   {
    "duration": 9,
    "start_time": "2022-07-21T13:28:59.313Z"
   },
   {
    "duration": 23,
    "start_time": "2022-07-21T13:28:59.324Z"
   },
   {
    "duration": 29,
    "start_time": "2022-07-21T13:28:59.352Z"
   },
   {
    "duration": 8,
    "start_time": "2022-07-21T13:28:59.383Z"
   },
   {
    "duration": 21,
    "start_time": "2022-07-21T13:28:59.392Z"
   },
   {
    "duration": 30,
    "start_time": "2022-07-21T13:28:59.415Z"
   },
   {
    "duration": 228,
    "start_time": "2022-07-21T13:28:59.447Z"
   },
   {
    "duration": 26,
    "start_time": "2022-07-21T13:28:59.677Z"
   },
   {
    "duration": 10,
    "start_time": "2022-07-21T13:28:59.705Z"
   },
   {
    "duration": 13,
    "start_time": "2022-07-21T13:28:59.718Z"
   },
   {
    "duration": 44,
    "start_time": "2022-07-21T13:28:59.752Z"
   },
   {
    "duration": 10,
    "start_time": "2022-07-21T13:28:59.798Z"
   },
   {
    "duration": 79,
    "start_time": "2022-07-21T13:28:59.810Z"
   },
   {
    "duration": 6,
    "start_time": "2022-07-21T13:28:59.891Z"
   },
   {
    "duration": 2086,
    "start_time": "2022-07-21T13:28:59.899Z"
   },
   {
    "duration": 146,
    "start_time": "2022-07-21T13:29:01.986Z"
   },
   {
    "duration": 173,
    "start_time": "2022-07-21T13:29:02.137Z"
   },
   {
    "duration": 673,
    "start_time": "2022-07-21T13:29:02.312Z"
   },
   {
    "duration": 3,
    "start_time": "2022-07-21T13:29:02.987Z"
   },
   {
    "duration": 155,
    "start_time": "2022-07-21T13:29:02.992Z"
   },
   {
    "duration": 126,
    "start_time": "2022-07-21T13:29:03.149Z"
   },
   {
    "duration": 141,
    "start_time": "2022-07-21T13:29:03.277Z"
   },
   {
    "duration": 801,
    "start_time": "2022-07-21T13:29:03.421Z"
   },
   {
    "duration": 17,
    "start_time": "2022-07-21T13:29:04.224Z"
   },
   {
    "duration": 52,
    "start_time": "2022-07-21T13:29:04.243Z"
   },
   {
    "duration": 20,
    "start_time": "2022-07-21T13:29:04.297Z"
   },
   {
    "duration": 167,
    "start_time": "2022-07-21T13:29:04.318Z"
   },
   {
    "duration": 8,
    "start_time": "2022-07-21T13:29:04.487Z"
   },
   {
    "duration": 16,
    "start_time": "2022-07-21T13:29:04.497Z"
   },
   {
    "duration": 8,
    "start_time": "2022-07-21T13:29:04.515Z"
   },
   {
    "duration": 10,
    "start_time": "2022-07-21T13:29:04.525Z"
   },
   {
    "duration": 329,
    "start_time": "2022-07-21T13:29:04.536Z"
   },
   {
    "duration": 9,
    "start_time": "2022-07-21T13:29:04.868Z"
   },
   {
    "duration": 23,
    "start_time": "2022-07-21T13:29:04.879Z"
   },
   {
    "duration": 376,
    "start_time": "2022-07-21T13:29:04.904Z"
   },
   {
    "duration": 353,
    "start_time": "2022-07-21T13:29:05.282Z"
   },
   {
    "duration": 243,
    "start_time": "2022-07-21T13:29:05.637Z"
   },
   {
    "duration": 393,
    "start_time": "2022-07-21T13:29:05.882Z"
   },
   {
    "duration": 236,
    "start_time": "2022-07-21T13:29:06.277Z"
   },
   {
    "duration": 269,
    "start_time": "2022-07-21T13:29:06.515Z"
   },
   {
    "duration": 219,
    "start_time": "2022-07-21T13:29:06.786Z"
   },
   {
    "duration": 189,
    "start_time": "2022-07-21T13:29:07.006Z"
   },
   {
    "duration": 147,
    "start_time": "2022-07-21T13:29:07.197Z"
   },
   {
    "duration": 217,
    "start_time": "2022-07-21T13:29:07.346Z"
   },
   {
    "duration": 271,
    "start_time": "2022-07-21T13:29:07.566Z"
   },
   {
    "duration": 272,
    "start_time": "2022-07-21T13:29:07.839Z"
   },
   {
    "duration": 244,
    "start_time": "2022-07-21T13:29:08.112Z"
   },
   {
    "duration": 31,
    "start_time": "2022-07-21T13:29:08.362Z"
   },
   {
    "duration": 150,
    "start_time": "2022-07-21T13:29:08.394Z"
   },
   {
    "duration": 171,
    "start_time": "2022-07-21T13:29:08.545Z"
   },
   {
    "duration": 234,
    "start_time": "2022-07-21T13:29:08.718Z"
   },
   {
    "duration": 122,
    "start_time": "2022-07-21T13:29:08.958Z"
   },
   {
    "duration": 214,
    "start_time": "2022-07-21T13:29:09.082Z"
   },
   {
    "duration": 2,
    "start_time": "2022-07-21T13:29:09.298Z"
   },
   {
    "duration": 182,
    "start_time": "2022-07-21T13:29:09.302Z"
   },
   {
    "duration": 188,
    "start_time": "2022-07-21T13:29:09.486Z"
   },
   {
    "duration": 201,
    "start_time": "2022-07-21T13:29:09.675Z"
   },
   {
    "duration": 217,
    "start_time": "2022-07-21T13:29:09.877Z"
   },
   {
    "duration": 141,
    "start_time": "2022-07-21T13:29:10.096Z"
   },
   {
    "duration": 206,
    "start_time": "2022-07-21T13:29:10.238Z"
   },
   {
    "duration": 227,
    "start_time": "2022-07-21T13:29:10.446Z"
   },
   {
    "duration": 191,
    "start_time": "2022-07-21T13:29:10.674Z"
   },
   {
    "duration": 1561,
    "start_time": "2022-07-21T13:29:10.867Z"
   },
   {
    "duration": 4,
    "start_time": "2022-07-21T13:29:12.430Z"
   },
   {
    "duration": 46,
    "start_time": "2022-07-21T13:29:12.436Z"
   },
   {
    "duration": 3,
    "start_time": "2022-07-21T13:29:12.483Z"
   },
   {
    "duration": 218,
    "start_time": "2022-07-21T13:29:12.488Z"
   },
   {
    "duration": 1488,
    "start_time": "2022-07-21T13:43:20.690Z"
   },
   {
    "duration": 3,
    "start_time": "2022-07-21T13:43:33.722Z"
   },
   {
    "duration": 94,
    "start_time": "2022-07-21T13:43:33.727Z"
   },
   {
    "duration": 8,
    "start_time": "2022-07-21T13:43:33.823Z"
   },
   {
    "duration": 22,
    "start_time": "2022-07-21T13:43:33.832Z"
   },
   {
    "duration": 19,
    "start_time": "2022-07-21T13:43:33.858Z"
   },
   {
    "duration": 7,
    "start_time": "2022-07-21T13:43:33.879Z"
   },
   {
    "duration": 94,
    "start_time": "2022-07-21T13:43:33.888Z"
   },
   {
    "duration": 40,
    "start_time": "2022-07-21T13:43:33.984Z"
   },
   {
    "duration": 29,
    "start_time": "2022-07-21T13:43:34.026Z"
   },
   {
    "duration": 17,
    "start_time": "2022-07-21T13:43:34.057Z"
   },
   {
    "duration": 8,
    "start_time": "2022-07-21T13:43:34.077Z"
   },
   {
    "duration": 2009,
    "start_time": "2022-07-21T13:43:34.087Z"
   },
   {
    "duration": 10,
    "start_time": "2022-07-21T13:43:36.097Z"
   },
   {
    "duration": 11,
    "start_time": "2022-07-21T13:43:36.109Z"
   },
   {
    "duration": 15,
    "start_time": "2022-07-21T13:43:36.121Z"
   },
   {
    "duration": 7,
    "start_time": "2022-07-21T13:43:36.152Z"
   },
   {
    "duration": 51,
    "start_time": "2022-07-21T13:43:36.161Z"
   },
   {
    "duration": 10,
    "start_time": "2022-07-21T13:43:36.215Z"
   },
   {
    "duration": 263,
    "start_time": "2022-07-21T13:43:36.227Z"
   },
   {
    "duration": 18,
    "start_time": "2022-07-21T13:43:36.492Z"
   },
   {
    "duration": 7,
    "start_time": "2022-07-21T13:43:36.511Z"
   },
   {
    "duration": 16,
    "start_time": "2022-07-21T13:43:36.520Z"
   },
   {
    "duration": 50,
    "start_time": "2022-07-21T13:43:36.537Z"
   },
   {
    "duration": 5,
    "start_time": "2022-07-21T13:43:36.589Z"
   },
   {
    "duration": 91,
    "start_time": "2022-07-21T13:43:36.596Z"
   },
   {
    "duration": 5,
    "start_time": "2022-07-21T13:43:36.689Z"
   },
   {
    "duration": 2843,
    "start_time": "2022-07-21T13:43:36.695Z"
   },
   {
    "duration": 161,
    "start_time": "2022-07-21T13:43:39.540Z"
   },
   {
    "duration": 151,
    "start_time": "2022-07-21T13:43:39.706Z"
   },
   {
    "duration": 605,
    "start_time": "2022-07-21T13:43:39.859Z"
   },
   {
    "duration": 3,
    "start_time": "2022-07-21T13:43:40.466Z"
   },
   {
    "duration": 152,
    "start_time": "2022-07-21T13:43:40.471Z"
   },
   {
    "duration": 113,
    "start_time": "2022-07-21T13:43:40.625Z"
   },
   {
    "duration": 148,
    "start_time": "2022-07-21T13:43:40.740Z"
   },
   {
    "duration": 210,
    "start_time": "2022-07-21T13:43:40.889Z"
   },
   {
    "duration": 20,
    "start_time": "2022-07-21T13:43:41.101Z"
   },
   {
    "duration": 56,
    "start_time": "2022-07-21T13:43:41.123Z"
   },
   {
    "duration": 14,
    "start_time": "2022-07-21T13:43:41.182Z"
   },
   {
    "duration": 158,
    "start_time": "2022-07-21T13:43:41.197Z"
   },
   {
    "duration": 7,
    "start_time": "2022-07-21T13:43:41.357Z"
   },
   {
    "duration": 17,
    "start_time": "2022-07-21T13:43:41.366Z"
   },
   {
    "duration": 7,
    "start_time": "2022-07-21T13:43:41.385Z"
   },
   {
    "duration": 6,
    "start_time": "2022-07-21T13:43:41.394Z"
   },
   {
    "duration": 287,
    "start_time": "2022-07-21T13:43:41.402Z"
   },
   {
    "duration": 4,
    "start_time": "2022-07-21T13:43:41.691Z"
   },
   {
    "duration": 26,
    "start_time": "2022-07-21T13:43:41.697Z"
   },
   {
    "duration": 314,
    "start_time": "2022-07-21T13:43:41.725Z"
   },
   {
    "duration": 338,
    "start_time": "2022-07-21T13:43:42.040Z"
   },
   {
    "duration": 225,
    "start_time": "2022-07-21T13:43:42.380Z"
   },
   {
    "duration": 264,
    "start_time": "2022-07-21T13:43:42.607Z"
   },
   {
    "duration": 165,
    "start_time": "2022-07-21T13:43:42.873Z"
   },
   {
    "duration": 191,
    "start_time": "2022-07-21T13:43:43.039Z"
   },
   {
    "duration": 218,
    "start_time": "2022-07-21T13:43:43.232Z"
   },
   {
    "duration": 193,
    "start_time": "2022-07-21T13:43:43.453Z"
   },
   {
    "duration": 131,
    "start_time": "2022-07-21T13:43:43.658Z"
   },
   {
    "duration": 179,
    "start_time": "2022-07-21T13:43:43.791Z"
   },
   {
    "duration": 260,
    "start_time": "2022-07-21T13:43:43.972Z"
   },
   {
    "duration": 266,
    "start_time": "2022-07-21T13:43:44.234Z"
   },
   {
    "duration": 254,
    "start_time": "2022-07-21T13:43:44.503Z"
   },
   {
    "duration": 29,
    "start_time": "2022-07-21T13:43:44.774Z"
   },
   {
    "duration": 142,
    "start_time": "2022-07-21T13:43:44.805Z"
   },
   {
    "duration": 182,
    "start_time": "2022-07-21T13:43:44.949Z"
   },
   {
    "duration": 206,
    "start_time": "2022-07-21T13:43:45.133Z"
   },
   {
    "duration": 119,
    "start_time": "2022-07-21T13:43:45.341Z"
   },
   {
    "duration": 213,
    "start_time": "2022-07-21T13:43:45.463Z"
   },
   {
    "duration": 5,
    "start_time": "2022-07-21T13:43:45.677Z"
   },
   {
    "duration": 218,
    "start_time": "2022-07-21T13:43:45.683Z"
   },
   {
    "duration": 230,
    "start_time": "2022-07-21T13:43:45.903Z"
   },
   {
    "duration": 275,
    "start_time": "2022-07-21T13:43:46.135Z"
   },
   {
    "duration": 262,
    "start_time": "2022-07-21T13:43:46.413Z"
   },
   {
    "duration": 166,
    "start_time": "2022-07-21T13:43:46.677Z"
   },
   {
    "duration": 217,
    "start_time": "2022-07-21T13:43:46.847Z"
   },
   {
    "duration": 192,
    "start_time": "2022-07-21T13:43:47.066Z"
   },
   {
    "duration": 223,
    "start_time": "2022-07-21T13:43:47.261Z"
   },
   {
    "duration": 1658,
    "start_time": "2022-07-21T13:43:47.485Z"
   },
   {
    "duration": 8,
    "start_time": "2022-07-21T13:43:49.145Z"
   },
   {
    "duration": 33,
    "start_time": "2022-07-21T13:43:49.155Z"
   },
   {
    "duration": 3,
    "start_time": "2022-07-21T13:43:49.190Z"
   },
   {
    "duration": 198,
    "start_time": "2022-07-21T13:43:49.195Z"
   },
   {
    "duration": 1661,
    "start_time": "2022-07-21T13:43:59.463Z"
   },
   {
    "duration": 4,
    "start_time": "2022-07-21T13:44:10.062Z"
   },
   {
    "duration": 98,
    "start_time": "2022-07-21T13:44:10.072Z"
   },
   {
    "duration": 12,
    "start_time": "2022-07-21T13:44:10.173Z"
   },
   {
    "duration": 9,
    "start_time": "2022-07-21T13:44:10.187Z"
   },
   {
    "duration": 23,
    "start_time": "2022-07-21T13:44:10.198Z"
   },
   {
    "duration": 17,
    "start_time": "2022-07-21T13:44:10.223Z"
   },
   {
    "duration": 115,
    "start_time": "2022-07-21T13:44:10.242Z"
   },
   {
    "duration": 43,
    "start_time": "2022-07-21T13:44:10.359Z"
   },
   {
    "duration": 9,
    "start_time": "2022-07-21T13:44:10.404Z"
   },
   {
    "duration": 52,
    "start_time": "2022-07-21T13:44:10.415Z"
   },
   {
    "duration": 11,
    "start_time": "2022-07-21T13:44:10.471Z"
   },
   {
    "duration": 2661,
    "start_time": "2022-07-21T13:44:10.484Z"
   },
   {
    "duration": 14,
    "start_time": "2022-07-21T13:44:13.147Z"
   },
   {
    "duration": 15,
    "start_time": "2022-07-21T13:44:13.164Z"
   },
   {
    "duration": 6,
    "start_time": "2022-07-21T13:44:13.181Z"
   },
   {
    "duration": 5,
    "start_time": "2022-07-21T13:44:13.188Z"
   },
   {
    "duration": 9,
    "start_time": "2022-07-21T13:44:13.194Z"
   },
   {
    "duration": 12,
    "start_time": "2022-07-21T13:44:13.204Z"
   },
   {
    "duration": 303,
    "start_time": "2022-07-21T13:44:13.218Z"
   },
   {
    "duration": 20,
    "start_time": "2022-07-21T13:44:13.522Z"
   },
   {
    "duration": 9,
    "start_time": "2022-07-21T13:44:13.552Z"
   },
   {
    "duration": 14,
    "start_time": "2022-07-21T13:44:13.563Z"
   },
   {
    "duration": 26,
    "start_time": "2022-07-21T13:44:13.580Z"
   },
   {
    "duration": 5,
    "start_time": "2022-07-21T13:44:13.608Z"
   },
   {
    "duration": 91,
    "start_time": "2022-07-21T13:44:13.615Z"
   },
   {
    "duration": 5,
    "start_time": "2022-07-21T13:44:13.709Z"
   },
   {
    "duration": 2214,
    "start_time": "2022-07-21T13:44:13.715Z"
   },
   {
    "duration": 178,
    "start_time": "2022-07-21T13:44:15.930Z"
   },
   {
    "duration": 206,
    "start_time": "2022-07-21T13:44:16.112Z"
   },
   {
    "duration": 678,
    "start_time": "2022-07-21T13:44:16.320Z"
   },
   {
    "duration": 2,
    "start_time": "2022-07-21T13:44:17.000Z"
   },
   {
    "duration": 153,
    "start_time": "2022-07-21T13:44:17.004Z"
   },
   {
    "duration": 124,
    "start_time": "2022-07-21T13:44:17.160Z"
   },
   {
    "duration": 122,
    "start_time": "2022-07-21T13:44:17.287Z"
   },
   {
    "duration": 211,
    "start_time": "2022-07-21T13:44:17.410Z"
   },
   {
    "duration": 18,
    "start_time": "2022-07-21T13:44:17.623Z"
   },
   {
    "duration": 51,
    "start_time": "2022-07-21T13:44:17.642Z"
   },
   {
    "duration": 17,
    "start_time": "2022-07-21T13:44:17.695Z"
   },
   {
    "duration": 174,
    "start_time": "2022-07-21T13:44:17.714Z"
   },
   {
    "duration": 5,
    "start_time": "2022-07-21T13:44:17.890Z"
   },
   {
    "duration": 12,
    "start_time": "2022-07-21T13:44:17.897Z"
   },
   {
    "duration": 7,
    "start_time": "2022-07-21T13:44:17.911Z"
   },
   {
    "duration": 6,
    "start_time": "2022-07-21T13:44:17.920Z"
   },
   {
    "duration": 309,
    "start_time": "2022-07-21T13:44:17.928Z"
   },
   {
    "duration": 8,
    "start_time": "2022-07-21T13:44:18.239Z"
   },
   {
    "duration": 38,
    "start_time": "2022-07-21T13:44:18.253Z"
   },
   {
    "duration": 353,
    "start_time": "2022-07-21T13:44:18.293Z"
   },
   {
    "duration": 358,
    "start_time": "2022-07-21T13:44:18.648Z"
   },
   {
    "duration": 228,
    "start_time": "2022-07-21T13:44:19.008Z"
   },
   {
    "duration": 278,
    "start_time": "2022-07-21T13:44:19.238Z"
   },
   {
    "duration": 167,
    "start_time": "2022-07-21T13:44:19.518Z"
   },
   {
    "duration": 189,
    "start_time": "2022-07-21T13:44:19.688Z"
   },
   {
    "duration": 247,
    "start_time": "2022-07-21T13:44:19.879Z"
   },
   {
    "duration": 199,
    "start_time": "2022-07-21T13:44:20.128Z"
   },
   {
    "duration": 158,
    "start_time": "2022-07-21T13:44:20.329Z"
   },
   {
    "duration": 244,
    "start_time": "2022-07-21T13:44:20.490Z"
   },
   {
    "duration": 304,
    "start_time": "2022-07-21T13:44:20.736Z"
   },
   {
    "duration": 303,
    "start_time": "2022-07-21T13:44:21.042Z"
   },
   {
    "duration": 249,
    "start_time": "2022-07-21T13:44:21.352Z"
   },
   {
    "duration": 34,
    "start_time": "2022-07-21T13:44:21.603Z"
   },
   {
    "duration": 172,
    "start_time": "2022-07-21T13:44:21.639Z"
   },
   {
    "duration": 169,
    "start_time": "2022-07-21T13:44:21.812Z"
   },
   {
    "duration": 223,
    "start_time": "2022-07-21T13:44:21.983Z"
   },
   {
    "duration": 114,
    "start_time": "2022-07-21T13:44:22.208Z"
   },
   {
    "duration": 258,
    "start_time": "2022-07-21T13:44:22.324Z"
   },
   {
    "duration": 3,
    "start_time": "2022-07-21T13:44:22.584Z"
   },
   {
    "duration": 258,
    "start_time": "2022-07-21T13:44:22.589Z"
   },
   {
    "duration": 270,
    "start_time": "2022-07-21T13:44:22.849Z"
   },
   {
    "duration": 231,
    "start_time": "2022-07-21T13:44:23.121Z"
   },
   {
    "duration": 253,
    "start_time": "2022-07-21T13:44:23.355Z"
   },
   {
    "duration": 169,
    "start_time": "2022-07-21T13:44:23.610Z"
   },
   {
    "duration": 230,
    "start_time": "2022-07-21T13:44:23.781Z"
   },
   {
    "duration": 221,
    "start_time": "2022-07-21T13:44:24.013Z"
   },
   {
    "duration": 208,
    "start_time": "2022-07-21T13:44:24.236Z"
   },
   {
    "duration": 1719,
    "start_time": "2022-07-21T13:44:24.453Z"
   },
   {
    "duration": 3,
    "start_time": "2022-07-21T13:44:26.174Z"
   },
   {
    "duration": 47,
    "start_time": "2022-07-21T13:44:26.179Z"
   },
   {
    "duration": 8,
    "start_time": "2022-07-21T13:44:26.229Z"
   },
   {
    "duration": 255,
    "start_time": "2022-07-21T13:44:26.239Z"
   },
   {
    "duration": 4,
    "start_time": "2022-07-21T13:44:33.770Z"
   },
   {
    "duration": 79,
    "start_time": "2022-07-21T13:44:33.778Z"
   },
   {
    "duration": 14,
    "start_time": "2022-07-21T13:44:33.860Z"
   },
   {
    "duration": 10,
    "start_time": "2022-07-21T13:44:33.876Z"
   },
   {
    "duration": 16,
    "start_time": "2022-07-21T13:44:33.887Z"
   },
   {
    "duration": 7,
    "start_time": "2022-07-21T13:44:33.905Z"
   },
   {
    "duration": 103,
    "start_time": "2022-07-21T13:44:33.913Z"
   },
   {
    "duration": 44,
    "start_time": "2022-07-21T13:44:34.018Z"
   },
   {
    "duration": 6,
    "start_time": "2022-07-21T13:44:34.065Z"
   },
   {
    "duration": 22,
    "start_time": "2022-07-21T13:44:34.073Z"
   },
   {
    "duration": 8,
    "start_time": "2022-07-21T13:44:34.096Z"
   },
   {
    "duration": 2744,
    "start_time": "2022-07-21T13:44:34.106Z"
   },
   {
    "duration": 9,
    "start_time": "2022-07-21T13:44:36.852Z"
   },
   {
    "duration": 19,
    "start_time": "2022-07-21T13:44:36.864Z"
   },
   {
    "duration": 22,
    "start_time": "2022-07-21T13:44:36.885Z"
   },
   {
    "duration": 5,
    "start_time": "2022-07-21T13:44:36.909Z"
   },
   {
    "duration": 17,
    "start_time": "2022-07-21T13:44:36.916Z"
   },
   {
    "duration": 18,
    "start_time": "2022-07-21T13:44:36.935Z"
   },
   {
    "duration": 258,
    "start_time": "2022-07-21T13:44:36.955Z"
   },
   {
    "duration": 21,
    "start_time": "2022-07-21T13:44:37.216Z"
   },
   {
    "duration": 20,
    "start_time": "2022-07-21T13:44:37.239Z"
   },
   {
    "duration": 16,
    "start_time": "2022-07-21T13:44:37.262Z"
   },
   {
    "duration": 28,
    "start_time": "2022-07-21T13:44:37.279Z"
   },
   {
    "duration": 5,
    "start_time": "2022-07-21T13:44:37.310Z"
   },
   {
    "duration": 78,
    "start_time": "2022-07-21T13:44:37.316Z"
   },
   {
    "duration": 5,
    "start_time": "2022-07-21T13:44:37.396Z"
   },
   {
    "duration": 2059,
    "start_time": "2022-07-21T13:44:37.402Z"
   },
   {
    "duration": 144,
    "start_time": "2022-07-21T13:44:39.464Z"
   },
   {
    "duration": 154,
    "start_time": "2022-07-21T13:44:39.610Z"
   },
   {
    "duration": 591,
    "start_time": "2022-07-21T13:44:39.768Z"
   },
   {
    "duration": 3,
    "start_time": "2022-07-21T13:44:40.361Z"
   },
   {
    "duration": 161,
    "start_time": "2022-07-21T13:44:40.365Z"
   },
   {
    "duration": 106,
    "start_time": "2022-07-21T13:44:40.528Z"
   },
   {
    "duration": 141,
    "start_time": "2022-07-21T13:44:40.635Z"
   },
   {
    "duration": 206,
    "start_time": "2022-07-21T13:44:40.778Z"
   },
   {
    "duration": 17,
    "start_time": "2022-07-21T13:44:40.985Z"
   },
   {
    "duration": 38,
    "start_time": "2022-07-21T13:44:41.004Z"
   },
   {
    "duration": 19,
    "start_time": "2022-07-21T13:44:41.043Z"
   },
   {
    "duration": 175,
    "start_time": "2022-07-21T13:44:41.064Z"
   },
   {
    "duration": 6,
    "start_time": "2022-07-21T13:44:41.240Z"
   },
   {
    "duration": 10,
    "start_time": "2022-07-21T13:44:41.261Z"
   },
   {
    "duration": 14,
    "start_time": "2022-07-21T13:44:41.273Z"
   },
   {
    "duration": 10,
    "start_time": "2022-07-21T13:44:41.289Z"
   },
   {
    "duration": 297,
    "start_time": "2022-07-21T13:44:41.300Z"
   },
   {
    "duration": 5,
    "start_time": "2022-07-21T13:44:41.599Z"
   },
   {
    "duration": 25,
    "start_time": "2022-07-21T13:44:41.606Z"
   },
   {
    "duration": 431,
    "start_time": "2022-07-21T13:44:41.633Z"
   },
   {
    "duration": 388,
    "start_time": "2022-07-21T13:44:42.066Z"
   },
   {
    "duration": 252,
    "start_time": "2022-07-21T13:44:42.458Z"
   },
   {
    "duration": 282,
    "start_time": "2022-07-21T13:44:42.712Z"
   },
   {
    "duration": 183,
    "start_time": "2022-07-21T13:44:42.996Z"
   },
   {
    "duration": 227,
    "start_time": "2022-07-21T13:44:43.181Z"
   },
   {
    "duration": 220,
    "start_time": "2022-07-21T13:44:43.409Z"
   },
   {
    "duration": 182,
    "start_time": "2022-07-21T13:44:43.631Z"
   },
   {
    "duration": 139,
    "start_time": "2022-07-21T13:44:43.815Z"
   },
   {
    "duration": 218,
    "start_time": "2022-07-21T13:44:43.955Z"
   },
   {
    "duration": 245,
    "start_time": "2022-07-21T13:44:44.175Z"
   },
   {
    "duration": 261,
    "start_time": "2022-07-21T13:44:44.421Z"
   },
   {
    "duration": 216,
    "start_time": "2022-07-21T13:44:44.684Z"
   },
   {
    "duration": 21,
    "start_time": "2022-07-21T13:44:44.902Z"
   },
   {
    "duration": 165,
    "start_time": "2022-07-21T13:44:44.925Z"
   },
   {
    "duration": 162,
    "start_time": "2022-07-21T13:44:45.092Z"
   },
   {
    "duration": 190,
    "start_time": "2022-07-21T13:44:45.257Z"
   },
   {
    "duration": 88,
    "start_time": "2022-07-21T13:44:45.452Z"
   },
   {
    "duration": 196,
    "start_time": "2022-07-21T13:44:45.551Z"
   },
   {
    "duration": 2,
    "start_time": "2022-07-21T13:44:45.752Z"
   },
   {
    "duration": 183,
    "start_time": "2022-07-21T13:44:45.756Z"
   },
   {
    "duration": 214,
    "start_time": "2022-07-21T13:44:45.941Z"
   },
   {
    "duration": 238,
    "start_time": "2022-07-21T13:44:46.164Z"
   },
   {
    "duration": 223,
    "start_time": "2022-07-21T13:44:46.404Z"
   },
   {
    "duration": 161,
    "start_time": "2022-07-21T13:44:46.629Z"
   },
   {
    "duration": 212,
    "start_time": "2022-07-21T13:44:46.792Z"
   },
   {
    "duration": 218,
    "start_time": "2022-07-21T13:44:47.006Z"
   },
   {
    "duration": 210,
    "start_time": "2022-07-21T13:44:47.226Z"
   },
   {
    "duration": 1707,
    "start_time": "2022-07-21T13:44:47.438Z"
   },
   {
    "duration": 6,
    "start_time": "2022-07-21T13:44:49.147Z"
   },
   {
    "duration": 34,
    "start_time": "2022-07-21T13:44:49.162Z"
   },
   {
    "duration": 2,
    "start_time": "2022-07-21T13:44:49.198Z"
   },
   {
    "duration": 226,
    "start_time": "2022-07-21T13:44:49.201Z"
   },
   {
    "duration": 3,
    "start_time": "2022-07-21T14:07:55.043Z"
   },
   {
    "duration": 99,
    "start_time": "2022-07-21T14:07:55.049Z"
   },
   {
    "duration": 15,
    "start_time": "2022-07-21T14:07:55.150Z"
   },
   {
    "duration": 20,
    "start_time": "2022-07-21T14:07:55.171Z"
   },
   {
    "duration": 15,
    "start_time": "2022-07-21T14:07:55.192Z"
   },
   {
    "duration": 12,
    "start_time": "2022-07-21T14:07:55.209Z"
   },
   {
    "duration": 86,
    "start_time": "2022-07-21T14:07:55.223Z"
   },
   {
    "duration": 33,
    "start_time": "2022-07-21T14:07:55.310Z"
   },
   {
    "duration": 34,
    "start_time": "2022-07-21T14:07:55.344Z"
   },
   {
    "duration": 15,
    "start_time": "2022-07-21T14:07:55.380Z"
   },
   {
    "duration": 8,
    "start_time": "2022-07-21T14:07:55.398Z"
   },
   {
    "duration": 2009,
    "start_time": "2022-07-21T14:07:55.407Z"
   },
   {
    "duration": 6,
    "start_time": "2022-07-21T14:07:57.418Z"
   },
   {
    "duration": 10,
    "start_time": "2022-07-21T14:07:57.425Z"
   },
   {
    "duration": 25,
    "start_time": "2022-07-21T14:07:57.436Z"
   },
   {
    "duration": 23,
    "start_time": "2022-07-21T14:07:57.463Z"
   },
   {
    "duration": 8,
    "start_time": "2022-07-21T14:07:57.488Z"
   },
   {
    "duration": 13,
    "start_time": "2022-07-21T14:07:57.497Z"
   },
   {
    "duration": 1124,
    "start_time": "2022-07-21T14:07:57.511Z"
   },
   {
    "duration": 44,
    "start_time": "2022-07-21T14:07:58.637Z"
   },
   {
    "duration": 8,
    "start_time": "2022-07-21T14:07:58.683Z"
   },
   {
    "duration": 10,
    "start_time": "2022-07-21T14:07:58.693Z"
   },
   {
    "duration": 26,
    "start_time": "2022-07-21T14:07:58.704Z"
   },
   {
    "duration": 5,
    "start_time": "2022-07-21T14:07:58.732Z"
   },
   {
    "duration": 65,
    "start_time": "2022-07-21T14:07:58.767Z"
   },
   {
    "duration": 5,
    "start_time": "2022-07-21T14:07:58.833Z"
   },
   {
    "duration": 2181,
    "start_time": "2022-07-21T14:07:58.840Z"
   },
   {
    "duration": 161,
    "start_time": "2022-07-21T14:08:01.022Z"
   },
   {
    "duration": 154,
    "start_time": "2022-07-21T14:08:01.188Z"
   },
   {
    "duration": 660,
    "start_time": "2022-07-21T14:08:01.344Z"
   },
   {
    "duration": 2,
    "start_time": "2022-07-21T14:08:02.006Z"
   },
   {
    "duration": 208,
    "start_time": "2022-07-21T14:08:02.009Z"
   },
   {
    "duration": 111,
    "start_time": "2022-07-21T14:08:02.219Z"
   },
   {
    "duration": 148,
    "start_time": "2022-07-21T14:08:02.332Z"
   },
   {
    "duration": 199,
    "start_time": "2022-07-21T14:08:02.482Z"
   },
   {
    "duration": 18,
    "start_time": "2022-07-21T14:08:02.682Z"
   },
   {
    "duration": 25,
    "start_time": "2022-07-21T14:08:02.702Z"
   },
   {
    "duration": 48,
    "start_time": "2022-07-21T14:08:02.729Z"
   },
   {
    "duration": 136,
    "start_time": "2022-07-21T14:08:02.779Z"
   },
   {
    "duration": 5,
    "start_time": "2022-07-21T14:08:02.916Z"
   },
   {
    "duration": 9,
    "start_time": "2022-07-21T14:08:02.923Z"
   },
   {
    "duration": 9,
    "start_time": "2022-07-21T14:08:02.934Z"
   },
   {
    "duration": 25,
    "start_time": "2022-07-21T14:08:02.945Z"
   },
   {
    "duration": 276,
    "start_time": "2022-07-21T14:08:02.973Z"
   },
   {
    "duration": 21,
    "start_time": "2022-07-21T14:08:03.251Z"
   },
   {
    "duration": 28,
    "start_time": "2022-07-21T14:08:03.276Z"
   },
   {
    "duration": 317,
    "start_time": "2022-07-21T14:08:03.306Z"
   },
   {
    "duration": 353,
    "start_time": "2022-07-21T14:08:03.624Z"
   },
   {
    "duration": 212,
    "start_time": "2022-07-21T14:08:03.979Z"
   },
   {
    "duration": 290,
    "start_time": "2022-07-21T14:08:04.194Z"
   },
   {
    "duration": 170,
    "start_time": "2022-07-21T14:08:04.486Z"
   },
   {
    "duration": 177,
    "start_time": "2022-07-21T14:08:04.666Z"
   },
   {
    "duration": 214,
    "start_time": "2022-07-21T14:08:04.844Z"
   },
   {
    "duration": 200,
    "start_time": "2022-07-21T14:08:05.061Z"
   },
   {
    "duration": 147,
    "start_time": "2022-07-21T14:08:05.264Z"
   },
   {
    "duration": 207,
    "start_time": "2022-07-21T14:08:05.412Z"
   },
   {
    "duration": 252,
    "start_time": "2022-07-21T14:08:05.620Z"
   },
   {
    "duration": 265,
    "start_time": "2022-07-21T14:08:05.873Z"
   },
   {
    "duration": 258,
    "start_time": "2022-07-21T14:08:06.140Z"
   },
   {
    "duration": 21,
    "start_time": "2022-07-21T14:08:06.400Z"
   },
   {
    "duration": 158,
    "start_time": "2022-07-21T14:08:06.422Z"
   },
   {
    "duration": 160,
    "start_time": "2022-07-21T14:08:06.583Z"
   },
   {
    "duration": 183,
    "start_time": "2022-07-21T14:08:06.745Z"
   },
   {
    "duration": 102,
    "start_time": "2022-07-21T14:08:06.929Z"
   },
   {
    "duration": 211,
    "start_time": "2022-07-21T14:08:07.033Z"
   },
   {
    "duration": 2,
    "start_time": "2022-07-21T14:08:07.246Z"
   },
   {
    "duration": 224,
    "start_time": "2022-07-21T14:08:07.254Z"
   },
   {
    "duration": 208,
    "start_time": "2022-07-21T14:08:07.480Z"
   },
   {
    "duration": 197,
    "start_time": "2022-07-21T14:08:07.690Z"
   },
   {
    "duration": 192,
    "start_time": "2022-07-21T14:08:07.889Z"
   },
   {
    "duration": 131,
    "start_time": "2022-07-21T14:08:08.083Z"
   },
   {
    "duration": 189,
    "start_time": "2022-07-21T14:08:08.216Z"
   },
   {
    "duration": 215,
    "start_time": "2022-07-21T14:08:08.407Z"
   },
   {
    "duration": 207,
    "start_time": "2022-07-21T14:08:08.623Z"
   },
   {
    "duration": 1550,
    "start_time": "2022-07-21T14:08:08.832Z"
   },
   {
    "duration": 3,
    "start_time": "2022-07-21T14:08:10.383Z"
   },
   {
    "duration": 39,
    "start_time": "2022-07-21T14:08:10.388Z"
   },
   {
    "duration": 2,
    "start_time": "2022-07-21T14:08:10.428Z"
   },
   {
    "duration": 225,
    "start_time": "2022-07-21T14:08:10.431Z"
   },
   {
    "duration": 4,
    "start_time": "2022-07-21T14:30:37.630Z"
   },
   {
    "duration": 4,
    "start_time": "2022-07-21T14:32:36.978Z"
   },
   {
    "duration": 11,
    "start_time": "2022-07-21T14:41:30.709Z"
   },
   {
    "duration": 9,
    "start_time": "2022-07-21T14:41:52.243Z"
   },
   {
    "duration": 10,
    "start_time": "2022-07-21T14:42:01.935Z"
   },
   {
    "duration": 7,
    "start_time": "2022-07-21T14:50:46.568Z"
   },
   {
    "duration": 155,
    "start_time": "2022-07-21T14:55:19.435Z"
   },
   {
    "duration": 16,
    "start_time": "2022-07-21T14:59:58.373Z"
   },
   {
    "duration": 13,
    "start_time": "2022-07-21T15:00:15.535Z"
   },
   {
    "duration": 9,
    "start_time": "2022-07-22T06:47:59.522Z"
   },
   {
    "duration": 9,
    "start_time": "2022-07-22T06:51:53.900Z"
   },
   {
    "duration": 9,
    "start_time": "2022-07-22T06:52:11.989Z"
   },
   {
    "duration": 10,
    "start_time": "2022-07-22T06:56:48.419Z"
   },
   {
    "duration": 11,
    "start_time": "2022-07-22T06:57:42.768Z"
   },
   {
    "duration": 775,
    "start_time": "2022-07-22T07:03:42.953Z"
   },
   {
    "duration": 173,
    "start_time": "2022-07-22T07:14:53.293Z"
   },
   {
    "duration": 124,
    "start_time": "2022-07-22T07:25:59.163Z"
   },
   {
    "duration": 103,
    "start_time": "2022-07-22T07:26:39.195Z"
   },
   {
    "duration": 105,
    "start_time": "2022-07-22T07:27:09.989Z"
   },
   {
    "duration": 212,
    "start_time": "2022-07-22T07:27:39.413Z"
   },
   {
    "duration": 211,
    "start_time": "2022-07-22T07:27:47.181Z"
   },
   {
    "duration": 302,
    "start_time": "2022-07-22T07:28:12.266Z"
   },
   {
    "duration": 366,
    "start_time": "2022-07-22T07:28:21.718Z"
   },
   {
    "duration": 3,
    "start_time": "2022-07-22T07:28:39.770Z"
   },
   {
    "duration": 132,
    "start_time": "2022-07-22T07:28:39.776Z"
   },
   {
    "duration": 12,
    "start_time": "2022-07-22T07:28:39.910Z"
   },
   {
    "duration": 10,
    "start_time": "2022-07-22T07:28:39.923Z"
   },
   {
    "duration": 31,
    "start_time": "2022-07-22T07:28:39.936Z"
   },
   {
    "duration": 9,
    "start_time": "2022-07-22T07:28:39.973Z"
   },
   {
    "duration": 80,
    "start_time": "2022-07-22T07:28:39.984Z"
   },
   {
    "duration": 30,
    "start_time": "2022-07-22T07:28:40.066Z"
   },
   {
    "duration": 6,
    "start_time": "2022-07-22T07:28:40.097Z"
   },
   {
    "duration": 16,
    "start_time": "2022-07-22T07:28:40.104Z"
   },
   {
    "duration": 41,
    "start_time": "2022-07-22T07:28:40.122Z"
   },
   {
    "duration": 1782,
    "start_time": "2022-07-22T07:28:40.165Z"
   },
   {
    "duration": 10,
    "start_time": "2022-07-22T07:28:41.949Z"
   },
   {
    "duration": 19,
    "start_time": "2022-07-22T07:28:41.967Z"
   },
   {
    "duration": 7,
    "start_time": "2022-07-22T07:28:41.988Z"
   },
   {
    "duration": 5,
    "start_time": "2022-07-22T07:28:41.998Z"
   },
   {
    "duration": 9,
    "start_time": "2022-07-22T07:28:42.005Z"
   },
   {
    "duration": 12,
    "start_time": "2022-07-22T07:28:42.016Z"
   },
   {
    "duration": 322,
    "start_time": "2022-07-22T07:28:42.030Z"
   },
   {
    "duration": 28,
    "start_time": "2022-07-22T07:28:42.356Z"
   },
   {
    "duration": 9,
    "start_time": "2022-07-22T07:28:42.386Z"
   },
   {
    "duration": 12,
    "start_time": "2022-07-22T07:28:42.397Z"
   },
   {
    "duration": 58,
    "start_time": "2022-07-22T07:28:42.410Z"
   },
   {
    "duration": 7,
    "start_time": "2022-07-22T07:28:42.469Z"
   },
   {
    "duration": 11,
    "start_time": "2022-07-22T07:28:42.478Z"
   },
   {
    "duration": 87,
    "start_time": "2022-07-22T07:28:42.491Z"
   },
   {
    "duration": 7,
    "start_time": "2022-07-22T07:28:42.580Z"
   },
   {
    "duration": 3047,
    "start_time": "2022-07-22T07:28:42.590Z"
   },
   {
    "duration": 136,
    "start_time": "2022-07-22T07:28:45.641Z"
   },
   {
    "duration": 167,
    "start_time": "2022-07-22T07:28:45.779Z"
   },
   {
    "duration": 714,
    "start_time": "2022-07-22T07:28:45.948Z"
   },
   {
    "duration": 5,
    "start_time": "2022-07-22T07:28:46.666Z"
   },
   {
    "duration": 155,
    "start_time": "2022-07-22T07:28:46.672Z"
   },
   {
    "duration": 141,
    "start_time": "2022-07-22T07:28:46.829Z"
   },
   {
    "duration": 134,
    "start_time": "2022-07-22T07:28:46.971Z"
   },
   {
    "duration": 215,
    "start_time": "2022-07-22T07:28:47.108Z"
   },
   {
    "duration": 348,
    "start_time": "2022-07-22T07:28:47.324Z"
   },
   {
    "duration": 18,
    "start_time": "2022-07-22T07:28:47.674Z"
   },
   {
    "duration": 31,
    "start_time": "2022-07-22T07:28:47.694Z"
   },
   {
    "duration": 45,
    "start_time": "2022-07-22T07:28:47.727Z"
   },
   {
    "duration": 158,
    "start_time": "2022-07-22T07:28:47.773Z"
   },
   {
    "duration": 6,
    "start_time": "2022-07-22T07:28:47.932Z"
   },
   {
    "duration": 25,
    "start_time": "2022-07-22T07:28:47.940Z"
   },
   {
    "duration": 15,
    "start_time": "2022-07-22T07:28:47.966Z"
   },
   {
    "duration": 7,
    "start_time": "2022-07-22T07:28:47.982Z"
   },
   {
    "duration": 315,
    "start_time": "2022-07-22T07:28:47.990Z"
   },
   {
    "duration": 7,
    "start_time": "2022-07-22T07:28:48.308Z"
   },
   {
    "duration": 44,
    "start_time": "2022-07-22T07:28:48.318Z"
   },
   {
    "duration": 336,
    "start_time": "2022-07-22T07:28:48.364Z"
   },
   {
    "duration": 356,
    "start_time": "2022-07-22T07:28:48.702Z"
   },
   {
    "duration": 224,
    "start_time": "2022-07-22T07:28:49.059Z"
   },
   {
    "duration": 294,
    "start_time": "2022-07-22T07:28:49.286Z"
   },
   {
    "duration": 203,
    "start_time": "2022-07-22T07:28:49.582Z"
   },
   {
    "duration": 211,
    "start_time": "2022-07-22T07:28:49.788Z"
   },
   {
    "duration": 231,
    "start_time": "2022-07-22T07:28:50.001Z"
   },
   {
    "duration": 187,
    "start_time": "2022-07-22T07:28:50.234Z"
   },
   {
    "duration": 149,
    "start_time": "2022-07-22T07:28:50.423Z"
   },
   {
    "duration": 230,
    "start_time": "2022-07-22T07:28:50.574Z"
   },
   {
    "duration": 271,
    "start_time": "2022-07-22T07:28:50.806Z"
   },
   {
    "duration": 270,
    "start_time": "2022-07-22T07:28:51.079Z"
   },
   {
    "duration": 258,
    "start_time": "2022-07-22T07:28:51.352Z"
   },
   {
    "duration": 32,
    "start_time": "2022-07-22T07:28:51.612Z"
   },
   {
    "duration": 173,
    "start_time": "2022-07-22T07:28:51.646Z"
   },
   {
    "duration": 185,
    "start_time": "2022-07-22T07:28:51.821Z"
   },
   {
    "duration": 220,
    "start_time": "2022-07-22T07:28:52.008Z"
   },
   {
    "duration": 104,
    "start_time": "2022-07-22T07:28:52.230Z"
   },
   {
    "duration": 234,
    "start_time": "2022-07-22T07:28:52.335Z"
   },
   {
    "duration": 5,
    "start_time": "2022-07-22T07:28:52.574Z"
   },
   {
    "duration": 203,
    "start_time": "2022-07-22T07:28:52.581Z"
   },
   {
    "duration": 193,
    "start_time": "2022-07-22T07:28:52.786Z"
   },
   {
    "duration": 213,
    "start_time": "2022-07-22T07:28:52.981Z"
   },
   {
    "duration": 193,
    "start_time": "2022-07-22T07:28:53.196Z"
   },
   {
    "duration": 130,
    "start_time": "2022-07-22T07:28:53.391Z"
   },
   {
    "duration": 191,
    "start_time": "2022-07-22T07:28:53.523Z"
   },
   {
    "duration": 202,
    "start_time": "2022-07-22T07:28:53.716Z"
   },
   {
    "duration": 202,
    "start_time": "2022-07-22T07:28:53.920Z"
   },
   {
    "duration": 1628,
    "start_time": "2022-07-22T07:28:54.124Z"
   },
   {
    "duration": 6,
    "start_time": "2022-07-22T07:28:55.757Z"
   },
   {
    "duration": 44,
    "start_time": "2022-07-22T07:28:55.765Z"
   },
   {
    "duration": 2,
    "start_time": "2022-07-22T07:28:55.811Z"
   },
   {
    "duration": 205,
    "start_time": "2022-07-22T07:28:55.815Z"
   },
   {
    "duration": 150,
    "start_time": "2022-07-22T07:29:53.119Z"
   },
   {
    "duration": 140,
    "start_time": "2022-07-22T07:30:01.324Z"
   },
   {
    "duration": 131,
    "start_time": "2022-07-22T07:30:12.515Z"
   },
   {
    "duration": 117,
    "start_time": "2022-07-22T07:30:19.697Z"
   },
   {
    "duration": 201,
    "start_time": "2022-07-22T07:30:36.075Z"
   },
   {
    "duration": 168,
    "start_time": "2022-07-22T07:30:44.735Z"
   },
   {
    "duration": 146,
    "start_time": "2022-07-22T07:30:49.713Z"
   },
   {
    "duration": 192,
    "start_time": "2022-07-22T07:30:54.924Z"
   },
   {
    "duration": 128,
    "start_time": "2022-07-22T07:31:57.549Z"
   },
   {
    "duration": 100,
    "start_time": "2022-07-22T07:32:17.609Z"
   },
   {
    "duration": 102,
    "start_time": "2022-07-22T07:32:25.606Z"
   },
   {
    "duration": 130,
    "start_time": "2022-07-22T07:32:44.624Z"
   },
   {
    "duration": 121,
    "start_time": "2022-07-22T07:33:27.438Z"
   },
   {
    "duration": 194,
    "start_time": "2022-07-22T07:33:28.703Z"
   },
   {
    "duration": 123,
    "start_time": "2022-07-22T07:33:30.179Z"
   },
   {
    "duration": 139,
    "start_time": "2022-07-22T07:34:17.518Z"
   },
   {
    "duration": 109,
    "start_time": "2022-07-22T07:34:27.088Z"
   },
   {
    "duration": 114,
    "start_time": "2022-07-22T07:34:38.905Z"
   },
   {
    "duration": 129,
    "start_time": "2022-07-22T07:35:00.410Z"
   },
   {
    "duration": 19,
    "start_time": "2022-07-22T07:35:50.797Z"
   },
   {
    "duration": 111,
    "start_time": "2022-07-22T07:36:06.965Z"
   },
   {
    "duration": 18,
    "start_time": "2022-07-22T07:36:50.167Z"
   },
   {
    "duration": 111,
    "start_time": "2022-07-22T07:36:50.727Z"
   },
   {
    "duration": 18,
    "start_time": "2022-07-22T07:37:28.027Z"
   },
   {
    "duration": 112,
    "start_time": "2022-07-22T07:37:28.522Z"
   },
   {
    "duration": 19,
    "start_time": "2022-07-22T07:37:45.066Z"
   },
   {
    "duration": 20,
    "start_time": "2022-07-22T07:38:13.221Z"
   },
   {
    "duration": 124,
    "start_time": "2022-07-22T07:38:43.336Z"
   },
   {
    "duration": 81,
    "start_time": "2022-07-22T07:42:21.988Z"
   },
   {
    "duration": 117,
    "start_time": "2022-07-22T07:43:01.936Z"
   },
   {
    "duration": 4,
    "start_time": "2022-07-22T07:49:03.750Z"
   },
   {
    "duration": 14,
    "start_time": "2022-07-22T07:49:16.442Z"
   },
   {
    "duration": 13,
    "start_time": "2022-07-22T07:53:30.685Z"
   },
   {
    "duration": 201,
    "start_time": "2022-07-22T07:54:29.533Z"
   },
   {
    "duration": 1197,
    "start_time": "2022-07-22T07:58:49.564Z"
   },
   {
    "duration": 1301,
    "start_time": "2022-07-22T07:58:51.424Z"
   },
   {
    "duration": 17,
    "start_time": "2022-07-22T07:59:27.727Z"
   },
   {
    "duration": 25,
    "start_time": "2022-07-22T08:05:33.689Z"
   },
   {
    "duration": 232,
    "start_time": "2022-07-22T08:11:15.168Z"
   },
   {
    "duration": 294,
    "start_time": "2022-07-22T08:12:00.338Z"
   },
   {
    "duration": 294,
    "start_time": "2022-07-22T08:12:16.415Z"
   },
   {
    "duration": 273,
    "start_time": "2022-07-22T08:12:53.708Z"
   },
   {
    "duration": 284,
    "start_time": "2022-07-22T08:13:37.112Z"
   },
   {
    "duration": 95,
    "start_time": "2022-07-22T08:13:49.978Z"
   },
   {
    "duration": 312,
    "start_time": "2022-07-22T08:14:22.051Z"
   },
   {
    "duration": 261,
    "start_time": "2022-07-22T08:14:37.680Z"
   },
   {
    "duration": 1425,
    "start_time": "2022-07-22T08:15:23.778Z"
   },
   {
    "duration": 284,
    "start_time": "2022-07-22T08:17:50.253Z"
   },
   {
    "duration": 346,
    "start_time": "2022-07-22T08:18:46.002Z"
   },
   {
    "duration": 284,
    "start_time": "2022-07-22T08:19:35.469Z"
   },
   {
    "duration": 177,
    "start_time": "2022-07-22T08:19:49.655Z"
   },
   {
    "duration": 259,
    "start_time": "2022-07-22T08:23:19.223Z"
   },
   {
    "duration": 227,
    "start_time": "2022-07-22T08:23:54.112Z"
   },
   {
    "duration": 265,
    "start_time": "2022-07-22T08:24:08.642Z"
   },
   {
    "duration": 237,
    "start_time": "2022-07-22T08:24:14.861Z"
   },
   {
    "duration": 262,
    "start_time": "2022-07-22T08:25:28.605Z"
   },
   {
    "duration": 132,
    "start_time": "2022-07-22T08:26:05.364Z"
   },
   {
    "duration": 169,
    "start_time": "2022-07-22T08:26:54.008Z"
   },
   {
    "duration": 195,
    "start_time": "2022-07-22T08:27:25.535Z"
   },
   {
    "duration": 165,
    "start_time": "2022-07-22T08:28:42.187Z"
   },
   {
    "duration": 72,
    "start_time": "2022-07-22T08:29:02.334Z"
   },
   {
    "duration": 1306,
    "start_time": "2022-07-22T08:29:24.115Z"
   },
   {
    "duration": 1162,
    "start_time": "2022-07-22T08:29:45.850Z"
   },
   {
    "duration": 5,
    "start_time": "2022-07-22T08:29:56.030Z"
   },
   {
    "duration": 113,
    "start_time": "2022-07-22T08:29:56.038Z"
   },
   {
    "duration": 12,
    "start_time": "2022-07-22T08:29:56.153Z"
   },
   {
    "duration": 34,
    "start_time": "2022-07-22T08:29:56.167Z"
   },
   {
    "duration": 25,
    "start_time": "2022-07-22T08:29:56.203Z"
   },
   {
    "duration": 16,
    "start_time": "2022-07-22T08:29:56.230Z"
   },
   {
    "duration": 82,
    "start_time": "2022-07-22T08:29:56.248Z"
   },
   {
    "duration": 33,
    "start_time": "2022-07-22T08:29:56.332Z"
   },
   {
    "duration": 5,
    "start_time": "2022-07-22T08:29:56.367Z"
   },
   {
    "duration": 15,
    "start_time": "2022-07-22T08:29:56.374Z"
   },
   {
    "duration": 9,
    "start_time": "2022-07-22T08:29:56.392Z"
   },
   {
    "duration": 1832,
    "start_time": "2022-07-22T08:29:56.402Z"
   },
   {
    "duration": 21,
    "start_time": "2022-07-22T08:29:58.237Z"
   },
   {
    "duration": 12,
    "start_time": "2022-07-22T08:29:58.259Z"
   },
   {
    "duration": 7,
    "start_time": "2022-07-22T08:29:58.273Z"
   },
   {
    "duration": 7,
    "start_time": "2022-07-22T08:29:58.281Z"
   },
   {
    "duration": 8,
    "start_time": "2022-07-22T08:29:58.290Z"
   },
   {
    "duration": 14,
    "start_time": "2022-07-22T08:29:58.300Z"
   },
   {
    "duration": 273,
    "start_time": "2022-07-22T08:29:58.316Z"
   },
   {
    "duration": 22,
    "start_time": "2022-07-22T08:29:58.591Z"
   },
   {
    "duration": 7,
    "start_time": "2022-07-22T08:29:58.615Z"
   },
   {
    "duration": 28,
    "start_time": "2022-07-22T08:29:58.624Z"
   },
   {
    "duration": 27,
    "start_time": "2022-07-22T08:29:58.654Z"
   },
   {
    "duration": 5,
    "start_time": "2022-07-22T08:29:58.683Z"
   },
   {
    "duration": 7,
    "start_time": "2022-07-22T08:29:58.689Z"
   },
   {
    "duration": 79,
    "start_time": "2022-07-22T08:29:58.698Z"
   },
   {
    "duration": 5,
    "start_time": "2022-07-22T08:29:58.779Z"
   },
   {
    "duration": 1900,
    "start_time": "2022-07-22T08:29:58.785Z"
   },
   {
    "duration": 161,
    "start_time": "2022-07-22T08:30:00.689Z"
   },
   {
    "duration": 156,
    "start_time": "2022-07-22T08:30:00.853Z"
   },
   {
    "duration": 650,
    "start_time": "2022-07-22T08:30:01.012Z"
   },
   {
    "duration": 2,
    "start_time": "2022-07-22T08:30:01.664Z"
   },
   {
    "duration": 157,
    "start_time": "2022-07-22T08:30:01.668Z"
   },
   {
    "duration": 112,
    "start_time": "2022-07-22T08:30:01.827Z"
   },
   {
    "duration": 128,
    "start_time": "2022-07-22T08:30:01.941Z"
   },
   {
    "duration": 175,
    "start_time": "2022-07-22T08:30:02.071Z"
   },
   {
    "duration": 111,
    "start_time": "2022-07-22T08:30:02.248Z"
   },
   {
    "duration": 200,
    "start_time": "2022-07-22T08:30:02.361Z"
   },
   {
    "duration": 125,
    "start_time": "2022-07-22T08:30:02.563Z"
   },
   {
    "duration": 17,
    "start_time": "2022-07-22T08:30:02.689Z"
   },
   {
    "duration": 34,
    "start_time": "2022-07-22T08:30:02.707Z"
   },
   {
    "duration": 22,
    "start_time": "2022-07-22T08:30:02.743Z"
   },
   {
    "duration": 138,
    "start_time": "2022-07-22T08:30:02.766Z"
   },
   {
    "duration": 109,
    "start_time": "2022-07-22T08:30:02.906Z"
   },
   {
    "duration": 37,
    "start_time": "2022-07-22T08:30:03.016Z"
   },
   {
    "duration": 6,
    "start_time": "2022-07-22T08:30:03.055Z"
   },
   {
    "duration": 11,
    "start_time": "2022-07-22T08:30:03.063Z"
   },
   {
    "duration": 9,
    "start_time": "2022-07-22T08:30:03.076Z"
   },
   {
    "duration": 12,
    "start_time": "2022-07-22T08:30:03.087Z"
   },
   {
    "duration": 242,
    "start_time": "2022-07-22T08:30:03.101Z"
   },
   {
    "duration": 9,
    "start_time": "2022-07-22T08:30:03.344Z"
   },
   {
    "duration": 21,
    "start_time": "2022-07-22T08:30:03.355Z"
   },
   {
    "duration": 303,
    "start_time": "2022-07-22T08:30:03.377Z"
   },
   {
    "duration": 303,
    "start_time": "2022-07-22T08:30:03.682Z"
   },
   {
    "duration": 191,
    "start_time": "2022-07-22T08:30:03.987Z"
   },
   {
    "duration": 239,
    "start_time": "2022-07-22T08:30:04.180Z"
   },
   {
    "duration": 156,
    "start_time": "2022-07-22T08:30:04.421Z"
   },
   {
    "duration": 199,
    "start_time": "2022-07-22T08:30:04.579Z"
   },
   {
    "duration": 198,
    "start_time": "2022-07-22T08:30:04.779Z"
   },
   {
    "duration": 179,
    "start_time": "2022-07-22T08:30:04.979Z"
   },
   {
    "duration": 134,
    "start_time": "2022-07-22T08:30:05.160Z"
   },
   {
    "duration": 196,
    "start_time": "2022-07-22T08:30:05.296Z"
   },
   {
    "duration": 213,
    "start_time": "2022-07-22T08:30:05.494Z"
   },
   {
    "duration": 234,
    "start_time": "2022-07-22T08:30:05.709Z"
   },
   {
    "duration": 244,
    "start_time": "2022-07-22T08:30:05.944Z"
   },
   {
    "duration": 34,
    "start_time": "2022-07-22T08:30:06.190Z"
   },
   {
    "duration": 167,
    "start_time": "2022-07-22T08:30:06.226Z"
   },
   {
    "duration": 153,
    "start_time": "2022-07-22T08:30:06.395Z"
   },
   {
    "duration": 178,
    "start_time": "2022-07-22T08:30:06.551Z"
   },
   {
    "duration": 84,
    "start_time": "2022-07-22T08:30:06.731Z"
   },
   {
    "duration": 188,
    "start_time": "2022-07-22T08:30:06.817Z"
   },
   {
    "duration": 2,
    "start_time": "2022-07-22T08:30:07.006Z"
   },
   {
    "duration": 175,
    "start_time": "2022-07-22T08:30:07.010Z"
   },
   {
    "duration": 178,
    "start_time": "2022-07-22T08:30:07.187Z"
   },
   {
    "duration": 187,
    "start_time": "2022-07-22T08:30:07.367Z"
   },
   {
    "duration": 181,
    "start_time": "2022-07-22T08:30:07.556Z"
   },
   {
    "duration": 121,
    "start_time": "2022-07-22T08:30:07.739Z"
   },
   {
    "duration": 174,
    "start_time": "2022-07-22T08:30:07.862Z"
   },
   {
    "duration": 190,
    "start_time": "2022-07-22T08:30:08.039Z"
   },
   {
    "duration": 202,
    "start_time": "2022-07-22T08:30:08.231Z"
   },
   {
    "duration": 2555,
    "start_time": "2022-07-22T08:30:08.435Z"
   },
   {
    "duration": 2,
    "start_time": "2022-07-22T08:30:10.992Z"
   },
   {
    "duration": 30,
    "start_time": "2022-07-22T08:30:10.999Z"
   },
   {
    "duration": 22,
    "start_time": "2022-07-22T08:30:11.031Z"
   },
   {
    "duration": 216,
    "start_time": "2022-07-22T08:30:11.055Z"
   },
   {
    "duration": 196,
    "start_time": "2022-07-22T08:31:01.908Z"
   },
   {
    "duration": 301,
    "start_time": "2022-07-22T08:31:25.889Z"
   },
   {
    "duration": 272,
    "start_time": "2022-07-22T08:31:43.124Z"
   },
   {
    "duration": 243,
    "start_time": "2022-07-22T08:32:01.431Z"
   },
   {
    "duration": 24,
    "start_time": "2022-07-22T08:32:03.158Z"
   },
   {
    "duration": 130,
    "start_time": "2022-07-22T08:32:42.710Z"
   },
   {
    "duration": 151,
    "start_time": "2022-07-22T08:33:08.531Z"
   },
   {
    "duration": 20,
    "start_time": "2022-07-22T08:35:21.715Z"
   },
   {
    "duration": 30,
    "start_time": "2022-07-22T08:35:23.939Z"
   },
   {
    "duration": 3,
    "start_time": "2022-07-22T08:35:32.621Z"
   },
   {
    "duration": 78,
    "start_time": "2022-07-22T08:35:32.626Z"
   },
   {
    "duration": 7,
    "start_time": "2022-07-22T08:35:32.706Z"
   },
   {
    "duration": 8,
    "start_time": "2022-07-22T08:35:32.715Z"
   },
   {
    "duration": 27,
    "start_time": "2022-07-22T08:35:32.725Z"
   },
   {
    "duration": 3,
    "start_time": "2022-07-22T08:35:32.754Z"
   },
   {
    "duration": 69,
    "start_time": "2022-07-22T08:35:32.758Z"
   },
   {
    "duration": 50,
    "start_time": "2022-07-22T08:35:32.828Z"
   },
   {
    "duration": 5,
    "start_time": "2022-07-22T08:35:32.881Z"
   },
   {
    "duration": 19,
    "start_time": "2022-07-22T08:35:32.887Z"
   },
   {
    "duration": 7,
    "start_time": "2022-07-22T08:35:32.908Z"
   },
   {
    "duration": 1804,
    "start_time": "2022-07-22T08:35:32.917Z"
   },
   {
    "duration": 9,
    "start_time": "2022-07-22T08:35:34.723Z"
   },
   {
    "duration": 24,
    "start_time": "2022-07-22T08:35:34.734Z"
   },
   {
    "duration": 22,
    "start_time": "2022-07-22T08:35:34.759Z"
   },
   {
    "duration": 9,
    "start_time": "2022-07-22T08:35:34.783Z"
   },
   {
    "duration": 32,
    "start_time": "2022-07-22T08:35:34.794Z"
   },
   {
    "duration": 19,
    "start_time": "2022-07-22T08:35:34.828Z"
   },
   {
    "duration": 279,
    "start_time": "2022-07-22T08:35:34.848Z"
   },
   {
    "duration": 26,
    "start_time": "2022-07-22T08:35:35.128Z"
   },
   {
    "duration": 14,
    "start_time": "2022-07-22T08:35:35.155Z"
   },
   {
    "duration": 23,
    "start_time": "2022-07-22T08:35:35.170Z"
   },
   {
    "duration": 31,
    "start_time": "2022-07-22T08:35:35.195Z"
   },
   {
    "duration": 17,
    "start_time": "2022-07-22T08:35:35.230Z"
   },
   {
    "duration": 15,
    "start_time": "2022-07-22T08:35:35.249Z"
   },
   {
    "duration": 63,
    "start_time": "2022-07-22T08:35:35.266Z"
   },
   {
    "duration": 5,
    "start_time": "2022-07-22T08:35:35.331Z"
   },
   {
    "duration": 1877,
    "start_time": "2022-07-22T08:35:35.338Z"
   },
   {
    "duration": 133,
    "start_time": "2022-07-22T08:35:37.216Z"
   },
   {
    "duration": 140,
    "start_time": "2022-07-22T08:35:37.352Z"
   },
   {
    "duration": 669,
    "start_time": "2022-07-22T08:35:37.494Z"
   },
   {
    "duration": 2,
    "start_time": "2022-07-22T08:35:38.165Z"
   },
   {
    "duration": 138,
    "start_time": "2022-07-22T08:35:38.168Z"
   },
   {
    "duration": 95,
    "start_time": "2022-07-22T08:35:38.308Z"
   },
   {
    "duration": 114,
    "start_time": "2022-07-22T08:35:38.405Z"
   },
   {
    "duration": 180,
    "start_time": "2022-07-22T08:35:38.521Z"
   },
   {
    "duration": 161,
    "start_time": "2022-07-22T08:35:38.703Z"
   },
   {
    "duration": 308,
    "start_time": "2022-07-22T08:35:38.866Z"
   },
   {
    "duration": 121,
    "start_time": "2022-07-22T08:35:39.176Z"
   },
   {
    "duration": 19,
    "start_time": "2022-07-22T08:35:39.299Z"
   },
   {
    "duration": 43,
    "start_time": "2022-07-22T08:35:39.319Z"
   },
   {
    "duration": 13,
    "start_time": "2022-07-22T08:35:39.364Z"
   },
   {
    "duration": 137,
    "start_time": "2022-07-22T08:35:39.379Z"
   },
   {
    "duration": 103,
    "start_time": "2022-07-22T08:35:39.518Z"
   },
   {
    "duration": 32,
    "start_time": "2022-07-22T08:35:39.623Z"
   },
   {
    "duration": 5,
    "start_time": "2022-07-22T08:35:39.656Z"
   },
   {
    "duration": 13,
    "start_time": "2022-07-22T08:35:39.662Z"
   },
   {
    "duration": 13,
    "start_time": "2022-07-22T08:35:39.677Z"
   },
   {
    "duration": 21,
    "start_time": "2022-07-22T08:35:39.691Z"
   },
   {
    "duration": 207,
    "start_time": "2022-07-22T08:35:39.713Z"
   },
   {
    "duration": 4,
    "start_time": "2022-07-22T08:35:39.922Z"
   },
   {
    "duration": 45,
    "start_time": "2022-07-22T08:35:39.928Z"
   },
   {
    "duration": 292,
    "start_time": "2022-07-22T08:35:39.974Z"
   },
   {
    "duration": 276,
    "start_time": "2022-07-22T08:35:40.268Z"
   },
   {
    "duration": 209,
    "start_time": "2022-07-22T08:35:40.545Z"
   },
   {
    "duration": 218,
    "start_time": "2022-07-22T08:35:40.755Z"
   },
   {
    "duration": 148,
    "start_time": "2022-07-22T08:35:40.975Z"
   },
   {
    "duration": 164,
    "start_time": "2022-07-22T08:35:41.124Z"
   },
   {
    "duration": 180,
    "start_time": "2022-07-22T08:35:41.290Z"
   },
   {
    "duration": 152,
    "start_time": "2022-07-22T08:35:41.472Z"
   },
   {
    "duration": 111,
    "start_time": "2022-07-22T08:35:41.625Z"
   },
   {
    "duration": 198,
    "start_time": "2022-07-22T08:35:41.738Z"
   },
   {
    "duration": 237,
    "start_time": "2022-07-22T08:35:41.938Z"
   },
   {
    "duration": 277,
    "start_time": "2022-07-22T08:35:42.177Z"
   },
   {
    "duration": 223,
    "start_time": "2022-07-22T08:35:42.456Z"
   },
   {
    "duration": 24,
    "start_time": "2022-07-22T08:35:42.680Z"
   },
   {
    "duration": 149,
    "start_time": "2022-07-22T08:35:42.705Z"
   },
   {
    "duration": 174,
    "start_time": "2022-07-22T08:35:42.856Z"
   },
   {
    "duration": 188,
    "start_time": "2022-07-22T08:35:43.035Z"
   },
   {
    "duration": 93,
    "start_time": "2022-07-22T08:35:43.225Z"
   },
   {
    "duration": 217,
    "start_time": "2022-07-22T08:35:43.320Z"
   },
   {
    "duration": 2,
    "start_time": "2022-07-22T08:35:43.539Z"
   },
   {
    "duration": 196,
    "start_time": "2022-07-22T08:35:43.542Z"
   },
   {
    "duration": 191,
    "start_time": "2022-07-22T08:35:43.740Z"
   },
   {
    "duration": 206,
    "start_time": "2022-07-22T08:35:43.932Z"
   },
   {
    "duration": 208,
    "start_time": "2022-07-22T08:35:44.140Z"
   },
   {
    "duration": 136,
    "start_time": "2022-07-22T08:35:44.353Z"
   },
   {
    "duration": 201,
    "start_time": "2022-07-22T08:35:44.490Z"
   },
   {
    "duration": 178,
    "start_time": "2022-07-22T08:35:44.693Z"
   },
   {
    "duration": 165,
    "start_time": "2022-07-22T08:35:44.873Z"
   },
   {
    "duration": 1387,
    "start_time": "2022-07-22T08:35:45.039Z"
   },
   {
    "duration": 3,
    "start_time": "2022-07-22T08:35:46.427Z"
   },
   {
    "duration": 37,
    "start_time": "2022-07-22T08:35:46.431Z"
   },
   {
    "duration": 2,
    "start_time": "2022-07-22T08:35:46.469Z"
   },
   {
    "duration": 188,
    "start_time": "2022-07-22T08:35:46.473Z"
   },
   {
    "duration": 11,
    "start_time": "2022-07-22T08:37:11.107Z"
   },
   {
    "duration": 109,
    "start_time": "2022-07-22T08:39:05.237Z"
   },
   {
    "duration": 72,
    "start_time": "2022-07-22T08:39:10.875Z"
   },
   {
    "duration": 10,
    "start_time": "2022-07-22T08:39:16.099Z"
   },
   {
    "duration": 11,
    "start_time": "2022-07-22T08:39:36.008Z"
   },
   {
    "duration": 8,
    "start_time": "2022-07-22T08:39:51.765Z"
   },
   {
    "duration": 9,
    "start_time": "2022-07-22T08:40:39.987Z"
   },
   {
    "duration": 10,
    "start_time": "2022-07-22T08:40:48.189Z"
   },
   {
    "duration": 2,
    "start_time": "2022-07-22T08:41:09.979Z"
   },
   {
    "duration": 30,
    "start_time": "2022-07-22T08:41:10.587Z"
   },
   {
    "duration": 9,
    "start_time": "2022-07-22T08:41:12.105Z"
   },
   {
    "duration": 30,
    "start_time": "2022-07-22T08:41:48.677Z"
   },
   {
    "duration": 34,
    "start_time": "2022-07-22T08:42:30.493Z"
   },
   {
    "duration": 1423,
    "start_time": "2022-07-22T11:11:00.292Z"
   },
   {
    "duration": 145,
    "start_time": "2022-07-22T11:11:01.718Z"
   },
   {
    "duration": 13,
    "start_time": "2022-07-22T11:11:01.865Z"
   },
   {
    "duration": 9,
    "start_time": "2022-07-22T11:11:01.880Z"
   },
   {
    "duration": 18,
    "start_time": "2022-07-22T11:11:01.891Z"
   },
   {
    "duration": 4,
    "start_time": "2022-07-22T11:11:01.910Z"
   },
   {
    "duration": 76,
    "start_time": "2022-07-22T11:11:01.916Z"
   },
   {
    "duration": 33,
    "start_time": "2022-07-22T11:11:02.005Z"
   },
   {
    "duration": 6,
    "start_time": "2022-07-22T11:11:02.419Z"
   },
   {
    "duration": 16,
    "start_time": "2022-07-22T11:11:02.491Z"
   },
   {
    "duration": 8,
    "start_time": "2022-07-22T11:11:02.579Z"
   },
   {
    "duration": 2269,
    "start_time": "2022-07-22T11:11:02.920Z"
   },
   {
    "duration": 10,
    "start_time": "2022-07-22T11:11:05.192Z"
   },
   {
    "duration": 11,
    "start_time": "2022-07-22T11:11:05.204Z"
   },
   {
    "duration": 9,
    "start_time": "2022-07-22T11:11:05.217Z"
   },
   {
    "duration": 6,
    "start_time": "2022-07-22T11:11:05.228Z"
   },
   {
    "duration": 12,
    "start_time": "2022-07-22T11:11:05.237Z"
   },
   {
    "duration": 13,
    "start_time": "2022-07-22T11:11:05.252Z"
   },
   {
    "duration": 327,
    "start_time": "2022-07-22T11:11:05.267Z"
   },
   {
    "duration": 25,
    "start_time": "2022-07-22T11:11:05.596Z"
   },
   {
    "duration": 9,
    "start_time": "2022-07-22T11:11:05.624Z"
   },
   {
    "duration": 17,
    "start_time": "2022-07-22T11:11:05.634Z"
   },
   {
    "duration": 30,
    "start_time": "2022-07-22T11:11:05.653Z"
   },
   {
    "duration": 6,
    "start_time": "2022-07-22T11:11:05.704Z"
   },
   {
    "duration": 8,
    "start_time": "2022-07-22T11:11:05.711Z"
   },
   {
    "duration": 69,
    "start_time": "2022-07-22T11:11:05.721Z"
   },
   {
    "duration": 15,
    "start_time": "2022-07-22T11:11:05.791Z"
   },
   {
    "duration": 2321,
    "start_time": "2022-07-22T11:11:05.808Z"
   },
   {
    "duration": 149,
    "start_time": "2022-07-22T11:11:08.131Z"
   },
   {
    "duration": 161,
    "start_time": "2022-07-22T11:11:08.284Z"
   },
   {
    "duration": 684,
    "start_time": "2022-07-22T11:11:08.447Z"
   },
   {
    "duration": 3,
    "start_time": "2022-07-22T11:11:09.132Z"
   },
   {
    "duration": 164,
    "start_time": "2022-07-22T11:11:09.136Z"
   },
   {
    "duration": 120,
    "start_time": "2022-07-22T11:11:09.304Z"
   },
   {
    "duration": 147,
    "start_time": "2022-07-22T11:11:09.426Z"
   },
   {
    "duration": 196,
    "start_time": "2022-07-22T11:11:09.575Z"
   },
   {
    "duration": 113,
    "start_time": "2022-07-22T11:11:09.773Z"
   },
   {
    "duration": 188,
    "start_time": "2022-07-22T11:11:09.888Z"
   },
   {
    "duration": 147,
    "start_time": "2022-07-22T11:11:10.077Z"
   },
   {
    "duration": 22,
    "start_time": "2022-07-22T11:11:10.227Z"
   },
   {
    "duration": 28,
    "start_time": "2022-07-22T11:11:10.251Z"
   },
   {
    "duration": 39,
    "start_time": "2022-07-22T11:11:10.281Z"
   },
   {
    "duration": 152,
    "start_time": "2022-07-22T11:11:10.322Z"
   },
   {
    "duration": 130,
    "start_time": "2022-07-22T11:11:10.476Z"
   },
   {
    "duration": 171,
    "start_time": "2022-07-22T11:11:10.609Z"
   },
   {
    "duration": 6,
    "start_time": "2022-07-22T11:11:10.875Z"
   },
   {
    "duration": 6,
    "start_time": "2022-07-22T11:11:11.787Z"
   },
   {
    "duration": 6,
    "start_time": "2022-07-22T11:11:11.951Z"
   },
   {
    "duration": 6,
    "start_time": "2022-07-22T11:11:12.563Z"
   },
   {
    "duration": 220,
    "start_time": "2022-07-22T11:11:12.747Z"
   },
   {
    "duration": 5,
    "start_time": "2022-07-22T11:11:13.408Z"
   },
   {
    "duration": 27,
    "start_time": "2022-07-22T11:11:14.536Z"
   },
   {
    "duration": 363,
    "start_time": "2022-07-22T11:11:15.560Z"
   },
   {
    "duration": 316,
    "start_time": "2022-07-22T11:11:17.779Z"
   },
   {
    "duration": 220,
    "start_time": "2022-07-22T11:11:18.763Z"
   },
   {
    "duration": 242,
    "start_time": "2022-07-22T11:11:19.688Z"
   },
   {
    "duration": 295,
    "start_time": "2022-07-22T11:12:16.776Z"
   },
   {
    "duration": 249,
    "start_time": "2022-07-22T11:13:33.084Z"
   },
   {
    "duration": 397,
    "start_time": "2022-07-22T11:13:41.500Z"
   },
   {
    "duration": 383,
    "start_time": "2022-07-22T11:13:52.392Z"
   },
   {
    "duration": 216,
    "start_time": "2022-07-22T11:13:57.165Z"
   },
   {
    "duration": 337,
    "start_time": "2022-07-22T11:14:06.992Z"
   },
   {
    "duration": 187,
    "start_time": "2022-07-22T11:14:09.812Z"
   },
   {
    "duration": 184,
    "start_time": "2022-07-22T11:14:18.314Z"
   },
   {
    "duration": 212,
    "start_time": "2022-07-22T11:14:22.384Z"
   },
   {
    "duration": 212,
    "start_time": "2022-07-22T11:14:34.545Z"
   },
   {
    "duration": 245,
    "start_time": "2022-07-22T11:14:38.847Z"
   },
   {
    "duration": 251,
    "start_time": "2022-07-22T11:14:46.356Z"
   },
   {
    "duration": 460,
    "start_time": "2022-07-22T11:15:24.811Z"
   },
   {
    "duration": 88,
    "start_time": "2022-07-22T11:21:59.191Z"
   },
   {
    "duration": 2075,
    "start_time": "2022-07-22T11:22:08.201Z"
   },
   {
    "duration": 192,
    "start_time": "2022-07-22T11:22:10.280Z"
   },
   {
    "duration": 22,
    "start_time": "2022-07-22T11:22:10.475Z"
   },
   {
    "duration": 10,
    "start_time": "2022-07-22T11:22:10.500Z"
   },
   {
    "duration": 23,
    "start_time": "2022-07-22T11:22:10.512Z"
   },
   {
    "duration": 8,
    "start_time": "2022-07-22T11:22:10.537Z"
   },
   {
    "duration": 154,
    "start_time": "2022-07-22T11:22:10.547Z"
   },
   {
    "duration": 52,
    "start_time": "2022-07-22T11:22:10.704Z"
   },
   {
    "duration": 8,
    "start_time": "2022-07-22T11:22:10.759Z"
   },
   {
    "duration": 48,
    "start_time": "2022-07-22T11:22:10.772Z"
   },
   {
    "duration": 13,
    "start_time": "2022-07-22T11:22:10.826Z"
   },
   {
    "duration": 16,
    "start_time": "2022-07-22T11:22:10.842Z"
   },
   {
    "duration": 2546,
    "start_time": "2022-07-22T11:22:10.860Z"
   },
   {
    "duration": 11,
    "start_time": "2022-07-22T11:22:13.409Z"
   },
   {
    "duration": 16,
    "start_time": "2022-07-22T11:22:13.422Z"
   },
   {
    "duration": 10,
    "start_time": "2022-07-22T11:22:13.440Z"
   },
   {
    "duration": 9,
    "start_time": "2022-07-22T11:22:13.452Z"
   },
   {
    "duration": 11,
    "start_time": "2022-07-22T11:22:13.463Z"
   },
   {
    "duration": 48,
    "start_time": "2022-07-22T11:22:13.476Z"
   },
   {
    "duration": 402,
    "start_time": "2022-07-22T11:22:13.527Z"
   },
   {
    "duration": 23,
    "start_time": "2022-07-22T11:22:13.932Z"
   },
   {
    "duration": 9,
    "start_time": "2022-07-22T11:22:13.957Z"
   },
   {
    "duration": 44,
    "start_time": "2022-07-22T11:22:13.969Z"
   },
   {
    "duration": 32,
    "start_time": "2022-07-22T11:22:14.016Z"
   },
   {
    "duration": 7,
    "start_time": "2022-07-22T11:22:14.050Z"
   },
   {
    "duration": 9,
    "start_time": "2022-07-22T11:22:14.059Z"
   },
   {
    "duration": 126,
    "start_time": "2022-07-22T11:22:14.070Z"
   },
   {
    "duration": 12,
    "start_time": "2022-07-22T11:22:14.201Z"
   },
   {
    "duration": 2700,
    "start_time": "2022-07-22T11:22:14.215Z"
   },
   {
    "duration": 174,
    "start_time": "2022-07-22T11:22:16.918Z"
   },
   {
    "duration": 229,
    "start_time": "2022-07-22T11:22:17.095Z"
   },
   {
    "duration": 756,
    "start_time": "2022-07-22T11:22:17.326Z"
   },
   {
    "duration": 3,
    "start_time": "2022-07-22T11:22:18.085Z"
   },
   {
    "duration": 178,
    "start_time": "2022-07-22T11:22:18.090Z"
   },
   {
    "duration": 160,
    "start_time": "2022-07-22T11:22:18.271Z"
   },
   {
    "duration": 159,
    "start_time": "2022-07-22T11:22:18.433Z"
   },
   {
    "duration": 228,
    "start_time": "2022-07-22T11:22:18.594Z"
   },
   {
    "duration": 180,
    "start_time": "2022-07-22T11:22:18.824Z"
   },
   {
    "duration": 212,
    "start_time": "2022-07-22T11:22:19.010Z"
   },
   {
    "duration": 174,
    "start_time": "2022-07-22T11:22:19.224Z"
   },
   {
    "duration": 34,
    "start_time": "2022-07-22T11:22:19.401Z"
   },
   {
    "duration": 34,
    "start_time": "2022-07-22T11:22:19.438Z"
   },
   {
    "duration": 42,
    "start_time": "2022-07-22T11:22:19.474Z"
   },
   {
    "duration": 180,
    "start_time": "2022-07-22T11:22:19.518Z"
   },
   {
    "duration": 154,
    "start_time": "2022-07-22T11:22:19.701Z"
   },
   {
    "duration": 35,
    "start_time": "2022-07-22T11:22:19.857Z"
   },
   {
    "duration": 6,
    "start_time": "2022-07-22T11:22:19.911Z"
   },
   {
    "duration": 10,
    "start_time": "2022-07-22T11:22:19.919Z"
   },
   {
    "duration": 15,
    "start_time": "2022-07-22T11:22:19.931Z"
   },
   {
    "duration": 20,
    "start_time": "2022-07-22T11:22:19.948Z"
   },
   {
    "duration": 402,
    "start_time": "2022-07-22T11:22:19.971Z"
   },
   {
    "duration": 7,
    "start_time": "2022-07-22T11:22:20.376Z"
   },
   {
    "duration": 50,
    "start_time": "2022-07-22T11:22:20.385Z"
   },
   {
    "duration": 431,
    "start_time": "2022-07-22T11:22:20.437Z"
   },
   {
    "duration": 464,
    "start_time": "2022-07-22T11:22:20.873Z"
   },
   {
    "duration": 309,
    "start_time": "2022-07-22T11:22:21.340Z"
   },
   {
    "duration": 384,
    "start_time": "2022-07-22T11:22:21.652Z"
   },
   {
    "duration": 461,
    "start_time": "2022-07-22T11:22:22.039Z"
   },
   {
    "duration": 189,
    "start_time": "2022-07-22T11:22:22.503Z"
   },
   {
    "duration": 221,
    "start_time": "2022-07-22T11:22:22.694Z"
   },
   {
    "duration": 259,
    "start_time": "2022-07-22T11:22:22.918Z"
   },
   {
    "duration": 374,
    "start_time": "2022-07-22T11:22:23.180Z"
   },
   {
    "duration": 73,
    "start_time": "2022-07-22T11:22:23.557Z"
   },
   {
    "duration": 0,
    "start_time": "2022-07-22T11:22:23.632Z"
   },
   {
    "duration": 0,
    "start_time": "2022-07-22T11:22:23.634Z"
   },
   {
    "duration": 0,
    "start_time": "2022-07-22T11:22:23.635Z"
   },
   {
    "duration": 0,
    "start_time": "2022-07-22T11:22:23.637Z"
   },
   {
    "duration": 0,
    "start_time": "2022-07-22T11:22:23.638Z"
   },
   {
    "duration": 0,
    "start_time": "2022-07-22T11:22:23.640Z"
   },
   {
    "duration": 0,
    "start_time": "2022-07-22T11:22:23.641Z"
   },
   {
    "duration": 0,
    "start_time": "2022-07-22T11:22:23.642Z"
   },
   {
    "duration": 0,
    "start_time": "2022-07-22T11:22:23.644Z"
   },
   {
    "duration": 0,
    "start_time": "2022-07-22T11:22:23.645Z"
   },
   {
    "duration": 0,
    "start_time": "2022-07-22T11:22:23.648Z"
   },
   {
    "duration": 0,
    "start_time": "2022-07-22T11:22:23.650Z"
   },
   {
    "duration": 0,
    "start_time": "2022-07-22T11:22:23.653Z"
   },
   {
    "duration": 0,
    "start_time": "2022-07-22T11:22:23.654Z"
   },
   {
    "duration": 0,
    "start_time": "2022-07-22T11:22:23.658Z"
   },
   {
    "duration": 0,
    "start_time": "2022-07-22T11:22:23.660Z"
   },
   {
    "duration": 0,
    "start_time": "2022-07-22T11:22:23.661Z"
   },
   {
    "duration": 0,
    "start_time": "2022-07-22T11:22:23.663Z"
   },
   {
    "duration": 0,
    "start_time": "2022-07-22T11:22:23.665Z"
   },
   {
    "duration": 0,
    "start_time": "2022-07-22T11:22:23.710Z"
   },
   {
    "duration": 0,
    "start_time": "2022-07-22T11:22:23.713Z"
   },
   {
    "duration": 0,
    "start_time": "2022-07-22T11:22:23.714Z"
   },
   {
    "duration": 0,
    "start_time": "2022-07-22T11:22:23.715Z"
   },
   {
    "duration": 0,
    "start_time": "2022-07-22T11:22:23.719Z"
   },
   {
    "duration": 0,
    "start_time": "2022-07-22T11:22:23.721Z"
   }
  ],
  "kernelspec": {
   "display_name": "Python 3 (ipykernel)",
   "language": "python",
   "name": "python3"
  },
  "language_info": {
   "codemirror_mode": {
    "name": "ipython",
    "version": 3
   },
   "file_extension": ".py",
   "mimetype": "text/x-python",
   "name": "python",
   "nbconvert_exporter": "python",
   "pygments_lexer": "ipython3",
   "version": "3.9.5"
  },
  "toc": {
   "base_numbering": 1,
   "nav_menu": {},
   "number_sections": true,
   "sideBar": true,
   "skip_h1_title": true,
   "title_cell": "Table of Contents",
   "title_sidebar": "Contents",
   "toc_cell": false,
   "toc_position": {},
   "toc_section_display": true,
   "toc_window_display": false
  }
 },
 "nbformat": 4,
 "nbformat_minor": 2
}
